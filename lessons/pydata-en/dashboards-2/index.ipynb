{
 "cells": [
  {
   "cell_type": "markdown",
   "metadata": {},
   "source": [
    "# Advanced dashboarding",
    "\n",
    "In the previous section, we very effectively created a simple and yet useful dashboard for data visualization. Now let&#39;s look at a slightly more extensive application: Let&#39;s go back to fish, penguins and machine learning."
   ]
  },
  {
   "cell_type": "markdown",
   "metadata": {},
   "source": [
    "## Fishboard\n",
    "\n",
    "As we explored the possibilities of machine learning (regression, classification, clustering, etc.), we changed methods, (hyper) parameters, and saw how well the machine learned to estimate a property from the data. This is definitely an opportunity for a nice dashboard that will make such a job easier for us.",
    "\n",
    "\n",
    "### First version",
    "\n",
    "You can find the first version of the application in the Github repository https://github.com/coobas/fishboard. You clone her towards you with a command",
    "\n",
    "git clone https://github.com/coobas/fishboard.git",
    "    \n",
    "For local development of such a dashboard, it is reasonable to create its own virtual environment so that packages from other projects are not mixed and so that the behavior of the application is locally the same as on the server. We can proceed as follows:",
    "\n",
    "```\n",
    "cd fishboard\n",
    "python3 -m venv .venv\n",
    "```\n",
    "This created a virtual environment in the `.venv` directory. We activate it on Linux / Mac OS using",
    "\n",
    "    source .venv/bin/activate\n",
    "    \n",
    "or on Windows",
    "\n",
    "    .venv/bin/activate.bat\n",
    "    \n",
    "And now we will install all the necessary packages:",
    "\n",
    "    python -m pip install -r requirements.txt\n",
    "    \n",
    "Then he should go fishboard run in a familiar way:",
    "\n",
    "    streamlit run fishboard.py"
   ]
  },
  {
   "cell_type": "markdown",
   "metadata": {},
   "source": [
    "### Adding visualization",
    "\n",
    "Surely everyone has noticed that the fishboard can only work with fish data and, moreover, cannot even draw it. Also, we have this part prepared from the previous part and nothing prevents us from using it.",
    "\n",
    "** Task: ** Add to our fishboard our previous application for loading and displaying data. You will probably need to use `col1.` instead of` st.`."
   ]
  },
  {
   "cell_type": "markdown",
   "metadata": {},
   "source": [
    "## What to look out for",
    "\n",
    "Streamlit application is actually such a script. It runs all the time, as soon as the user enters something, he clicks somewhere. It&#39;s the intention, this design brings a really straightforward way to write useful web applications. Of course, we pay some restrictions for this straightforwardness.",
    "\n",
    "### Speed",
    "\n",
    "Definitely don&#39;t expect the fastest user interface from Streamlite, quite the opposite. Because the application runs all the time, there can be smaller or larger delays (which, however, do not have to matter). There are two easy ways to optimize your speed:",
    "\n",
    "1. Use the cache for slow functions, ie &quot;hide&quot; the results of these functions, and if the function is called with arguments for which the result is already available, the result is extracted (quickly) from the cache. Streamlit has a very useful `st.cache` function that is most often used as an @ decorator.",
    "2. Add a button to start the calculation so that expensive calculations are not performed after each input change.",
    "\n",
    "### Application complexity",
    "\n",
    "Programming in Streamlite is straightforward, and so should the application we create. If we need non-standard components (widgets), detailed layout of components on the page or complex interactions between components, we need to reach elsewhere: In the world of pure Python, [Dash] (https://plotly.com/dash/) or [Panel] can serve us. (https://panel.holoviz.org/). The biggest possibilities are the division of the application into backend and frontend. Of course, we will write the backend in Python (for example, [FastAPI] (https://fastapi.tiangolo.com/) will help us), then the frontend in [TypeScript] (https://www.typescriptlang.org/) and [React] (https://reactjs.org/)."
   ]
  },
  {
   "cell_type": "markdown",
   "metadata": {},
   "source": [
    "## Home project",
    "\n",
    "Add classification and / or clustering (PCA) to the fishboard. Run the application on Herok. As a bonus, you can make your code available on Github."
   ]
  }
 ],
 "metadata": {
  "kernelspec": {
   "display_name": "Python 3",
   "language": "python",
   "name": "python3"
  },
  "language_info": {
   "codemirror_mode": {
    "name": "ipython",
    "version": 3
   },
   "file_extension": ".py",
   "mimetype": "text/x-python",
   "name": "python",
   "nbconvert_exporter": "python",
   "pygments_lexer": "ipython3",
   "version": "3.7.8"
  }
 },
 "nbformat": 4,
 "nbformat_minor": 4
}