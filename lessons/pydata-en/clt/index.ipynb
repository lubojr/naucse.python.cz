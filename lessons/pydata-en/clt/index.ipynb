{
 "cells": [
  {
   "cell_type": "markdown",
   "metadata": {},
   "source": [
    "# EDA - Data representativeness and central limit theorem",
    "\n",
    "From previous lessons we already know the basic methods of data analysis and we can apply general procedures and complex tools so that we get interesting information from the data.",
    "\n",
    "The situation in this endeavor can be complicated by missing data and various other errors leading to remote measurements, which can be detected with a little luck and can be dealt with in some way. But what if the data looks absolutely perfect, but the results, despite precisely performed statistical calculations, will be completely useless? How can this even happen?",
    "\n",
    "Today, we will look at how important the data itself is and in the right way to collect it, how the results of the analysis can be falsified before anyone even tries to do so, and how to use a central limit theorem to they avoided it.",
    "\n",
    "## Bad data will never give good results",
    "\n",
    "The well-known * Garbage in - garbage out * applies to the data, and therefore, even if our calculations and analytical tools were absolutely precise and without error, if we pour waste into the input, we can not expect anything other than waste on the other hand.",
    "\n",
    "## Data representativeness",
    "\n",
    "The main problem is that most of the time we need to work with samples from the total amount of data, because we are not able to obtain total data from everyone.",
    "\n",
    "If I want to analyze the development of electricity consumption at home and I regularly read the values from the meter for several years, I will have all the necessary data available. To find out the impact on the development of consumption, I can then try to combine them with weather information or important events in the calendar. I have everything I need at the moment.",
    "\n",
    "But what if I&#39;m interested in Poles&#39; views on abortion? It is not possible for anyone to ask each individual Pole for his opinion and then analyze the collected data as a complete data set. In this case, I will have to make do with a well-selected (so-called * representative *) sample of the population of Poland. But how to choose it? Coincidentally!",
    "\n",
    "&gt; The term * population * is general and refers to all data that exists. If we do not have access to the entire population for our research, we need to obtain a representative * sample *. When analyzing the electricity consumption at home, analyzing the accounting of my employer or the benefit of my children, I have the entire population at my disposal. I will have to settle for a sample of the population in analyzing Europeans&#39; views. Then there is the middle way. For example, when analyzing films, I can&#39;t be sure if I have all of them in a dataset downloaded from the Internet, but the sample I have is so large that I can consider it a population for the purposes of a specific analysis and there is no need to worry about its representativeness.",
    "\n",
    "In order to be able to estimate the opinion of the Polish population on abortion, we need to make a good representative selection, which is far more difficult than it seems. The basis is to select from the population ** a sufficient number ** of individuals and mainly, ideally, to select ** completely randomly **. While getting enough answers is quite easy with enough money and time, random selection is a very complex discipline. For example:",
    "\n",
    "* When I do a questionnaire survey in front of the station building, I will have respondents who, for whatever reason, prefer public transport or simply do not have money for a car. By this we completely ignore people driving or working from home. In addition, many introverted people will bypass you and will not be willing to answer questions.",
    "* If I just post a questionnaire on the Internet, it will only be filled in by respondents who have the time and are more active in this regard. There are also platforms where respondents get paid for filling them out. However, it can easily happen that in an effort to fill in as many questionnaires as possible in the shortest possible time, the answers will be random, because the respondent does not even read the question.",
    "* Telephone surveys also receive answers from respondents who have the time and desire to talk to the operator and do not block these telephone numbers.",
    "\n",
    "If we obtain data in any of these ways, the results of the analyzes will not be representative in the slightest, because we ignored a large part of the population when obtaining the respondents. This is called selection bias.",
    "\n",
    "The situation is even more complicated if you do research on the influence of a factor (such as a specific drug). In this case, we need two groups of respondents who differ only in whether they use the drug or not, but all other factors are completely random. This is very problematic. For example, if a drug is expensive, it is very likely that there will be people with higher incomes in the group of its users. Wealthier people can afford better and healthier food and subscriptions to the gym, so the cure may not be the cure itself at all, but many other factors that do not appear in the second group and whose effect failed to eliminate random selection.",
    "\n",
    "A well-chosen random sample is like soup. If you don&#39;t mix it properly, you&#39;ll be sure of tasteless water at the beginning and an overly intense mixture of vegetables, noodles and spices at the end.",
    "\n",
    "However, data can be biased in many other ways:",
    "1. Selection or self-selection bias problem described above",
    "2. Recall bias - people have selective memory by nature and the further away the area we ask is, the more distorted the results can be. For example, people suffering from an illness will seem to remember the risk factors from the past better because they will want to justify to themselves why they have this or that illness. If they did not know about their diagnosis, their answers could better reflect reality.",
    "3. Observer bias - the person doing the research asks in a way that intentionally influences the answers or automatically looks in the data for what he expects in them.",
    "4. Survival bias - Focusing only on respondents who have already made a selection, which may limit their randomness. For example, the analyzed average results of high school students are getting better and better every year, because the worst students are gradually leaving school.",
    "\n",
    "## Probability distribution",
    "\n",
    "Do not be scared! We will bring the unpopular material from the statistics lesson practical and simple.",
    "\n",
    "Imagine a variable - a person&#39;s weight. The probability distribution that this variable has tells us how likely it is that you will meet a person with a specific weight. We probably intuitively suspect that meeting a person with 75 kg is much easier and it happens more often than meeting a person who weighs 200 kg. And this intuition only translates the probability distribution into concrete numbers.",
    "\n",
    "### Even distribution",
    "\n",
    "An even distribution is one where all possibilities have the same chance. This is probably the simplest probability distribution because it can be thought of as a (fair) dice or coin roll. With a roll of the dice, we have six options that are likely to occur. There are only two coins.",
    "\n",
    "The graph of sixty dice rolls will ideally look like this:",
    "\n",
    "![uniform distribution](static/uniform.png)\n",
    "\n",
    "### Normal distribution",
    "\n",
    "Far more interesting than an even distribution is the normal distribution. The normal division has already been discussed in one of the previous lessons. The main characteristic of a normal distribution is that there is most often an average value in the population, and the further we deviate from the average, the less likely we are to encounter such a value. Remember the height and weight chart for men and women? The bell shape graph is typical for a normal layout.",
    "\n",
    "![normal distrubution](static/normal.png?a)\n",
    "\n",
    "Another interesting feature of the normal distribution is that we meet it with a lot of variables that we will work with in the analysis - test results, income distribution, height, weight, etc. Due to its frequent occurrence in everyday life, many machine learning algorithms are adapted to work best with variables with a normal distribution. If we detect a normal probability distribution for a variable (usually by simply looking at the histogram), it has a very useful rule regarding the percentage coverage of the population depending on the distance from the average in multiples of the standard deviation.",
    "\n",
    "![normal distribution standard deviation](static/normal_std.png)\n",
    "zdroj: [Wikipedia](https://en.m.wikipedia.org/wiki/File:Empirical_Rule.PNG)\n",
    "\n",
    "### Exponential distribution",
    "\n",
    "An example from another barrel can be the exponential probability distribution, whose graph (histogram) has the shape of an exponential function.",
    "\n",
    "![exponential distribution](static/exponential.png?a)\n",
    "\n",
    "A practical example of a variable with such a layout can be, for example, the time during which an appliance goes wrong. If we consider that at all times the probability of failure occurs is constant (which is an idealized approximation, roughly valid for some types of products), the probability that we have a functional piece at home will decrease exponentially - first quickly, then more slowly, until finally will asymptotically approach zero.",
    "\n",
    "### Next division",
    "\n",
    "The probability distribution is far more and often differs only in detail. Choosing the right one and verifying that a given variable is actually distributed in this way may be important for some specific statistical calculations. The following diagram shows a number of different divisions and the relationships between them:",
    "\n",
    "![distributions](static/distributions.png)\n",
    "zdroj: [towardsdatascience.com](https://towardsdatascience.com/probability-distributions-in-data-science-cce6e64873a7)\n",
    "\n",
    "### What is it good for?",
    "\n",
    "In addition to what has already been written, knowing the probability distribution can help us answer useful questions. For example, if we look at a graph of the normal distribution of teachers&#39; salaries, we can answer the question of how likely a teacher is to earn more than a certain value. There are then formulas for each distribution that will help us calculate the specific value of probability.",
    "\n",
    "## Central limit theorem",
    "\n",
    "How is the probability distribution related to the representativeness of the data? Very. And knowledge of the central limit theorem (CLT) will help us prove it.",
    "\n",
    "The CLT tells us that if we create samples from a variable with any probability distribution, the averages (as well as other descriptive statistics) of these samples will have a normal distribution. And the more numerous these samples are, the closer to the ideal will be the normal distribution created from them.",
    "\n",
    "This is an example. Let&#39;s have a population of a million rolls of the classic dice."
   ]
  },
  {
   "cell_type": "code",
   "execution_count": 1,
   "metadata": {},
   "outputs": [],
   "source": [
    "import pandas as pd\n",
    "import numpy as np\n",
    "\n",
    "%matplotlib inline"
   ]
  },
  {
   "cell_type": "code",
   "execution_count": 2,
   "metadata": {},
   "outputs": [],
   "source": [
    "hody = np.random.randint (1, 7, 1000000)"
   ]
  },
  {
   "cell_type": "markdown",
   "metadata": {},
   "source": [
    "We convert a million random numbers in the interval &lt;1, 7&gt; into `DataFrame` and look at the histogram and basic descriptive statistics."
   ]
  },
  {
   "cell_type": "code",
   "execution_count": 3,
   "metadata": {},
   "outputs": [],
   "source": [
    "population = pd.DataFrame (throws, columns = [&quot;throws&quot;])"
   ]
  },
  {
   "cell_type": "code",
   "execution_count": 4,
   "metadata": {},
   "outputs": [
    {
     "data": {
      "image/png": "[encoded data removed]",
      "text/plain": [
       "<Figure size 432x288 with 1 Axes>"
      ]
     },
     "metadata": {
      "needs_background": "light"
     },
     "output_type": "display_data"
    }
   ],
   "source": [
    "populace.hist(bins=11);"
   ]
  },
  {
   "cell_type": "code",
   "execution_count": 5,
   "metadata": {},
   "outputs": [
    {
     "data": {
      "text/html": [
       "<div>\n",
       "<style scoped>\n",
       "    .dataframe tbody tr th:only-of-type {\n",
       "        vertical-align: middle;\n",
       "    }\n",
       "\n",
       "    .dataframe tbody tr th {\n",
       "        vertical-align: top;\n",
       "    }\n",
       "\n",
       "    .dataframe thead th {\n",
       "        text-align: right;\n",
       "    }\n",
       "</style>\n",
       "<table border=\"1\" class=\"dataframe\">\n",
       "  <thead>\n",
       "    <tr style=\"text-align: right;\">\n",
       "      <th></th>\n",
       "      <th>hody</th>\n",
       "    </tr>\n",
       "  </thead>\n",
       "  <tbody>\n",
       "    <tr>\n",
       "      <td>count</td>\n",
       "      <td>1000000.000000</td>\n",
       "    </tr>\n",
       "    <tr>\n",
       "      <td>mean</td>\n",
       "      <td>3.499345</td>\n",
       "    </tr>\n",
       "    <tr>\n",
       "      <td>std</td>\n",
       "      <td>1.706921</td>\n",
       "    </tr>\n",
       "    <tr>\n",
       "      <td>min</td>\n",
       "      <td>1.000000</td>\n",
       "    </tr>\n",
       "    <tr>\n",
       "      <td>25%</td>\n",
       "      <td>2.000000</td>\n",
       "    </tr>\n",
       "    <tr>\n",
       "      <td>50%</td>\n",
       "      <td>3.000000</td>\n",
       "    </tr>\n",
       "    <tr>\n",
       "      <td>75%</td>\n",
       "      <td>5.000000</td>\n",
       "    </tr>\n",
       "    <tr>\n",
       "      <td>max</td>\n",
       "      <td>6.000000</td>\n",
       "    </tr>\n",
       "  </tbody>\n",
       "</table>\n",
       "</div>"
      ],
      "text/plain": [
       "                 hody\n",
       "count  1000000.000000\n",
       "mean         3.499345\n",
       "std          1.706921\n",
       "min          1.000000\n",
       "25%          2.000000\n",
       "50%          3.000000\n",
       "75%          5.000000\n",
       "max          6.000000"
      ]
     },
     "execution_count": 5,
     "metadata": {},
     "output_type": "execute_result"
    }
   ],
   "source": [
    "populace.describe()"
   ]
  },
  {
   "cell_type": "code",
   "execution_count": 6,
   "metadata": {},
   "outputs": [
    {
     "data": {
      "text/plain": [
       "4    166914\n",
       "3    166899\n",
       "2    166783\n",
       "5    166603\n",
       "1    166479\n",
       "6    166322\n",
       "Name: hody, dtype: int64"
      ]
     },
     "execution_count": 6,
     "metadata": {},
     "output_type": "execute_result"
    }
   ],
   "source": [
    "population.hody.value_counts ()"
   ]
  },
  {
   "cell_type": "markdown",
   "metadata": {},
   "source": [
    "A regular dice guarantees that each value will appear in approximately the same number in a million attempts. This variable therefore has an even (uniform) probability distribution.",
    "\n",
    "What happens when we start sampling from such a population? For clarity, we start with very small samples of size 3 and calculate the average for each such sample and save it in a new list."
   ]
  },
  {
   "cell_type": "code",
   "execution_count": 7,
   "metadata": {},
   "outputs": [],
   "source": [
    "diameter_hodu = []",
    "for _ in range(1000):\n",
    "prumery_hodu.append (population.sample (n = 3) .hody.mean ())"
   ]
  },
  {
   "cell_type": "markdown",
   "metadata": {},
   "source": [
    "We will convert the list to `DataFrame` again and see what we have created from the average values of thousands of individual samples."
   ]
  },
  {
   "cell_type": "code",
   "execution_count": 8,
   "metadata": {},
   "outputs": [],
   "source": [
    "throw_average = pd.DataFrame (throw_average, columns = [&quot;throw_average&quot;])"
   ]
  },
  {
   "cell_type": "code",
   "execution_count": 9,
   "metadata": {},
   "outputs": [
    {
     "data": {
      "image/png": "[encoded data removed]",
      "text/plain": [
       "<Figure size 432x288 with 1 Axes>"
      ]
     },
     "metadata": {
      "needs_background": "light"
     },
     "output_type": "display_data"
    }
   ],
   "source": [
    "averages_heat.plot.hist (bins = 15);"
   ]
  },
  {
   "cell_type": "code",
   "execution_count": 10,
   "metadata": {},
   "outputs": [
    {
     "data": {
      "text/html": [
       "<div>\n",
       "<style scoped>\n",
       "    .dataframe tbody tr th:only-of-type {\n",
       "        vertical-align: middle;\n",
       "    }\n",
       "\n",
       "    .dataframe tbody tr th {\n",
       "        vertical-align: top;\n",
       "    }\n",
       "\n",
       "    .dataframe thead th {\n",
       "        text-align: right;\n",
       "    }\n",
       "</style>\n",
       "<table border=\"1\" class=\"dataframe\">\n",
       "  <thead>\n",
       "    <tr style=\"text-align: right;\">\n",
       "      <th></th>\n",
       "      <th>prumery_hodu</th>\n",
       "    </tr>\n",
       "  </thead>\n",
       "  <tbody>\n",
       "    <tr>\n",
       "      <td>count</td>\n",
       "      <td>1000.000000</td>\n",
       "    </tr>\n",
       "    <tr>\n",
       "      <td>mean</td>\n",
       "      <td>3.550000</td>\n",
       "    </tr>\n",
       "    <tr>\n",
       "      <td>std</td>\n",
       "      <td>0.981052</td>\n",
       "    </tr>\n",
       "    <tr>\n",
       "      <td>min</td>\n",
       "      <td>1.000000</td>\n",
       "    </tr>\n",
       "    <tr>\n",
       "      <td>25%</td>\n",
       "      <td>3.000000</td>\n",
       "    </tr>\n",
       "    <tr>\n",
       "      <td>50%</td>\n",
       "      <td>3.666667</td>\n",
       "    </tr>\n",
       "    <tr>\n",
       "      <td>75%</td>\n",
       "      <td>4.333333</td>\n",
       "    </tr>\n",
       "    <tr>\n",
       "      <td>max</td>\n",
       "      <td>6.000000</td>\n",
       "    </tr>\n",
       "  </tbody>\n",
       "</table>\n",
       "</div>"
      ],
      "text/plain": [
       "       prumery_hodu\n",
       "count   1000.000000\n",
       "mean       3.550000\n",
       "std        0.981052\n",
       "min        1.000000\n",
       "25%        3.000000\n",
       "50%        3.666667\n",
       "75%        4.333333\n",
       "max        6.000000"
      ]
     },
     "execution_count": 10,
     "metadata": {},
     "output_type": "execute_result"
    }
   ],
   "source": [
    "prumery_hodu.describe ()"
   ]
  },
  {
   "cell_type": "markdown",
   "metadata": {},
   "source": [
    "From the diameters of our samples we created an almost ideal normal distribution. On average, we also got very close to the average of the entire population. The problem is that the histogram also shows a significant number of extreme values on both sides of the graph, when we randomly selected samples with three ones or three sixes. As can be seen, too small samples are very prone to remote measurements (less likely combinations of values in the sample) and may not be representative in the result.",
    "\n",
    "Let&#39;s try the same experiment again, but this time make each sample ten times larger."
   ]
  },
  {
   "cell_type": "code",
   "execution_count": 11,
   "metadata": {},
   "outputs": [],
   "source": [
    "diameter_hodu = []",
    "for _ in range(1000):\n",
    "prumery_hodu.append (population.sample (n = 30) .hody.mean ())"
   ]
  },
  {
   "cell_type": "code",
   "execution_count": 12,
   "metadata": {},
   "outputs": [],
   "source": [
    "throw_average = pd.DataFrame (throw_average, columns = [&quot;throw_average&quot;])"
   ]
  },
  {
   "cell_type": "code",
   "execution_count": 13,
   "metadata": {},
   "outputs": [
    {
     "data": {
      "image/png": "[encoded data removed]",
      "text/plain": [
       "<Figure size 432x288 with 1 Axes>"
      ]
     },
     "metadata": {
      "needs_background": "light"
     },
     "output_type": "display_data"
    }
   ],
   "source": [
    "averages_heat.plot.hist (bins = 15);"
   ]
  },
  {
   "cell_type": "code",
   "execution_count": 14,
   "metadata": {},
   "outputs": [
    {
     "data": {
      "text/html": [
       "<div>\n",
       "<style scoped>\n",
       "    .dataframe tbody tr th:only-of-type {\n",
       "        vertical-align: middle;\n",
       "    }\n",
       "\n",
       "    .dataframe tbody tr th {\n",
       "        vertical-align: top;\n",
       "    }\n",
       "\n",
       "    .dataframe thead th {\n",
       "        text-align: right;\n",
       "    }\n",
       "</style>\n",
       "<table border=\"1\" class=\"dataframe\">\n",
       "  <thead>\n",
       "    <tr style=\"text-align: right;\">\n",
       "      <th></th>\n",
       "      <th>prumery_hodu</th>\n",
       "    </tr>\n",
       "  </thead>\n",
       "  <tbody>\n",
       "    <tr>\n",
       "      <td>count</td>\n",
       "      <td>1000.000000</td>\n",
       "    </tr>\n",
       "    <tr>\n",
       "      <td>mean</td>\n",
       "      <td>3.515267</td>\n",
       "    </tr>\n",
       "    <tr>\n",
       "      <td>std</td>\n",
       "      <td>0.311893</td>\n",
       "    </tr>\n",
       "    <tr>\n",
       "      <td>min</td>\n",
       "      <td>2.600000</td>\n",
       "    </tr>\n",
       "    <tr>\n",
       "      <td>25%</td>\n",
       "      <td>3.300000</td>\n",
       "    </tr>\n",
       "    <tr>\n",
       "      <td>50%</td>\n",
       "      <td>3.533333</td>\n",
       "    </tr>\n",
       "    <tr>\n",
       "      <td>75%</td>\n",
       "      <td>3.733333</td>\n",
       "    </tr>\n",
       "    <tr>\n",
       "      <td>max</td>\n",
       "      <td>4.333333</td>\n",
       "    </tr>\n",
       "  </tbody>\n",
       "</table>\n",
       "</div>"
      ],
      "text/plain": [
       "       prumery_hodu\n",
       "count   1000.000000\n",
       "mean       3.515267\n",
       "std        0.311893\n",
       "min        2.600000\n",
       "25%        3.300000\n",
       "50%        3.533333\n",
       "75%        3.733333\n",
       "max        4.333333"
      ]
     },
     "execution_count": 14,
     "metadata": {},
     "output_type": "execute_result"
    }
   ],
   "source": [
    "prumery_hodu.describe ()"
   ]
  },
  {
   "cell_type": "markdown",
   "metadata": {},
   "source": [
    "The graph again looks like a normal distribution graph, but this time it is narrower and does not contain extreme values on either side. The standard deviation is therefore considerably smaller. It follows from all this that a significantly larger number of the thousands of samples selected were closer to the average and had other descriptive statistics similar to the entire population.",
    "\n",
    "Due to the properties of the normal distribution, we can also state that approximately 68% of our samples from the second experiment are in the range `mean \u00b1 std` = (3,186; 3,802) and approximately 95% of our samples are in the range` mean \u00b1 2 \u00d7 std` = (2,878 4.11). * Approximately * because the layout obtained does not have an ideal &quot;normal&quot; shape. And when choosing a final number of samples (in addition to the final population) can not even have.",
    "\n",
    "## So what&#39;s the right sample size?",
    "\n",
    "The answer to this question is not easy. Of course, more is better than we did with CLT, but the limiting factor is often money and time. Large opinion polling companies have plenty of both, so it&#39;s better to leave it to them. However, there are still a few rules to follow.",
    "\n",
    "### Minimum i 100",
    "\n",
    "With a sample size of 100, various experiments and calculations can already be done and at least some useful answers can be expected from them. If the population is less than 100, it needs to be examined in its entirety.",
    "\n",
    "### Maximum is 10% or 1000",
    "\n",
    "If the population has 5,000 individuals, it should be enough for us to get information about five hundred of them. However, we do not have to exceed a thousand, so for a population of 200,000 individuals and 10,000,000, an equally large sample should suffice. But it is necessary to keep in mind the randomness of the selection.",
    "\n",
    "### There is something left to choose between",
    "\n",
    "Depending on:",
    "\n",
    "* amount of time and money,",
    "* the need to get really accurate results,",
    "* the need to divide the individual from the sample into smaller groups according to some criteria,",
    "* assuming that respondents will give similar answers,",
    "* or the importance and implications of decisions that will eventually emerge from such research.",
    "\n",
    "Everyone wants to have the most accurate results, so the limiting factor is often money and time, and until one or the other occurs, the research continues.",
    "\n",
    "### Supported by numbers",
    "\n",
    "There are several formulas that will support the correct selection of the sample size by the calculated number. Choosing the right one is not easy and depends on our knowledge of the population. One of the simpler formulas for which we only need to know the size of the population is Yamane (after the name of its author). Looks like this:",
    "\n",
    "$$ n = \\frac{N}{(1+Ne^2)} $$",
    "\n",
    "`n` is the resulting sample size,` N` is the total population size, and `e` is the notable error. The allowable error is the inverse of the selection confidence level. For example, if we demand that research come out in the same way in 97% of cases, it will",
    "\n",
    "$$ e = \\frac{100 - 97}{100} = 0.03 $$\n",
    "\n",
    "For a better idea, the results of such calculations could be summarized in a simple table, which would be useful if the simple rules from the previous paragraphs were not sufficient."
   ]
  },
  {
   "cell_type": "markdown",
   "metadata": {},
   "source": [
    "<table>\n",
    "    <thead>\n",
    "        <tr>\n",
    "            <td></td>\n",
    "<td colspan=\"5\" style=\"text-align: center;\">Population size</td>",
    "        </tr>\n",
    "        <tr>\n",
    "<td>Permissible error</td>",
    "            <td>5000</td>\n",
    "            <td>2500</td>\n",
    "            <td>1000</td>\n",
    "            <td>500</td>\n",
    "            <td>200</td>\n",
    "        </tr>\n",
    "    </thead>\n",
    "    <tbody>\n",
    "        <tr>\n",
    "            <td>\u00b110 %</td>\n",
    "            <td>98</td>\n",
    "            <td>96</td>\n",
    "            <td>91</td>\n",
    "            <td>83</td>\n",
    "            <td>67</td>\n",
    "        </tr>\n",
    "        <tr>\n",
    "            <td>\u00b17,5 %</td>\n",
    "            <td>172</td>\n",
    "            <td>166</td>\n",
    "            <td>151</td>\n",
    "            <td>131</td>\n",
    "            <td>94</td>\n",
    "        </tr>\n",
    "        <tr>\n",
    "            <td>\u00b15 %</td>\n",
    "            <td>370</td>\n",
    "            <td>345</td>\n",
    "            <td>286</td>\n",
    "            <td>222</td>\n",
    "            <td>133</td>\n",
    "        </tr>\n",
    "        <tr>\n",
    "            <td>\u00b13 %</td>\n",
    "            <td>909</td>\n",
    "            <td>769</td>\n",
    "            <td>526</td>\n",
    "            <td>345</td>\n",
    "            <td>169</td>\n",
    "        </tr>\n",
    "    </tbody>\n",
    "</table>"
   ]
  },
  {
   "cell_type": "markdown",
   "metadata": {},
   "source": [
    "## Time to play (and think)",
    "\n",
    "This lesson is more theoretical, but it certainly provides a lot of thought. You can take your dataset and previous analyzes again and think about the following questions:",
    "\n",
    "* Do you work with a sample or with the whole population? Is there any way to verify that?",
    "* Is the sample representative?",
    "* How difficult would it be to obtain data from the entire population or to create your own representative sample?",
    "* How much money would it cost to ask an interesting question to a representative sample of the Czech population?",
    "* What layout do the variables in your data have? Is there one that no probability distribution fits?"
   ]
  }
 ],
 "metadata": {
  "kernelspec": {
   "display_name": "Python 3",
   "language": "python",
   "name": "python3"
  },
  "language_info": {
   "codemirror_mode": {
    "name": "ipython",
    "version": 3
   },
   "file_extension": ".py",
   "mimetype": "text/x-python",
   "name": "python",
   "nbconvert_exporter": "python",
   "pygments_lexer": "ipython3",
   "version": "3.7.6"
  }
 },
 "nbformat": 4,
 "nbformat_minor": 4
}