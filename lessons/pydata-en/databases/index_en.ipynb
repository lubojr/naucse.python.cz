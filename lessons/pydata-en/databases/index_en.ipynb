{
 "cells": [
  {
   "cell_type": "markdown",
   "metadata": {},
   "source": [
    "# Database"
   ]
  },
  {
   "cell_type": "markdown",
   "metadata": {},
   "source": [
    "\n"
   ]
  },
  {
   "cell_type": "markdown",
   "metadata": {},
   "source": [
    "Content:",
    "\n",
    "- Introduction to databases",
    "- Introduction to relational databases",
    "- Introduction to SQL + Python and Pandas"
   ]
  },
  {
   "cell_type": "markdown",
   "metadata": {},
   "source": [
    "## Introduction to databases"
   ]
  },
  {
   "cell_type": "markdown",
   "metadata": {},
   "source": [
    "So far, you&#39;ve probably worked with ** files ** on the course - they downloaded the file to your computer from somewhere, and processed it there, and then maybe they uploaded the result somewhere. However, this procedure is not enough if more people (or machines) need to work with this data at the same time and update it at the same time. This is solved by running ** database system ** (DBMS, [S\u0158BD] (https://cs.wikipedia.org/wiki/Syst%C3%A9m_%C5%99%C3%ADzen%C3%AD_b% C3% A1ze_dat)), which manages the data (files on disk containing specialized data structures) and you connect to this system via a computer network. Or maybe you are using a web application and it is connected to this database system (database).",
    "\n",
    "E.g. The e-shop will work with a database in which information about the goods sold, division of goods into categories, orders, complaints, registered users is stored ... Such a database can be described as &quot;transactional&quot;.",
    "\n",
    "You, as data analysts, engineers, etc., will probably want to connect to such a database and download some data from it for your future work. Or it may even be your job to create a new &quot;analytical&quot; database that contains data in another form, such as goods sold without labels, without photos, but with traffic and sales statistics.",
    "\n",
    "In these materials we will work with the database [SQLite] (https://www.sqlite.org/). This is somewhat specific in that it is stored in a single file (with the extension `.sqlite` or` .db`), so it is not a stand-alone server that you would connect to, as is the case with most databases. But it&#39;s even easier to work with SQLite. SQLite also allows you to work with one database (one file) from several programs at the same time, unlike, for example, CSV or XLS files."
   ]
  },
  {
   "cell_type": "markdown",
   "metadata": {},
   "source": [
    "## Database Properties",
    "\n",
    "We expect several features from the database (or database system):",
    "\n",
    "- That it will store data :) No, seriously - the data must remain stored without loss even in the event of a power failure, when the disk runs out ...",
    "- Working with data &quot;from different angles&quot;. E.g. in the e-shop we want to list goods by category, other times by stock status, other times based on full-text search.",
    "- Support for users, roles, permissions and data access control, security.",
    "- Speed, power, throughput, latency",
    "- Scalability - both in size (gigabytes, terabytes, petabytes) and the number of operations performed per second",
    "- ACID\n",
    "  - Atomicity:\n",
    "  - Consistency:\n",
    "  - Isolation:\n",
    "  - Durability:\n",
    "  \n",
    "When you think about it, these are conflicting demands. Database system developers must choose a compromise. Sometimes the database can be configured to prefer isolation or throughput, for example (see [PostgreSQL Transaction Isolation] (https://www.postgresql.org/docs/9.5/transaction-iso.html)). No database is &quot;best&quot; and suitable for everything. As for the difference between a &quot;transactional&quot; and an &quot;analytical&quot; database, different systems and approaches are often appropriate for these areas.",
    "  "
   ]
  },
  {
   "cell_type": "markdown",
   "metadata": {},
   "source": [
    "## Relational database",
    "\n",
    "This is a typical, classic, most commonly used category of database systems. They have been used since the 1970s, there is a wide ecosystem around them with a lot of tools and also people who can work with them.",
    "\n",
    "What [relational database] (https://en.wikipedia.org/wiki/Relational_database) contains:",
    "\n",
    "- &quot;databases&quot; (one database system can manage several databases)",
    "- users",
    "- **tables**",
    "- **columns**",
    "- indices",
    "    - constraints\n",
    "- foreign keys",
    "- triggery",
    "- views",
    "- procedures",
    "- sequence",
    "\n",
    "The data is stored in the form of rows and columns in individual tables:",
    "\n",
    "| title                 | year | director_name   | director_birthdate |\n",
    "|:----------------------|:-----|:----------------|:-------------------|\n",
    "| Lairs 1999 | Jan H\u0159ebejk 1967-06-27 |",
    "| Forrest Gump          | 1994 | Robert Zemeckis | 1951-05-14         |\n",
    "| Back to the future 1985 | Robert Zemeckis | 1951-05-14 |",
    "\n",
    "Each line is identified by its unique identifier, and duplicate data is * normalized *:",
    "\n",
    "| movie_id | title                 | year | director_id |\n",
    "|----------|:----------------------|:-----|:------------|\n",
    "| 1 | Lairs 1999 | 1 |",
    "|        2 | Forrest Gump          | 1994 | 2           |\n",
    "| 3 | Back to the future 1985 | 2 |",
    "\n",
    "| director_id | name            | birthdate  |\n",
    "|-------------|:----------------|------------|\n",
    "| 1 | Jan H\u0159ebejk 1967-06-27 |",
    "|           2 | Robert Zemeckis | 1951-05-14 |\n",
    "\n",
    "The relationship between directors and films is 1: N. Every single director is associated with several films. Each film is linked to one director (or none if its director_id is not filled in).",
    "\n",
    "What if we want to express the possibility that one film can have more than one director?",
    "\n",
    "| movie_id | title                 | year | director_id |\n",
    "|----------|:----------------------|:-----|:------------|\n",
    "| 1 | Lairs 1999 | 1 |",
    "|        2 | Forrest Gump          | 1994 | 2           |\n",
    "| 3 | Back to the future 1985 | 2 |",
    "\n",
    "| director_id | name            | birthdate  |\n",
    "|-------------|:----------------|------------|\n",
    "| 1 | Jan H\u0159ebejk 1967-06-27 |",
    "|           2 | Robert Zemeckis | 1951-05-14 |\n",
    "|           3 | Joe Smith       | 1950-01-01 |\n",
    "\n",
    "| movie_id | director_id |\n",
    "|----------|-------------|\n",
    "| 1        | 1           |\n",
    "| 2        | 2           |\n",
    "| 3        | 2           |\n",
    "| 3        | 3           | \n",
    "\n"
   ]
  },
  {
   "cell_type": "markdown",
   "metadata": {},
   "source": [
    "## SQL\n",
    "\n",
    "SQL is the language in which we communicate with a relational database. It can express various operations on tables - selection of columns, rows, relationships between multiple tables, aggregation of values from multiple rows ... (Doesn&#39;t that remind you of something? Pandas DataFrame? :))",
    "\n",
    "Example:",
    "\n",
    "```\n",
    "SELECT title, year FROM movies;\n",
    "\n",
    "UPDATE directors SET birthdate = \"1950-01-02\" WHERE director_id = 3;\n",
    "```\n",
    "\n",
    "Even software other than relational databases understands SQL. Often just analytical tools, data lakes, Amazon S3 ... Then there are a lot of databases and languages that were inspired by SQL - such as Cassandra and its CQL."
   ]
  },
  {
   "cell_type": "markdown",
   "metadata": {},
   "source": [
    "## Instalace a import SQLAlchemy"
   ]
  },
  {
   "cell_type": "markdown",
   "metadata": {},
   "source": [
    "Each database from Python is used a little differently - the name of the module to be imported is different, the way data is used in SQL queries is slightly different, the form of data returned in the result is different ... We will therefore use the [SQLAlchemy] library (https: / /www.sqlalchemy.org/), which _abstracts_ these details and provides the same interface for all databases (which SQLAlchemy supports).",
    "\n",
    "SQLAlchemy consists of [two parts] (https://docs.sqlalchemy.org/en/13/):",
    "\n",
    "- Core - this is the aforementioned abstraction of basic database operations, this part we will use",
    "  - engine, connections, transactions\n",
    "  - table metadata\n",
    "  - SQL expression language\n",
    "- [ORM] (https://docs.sqlalchemy.org/en/13/orm/tutorial.html) - allows to work with data in the database by mapping to objects",
    "- interesting especially when writing larger applications (web applications, etc.)"
   ]
  },
  {
   "cell_type": "markdown",
   "metadata": {},
   "source": [
    "We will install the library [SQLAlchemy] (https://www.sqlalchemy.org/) via pip (don&#39;t forget to have venv activated in which you want to install it):",
    "\n",
    "```\n",
    "pip install sqlalchemy\n",
    "```\n",
    "\n",
    "Alternatively, the installation can be started directly from Jupyter:"
   ]
  },
  {
   "cell_type": "code",
   "execution_count": 1,
   "metadata": {},
   "outputs": [
    {
     "name": "stdout",
     "output_type": "stream",
     "text": [
      "Requirement already satisfied: sqlalchemy in /opt/local/Library/Frameworks/Python.framework/Versions/3.7/lib/python3.7/site-packages (1.3.13)\n",
      "Note: you may need to restart the kernel to use updated packages.\n"
     ]
    }
   ],
   "source": [
    "%pip install sqlalchemy"
   ]
  },
  {
   "cell_type": "markdown",
   "metadata": {},
   "source": [
    "We will import the SQLAlchemy library:"
   ]
  },
  {
   "cell_type": "code",
   "execution_count": 2,
   "metadata": {},
   "outputs": [],
   "source": [
    "import sqlalchemy"
   ]
  },
  {
   "cell_type": "markdown",
   "metadata": {},
   "source": [
    "Jako v\u017edy, naimportujeme i [Pandas](https://pandas.pydata.org/pandas-docs/stable/reference/index.html):"
   ]
  },
  {
   "cell_type": "code",
   "execution_count": 3,
   "metadata": {},
   "outputs": [],
   "source": [
    "import pandas as pd"
   ]
  },
  {
   "cell_type": "markdown",
   "metadata": {},
   "source": [
    "## Download movie database",
    "\n",
    "We will use data from M\u00edra Brabence to demonstrate working with the database.",
    "It is a database of type [SQLite] (https://cs.wikipedia.org/wiki/SQLite) - it consists of a single file, which contains all the data. This means that there is no large server to which you would connect by name and password, as in &quot;classic&quot; databases (PostgreSQL, Oracle, MS SQL ...).",
    "A database in the form of an SQLite file has the advantage that if you break something, you simply delete the file and make a new one :)",
    "\n",
    "Download the database file with the library [Requests] (https://requests.readthedocs.io/en/master/), which you already have installed (instructions were in the first hour)",
    "and save it to a file in the working directory, ie where you started Jupyter Notebook."
   ]
  },
  {
   "cell_type": "code",
   "execution_count": 4,
   "metadata": {},
   "outputs": [],
   "source": [
    "from pathlib import Path\n",
    "import requests"
   ]
  },
  {
   "cell_type": "code",
   "execution_count": 5,
   "metadata": {},
   "outputs": [
    {
     "data": {
      "text/plain": [
       "1421312"
      ]
     },
     "execution_count": 5,
     "metadata": {},
     "output_type": "execute_result"
    }
   ],
   "source": [
    "db_data = requests.get('https://github.com/messa/movie-db-2020/raw/master/movies.sqlite').content\n",
    "Path('movies.sqlite').write_bytes(db_data)"
   ]
  },
  {
   "cell_type": "markdown",
   "metadata": {},
   "source": [
    "## Open database, structure survey"
   ]
  },
  {
   "cell_type": "code",
   "execution_count": 6,
   "metadata": {},
   "outputs": [],
   "source": [
    "engine = sqlalchemy.create_engine('sqlite:///movies.sqlite')"
   ]
  },
  {
   "cell_type": "markdown",
   "metadata": {},
   "source": [
    "The `engine` object contains a connection to the database and through it we will perform operations with the given database.",
    "\n",
    "Let&#39;s start by looking at the structure of that database - what tables it contains and what those tables contain. Each database has different tricks to find out this (sometimes the SQL statement `SHOW TABLES` works, other times` SELECT` from metadata is needed), fortunately SQLAlchemy will help us with that."
   ]
  },
  {
   "cell_type": "code",
   "execution_count": 7,
   "metadata": {},
   "outputs": [
    {
     "data": {
      "text/plain": [
       "['actors', 'movie_to_actor', 'movies']"
      ]
     },
     "execution_count": 7,
     "metadata": {},
     "output_type": "execute_result"
    }
   ],
   "source": [
    "sqlalchemy.inspect(engine).get_table_names()"
   ]
  },
  {
   "cell_type": "code",
   "execution_count": 8,
   "metadata": {},
   "outputs": [],
   "source": [
    "def explore (engine):",
    "    inspector = sqlalchemy.inspect(engine)\n",
    "    for schema in inspector.get_schema_names():\n",
    "print(&#39;Schedule:&#39;, schedule)",
    "        for table_name in inspector.get_table_names(schema=schema):\n",
    "            print()\n",
    "            print('  Table:', table_name)\n",
    "            print()\n",
    "            for column in inspector.get_columns(table_name, schema=schema):\n",
    "                print('      Column:', column['name'].ljust(12), column['type'])"
   ]
  },
  {
   "cell_type": "code",
   "execution_count": 9,
   "metadata": {},
   "outputs": [
    {
     "name": "stdout",
     "output_type": "stream",
     "text": [
      "Schema: main\n",
      "\n",
      "  Table: actors\n",
      "\n",
      "      Column: id           INTEGER\n",
      "      Column: csfd_url     VARCHAR\n",
      "      Column: name         VARCHAR\n",
      "      Column: birth_date   DATE\n",
      "\n",
      "  Table: movie_to_actor\n",
      "\n",
      "      Column: id           INTEGER\n",
      "      Column: movie_id     INTEGER\n",
      "      Column: actor_id     INTEGER\n",
      "\n",
      "  Table: movies\n",
      "\n",
      "      Column: id           INTEGER\n",
      "      Column: title        VARCHAR\n",
      "      Column: csfd_url     VARCHAR\n",
      "      Column: year         INTEGER\n",
      "      Column: rating       NUMERIC\n"
     ]
    }
   ],
   "source": [
    "explore (engine)"
   ]
  },
  {
   "cell_type": "markdown",
   "metadata": {},
   "source": [
    "You can use a specialized program to explore the structure and contents of the database - [DB Browser] (https://sqlitebrowser.org/), [DBeaver] (https://dbeaver.io/), [MySQL Workbench] (https: // www.mysql.com/products/workbench/), ... there are many of them, typically specializing in a specific type of database, some programs are free and some paid. There are also web applications, the most famous is probably the Czech [Adminer] (https://www.adminer.org/). Here I wanted to show you that the same can be achieved from Python."
   ]
  },
  {
   "cell_type": "markdown",
   "metadata": {},
   "source": [
    "## SELECT\n",
    "\n",
    "Here are some ways to &quot;pull&quot; data from a database into Python."
   ]
  },
  {
   "cell_type": "code",
   "execution_count": 10,
   "metadata": {},
   "outputs": [
    {
     "data": {
      "text/plain": [
       "<sqlalchemy.engine.result.ResultProxy at 0x1147d0410>"
      ]
     },
     "execution_count": 10,
     "metadata": {},
     "output_type": "execute_result"
    }
   ],
   "source": [
    "engine.execute('SELECT id, name, birth_date FROM actors')"
   ]
  },
  {
   "cell_type": "markdown",
   "metadata": {},
   "source": [
    "The result of calling `engine.execute (...)` is an object that can represent the result of an SQL query. In the case of SELECT, the obtained rows can be passed through this object, in the case of INSERT, UPDATE, DELETE operations, this object contains, for example, the number of changed rows.",
    "\n",
    "We will try to display individual lines. LIMIT is used to limit the number of records returned."
   ]
  },
  {
   "cell_type": "code",
   "execution_count": 11,
   "metadata": {},
   "outputs": [
    {
     "name": "stdout",
     "output_type": "stream",
     "text": [
      "(1, 'Tim Robbins', '1958-10-16')\n",
      "(2, 'Morgan Freeman', '1937-06-01')\n",
      "(3, 'Bob Gunton', '1945-11-15')\n",
      "(4, 'William Sadler', '1950-04-13')\n",
      "(5, 'Clancy Brown', '1959-01-05')\n"
     ]
    }
   ],
   "source": [
    "result = engine.execute('SELECT id, name, birth_date FROM actors LIMIT 5')\n",
    "for row in result:\n",
    "    print(row)"
   ]
  },
  {
   "cell_type": "markdown",
   "metadata": {},
   "source": [
    "Crawling `result` would seem to return n-tuples, but this is not the case."
   ]
  },
  {
   "cell_type": "code",
   "execution_count": 12,
   "metadata": {},
   "outputs": [
    {
     "name": "stdout",
     "output_type": "stream",
     "text": [
      "<class 'sqlalchemy.engine.result.RowProxy'>\n",
      "<class 'sqlalchemy.engine.result.RowProxy'>\n",
      "<class 'sqlalchemy.engine.result.RowProxy'>\n",
      "<class 'sqlalchemy.engine.result.RowProxy'>\n",
      "<class 'sqlalchemy.engine.result.RowProxy'>\n"
     ]
    }
   ],
   "source": [
    "result = engine.execute('SELECT id, name, birth_date FROM actors LIMIT 5')\n",
    "for row in result:\n",
    "    print(type(row))"
   ]
  },
  {
   "cell_type": "markdown",
   "metadata": {},
   "source": [
    "This is a SQLAlchemy RowProxy object that does a few interesting things:",
    "\n",
    "- return the value of a given column in order",
    "- return the value of the given column by name",
    "- return dict with values"
   ]
  },
  {
   "cell_type": "code",
   "execution_count": 13,
   "metadata": {},
   "outputs": [
    {
     "name": "stdout",
     "output_type": "stream",
     "text": [
      "1 Tim Robbins\n",
      "2 Morgan Freeman\n",
      "3 Bob Gunton\n",
      "4 William Sadler\n",
      "5 Clancy Brown\n"
     ]
    }
   ],
   "source": [
    "result = engine.execute('SELECT id, name, csfd_url FROM actors LIMIT 5')\n",
    "for row in result:\n",
    "    print(row[0], row[1])"
   ]
  },
  {
   "cell_type": "code",
   "execution_count": 14,
   "metadata": {},
   "outputs": [
    {
     "name": "stdout",
     "output_type": "stream",
     "text": [
      "1 Tim Robbins\n",
      "2 Morgan Freeman\n",
      "3 Bob Gunton\n",
      "4 William Sadler\n",
      "5 Clancy Brown\n"
     ]
    }
   ],
   "source": [
    "result = engine.execute('SELECT id, name, csfd_url FROM actors LIMIT 5')\n",
    "for row in result:\n",
    "    print(row['id'], row['name'])"
   ]
  },
  {
   "cell_type": "code",
   "execution_count": 15,
   "metadata": {},
   "outputs": [
    {
     "name": "stdout",
     "output_type": "stream",
     "text": [
      "{'id': 1, 'name': 'Tim Robbins', 'csfd_url': 'https://www.csfd.cz/tvurce/103-tim-robbins/'}\n",
      "{'id': 2, 'name': 'Morgan Freeman', 'csfd_url': 'https://www.csfd.cz/tvurce/92-morgan-freeman/'}\n",
      "{'id': 3, 'name': 'Bob Gunton', 'csfd_url': 'https://www.csfd.cz/tvurce/202-bob-gunton/'}\n",
      "{'id': 4, 'name': 'William Sadler', 'csfd_url': 'https://www.csfd.cz/tvurce/203-william-sadler/'}\n",
      "{'id': 5, 'name': 'Clancy Brown', 'csfd_url': 'https://www.csfd.cz/tvurce/204-clancy-brown/'}\n"
     ]
    }
   ],
   "source": [
    "result = engine.execute('SELECT id, name, csfd_url FROM actors LIMIT 5')\n",
    "for row in result:\n",
    "    print(dict(row))"
   ]
  },
  {
   "cell_type": "markdown",
   "metadata": {},
   "source": [
    "If we want to get values from all columns, we use an asterisk."
   ]
  },
  {
   "cell_type": "code",
   "execution_count": 16,
   "metadata": {},
   "outputs": [
    {
     "name": "stdout",
     "output_type": "stream",
     "text": [
      "{'id': 1, 'csfd_url': 'https://www.csfd.cz/tvurce/103-tim-robbins/', 'name': 'Tim Robbins', 'birth_date': '1958-10-16'}\n",
      "{'id': 2, 'csfd_url': 'https://www.csfd.cz/tvurce/92-morgan-freeman/', 'name': 'Morgan Freeman', 'birth_date': '1937-06-01'}\n",
      "{'id': 3, 'csfd_url': 'https://www.csfd.cz/tvurce/202-bob-gunton/', 'name': 'Bob Gunton', 'birth_date': '1945-11-15'}\n",
      "{'id': 4, 'csfd_url': 'https://www.csfd.cz/tvurce/203-william-sadler/', 'name': 'William Sadler', 'birth_date': '1950-04-13'}\n",
      "{'id': 5, 'csfd_url': 'https://www.csfd.cz/tvurce/204-clancy-brown/', 'name': 'Clancy Brown', 'birth_date': '1959-01-05'}\n"
     ]
    }
   ],
   "source": [
    "result = engine.execute('SELECT * FROM actors LIMIT 5')\n",
    "for row in result:\n",
    "    print(dict(row))"
   ]
  },
  {
   "cell_type": "markdown",
   "metadata": {},
   "source": [
    "Pandas DataFrame can also be created from the data:"
   ]
  },
  {
   "cell_type": "code",
   "execution_count": 17,
   "metadata": {},
   "outputs": [
    {
     "data": {
      "text/html": [
       "<div>\n",
       "<style scoped>\n",
       "    .dataframe tbody tr th:only-of-type {\n",
       "        vertical-align: middle;\n",
       "    }\n",
       "\n",
       "    .dataframe tbody tr th {\n",
       "        vertical-align: top;\n",
       "    }\n",
       "\n",
       "    .dataframe thead th {\n",
       "        text-align: right;\n",
       "    }\n",
       "</style>\n",
       "<table border=\"1\" class=\"dataframe\">\n",
       "  <thead>\n",
       "    <tr style=\"text-align: right;\">\n",
       "      <th></th>\n",
       "      <th>id</th>\n",
       "      <th>name</th>\n",
       "    </tr>\n",
       "  </thead>\n",
       "  <tbody>\n",
       "    <tr>\n",
       "      <th>0</th>\n",
       "      <td>1</td>\n",
       "      <td>Tim Robbins</td>\n",
       "    </tr>\n",
       "    <tr>\n",
       "      <th>1</th>\n",
       "      <td>2</td>\n",
       "      <td>Morgan Freeman</td>\n",
       "    </tr>\n",
       "    <tr>\n",
       "      <th>2</th>\n",
       "      <td>3</td>\n",
       "      <td>Bob Gunton</td>\n",
       "    </tr>\n",
       "    <tr>\n",
       "      <th>3</th>\n",
       "      <td>4</td>\n",
       "      <td>William Sadler</td>\n",
       "    </tr>\n",
       "    <tr>\n",
       "      <th>4</th>\n",
       "      <td>5</td>\n",
       "      <td>Clancy Brown</td>\n",
       "    </tr>\n",
       "  </tbody>\n",
       "</table>\n",
       "</div>"
      ],
      "text/plain": [
       "   id            name\n",
       "0   1     Tim Robbins\n",
       "1   2  Morgan Freeman\n",
       "2   3      Bob Gunton\n",
       "3   4  William Sadler\n",
       "4   5    Clancy Brown"
      ]
     },
     "execution_count": 17,
     "metadata": {},
     "output_type": "execute_result"
    }
   ],
   "source": [
    "pd.read_sql_query('SELECT id, name FROM actors LIMIT 5', engine)"
   ]
  },
  {
   "cell_type": "markdown",
   "metadata": {},
   "source": [
    "This is a shortcut for loading the entire table:"
   ]
  },
  {
   "cell_type": "code",
   "execution_count": 18,
   "metadata": {},
   "outputs": [
    {
     "data": {
      "text/html": [
       "<div>\n",
       "<style scoped>\n",
       "    .dataframe tbody tr th:only-of-type {\n",
       "        vertical-align: middle;\n",
       "    }\n",
       "\n",
       "    .dataframe tbody tr th {\n",
       "        vertical-align: top;\n",
       "    }\n",
       "\n",
       "    .dataframe thead th {\n",
       "        text-align: right;\n",
       "    }\n",
       "</style>\n",
       "<table border=\"1\" class=\"dataframe\">\n",
       "  <thead>\n",
       "    <tr style=\"text-align: right;\">\n",
       "      <th></th>\n",
       "      <th>id</th>\n",
       "      <th>csfd_url</th>\n",
       "      <th>name</th>\n",
       "      <th>birth_date</th>\n",
       "    </tr>\n",
       "  </thead>\n",
       "  <tbody>\n",
       "    <tr>\n",
       "      <th>0</th>\n",
       "      <td>1</td>\n",
       "      <td>https://www.csfd.cz/tvurce/103-tim-robbins/</td>\n",
       "      <td>Tim Robbins</td>\n",
       "      <td>1958-10-16</td>\n",
       "    </tr>\n",
       "    <tr>\n",
       "      <th>1</th>\n",
       "      <td>2</td>\n",
       "      <td>https://www.csfd.cz/tvurce/92-morgan-freeman/</td>\n",
       "      <td>Morgan Freeman</td>\n",
       "      <td>1937-06-01</td>\n",
       "    </tr>\n",
       "    <tr>\n",
       "      <th>2</th>\n",
       "      <td>3</td>\n",
       "      <td>https://www.csfd.cz/tvurce/202-bob-gunton/</td>\n",
       "      <td>Bob Gunton</td>\n",
       "      <td>1945-11-15</td>\n",
       "    </tr>\n",
       "    <tr>\n",
       "      <th>3</th>\n",
       "      <td>4</td>\n",
       "      <td>https://www.csfd.cz/tvurce/203-william-sadler/</td>\n",
       "      <td>William Sadler</td>\n",
       "      <td>1950-04-13</td>\n",
       "    </tr>\n",
       "    <tr>\n",
       "      <th>4</th>\n",
       "      <td>5</td>\n",
       "      <td>https://www.csfd.cz/tvurce/204-clancy-brown/</td>\n",
       "      <td>Clancy Brown</td>\n",
       "      <td>1959-01-05</td>\n",
       "    </tr>\n",
       "    <tr>\n",
       "      <th>...</th>\n",
       "      <td>...</td>\n",
       "      <td>...</td>\n",
       "      <td>...</td>\n",
       "      <td>...</td>\n",
       "    </tr>\n",
       "    <tr>\n",
       "      <th>7522</th>\n",
       "      <td>7523</td>\n",
       "      <td>https://www.csfd.cz/tvurce/147104-jon-kenny/</td>\n",
       "      <td>Jon Kenny</td>\n",
       "      <td>NaT</td>\n",
       "    </tr>\n",
       "    <tr>\n",
       "      <th>7523</th>\n",
       "      <td>7524</td>\n",
       "      <td>https://www.csfd.cz/tvurce/147105-lisa-hannigan/</td>\n",
       "      <td>Lisa Hannigan</td>\n",
       "      <td>1981-02-12</td>\n",
       "    </tr>\n",
       "    <tr>\n",
       "      <th>7524</th>\n",
       "      <td>7525</td>\n",
       "      <td>https://www.csfd.cz/tvurce/162204-lucy-o-connell/</td>\n",
       "      <td>Lucy O'Connell</td>\n",
       "      <td>NaT</td>\n",
       "    </tr>\n",
       "    <tr>\n",
       "      <th>7525</th>\n",
       "      <td>7526</td>\n",
       "      <td>https://www.csfd.cz/tvurce/309228-paul-young/</td>\n",
       "      <td>Paul Young</td>\n",
       "      <td>NaT</td>\n",
       "    </tr>\n",
       "    <tr>\n",
       "      <th>7526</th>\n",
       "      <td>7527</td>\n",
       "      <td>https://www.csfd.cz/tvurce/458624-grethe-mogen...</td>\n",
       "      <td>Grethe Mogensen</td>\n",
       "      <td>1937-05-25</td>\n",
       "    </tr>\n",
       "  </tbody>\n",
       "</table>\n",
       "<p>7527 rows \u00d7 4 columns</p>\n",
       "</div>"
      ],
      "text/plain": [
       "        id                                           csfd_url  \\\n",
       "0        1        https://www.csfd.cz/tvurce/103-tim-robbins/   \n",
       "1        2      https://www.csfd.cz/tvurce/92-morgan-freeman/   \n",
       "2        3         https://www.csfd.cz/tvurce/202-bob-gunton/   \n",
       "3        4     https://www.csfd.cz/tvurce/203-william-sadler/   \n",
       "4        5       https://www.csfd.cz/tvurce/204-clancy-brown/   \n",
       "...    ...                                                ...   \n",
       "7522  7523       https://www.csfd.cz/tvurce/147104-jon-kenny/   \n",
       "7523  7524   https://www.csfd.cz/tvurce/147105-lisa-hannigan/   \n",
       "7524  7525  https://www.csfd.cz/tvurce/162204-lucy-o-connell/   \n",
       "7525  7526      https://www.csfd.cz/tvurce/309228-paul-young/   \n",
       "7526  7527  https://www.csfd.cz/tvurce/458624-grethe-mogen...   \n",
       "\n",
       "                 name birth_date  \n",
       "0         Tim Robbins 1958-10-16  \n",
       "1      Morgan Freeman 1937-06-01  \n",
       "2          Bob Gunton 1945-11-15  \n",
       "3      William Sadler 1950-04-13  \n",
       "4        Clancy Brown 1959-01-05  \n",
       "...               ...        ...  \n",
       "7522        Jon Kenny        NaT  \n",
       "7523    Lisa Hannigan 1981-02-12  \n",
       "7524   Lucy O'Connell        NaT  \n",
       "7525       Paul Young        NaT  \n",
       "7526  Grethe Mogensen 1937-05-25  \n",
       "\n",
       "[7527 rows x 4 columns]"
      ]
     },
     "execution_count": 18,
     "metadata": {},
     "output_type": "execute_result"
    }
   ],
   "source": [
    "pd.read_sql_table('actors', engine)"
   ]
  },
  {
   "cell_type": "markdown",
   "metadata": {},
   "source": [
    "## Survey data in a movie database",
    "\n",
    "We will upload the data from the individual tables to the Pandas DataFrames, with which we will continue to work.",
    "\n",
    "For clarity, we will write a sample of the content of those DataFrames here, so that we know what we are working with."
   ]
  },
  {
   "cell_type": "code",
   "execution_count": 19,
   "metadata": {},
   "outputs": [
    {
     "data": {
      "text/plain": [
       "['actors', 'movie_to_actor', 'movies']"
      ]
     },
     "execution_count": 19,
     "metadata": {},
     "output_type": "execute_result"
    }
   ],
   "source": [
    "sqlalchemy.inspect(engine).get_table_names()"
   ]
  },
  {
   "cell_type": "code",
   "execution_count": 20,
   "metadata": {},
   "outputs": [],
   "source": [
    "actors = pd.read_sql_table('actors', engine)\n",
    "movies = pd.read_sql_table('movies', engine)\n",
    "movie_to_actor = pd.read_sql_table('movie_to_actor', engine)"
   ]
  },
  {
   "cell_type": "code",
   "execution_count": 21,
   "metadata": {},
   "outputs": [
    {
     "data": {
      "text/html": [
       "<div>\n",
       "<style scoped>\n",
       "    .dataframe tbody tr th:only-of-type {\n",
       "        vertical-align: middle;\n",
       "    }\n",
       "\n",
       "    .dataframe tbody tr th {\n",
       "        vertical-align: top;\n",
       "    }\n",
       "\n",
       "    .dataframe thead th {\n",
       "        text-align: right;\n",
       "    }\n",
       "</style>\n",
       "<table border=\"1\" class=\"dataframe\">\n",
       "  <thead>\n",
       "    <tr style=\"text-align: right;\">\n",
       "      <th></th>\n",
       "      <th>id</th>\n",
       "      <th>csfd_url</th>\n",
       "      <th>name</th>\n",
       "      <th>birth_date</th>\n",
       "    </tr>\n",
       "  </thead>\n",
       "  <tbody>\n",
       "    <tr>\n",
       "      <th>0</th>\n",
       "      <td>1</td>\n",
       "      <td>https://www.csfd.cz/tvurce/103-tim-robbins/</td>\n",
       "      <td>Tim Robbins</td>\n",
       "      <td>1958-10-16</td>\n",
       "    </tr>\n",
       "    <tr>\n",
       "      <th>1</th>\n",
       "      <td>2</td>\n",
       "      <td>https://www.csfd.cz/tvurce/92-morgan-freeman/</td>\n",
       "      <td>Morgan Freeman</td>\n",
       "      <td>1937-06-01</td>\n",
       "    </tr>\n",
       "    <tr>\n",
       "      <th>2</th>\n",
       "      <td>3</td>\n",
       "      <td>https://www.csfd.cz/tvurce/202-bob-gunton/</td>\n",
       "      <td>Bob Gunton</td>\n",
       "      <td>1945-11-15</td>\n",
       "    </tr>\n",
       "    <tr>\n",
       "      <th>3</th>\n",
       "      <td>4</td>\n",
       "      <td>https://www.csfd.cz/tvurce/203-william-sadler/</td>\n",
       "      <td>William Sadler</td>\n",
       "      <td>1950-04-13</td>\n",
       "    </tr>\n",
       "    <tr>\n",
       "      <th>4</th>\n",
       "      <td>5</td>\n",
       "      <td>https://www.csfd.cz/tvurce/204-clancy-brown/</td>\n",
       "      <td>Clancy Brown</td>\n",
       "      <td>1959-01-05</td>\n",
       "    </tr>\n",
       "  </tbody>\n",
       "</table>\n",
       "</div>"
      ],
      "text/plain": [
       "   id                                        csfd_url            name  \\\n",
       "0   1     https://www.csfd.cz/tvurce/103-tim-robbins/     Tim Robbins   \n",
       "1   2   https://www.csfd.cz/tvurce/92-morgan-freeman/  Morgan Freeman   \n",
       "2   3      https://www.csfd.cz/tvurce/202-bob-gunton/      Bob Gunton   \n",
       "3   4  https://www.csfd.cz/tvurce/203-william-sadler/  William Sadler   \n",
       "4   5    https://www.csfd.cz/tvurce/204-clancy-brown/    Clancy Brown   \n",
       "\n",
       "  birth_date  \n",
       "0 1958-10-16  \n",
       "1 1937-06-01  \n",
       "2 1945-11-15  \n",
       "3 1950-04-13  \n",
       "4 1959-01-05  "
      ]
     },
     "execution_count": 21,
     "metadata": {},
     "output_type": "execute_result"
    }
   ],
   "source": [
    "actors.head()"
   ]
  },
  {
   "cell_type": "code",
   "execution_count": 22,
   "metadata": {},
   "outputs": [
    {
     "data": {
      "text/html": [
       "<div>\n",
       "<style scoped>\n",
       "    .dataframe tbody tr th:only-of-type {\n",
       "        vertical-align: middle;\n",
       "    }\n",
       "\n",
       "    .dataframe tbody tr th {\n",
       "        vertical-align: top;\n",
       "    }\n",
       "\n",
       "    .dataframe thead th {\n",
       "        text-align: right;\n",
       "    }\n",
       "</style>\n",
       "<table border=\"1\" class=\"dataframe\">\n",
       "  <thead>\n",
       "    <tr style=\"text-align: right;\">\n",
       "      <th></th>\n",
       "      <th>id</th>\n",
       "      <th>title</th>\n",
       "      <th>csfd_url</th>\n",
       "      <th>year</th>\n",
       "      <th>rating</th>\n",
       "    </tr>\n",
       "  </thead>\n",
       "  <tbody>\n",
       "    <tr>\n",
       "      <th>0</th>\n",
       "      <td>1</td>\n",
       "      <td>Vykoupen\u00ed z v\u011bznice Shawshank</td>\n",
       "      <td>https://www.csfd.cz/film/2294-vykoupeni-z-vezn...</td>\n",
       "      <td>1994</td>\n",
       "      <td>95.3</td>\n",
       "    </tr>\n",
       "    <tr>\n",
       "      <th>1</th>\n",
       "      <td>2</td>\n",
       "      <td>Forrest Gump</td>\n",
       "      <td>https://www.csfd.cz/film/10135-forrest-gump/</td>\n",
       "      <td>1994</td>\n",
       "      <td>94.5</td>\n",
       "    </tr>\n",
       "    <tr>\n",
       "      <th>2</th>\n",
       "      <td>3</td>\n",
       "      <td>Zelen\u00e1 m\u00edle</td>\n",
       "      <td>https://www.csfd.cz/film/2292-zelena-mile/</td>\n",
       "      <td>1999</td>\n",
       "      <td>92.8</td>\n",
       "    </tr>\n",
       "    <tr>\n",
       "      <th>3</th>\n",
       "      <td>4</td>\n",
       "      <td>P\u0159elet nad kuka\u010d\u010d\u00edm hn\u00edzdem</td>\n",
       "      <td>https://www.csfd.cz/film/2982-prelet-nad-kukac...</td>\n",
       "      <td>1975</td>\n",
       "      <td>92.5</td>\n",
       "    </tr>\n",
       "    <tr>\n",
       "      <th>4</th>\n",
       "      <td>5</td>\n",
       "      <td>Sedm</td>\n",
       "      <td>https://www.csfd.cz/film/2671-sedm/</td>\n",
       "      <td>1995</td>\n",
       "      <td>92.4</td>\n",
       "    </tr>\n",
       "  </tbody>\n",
       "</table>\n",
       "</div>"
      ],
      "text/plain": [
       "   id                          title  \\\n",
       "0   1  Vykoupen\u00ed z v\u011bznice Shawshank   \n",
       "1   2                   Forrest Gump   \n",
       "2   3                    Zelen\u00e1 m\u00edle   \n",
       "3   4    P\u0159elet nad kuka\u010d\u010d\u00edm hn\u00edzdem   \n",
       "4   5                           Sedm   \n",
       "\n",
       "                                            csfd_url  year  rating  \n",
       "0  https://www.csfd.cz/film/2294-vykoupeni-z-vezn...  1994    95.3  \n",
       "1       https://www.csfd.cz/film/10135-forrest-gump/  1994    94.5  \n",
       "2         https://www.csfd.cz/film/2292-zelena-mile/  1999    92.8  \n",
       "3  https://www.csfd.cz/film/2982-prelet-nad-kukac...  1975    92.5  \n",
       "4                https://www.csfd.cz/film/2671-sedm/  1995    92.4  "
      ]
     },
     "execution_count": 22,
     "metadata": {},
     "output_type": "execute_result"
    }
   ],
   "source": [
    "movies.head()"
   ]
  },
  {
   "cell_type": "code",
   "execution_count": 23,
   "metadata": {},
   "outputs": [
    {
     "data": {
      "text/html": [
       "<div>\n",
       "<style scoped>\n",
       "    .dataframe tbody tr th:only-of-type {\n",
       "        vertical-align: middle;\n",
       "    }\n",
       "\n",
       "    .dataframe tbody tr th {\n",
       "        vertical-align: top;\n",
       "    }\n",
       "\n",
       "    .dataframe thead th {\n",
       "        text-align: right;\n",
       "    }\n",
       "</style>\n",
       "<table border=\"1\" class=\"dataframe\">\n",
       "  <thead>\n",
       "    <tr style=\"text-align: right;\">\n",
       "      <th></th>\n",
       "      <th>id</th>\n",
       "      <th>movie_id</th>\n",
       "      <th>actor_id</th>\n",
       "    </tr>\n",
       "  </thead>\n",
       "  <tbody>\n",
       "    <tr>\n",
       "      <th>0</th>\n",
       "      <td>1</td>\n",
       "      <td>1</td>\n",
       "      <td>1</td>\n",
       "    </tr>\n",
       "    <tr>\n",
       "      <th>1</th>\n",
       "      <td>2</td>\n",
       "      <td>1</td>\n",
       "      <td>2</td>\n",
       "    </tr>\n",
       "    <tr>\n",
       "      <th>2</th>\n",
       "      <td>3</td>\n",
       "      <td>1</td>\n",
       "      <td>3</td>\n",
       "    </tr>\n",
       "    <tr>\n",
       "      <th>3</th>\n",
       "      <td>4</td>\n",
       "      <td>1</td>\n",
       "      <td>4</td>\n",
       "    </tr>\n",
       "    <tr>\n",
       "      <th>4</th>\n",
       "      <td>5</td>\n",
       "      <td>1</td>\n",
       "      <td>5</td>\n",
       "    </tr>\n",
       "  </tbody>\n",
       "</table>\n",
       "</div>"
      ],
      "text/plain": [
       "   id  movie_id  actor_id\n",
       "0   1         1         1\n",
       "1   2         1         2\n",
       "2   3         1         3\n",
       "3   4         1         4\n",
       "4   5         1         5"
      ]
     },
     "execution_count": 23,
     "metadata": {},
     "output_type": "execute_result"
    }
   ],
   "source": [
    "movie_to_actor.head()"
   ]
  },
  {
   "cell_type": "markdown",
   "metadata": {},
   "source": [
    "## SELECT ... WHERE ... AND/OR"
   ]
  },
  {
   "cell_type": "code",
   "execution_count": 24,
   "metadata": {},
   "outputs": [
    {
     "data": {
      "text/plain": [
       "[(4849, 'https://www.csfd.cz/tvurce/39309-medved-bart-2/', 'medv\u011bd Bart 2', '2000-01-20'),\n",
       " (5703, 'https://www.csfd.cz/tvurce/283519-zaira-wasim/', 'Zaira Wasim', '2000-10-23'),\n",
       " (6290, 'https://www.csfd.cz/tvurce/35296-morgan-lily/', 'Morgan Lily', '2000-04-11')]"
      ]
     },
     "execution_count": 24,
     "metadata": {},
     "output_type": "execute_result"
    }
   ],
   "source": [
    "list(engine.execute('SELECT * FROM actors WHERE birth_date > \"2000-01-01\" AND birth_date < \"2001-01-01\"'))"
   ]
  },
  {
   "cell_type": "code",
   "execution_count": 25,
   "metadata": {},
   "outputs": [
    {
     "data": {
      "text/html": [
       "<div>\n",
       "<style scoped>\n",
       "    .dataframe tbody tr th:only-of-type {\n",
       "        vertical-align: middle;\n",
       "    }\n",
       "\n",
       "    .dataframe tbody tr th {\n",
       "        vertical-align: top;\n",
       "    }\n",
       "\n",
       "    .dataframe thead th {\n",
       "        text-align: right;\n",
       "    }\n",
       "</style>\n",
       "<table border=\"1\" class=\"dataframe\">\n",
       "  <thead>\n",
       "    <tr style=\"text-align: right;\">\n",
       "      <th></th>\n",
       "      <th>id</th>\n",
       "      <th>csfd_url</th>\n",
       "      <th>name</th>\n",
       "      <th>birth_date</th>\n",
       "    </tr>\n",
       "  </thead>\n",
       "  <tbody>\n",
       "    <tr>\n",
       "      <th>4848</th>\n",
       "      <td>4849</td>\n",
       "      <td>https://www.csfd.cz/tvurce/39309-medved-bart-2/</td>\n",
       "      <td>medv\u011bd Bart 2</td>\n",
       "      <td>2000-01-20</td>\n",
       "    </tr>\n",
       "    <tr>\n",
       "      <th>5702</th>\n",
       "      <td>5703</td>\n",
       "      <td>https://www.csfd.cz/tvurce/283519-zaira-wasim/</td>\n",
       "      <td>Zaira Wasim</td>\n",
       "      <td>2000-10-23</td>\n",
       "    </tr>\n",
       "    <tr>\n",
       "      <th>6289</th>\n",
       "      <td>6290</td>\n",
       "      <td>https://www.csfd.cz/tvurce/35296-morgan-lily/</td>\n",
       "      <td>Morgan Lily</td>\n",
       "      <td>2000-04-11</td>\n",
       "    </tr>\n",
       "  </tbody>\n",
       "</table>\n",
       "</div>"
      ],
      "text/plain": [
       "        id                                         csfd_url           name  \\\n",
       "4848  4849  https://www.csfd.cz/tvurce/39309-medved-bart-2/  medv\u011bd Bart 2   \n",
       "5702  5703   https://www.csfd.cz/tvurce/283519-zaira-wasim/    Zaira Wasim   \n",
       "6289  6290    https://www.csfd.cz/tvurce/35296-morgan-lily/    Morgan Lily   \n",
       "\n",
       "     birth_date  \n",
       "4848 2000-01-20  \n",
       "5702 2000-10-23  \n",
       "6289 2000-04-11  "
      ]
     },
     "execution_count": 25,
     "metadata": {},
     "output_type": "execute_result"
    }
   ],
   "source": [
    "actors[(actors['birth_date'] > '2000-01-01') & (actors['birth_date'] < '2001-01-01')]"
   ]
  },
  {
   "cell_type": "markdown",
   "metadata": {},
   "source": [
    "## SELECT ... ORDER BY"
   ]
  },
  {
   "cell_type": "code",
   "execution_count": 26,
   "metadata": {},
   "outputs": [
    {
     "data": {
      "text/plain": [
       "[(526, 'https://www.csfd.cz/tvurce/239127-noah-jupe/', 'Noah Jupe', '2005-02-25'),\n",
       " (7051, 'https://www.csfd.cz/tvurce/321955-rocco-lerro/', 'Rocco Lerro', '2005-08-21'),\n",
       " (4979, 'https://www.csfd.cz/tvurce/357987-ariana-greenblatt/', 'Ariana Greenblatt', '2007-08-27'),\n",
       " (1876, 'https://www.csfd.cz/tvurce/540779-hailey-hermida/', 'Hailey Hermida', '2007-09-13'),\n",
       " (1865, 'https://www.csfd.cz/tvurce/354371-pierce-pope/', 'Pierce Pope', '2008-06-02')]"
      ]
     },
     "execution_count": 26,
     "metadata": {},
     "output_type": "execute_result"
    }
   ],
   "source": [
    "list(engine.execute('SELECT * FROM actors WHERE birth_date > \"2005-01-01\" ORDER BY birth_date ASC'))"
   ]
  },
  {
   "cell_type": "code",
   "execution_count": 27,
   "metadata": {},
   "outputs": [
    {
     "data": {
      "text/html": [
       "<div>\n",
       "<style scoped>\n",
       "    .dataframe tbody tr th:only-of-type {\n",
       "        vertical-align: middle;\n",
       "    }\n",
       "\n",
       "    .dataframe tbody tr th {\n",
       "        vertical-align: top;\n",
       "    }\n",
       "\n",
       "    .dataframe thead th {\n",
       "        text-align: right;\n",
       "    }\n",
       "</style>\n",
       "<table border=\"1\" class=\"dataframe\">\n",
       "  <thead>\n",
       "    <tr style=\"text-align: right;\">\n",
       "      <th></th>\n",
       "      <th>id</th>\n",
       "      <th>csfd_url</th>\n",
       "      <th>name</th>\n",
       "      <th>birth_date</th>\n",
       "    </tr>\n",
       "  </thead>\n",
       "  <tbody>\n",
       "    <tr>\n",
       "      <th>525</th>\n",
       "      <td>526</td>\n",
       "      <td>https://www.csfd.cz/tvurce/239127-noah-jupe/</td>\n",
       "      <td>Noah Jupe</td>\n",
       "      <td>2005-02-25</td>\n",
       "    </tr>\n",
       "    <tr>\n",
       "      <th>7050</th>\n",
       "      <td>7051</td>\n",
       "      <td>https://www.csfd.cz/tvurce/321955-rocco-lerro/</td>\n",
       "      <td>Rocco Lerro</td>\n",
       "      <td>2005-08-21</td>\n",
       "    </tr>\n",
       "    <tr>\n",
       "      <th>4978</th>\n",
       "      <td>4979</td>\n",
       "      <td>https://www.csfd.cz/tvurce/357987-ariana-green...</td>\n",
       "      <td>Ariana Greenblatt</td>\n",
       "      <td>2007-08-27</td>\n",
       "    </tr>\n",
       "    <tr>\n",
       "      <th>1875</th>\n",
       "      <td>1876</td>\n",
       "      <td>https://www.csfd.cz/tvurce/540779-hailey-hermida/</td>\n",
       "      <td>Hailey Hermida</td>\n",
       "      <td>2007-09-13</td>\n",
       "    </tr>\n",
       "    <tr>\n",
       "      <th>1864</th>\n",
       "      <td>1865</td>\n",
       "      <td>https://www.csfd.cz/tvurce/354371-pierce-pope/</td>\n",
       "      <td>Pierce Pope</td>\n",
       "      <td>2008-06-02</td>\n",
       "    </tr>\n",
       "  </tbody>\n",
       "</table>\n",
       "</div>"
      ],
      "text/plain": [
       "        id                                           csfd_url  \\\n",
       "525    526       https://www.csfd.cz/tvurce/239127-noah-jupe/   \n",
       "7050  7051     https://www.csfd.cz/tvurce/321955-rocco-lerro/   \n",
       "4978  4979  https://www.csfd.cz/tvurce/357987-ariana-green...   \n",
       "1875  1876  https://www.csfd.cz/tvurce/540779-hailey-hermida/   \n",
       "1864  1865     https://www.csfd.cz/tvurce/354371-pierce-pope/   \n",
       "\n",
       "                   name birth_date  \n",
       "525           Noah Jupe 2005-02-25  \n",
       "7050        Rocco Lerro 2005-08-21  \n",
       "4978  Ariana Greenblatt 2007-08-27  \n",
       "1875     Hailey Hermida 2007-09-13  \n",
       "1864        Pierce Pope 2008-06-02  "
      ]
     },
     "execution_count": 27,
     "metadata": {},
     "output_type": "execute_result"
    }
   ],
   "source": [
    "actors[(actors['birth_date'] > '2005-01-01')].sort_values('birth_date')"
   ]
  },
  {
   "cell_type": "markdown",
   "metadata": {},
   "source": [
    "## SELECT ... GROUP BY"
   ]
  },
  {
   "cell_type": "code",
   "execution_count": 28,
   "metadata": {},
   "outputs": [
    {
     "data": {
      "text/plain": [
       "[(1957, 6),\n",
       " (1968, 6),\n",
       " (1973, 6),\n",
       " (1980, 6),\n",
       " (1984, 6),\n",
       " (1986, 7),\n",
       " (1990, 7),\n",
       " (1991, 6),\n",
       " (1993, 11),\n",
       " (1995, 7),\n",
       " (1997, 8),\n",
       " (1998, 6),\n",
       " (1999, 9),\n",
       " (2000, 6),\n",
       " (2001, 8),\n",
       " (2002, 6),\n",
       " (2003, 6),\n",
       " (2004, 9),\n",
       " (2008, 6)]"
      ]
     },
     "execution_count": 28,
     "metadata": {},
     "output_type": "execute_result"
    }
   ],
   "source": [
    "list(engine.execute('SELECT year, COUNT(*) FROM movies GROUP BY year HAVING COUNT(*) > 5'))"
   ]
  },
  {
   "cell_type": "markdown",
   "metadata": {},
   "source": [
    "## Task: which actor acted in the largest number of films",
    "\n",
    "In the `movie_to_actor` table, find the id of the actor with the most movie ids in that table.",
    "\n",
    "Method:",
    "\n",
    "1. Use GROUP BY to always write down actor_id and the number of lines with this actor_id",
    "2. Use ORDER BY and LIMIT to find the actor_id with the highest number",
    "3. Bonus: find out the name of this actor"
   ]
  },
  {
   "cell_type": "markdown",
   "metadata": {},
   "source": [
    "## JOIN\n",
    "\n",
    "TODO: here will be a sample JOIN in SQL vs. merge in the DataFrame",
    "\n",
    "<div><img src=\"https://naucse.python.cz/2020/pydata-praha-jaro/pydata/pandas_correlations/static/joins.svg\"></div>"
   ]
  },
  {
   "cell_type": "markdown",
   "metadata": {},
   "source": [
    "## CREATE TABLE"
   ]
  },
  {
   "cell_type": "markdown",
   "metadata": {},
   "source": [
    "## INSERT"
   ]
  },
  {
   "cell_type": "markdown",
   "metadata": {},
   "source": [
    "## UPDATE"
   ]
  },
  {
   "cell_type": "markdown",
   "metadata": {},
   "source": [
    "## DELETE"
   ]
  },
  {
   "cell_type": "markdown",
   "metadata": {},
   "source": [
    "## Conclusion"
   ]
  },
  {
   "cell_type": "markdown",
   "metadata": {},
   "source": [
    "## Links",
    "\n",
    "https://naucse.python.cz/2019/brno-podzim-2019-ut/beginners/database/\n"
   ]
  }
 ],
 "metadata": {
  "kernelspec": {
   "display_name": "Python 3",
   "language": "python",
   "name": "python3"
  },
  "language_info": {
   "codemirror_mode": {
    "name": "ipython",
    "version": 3
   },
   "file_extension": ".py",
   "mimetype": "text/x-python",
   "name": "python",
   "nbconvert_exporter": "python",
   "pygments_lexer": "ipython3",
   "version": "3.7.3"
  }
 },
 "nbformat": 4,
 "nbformat_minor": 4
}