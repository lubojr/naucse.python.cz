{
 "cells": [
  {
   "cell_type": "markdown",
   "metadata": {},
   "source": [
    "# Implementace domácího úkolu - rybí regrese "
   ]
  },
  {
   "cell_type": "code",
   "execution_count": null,
   "metadata": {},
   "outputs": [],
   "source": [
    "import pandas as pd\n",
    "import numpy as np \n",
    "np.random.seed(42) #ať to všem dopadne stejně\n",
    "\n",
    "__ = 0  # ignorujte, slouží dále jako volné místo pro doplnění"
   ]
  },
  {
   "cell_type": "markdown",
   "metadata": {},
   "source": [
    "- Načtěte si data pomocí pandas, vyberte požadované sloupce, převeďte vše na číselné hodnoty. \n",
    "\n",
    "*(Bude se vám hodit [get_dummies](https://pandas.pydata.org/pandas-docs/stable/reference/api/pandas.get_dummies.html), která kategoriální hodnoty zakóduje pomocí one hot encoding (pomocí nul a jedniček). (Pozn. **dummies** proto, že nám přibudou pomocné proměnné (sloupce), které se označují jako **dummy variables**.)*"
   ]
  },
  {
   "cell_type": "code",
   "execution_count": null,
   "metadata": {},
   "outputs": [],
   "source": [
    "fish_data = pd.read_csv(\"fish_data.csv\", index_col=0)\n",
    "\n",
    "# dopište kód \n",
    "..."
   ]
  },
  {
   "cell_type": "markdown",
   "metadata": {},
   "source": [
    "- Zvol si sloupec, který budeš používat jako odezvu (**Weight**). Do proměnné **X** ulož sloupce, které budeš používat jako příznaky, do proměnné **y** sloupec s odezvou.\n",
    "\n",
    "*V teorii strojového učení se vstupy modelu (příznaky, vstupní proměnné) typicky označují písmenem X a výstupy písmenem y. Takto se často označují i proměnné v kódu. X představuje matici (neboli tabulku), kde každý řádek odpovídá jednomu datovému vzorku a každý sloupec jednomu příznaku (vstupní proměnné). y je vektor, neboli jeden sloupec s odezvou.*"
   ]
  },
  {
   "cell_type": "code",
   "execution_count": null,
   "metadata": {},
   "outputs": [],
   "source": [
    "# doplň výběr příznaků a odezvy \n",
    "y = __\n",
    "X = __ "
   ]
  },
  {
   "cell_type": "markdown",
   "metadata": {},
   "source": [
    "- Rozděl data na trénovací a testovací. Všimni si, že máme v datech různé druhy ryb, na co si dát pozor? \n",
    "\n",
    "*Metoda  [train_test_split](https://scikit-learn.org/stable/modules/generated/sklearn.model_selection.train_test_split.html?highlight=train%20test%20split#sklearn.model_selection.train_test_split)  nám data rozdělí náhodně na trénovací a testovací sadu. Velikost testovací množiny můžeme specifikovat parametrem test_size, jeho přednastavená (default) hodnota je 0.25, t. j. 25%.*"
   ]
  },
  {
   "cell_type": "code",
   "execution_count": null,
   "metadata": {},
   "outputs": [],
   "source": [
    "from sklearn.model_selection import train_test_split \n",
    "\n",
    "# doplň rozdělení na testovací a trénovací data \n",
    "# X_train, X_test, y_train, y_test = ... "
   ]
  },
  {
   "cell_type": "markdown",
   "metadata": {},
   "source": [
    "- Vyber si několik regresních modelů a zkus je použít. \n",
    "\n",
    "Pro dnešek možno zkusit:\n",
    "\n",
    "  - [LinearRegression](https://scikit-learn.org/stable/modules/generated/sklearn.linear_model.LinearRegression.html) \n",
    " \n",
    "  - [Lasso](https://scikit-learn.org/stable/modules/generated/sklearn.linear_model.Lasso.html#sklearn.linear_model.Lasso)\n",
    "      + hyperparametry: \n",
    "          * alpha, float, default=1.0 \n",
    " \n",
    "- [SVR](https://scikit-learn.org/stable/modules/generated/sklearn.svm.SVR.html#sklearn.svm.SVR)        \n",
    "     + hyperparametry:\n",
    "          * kernel, default rbf, one of ‘linear’, ‘poly’, ‘rbf’, ‘sigmoid’\n",
    "          * C, float, optional (default=1.0)"
   ]
  },
  {
   "cell_type": "markdown",
   "metadata": {},
   "source": [
    "# Odbočka: co jsou to ty *hyper-parametry*? \n",
    "\n",
    "U příkladů s černými krabičkami v první hodině jsme si (za vašimi zády) několikrát trochu pomohli a \n",
    "krabičce jsme předali na začátku nějaké parametry. Krabička totiž často umožňuje uživateli, aby si ji nakonfiguroval. V terminologii krabiček si můžeme představit, že krabička má na sobě různé páčky, kterými se dá seřídit. Těmito páčkami se nastavují tzv. **hyper-parametry** modelu. Všechny modely, které najdeš v knihovně Scikit-learn, mají nějaké výchozí nastavení a půjdou použít i bez toho, aby ses nastavením těchto hyper-parametrů zabývala.\n",
    "V případě, že model nedává uspokojivý výsledek, můžeš zkusit tyto parametry upravit, např. vyzkoušet několik různých nastavení a porovnat hodnotu metriky na testovací množině.\n",
    "\n",
    "U seznamu výše máme některé hyperparametry uvedené. Parametry často souvisejí s regularizací (výše *alpha*, *C*). **Regularizace** znamená, že model kromě toho, že se snaží nafitovat tak, aby odpovídal datům (dával správné odpovědi), zohledňuje nějaké další kriterium. Typicky toto kritérium hlídá, aby výstup modelu moc neosciloval, apod. Podobně jako jsi v příkladu s krajinou říkala, že řešení volíš tak, aby bylo *plynulé*, *hezké*, *odpovídalo obvyklým* krajinám. \n",
    "\n",
    "Proces výběru modelu včetně jeho parametrů se nazývá **model selection**, v knihovně Scikit-learn najdeš nástroje, které ti mohou pomoci, pod heslem [Model selection](https://scikit-learn.org/stable/model_selection.html)."
   ]
  },
  {
   "cell_type": "code",
   "execution_count": null,
   "metadata": {},
   "outputs": [],
   "source": [
    "from sklearn.linear_model import LinearRegression, Lasso, SGDRegressor  \n",
    "from sklearn.svm import SVR "
   ]
  },
  {
   "cell_type": "code",
   "execution_count": null,
   "metadata": {},
   "outputs": [],
   "source": [
    "# neboj se seznam změnit nebo zkusit jiné hodnoty parametrů \n",
    "model_zoo = [ \n",
    "    LinearRegression(),\n",
    "    Lasso(alpha=1.0),\n",
    "    Lasso(alpha=0.5), \n",
    "    SVR(kernel=\"rbf\"),\n",
    "    SVR(kernel=\"poly\")\n",
    "]"
   ]
  },
  {
   "cell_type": "markdown",
   "metadata": {},
   "source": [
    "+ K trénovaní (fitování) slouží metoda `fit`, k predikci pro nové vzory metoda `predict`. \n",
    "```\n",
    "  model.fit(X_train, y_train)\n",
    "  pred = model.predict(X_test)\n",
    "```\n",
    "\n",
    "+ Metriku nemusíš programovat, k dispozici máš `mean_absolute_error`, `mean_squared_error` a `r2_score`.\n",
    "```\n",
    "  metrika = mean_absolute_error(y_test, pred)\n",
    "```  "
   ]
  },
  {
   "cell_type": "code",
   "execution_count": null,
   "metadata": {},
   "outputs": [],
   "source": [
    "from sklearn.metrics import mean_absolute_error, mean_squared_error, r2_score\n",
    "\n",
    "def ml_game(X_train, y_train, X_test, y_test, model):\n",
    "    \"\"\" 1. Natrénuje model na trénovací množině.\n",
    "        2. Spočte a vypíše hodnoty metrik na trénovací i testovací množině.\n",
    "        returns naučený model \n",
    "    \"\"\" \n",
    "        \n",
    "    # doplň kód dle bodů výše\n",
    "    \n",
    "    return model "
   ]
  },
  {
   "cell_type": "code",
   "execution_count": null,
   "metadata": {},
   "outputs": [],
   "source": [
    "# stačí odkomentovat \n",
    "\n",
    "#trained_models = []\n",
    "#for model in model_zoo: \n",
    "#    ml_game(X_train, y_train, X_test, y_test, model)\n",
    "#    trained_models.append(model) "
   ]
  },
  {
   "cell_type": "markdown",
   "metadata": {},
   "source": [
    "Naučili jsme několik modelů. Zamysli se teď na chvilku, který by sis vybrala a proč. \n",
    "Označme si jej jako `best_model`.  Můžeš si i zkusit pohrát s hyperparametry a zvolit jiné nastavení."
   ]
  },
  {
   "cell_type": "code",
   "execution_count": null,
   "metadata": {},
   "outputs": [],
   "source": [
    "# doplň pořadí modelu, který jsi vybrala\n",
    "\n",
    "# best_model = trained_models[__]"
   ]
  },
  {
   "cell_type": "markdown",
   "metadata": {},
   "source": [
    "# A pozor, překvapení ...  další testovací množina"
   ]
  },
  {
   "cell_type": "markdown",
   "metadata": {},
   "source": [
    "Data jsme si rozdělili na trénovací a testovací. Trénovací jsme použili na učení modelu. \n",
    "**Ale pozor!** Testovací množinu jsme použili k výběru modelu. Metrika na testovací množině nám tedy \n",
    "nedává nezávislý odhad toho, jak se bude náš model chovat na neznámých datech. Byl totiž vybrán tak, \n",
    "aby dával dobré výsledky na testovací množině. \n",
    "\n",
    "\n",
    "Testovací množina nám slouží jako odhad generalizačních schopností modelu. Neměla by ale být použita ani při učení,\n",
    "ani při výběru modelu. Část, kterou si oddělíme na \"testování\" pro účely výběru modelu, nazýváme správně \n",
    "**validační** množina. \n",
    "**Pozor:** Pokud jsme ale tuto validační množinu použili k výběru modelu, nesmíme ji používat k samotnému hodnocení generalizačních schopností tohoto modelu. \n",
    "\n",
    "A proto teď přichází opravdová testovací data, načtěte je ze souboru `fish_data_test.csv`. Pokud jsi při vytváření modelu data škálovala, nezapomeň stejně přeškálovat i tato data."
   ]
  },
  {
   "cell_type": "code",
   "execution_count": null,
   "metadata": {},
   "outputs": [],
   "source": [
    "test_data = pd.read_csv(\"fish_data_test.csv\", index_col=0)\n",
    "test_data = pd.get_dummies(test_data.drop(columns=[\"ID\"]))\n",
    "\n",
    "y_real_test = test_data[\"Weight\"]\n",
    "X_real_test = test_data.drop(columns=[\"Weight\"])\n",
    "\n",
    "#y_pred_test = best_model.predict(X_real_test)\n",
    "\n",
    "#print(f\"MAE {mean_absolute_error(y_real_test, y_pred_test):.3f}\")\n",
    "#print(f\"MSE {mean_squared_error(y_real_test, y_pred_test):.3f}\")\n"
   ]
  },
  {
   "cell_type": "code",
   "execution_count": null,
   "metadata": {},
   "outputs": [],
   "source": [
    "#for weight, predicted_weight in zip(y_real_test, y_pred_test):\n",
    "#    print(f\"{weight:>10.1f}     {predicted_weight:>10.1f}\")"
   ]
  },
  {
   "cell_type": "markdown",
   "metadata": {},
   "source": [
    "# Visualizace na závěr "
   ]
  },
  {
   "cell_type": "markdown",
   "metadata": {},
   "source": [
    "+ Pro představu si zobrazme závislost váhy ryby na délce Length3. Zobrazíme zvlášt pro různé druhy, tedy např. pro Pike a Roach.  "
   ]
  },
  {
   "cell_type": "code",
   "execution_count": null,
   "metadata": {},
   "outputs": [],
   "source": [
    "mam_hotovy_prechozi_kod = False\n",
    "if mam_hotovy_prechozi_kod:\n",
    "    is_pike = test_data[\"Species_Bream\"] == 1\n",
    "    pike = test_data[is_pike].sort_values(by=[\"Length3\"])\n",
    "    pike_weights = pike[\"Weight\"]\n",
    "    pike_length3 = pike[\"Length3\"]\n",
    "    X_pike = scaler.transform(pike.drop(columns=[\"Weight\"]))\n",
    "    \n",
    "    predicted_pike_weights = best_model.predict(X_pike)\n",
    "\n",
    "    is_roach = test_data[\"Species_Roach\"] == 1\n",
    "    roach = test_data[is_roach].sort_values(by=[\"Length3\"])\n",
    "    roach_weights = roach[\"Weight\"]\n",
    "    roach_length3 = roach[\"Length3\"]\n",
    "    X_roach = scaler.transform(roach.drop(columns=[\"Weight\"]))\n",
    "    \n",
    "    predicted_roach_weights = best_model.predict(X_roach)"
   ]
  },
  {
   "cell_type": "code",
   "execution_count": null,
   "metadata": {},
   "outputs": [],
   "source": [
    "import matplotlib.pyplot as plt \n",
    "\n",
    "if mam_hotovy_prechozi_kod:\n",
    "    fig, ax = plt.subplots(1, 2)\n",
    "\n",
    "    ax[0].scatter(pike_length3, pike_weights, label=\"true weight\");\n",
    "    ax[0].plot(pike_length3, predicted_pike_weights, label=\"prediction\");\n",
    "    ax[0].legend()\n",
    "\n",
    "    ax[1].scatter(roach_length3, roach_weights, label=\"true weight\");\n",
    "    ax[1].plot(roach_length3, predicted_roach_weights, label=\"prediction\");\n",
    "    ax[1].legend()"
   ]
  },
  {
   "cell_type": "code",
   "execution_count": null,
   "metadata": {},
   "outputs": [],
   "source": []
  }
 ],
 "metadata": {
  "kernelspec": {
   "display_name": "Python 3",
   "language": "python",
   "name": "python3"
  },
  "language_info": {
   "codemirror_mode": {
    "name": "ipython",
    "version": 3
   },
   "file_extension": ".py",
   "mimetype": "text/x-python",
   "name": "python",
   "nbconvert_exporter": "python",
   "pygments_lexer": "ipython3",
   "version": "3.6.8"
  }
 },
 "nbformat": 4,
 "nbformat_minor": 2
}
