{
 "cells": [
  {
   "cell_type": "markdown",
   "metadata": {},
   "source": [
    "# Strojové učení - úvod do regrese\n",
    "\n",
    "### Co bych měla po této hodině znát? \n",
    "\n",
    "\n",
    "- Úlohy, které řešíme pomocí strojového učení, nemívají **jedno** řešení.\n",
    "\n",
    "\n",
    "- Vzorky na, kterých model (říkali jsme mu *černá krabička*) učíme, samy o sobě nestačí k tomu, abychom mohli říci, zda model dobře funguje. Cílem není jen správná odezva na daných vzorech, ale také **generalizace**, t. j. schopnost správně predikovat odezvu v bodech, které jsme zatím neviděli. Kvalitu **generalizace** odhadneme pomocí vzorů, které při učení nebyly použity, říkáme jim **testovací množina**. Vzory, které při učení používáme, označujeme jako **trénovací**. \n",
    "\n",
    "\n",
    "- Testovací množina by měla být dostatečně reprezentativní. Nemáme-li jiné vodítko, vybereme testovací množinu **náhodným výběrem** z dat.   \n",
    "\n",
    "\n",
    "- K posouzení kvality řešení nám slouží **metriky**, seznámili jsme se základními metrikami pro regresi\n",
    "\n",
    "\n",
    "- Jsou-li v datech hodnoty, které evidentně nesouvisí s predikovanou odezvou (např. id, čísla řádek, apod.), nebudeme je zahrnovat mezi vstupní proměnné (**příznaky**). \n",
    "\n",
    "\n",
    "- Nepoužíváme kanón na vrabce. Máme-li přímý algoritmus na řešení problému, nebudeme používat strojové učení. \n",
    "\n",
    "\n",
    "- Pod pojmem **hyper-parametry** se skrývají parametry modelů, které můžeme sami nastavit. "
   ]
  }
 ],
 "metadata": {
  "kernelspec": {
   "display_name": "Python 3",
   "language": "python",
   "name": "python3"
  },
  "language_info": {
   "codemirror_mode": {
    "name": "ipython",
    "version": 3
   },
   "file_extension": ".py",
   "mimetype": "text/x-python",
   "name": "python",
   "nbconvert_exporter": "python",
   "pygments_lexer": "ipython3",
   "version": "3.6.8"
  }
 },
 "nbformat": 4,
 "nbformat_minor": 2
}
