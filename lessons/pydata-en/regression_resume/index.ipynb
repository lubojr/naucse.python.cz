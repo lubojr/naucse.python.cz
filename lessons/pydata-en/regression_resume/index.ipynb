{
 "cells": [
  {
   "cell_type": "markdown",
   "metadata": {},
   "source": [
    "# Machine learning - introduction to regression",
    "\n",
    "### What should I know after this class?",
    "\n",
    "\n",
    "- The tasks we solve with machine learning do not have ** one ** solution.",
    "\n",
    "\n",
    "- The samples on which we teach the model (we called it the * black box *) are not enough on their own to tell if the model works well. The goal is not only the correct response on the given patterns, but also ** generalization **, ie the ability to correctly predict the response at points we have not seen before. We estimate the quality of ** generalization ** using patterns that were not used in learning, we call them ** test set **. The patterns we use in learning are referred to as ** training **.",
    "\n",
    "\n",
    "- The test set should be sufficiently representative. If we have no other guide, we select the test set ** by random selection ** from the data.",
    "\n",
    "\n",
    "- ** metrics ** are used to assess the quality of the solution, we got acquainted with the basic metrics for regression",
    "\n",
    "\n",
    "- If there are values in the data that are obviously not related to the predicted response (eg id, line numbers, etc.), we will not include them among the input variables (** flags **).",
    "\n",
    "\n",
    "- We don&#39;t use a sparrow cannon. If we have a direct algorithm to solve the problem, we will not use machine learning.",
    "\n",
    "\n",
    "- The term ** hyper-parameters ** hides the parameters of the models, which we can set ourselves."
   ]
  }
 ],
 "metadata": {
  "kernelspec": {
   "display_name": "Python 3",
   "language": "python",
   "name": "python3"
  },
  "language_info": {
   "codemirror_mode": {
    "name": "ipython",
    "version": 3
   },
   "file_extension": ".py",
   "mimetype": "text/x-python",
   "name": "python",
   "nbconvert_exporter": "python",
   "pygments_lexer": "ipython3",
   "version": "3.6.8"
  }
 },
 "nbformat": 4,
 "nbformat_minor": 2
}