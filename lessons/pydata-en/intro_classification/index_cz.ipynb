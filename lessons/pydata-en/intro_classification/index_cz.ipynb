{
 "cells": [
  {
   "cell_type": "markdown",
   "metadata": {},
   "source": [
    "# Klasifikace \n",
    "\n",
    "\n",
    "Zatím jsme se zabývali jen regresními úlohami. Učení s učitelem ale zahrnuje dvě hlavní skupiny úloh - regresní úlohy a klasifikační úlohy. \n",
    "\n",
    "Zatímco u regresních úloh je výstupem modelu spojitá hodnota (float), \n",
    "v klasifikačních úlohách představuje výstup modelu indikátor třídy (label).\n",
    "\n",
    "Držme se našeho rybího trhu a ukažme si to na příkladu. Úloha predikovat váhu ryby byla regresní úloha, \n",
    "predikovali jsme spojitou hodnotu. \n",
    "Pokud budeme chtít predikovat druh ryby (Perch - *okoun*, Roach - *plotice*, Pike - *štika*, ...), jedná se o predikci kategorické hodnoty, tedy o klasifikaci.\n",
    "\n",
    "Klasifikační úlohy mají trochu jiné vlastnosti a logiku, než úlohy regresní, proto  existují modely přímo určené na takové úlohy. Říká se jim klasifikátory. \n",
    "\n",
    "Zkusíme se ale nejdřív podívat na úlohu klasifikace z pohledu, který už známe, tedy z pohledu krajiny."
   ]
  },
  {
   "cell_type": "markdown",
   "metadata": {},
   "source": [
    "![data](static/ryby.png)"
   ]
  },
  {
   "cell_type": "code",
   "execution_count": 1,
   "metadata": {},
   "outputs": [
    {
     "data": {
      "text/html": [
       "<div>\n",
       "<style scoped>\n",
       "    .dataframe tbody tr th:only-of-type {\n",
       "        vertical-align: middle;\n",
       "    }\n",
       "\n",
       "    .dataframe tbody tr th {\n",
       "        vertical-align: top;\n",
       "    }\n",
       "\n",
       "    .dataframe thead th {\n",
       "        text-align: right;\n",
       "    }\n",
       "</style>\n",
       "<table border=\"1\" class=\"dataframe\">\n",
       "  <thead>\n",
       "    <tr style=\"text-align: right;\">\n",
       "      <th></th>\n",
       "      <th>Species</th>\n",
       "      <th>Weight</th>\n",
       "      <th>Length1</th>\n",
       "      <th>Length2</th>\n",
       "      <th>Length3</th>\n",
       "      <th>Height</th>\n",
       "      <th>Width</th>\n",
       "      <th>ID</th>\n",
       "    </tr>\n",
       "  </thead>\n",
       "  <tbody>\n",
       "    <tr>\n",
       "      <th>0</th>\n",
       "      <td>Bream</td>\n",
       "      <td>242.0</td>\n",
       "      <td>23.2</td>\n",
       "      <td>25.4</td>\n",
       "      <td>30.0</td>\n",
       "      <td>11.5200</td>\n",
       "      <td>4.0200</td>\n",
       "      <td>0</td>\n",
       "    </tr>\n",
       "    <tr>\n",
       "      <th>1</th>\n",
       "      <td>Bream</td>\n",
       "      <td>290.0</td>\n",
       "      <td>24.0</td>\n",
       "      <td>26.3</td>\n",
       "      <td>31.2</td>\n",
       "      <td>12.4800</td>\n",
       "      <td>4.3056</td>\n",
       "      <td>1</td>\n",
       "    </tr>\n",
       "    <tr>\n",
       "      <th>2</th>\n",
       "      <td>Bream</td>\n",
       "      <td>340.0</td>\n",
       "      <td>23.9</td>\n",
       "      <td>26.5</td>\n",
       "      <td>31.1</td>\n",
       "      <td>12.3778</td>\n",
       "      <td>4.6961</td>\n",
       "      <td>2</td>\n",
       "    </tr>\n",
       "    <tr>\n",
       "      <th>3</th>\n",
       "      <td>Bream</td>\n",
       "      <td>363.0</td>\n",
       "      <td>26.3</td>\n",
       "      <td>29.0</td>\n",
       "      <td>33.5</td>\n",
       "      <td>12.7300</td>\n",
       "      <td>4.4555</td>\n",
       "      <td>3</td>\n",
       "    </tr>\n",
       "    <tr>\n",
       "      <th>4</th>\n",
       "      <td>Bream</td>\n",
       "      <td>430.0</td>\n",
       "      <td>26.5</td>\n",
       "      <td>29.0</td>\n",
       "      <td>34.0</td>\n",
       "      <td>12.4440</td>\n",
       "      <td>5.1340</td>\n",
       "      <td>4</td>\n",
       "    </tr>\n",
       "    <tr>\n",
       "      <th>...</th>\n",
       "      <td>...</td>\n",
       "      <td>...</td>\n",
       "      <td>...</td>\n",
       "      <td>...</td>\n",
       "      <td>...</td>\n",
       "      <td>...</td>\n",
       "      <td>...</td>\n",
       "      <td>...</td>\n",
       "    </tr>\n",
       "    <tr>\n",
       "      <th>153</th>\n",
       "      <td>Smelt</td>\n",
       "      <td>9.8</td>\n",
       "      <td>11.4</td>\n",
       "      <td>12.0</td>\n",
       "      <td>13.2</td>\n",
       "      <td>2.2044</td>\n",
       "      <td>1.1484</td>\n",
       "      <td>153</td>\n",
       "    </tr>\n",
       "    <tr>\n",
       "      <th>154</th>\n",
       "      <td>Smelt</td>\n",
       "      <td>12.2</td>\n",
       "      <td>11.5</td>\n",
       "      <td>12.2</td>\n",
       "      <td>13.4</td>\n",
       "      <td>2.0904</td>\n",
       "      <td>1.3936</td>\n",
       "      <td>154</td>\n",
       "    </tr>\n",
       "    <tr>\n",
       "      <th>155</th>\n",
       "      <td>Smelt</td>\n",
       "      <td>13.4</td>\n",
       "      <td>11.7</td>\n",
       "      <td>12.4</td>\n",
       "      <td>13.5</td>\n",
       "      <td>2.4300</td>\n",
       "      <td>1.2690</td>\n",
       "      <td>155</td>\n",
       "    </tr>\n",
       "    <tr>\n",
       "      <th>156</th>\n",
       "      <td>Smelt</td>\n",
       "      <td>12.2</td>\n",
       "      <td>12.1</td>\n",
       "      <td>13.0</td>\n",
       "      <td>13.8</td>\n",
       "      <td>2.2770</td>\n",
       "      <td>1.2558</td>\n",
       "      <td>156</td>\n",
       "    </tr>\n",
       "    <tr>\n",
       "      <th>158</th>\n",
       "      <td>Smelt</td>\n",
       "      <td>19.9</td>\n",
       "      <td>13.8</td>\n",
       "      <td>15.0</td>\n",
       "      <td>16.2</td>\n",
       "      <td>2.9322</td>\n",
       "      <td>1.8792</td>\n",
       "      <td>158</td>\n",
       "    </tr>\n",
       "  </tbody>\n",
       "</table>\n",
       "<p>123 rows × 8 columns</p>\n",
       "</div>"
      ],
      "text/plain": [
       "    Species  Weight  Length1  Length2  Length3   Height   Width   ID\n",
       "0     Bream   242.0     23.2     25.4     30.0  11.5200  4.0200    0\n",
       "1     Bream   290.0     24.0     26.3     31.2  12.4800  4.3056    1\n",
       "2     Bream   340.0     23.9     26.5     31.1  12.3778  4.6961    2\n",
       "3     Bream   363.0     26.3     29.0     33.5  12.7300  4.4555    3\n",
       "4     Bream   430.0     26.5     29.0     34.0  12.4440  5.1340    4\n",
       "..      ...     ...      ...      ...      ...      ...     ...  ...\n",
       "153   Smelt     9.8     11.4     12.0     13.2   2.2044  1.1484  153\n",
       "154   Smelt    12.2     11.5     12.2     13.4   2.0904  1.3936  154\n",
       "155   Smelt    13.4     11.7     12.4     13.5   2.4300  1.2690  155\n",
       "156   Smelt    12.2     12.1     13.0     13.8   2.2770  1.2558  156\n",
       "158   Smelt    19.9     13.8     15.0     16.2   2.9322  1.8792  158\n",
       "\n",
       "[123 rows x 8 columns]"
      ]
     },
     "execution_count": 1,
     "metadata": {},
     "output_type": "execute_result"
    }
   ],
   "source": [
    "# načeteme si data \n",
    "import pandas as pd \n",
    "import numpy as np \n",
    "np.random.seed(2020)  # nastavení náhodného klasifikátoru\n",
    "\n",
    "data = pd.read_csv(\"static/fish_data.csv\", index_col=0)\n",
    "data"
   ]
  },
  {
   "cell_type": "markdown",
   "metadata": {},
   "source": [
    "### Úkol 1: \n",
    "   \n",
    "Nejčastějším druhem ryby je *Perch (okoun)*. Naším cílem je vytvořit klasifikátor, který pro zadané míry (váha, různé délky a šířky) vrátí informaci, zda se jedná o okouna nebo jiný druh. (Máme tedy pro jednoduchost jen dvě třídy, **Perch** a **ostatní**.)\n",
    "\n",
    "+ Uměla bys tuto úlohu napasovat na krajinu? Co by mohly být souřadnice a co nadmořská výška? \n",
    "\n",
    "+ Pokud ses úspěšně poprala s předchozím dotazem, můžeš na klasifikaci použít některý z regresních modelů (ano, asi to nebude ideální, když jde o klasifikaci, ale zkusme nejdříve to, co již umíme). Co ale bude hodnota odezvy a jak ji budeme interpretovat? "
   ]
  },
  {
   "cell_type": "markdown",
   "metadata": {},
   "source": [
    " ## Klasifikační modely "
   ]
  },
  {
   "cell_type": "markdown",
   "metadata": {},
   "source": [
    "Přinášíme opět nějakou základní nabídku klasifikačních modelů:\n",
    "   \n",
    "+ [KNeighborsClassifier](https://scikit-learn.org/stable/modules/generated/sklearn.neighbors.KNeighborsClassifier.html#sklearn.neighbors.KNeighborsClassifier)\n",
    "\n",
    "+ [DecisionTreeClassifier](https://scikit-learn.org/stable/modules/generated/sklearn.tree.DecisionTreeClassifier.html#sklearn.tree.DecisionTreeClassifier)\n",
    "    \n",
    "+ [RandomForestClassifier](https://scikit-learn.org/stable/modules/generated/sklearn.ensemble.RandomForestClassifier.html#sklearn.ensemble.RandomForestClassifier)\n",
    "   - n_estimators, integer, optional (default=100)\n",
    "   \n",
    "+ [SVC](https://scikit-learn.org/stable/modules/generated/sklearn.svm.SVC.html#sklearn.svm.SVC)\n",
    "     - C, float, optional (default=1.0)\n",
    "     - kernelstring, optional (default=’rbf’)\n",
    "     \n",
    "+ [LogisticRegression](https://scikit-learn.org/stable/modules/generated/sklearn.linear_model.LogisticRegression.html#sklearn.linear_model.LogisticRegression)  \n"
   ]
  },
  {
   "cell_type": "markdown",
   "metadata": {},
   "source": [
    "### Úkol 2:\n",
    "Vyberete si jeden model a zkuste natrénovat na ryby.\n"
   ]
  },
  {
   "cell_type": "code",
   "execution_count": 2,
   "metadata": {},
   "outputs": [],
   "source": [
    "# připravme data\n",
    "y = data[\"Species\"] == \"Perch\"\n",
    "y = y.astype(int)\n",
    "X = data.drop(columns=[\"ID\", \"Species\"])"
   ]
  },
  {
   "cell_type": "code",
   "execution_count": 3,
   "metadata": {},
   "outputs": [],
   "source": [
    "# vezměme klasifikátor \n",
    "# můžeš změnit \n",
    "from sklearn.tree import DecisionTreeClassifier\n",
    "model = DecisionTreeClassifier()"
   ]
  },
  {
   "cell_type": "code",
   "execution_count": 4,
   "metadata": {},
   "outputs": [],
   "source": [
    "# rozdělme na trénovací a validační množinu\n",
    "from sklearn.model_selection import train_test_split \n",
    "X_train, X_test, y_train, y_test =  train_test_split(X, y, stratify=y)"
   ]
  },
  {
   "cell_type": "code",
   "execution_count": 5,
   "metadata": {},
   "outputs": [
    {
     "data": {
      "text/plain": [
       "DecisionTreeClassifier(ccp_alpha=0.0, class_weight=None, criterion='gini',\n",
       "                       max_depth=None, max_features=None, max_leaf_nodes=None,\n",
       "                       min_impurity_decrease=0.0, min_impurity_split=None,\n",
       "                       min_samples_leaf=1, min_samples_split=2,\n",
       "                       min_weight_fraction_leaf=0.0, presort='deprecated',\n",
       "                       random_state=None, splitter='best')"
      ]
     },
     "execution_count": 5,
     "metadata": {},
     "output_type": "execute_result"
    }
   ],
   "source": [
    "# natrénujte\n",
    "model.fit(X_train, y_train)"
   ]
  },
  {
   "cell_type": "code",
   "execution_count": 6,
   "metadata": {},
   "outputs": [],
   "source": [
    "# ohodnoťme validační množinu \n",
    "pred = model.predict(X_test) "
   ]
  },
  {
   "cell_type": "code",
   "execution_count": 7,
   "metadata": {},
   "outputs": [
    {
     "name": "stdout",
     "output_type": "stream",
     "text": [
      "Skutečná třída:  Predikce:\n",
      "0                0          OK\n",
      "0                0          OK\n",
      "0                0          OK\n",
      "0                0          OK\n",
      "0                0          OK\n",
      "0                0          OK\n",
      "1                1          OK\n",
      "0                0          OK\n",
      "1                1          OK\n",
      "0                0          OK\n",
      "0                0          OK\n",
      "1                0          X\n",
      "0                0          OK\n",
      "1                0          X\n",
      "0                0          OK\n",
      "1                0          X\n",
      "0                0          OK\n",
      "0                0          OK\n",
      "0                0          OK\n",
      "1                1          OK\n",
      "0                0          OK\n",
      "0                1          X\n",
      "0                1          X\n",
      "0                0          OK\n",
      "0                0          OK\n",
      "1                1          OK\n",
      "1                0          X\n",
      "1                1          OK\n",
      "1                1          OK\n",
      "1                1          OK\n",
      "0                0          OK\n",
      "Počet chyb: 6\n"
     ]
    }
   ],
   "source": [
    "print(\"Skutečná třída:  Predikce:\")\n",
    "for true, predicted in zip(y_test, pred):\n",
    "    print(f\"{true:<15}  {predicted:<10} {'OK' if true == predicted else 'X'}\")\n",
    "\n",
    "print(f\"Počet chyb: {sum(y_test != pred)}\")"
   ]
  },
  {
   "cell_type": "markdown",
   "metadata": {},
   "source": [
    "### Úkol 3:\n",
    "\n",
    "+ Asi je jasné, že regresní metriky se nám na klasifikační úlohy moc nehodí. Co bys použila jako metriku\n",
    " pro klasifikační úlohu? "
   ]
  },
  {
   "cell_type": "markdown",
   "metadata": {},
   "source": [
    "### Úkol 4: \n",
    "\n",
    " - Jedna z možností je porovnávat procento úspěšně klasifikovaných vzorů. V našem případě, to bude: "
   ]
  },
  {
   "cell_type": "code",
   "execution_count": 8,
   "metadata": {},
   "outputs": [
    {
     "name": "stdout",
     "output_type": "stream",
     "text": [
      "Úspěšnost: 80.65 %\n"
     ]
    }
   ],
   "source": [
    "print(f\"Úspěšnost: {100*sum(y_test == pred)/len(y_test):.2f} %\")"
   ]
  },
  {
   "cell_type": "markdown",
   "metadata": {},
   "source": [
    "Úspěšnost není úplně špatná, poznat druh ryby podle rozměrů není jendoduchá úloha.\n",
    "\n",
    "Představ si ale, že budeme mít v datovou množinu se 100 rybami, 95 z nich bude okounů (typu Perch). Bude ti klasifikátor, který bude mít toto procento úspěšnosti (stejné jako vyšlo nám), připadat dobrý nebo ne? Proč?   "
   ]
  },
  {
   "cell_type": "markdown",
   "metadata": {},
   "source": [
    "### Úkol 5: \n",
    "\n",
    "Nejprve projdeme klasifikační metriky. Pokud studuješ sama, nastuduj si kapitolu o klasifikačních metrikách a pak se vrať k tomuto cvičení. \n",
    "\n",
    "Vyber si metriku pro naši úlohu a zkus najít, co nejlepší klasifikátor. Pak si načti testovací množinu a podívej se, jaké tvůj klasifikátor dává výsledky."
   ]
  },
  {
   "cell_type": "code",
   "execution_count": 9,
   "metadata": {},
   "outputs": [],
   "source": [
    "# načtení data\n",
    "test_data = pd.read_csv(\"static/fish_data_test.csv\", index_col=0)\n",
    "y_real_test = test_data[\"Species\"] == \"Perch\"\n",
    "y_real_test = y_real_test.astype(int)\n",
    "X_real_test = test_data.drop(columns=[\"ID\", \"Species\"])"
   ]
  },
  {
   "cell_type": "code",
   "execution_count": 10,
   "metadata": {},
   "outputs": [
    {
     "data": {
      "text/plain": [
       "Ellipsis"
      ]
     },
     "execution_count": 10,
     "metadata": {},
     "output_type": "execute_result"
    }
   ],
   "source": [
    "# zkus naučit různé modely a vyber nejlepší\n",
    "from sklearn.neighbors import KNeighborsClassifier\n",
    "from sklearn.tree import DecisionTreeClassifier\n",
    "from sklearn.ensemble import RandomForestClassifier \n",
    "from sklearn.svm import SVC\n",
    "from sklearn.metrics import confusion_matrix\n",
    "\n",
    "# zkus naučit různé modely a vyber nejlepší\n",
    "models = {\n",
    "    \"nearest neighbors\": KNeighborsClassifier(),\n",
    "    \"tree\": DecisionTreeClassifier(),\n",
    "    \"forest\": RandomForestClassifier(),\n",
    "    \"svc\": SVC()\n",
    "}\n",
    "..."
   ]
  },
  {
   "cell_type": "code",
   "execution_count": 11,
   "metadata": {},
   "outputs": [],
   "source": [
    "# predikce\n",
    "# model = models[...]\n",
    "test_pred = model.predict(X_real_test)"
   ]
  },
  {
   "cell_type": "code",
   "execution_count": 12,
   "metadata": {},
   "outputs": [
    {
     "name": "stdout",
     "output_type": "stream",
     "text": [
      "Skutečná třída:  Predikce:\n",
      "0                0          OK\n",
      "0                0          OK\n",
      "0                0          OK\n",
      "0                0          OK\n",
      "0                0          OK\n",
      "0                1          X\n",
      "0                1          X\n",
      "0                1          X\n",
      "0                0          OK\n",
      "0                0          OK\n",
      "0                1          X\n",
      "0                1          X\n",
      "0                0          OK\n",
      "0                0          OK\n",
      "0                0          OK\n",
      "0                0          OK\n",
      "0                0          OK\n",
      "0                0          OK\n",
      "0                0          OK\n",
      "1                0          X\n",
      "1                0          X\n",
      "1                1          OK\n",
      "1                1          OK\n",
      "1                1          OK\n",
      "1                0          X\n",
      "1                1          OK\n",
      "1                1          OK\n",
      "1                1          OK\n",
      "1                0          X\n",
      "1                0          X\n",
      "1                0          X\n",
      "1                0          X\n",
      "1                0          X\n",
      "0                0          OK\n",
      "0                0          OK\n",
      "0                0          OK\n",
      "Počet chyb: 13\n",
      "Úspěšnost: 63.89 %\n"
     ]
    }
   ],
   "source": [
    "# zkus přidat zvolenou metriku\n",
    "print(f\"Skutečná třída:  Predikce:\")\n",
    "for true, predicted in zip(y_real_test, test_pred):\n",
    "    print(f\"{true:<15}  {predicted:<10} {'OK' if true == predicted else 'X'}\")\n",
    "\n",
    "print(f\"Počet chyb: {sum(y_real_test != test_pred)}\")\n",
    "print(f\"Úspěšnost: {100*sum(y_real_test == test_pred)/len(y_real_test):.2f} %\")"
   ]
  }
 ],
 "metadata": {
  "kernelspec": {
   "display_name": "Python 3",
   "language": "python",
   "name": "python3"
  },
  "language_info": {
   "codemirror_mode": {
    "name": "ipython",
    "version": 3
   },
   "file_extension": ".py",
   "mimetype": "text/x-python",
   "name": "python",
   "nbconvert_exporter": "python",
   "pygments_lexer": "ipython3",
   "version": "3.6.8"
  }
 },
 "nbformat": 4,
 "nbformat_minor": 2
}
