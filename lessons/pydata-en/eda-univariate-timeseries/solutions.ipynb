{
 "cells": [
  {
   "cell_type": "code",
   "execution_count": null,
   "metadata": {},
   "outputs": [],
   "source": [
    "%matplotlib inline"
   ]
  },
  {
   "cell_type": "code",
   "execution_count": null,
   "metadata": {},
   "outputs": [],
   "source": [
    "import pandas as pd\n",
    "import numpy as np"
   ]
  },
  {
   "cell_type": "code",
   "execution_count": null,
   "metadata": {},
   "outputs": [],
   "source": [
    "import seaborn as sns\n",
    "import matplotlib.pyplot as plt"
   ]
  },
  {
   "cell_type": "code",
   "execution_count": null,
   "metadata": {},
   "outputs": [],
   "source": [
    "def extract_and_clean_chmi_excel_sheet(excel_data, sheet_name):\n",
    "    \"\"\"Parse \u010cHM\u00da historical meteo excel data\"\"\"\n",
    "# load sheet from excel file and convert to tidy data format",
    "    data_tidy = (\n",
    "        excel_data.parse(sheet_name, skiprows=3)\n",
    ".melt (id_vars = [&quot;year&quot;, &quot;month&quot;], var_name = &quot;day&quot;, value_name = sheet_name)",
    ".dropna ()",
    "    )\n",
    "# create a time series of dates",
    "    datum = pd.to_datetime(\n",
    "data_tidy [[&quot;year&quot;, &quot;month&quot;, &quot;day&quot;]. rename (",
    "columns = {&quot;year&quot;: &quot;year&quot;, &quot;month&quot;: &quot;month&quot;, &quot;day&quot;: &quot;day&quot;}",
    "        )\n",
    "    )\n",
    "# add a date column as an index and remove the day, month, year and return a sorted result",
    "    return (\n",
    "data_tidy.assign (date = date)",
    "        .set_index(\"datum\")\n",
    ".drop (columns = [&quot;year&quot;, &quot;month&quot;, &quot;day&quot;])",
    "        .sort_index()\n",
    "    )"
   ]
  },
  {
   "cell_type": "code",
   "execution_count": null,
   "metadata": {},
   "outputs": [],
   "source": [
    "# open the Excel file",
    "excel_data_ruzyne = pd.ExcelFile(\"P1PRUZ01.xls\")\n",
    "# load all sheets except the first",
    "extracted_sheets = (\n",
    "    extract_and_clean_chmi_excel_sheet(excel_data_ruzyne, sheet_name)\n",
    "    for sheet_name in excel_data_ruzyne.sheet_names[1:]\n",
    ")\n",
    "# merge all sheets into one DataFrame",
    "ruzyne_tidy = pd.concat(extracted_sheets, axis=1)"
   ]
  },
  {
   "cell_type": "code",
   "execution_count": null,
   "metadata": {},
   "outputs": [],
   "source": [
    "leg_length = pd.DataFrame({\"left\": [81, 81.4], \"right\": [78.2, 78]})\n",
    "leg_length"
   ]
  },
  {
   "cell_type": "markdown",
   "metadata": {},
   "source": [
    "** Task: ** Does `leg_length` look like tidy data? If not, can you organize this data correctly?"
   ]
  },
  {
   "cell_type": "code",
   "execution_count": null,
   "metadata": {},
   "outputs": [],
   "source": [
    "leg_length.melt(value_name=\"leg length\", var_name=\"leg side\")"
   ]
  },
  {
   "cell_type": "markdown",
   "metadata": {},
   "source": [
    "** Task: ** `to_datetime` can also work with strings, which is often useful. Convert `ladies_times` to the appropriate type for time data, assign our time zone and then use` tz_convert` to convert to UTC. You may have to explain to the pandas that the dates in the Czech Republic are at first, unlike in America. Fortunately, one simple argument for `to_datetime` is enough."
   ]
  },
  {
   "cell_type": "code",
   "execution_count": null,
   "metadata": {},
   "outputs": [],
   "source": [
    "ladies_times = [\"23. 1. 2020 18:00\", \"30. 1. 2020 18:00\", \"6. 2. 2020 18:00\"]"
   ]
  },
  {
   "cell_type": "code",
   "execution_count": null,
   "metadata": {},
   "outputs": [],
   "source": [
    "pd.to_datetime(ladies_times, dayfirst=True).tz_localize(\"Europe/Prague\").tz_convert(\"UTC\")"
   ]
  },
  {
   "cell_type": "markdown",
   "metadata": {},
   "source": [
    "** Task: ** Include `dropna` in the construction of dates so that we do not have to use` errors = &quot;coerce&quot; `for` to_datetime`."
   ]
  },
  {
   "cell_type": "code",
   "execution_count": null,
   "metadata": {},
   "outputs": [],
   "source": [
    "# solution",
    "pd.to_datetime(\n",
    "average_tidy.dropna () [[&quot;year&quot;, &quot;month&quot;, &quot;day&quot;]].",
    "columns = {&quot;year&quot;: &quot;year&quot;, &quot;month&quot;: &quot;month&quot;, &quot;day&quot;: &quot;day&quot;}",
    "    ),\n",
    ")"
   ]
  },
  {
   "cell_type": "markdown",
   "metadata": {},
   "source": [
    "** Task **: Create `average_tidy_clean_indexed` with the` date` column as the index and without the `year`,` month` and `day` columns. You can use the `drop` method."
   ]
  },
  {
   "cell_type": "code",
   "execution_count": null,
   "metadata": {},
   "outputs": [],
   "source": [
    "# solution",
    "average_tidy_clean_indexed = average_tidy_set.set_index (&quot;date&quot;). drop (",
    "columns = [&quot;year&quot;, &quot;month&quot;, &quot;day&quot;]",
    ")"
   ]
  },
  {
   "cell_type": "markdown",
   "metadata": {},
   "source": [
    "** Task: ** What was the average temperature on the first (and only) Sunday in 2010, which was also the beginning of the month? If you have the solution and the time, try to come up with an alternative way (s)."
   ]
  },
  {
   "cell_type": "code",
   "execution_count": null,
   "metadata": {},
   "outputs": [],
   "source": [
    "# solution 1",
    "ruzyne_tidy.loc[\n",
    "    ruzyne_tidy.index.is_month_start\n",
    "    & (ruzyne_tidy.index.weekday == 6)\n",
    "    & (ruzyne_tidy.index.year == 2010),\n",
    "&quot;average temperature&quot;,",
    "]"
   ]
  },
  {
   "cell_type": "markdown",
   "metadata": {},
   "source": [
    "** Exercise **: Complete the creation of auxiliary columns (I&#39;m sure you&#39;ll guess what pandas-type it will be :) `season` and` significant_precipitation`. The first defines the season (simply according to the calendar months), the second indicates the days when the precipitation was higher than in ** 90% ** of all days in our data (you can try another limit).",
    "\n",
    "1. Compare numerically the basic statistics of the whole set data and the subset when it rained or snowed heavily? Do precipitation increase on average temperature?",
    "2. Use `sns.catplot` for a visual comparison of the distribution functions for different seasons and days with little / no precipitation."
   ]
  },
  {
   "cell_type": "code",
   "execution_count": null,
   "metadata": {},
   "outputs": [],
   "source": [
    "season = ruzyne_tidy.index.month.map({\n",
    "1: &quot;winter&quot;,",
    "2: &quot;winter&quot;,",
    "3: &quot;year&quot;,",
    "4: &quot;year&quot;,",
    "5: &quot;year&quot;,",
    "6: &quot;summer&quot;,",
    "7: &quot;summer&quot;,",
    "8: &quot;summer&quot;,",
    "9: &quot;autumn&quot;,",
    "10: &quot;autumn&quot;,",
    "11: &quot;autumn&quot;,",
    "12: &quot;winter&quot;,",
    "})\n",
    "\n",
    "significant_precipitation = ruzyne_tidy [&quot;total precipitation&quot;]&gt; ruzyne_tidy [&quot;total precipitation&quot;]. quantile (0.9)"
   ]
  },
  {
   "cell_type": "code",
   "execution_count": null,
   "metadata": {},
   "outputs": [],
   "source": [
    "(ruzyne_tidy.loc[significant_precipitation]\n",
    " .describe()\n",
    ") - \\\n",
    "ruzyne_tidy.describe()"
   ]
  },
  {
   "cell_type": "code",
   "execution_count": null,
   "metadata": {},
   "outputs": [],
   "source": [
    "(ruzyne_tidy.loc[significant_precipitation]\n",
    " .agg([\"mean\", \"max\", \"min\", \"std\"])\n",
    ") - \\\n",
    "ruzyne_tidy.agg([\"mean\", \"max\", \"min\", \"std\"])"
   ]
  },
  {
   "cell_type": "code",
   "execution_count": null,
   "metadata": {},
   "outputs": [],
   "source": [
    "sns.catplot(",
    "    data=ruzyne_tidy.assign(\n",
    "        significant_precipitation=significant_precipitation, \n",
    "        season=season,\n",
    "    ),\n",
    "    kind=\"box\",\n",
    "    aspect=2,\n",
    "    hue=\"significant_precipitation\",\n",
    "y = &quot;average temperature&quot;,",
    "    x=\"season\",\n",
    ");"
   ]
  },
  {
   "cell_type": "markdown",
   "metadata": {},
   "source": [
    "** Task: ** Design a suitable aggregation for maximum temperature (not average) and plot."
   ]
  },
  {
   "cell_type": "code",
   "execution_count": null,
   "metadata": {},
   "outputs": [],
   "source": [
    "# solution",
    "ruzyne_yearly [&quot;maximum temperature&quot;]. max (). plot ();"
   ]
  },
  {
   "cell_type": "markdown",
   "metadata": {},
   "source": [
    "** Task: ** Resample the data for 2018 by months. Which month had the most precipitation, ie for which the sum of the column &quot;total precipitation&quot; was the highest?"
   ]
  },
  {
   "cell_type": "code",
   "execution_count": null,
   "metadata": {},
   "outputs": [],
   "source": [
    "# solution",
    "ruzyne_tidy.loc [ruzyne_tidy.index.year == 2018, &quot;total precipitation&quot;].",
    "&quot;1M&quot;",
    ").sum().sort_values(ascending=False).index[0].month"
   ]
  },
  {
   "cell_type": "markdown",
   "metadata": {},
   "source": [
    "## TODO - repository of ideas"
   ]
  },
  {
   "cell_type": "markdown",
   "metadata": {},
   "source": [
    "* Breakdown on hot / cold days -&gt; cut?",
    "* What does the distribution feature look like on rainy days? What is the mean, median, Q1, Q3 and standard deviation.",
    "* How many days in a row has it rained the longest?",
    "\n",
    "...\n"
   ]
  },
  {
   "cell_type": "markdown",
   "metadata": {},
   "source": [
    "** Task (damages?): ** Load data ... * TODO prepare a schibami file * ..., where the missing data is marked as `# MEASUREMENT ERROR`. Only delete rows where the date is wrong. Then use `fillna` to replace the missing measurement with the last previous value."
   ]
  },
  {
   "cell_type": "code",
   "execution_count": null,
   "metadata": {},
   "outputs": [],
   "source": []
  },
  {
   "cell_type": "markdown",
   "metadata": {},
   "source": [
    "# ** TODO ** Homework",
    "\n",
    "* Check pranostiky: Medard&#39;s hood, ice men, choose a couple of your own, eg from https://www.meteocentrum.cz/zajimavosti/pranostiky/.",
    "* How many days have it rained / snowed the longest in a row? 1) In Ruzyn\u011b, 2) in all weather stations? How much did it not rain? And when was it?"
   ]
  },
  {
   "cell_type": "markdown",
   "metadata": {},
   "source": [
    "## Possible dates"
   ]
  },
  {
   "cell_type": "markdown",
   "metadata": {},
   "source": [
    "### Production of electricity"
   ]
  },
  {
   "cell_type": "code",
   "execution_count": null,
   "metadata": {},
   "outputs": [],
   "source": [
    "GENERATION_FILENAME = \"generation_2010.csv.gz\"\n",
    "GENERATION_URL = f\"https://data4pydata.s3-eu-west-1.amazonaws.com/pyladies/{GENERATION_FILENAME}\""
   ]
  },
  {
   "cell_type": "code",
   "execution_count": null,
   "metadata": {},
   "outputs": [],
   "source": [
    "save_file_from_url(GENERATION_URL, GENERATION_FILENAME)"
   ]
  },
  {
   "cell_type": "code",
   "execution_count": null,
   "metadata": {},
   "outputs": [],
   "source": [
    "generation_2010 = pd.read_csv(\"generation_2010.csv.gz\")"
   ]
  },
  {
   "cell_type": "code",
   "execution_count": null,
   "metadata": {},
   "outputs": [],
   "source": [
    "generation_2010.sample(10)"
   ]
  },
  {
   "cell_type": "markdown",
   "metadata": {},
   "source": [
    "### Electricity prices"
   ]
  },
  {
   "cell_type": "code",
   "execution_count": null,
   "metadata": {},
   "outputs": [],
   "source": [
    "import zipfile"
   ]
  },
  {
   "cell_type": "code",
   "execution_count": null,
   "metadata": {},
   "outputs": [],
   "source": [
    "def get_ote(year: int) -> pd.DataFrame:\n",
    "filename = f &quot;Rocni_zprava_o_trhu_ {year} _V2.zip&quot;",
    "    url = f\"https://data4pydata.s3-eu-west-1.amazonaws.com/pyladies/{filename}\"\n",
    "    save_file_from_url(url, filename)\n",
    "    with zipfile.ZipFile(filename) as archive:\n",
    "        with archive.open(archive.namelist()[0]) as xls_file:\n",
    "            ote_data = pd.read_excel(\n",
    "                xls_file, sheet_name=\"DT \u010cR\", usecols=\"A:K\", header=5\n",
    "            )\n",
    "\n",
    "    return ote_data"
   ]
  },
  {
   "cell_type": "code",
   "execution_count": null,
   "metadata": {},
   "outputs": [],
   "source": [
    "ote_2018 = get_ote(2010)"
   ]
  },
  {
   "cell_type": "code",
   "execution_count": null,
   "metadata": {},
   "outputs": [],
   "source": [
    "ote_2018.sample(10)"
   ]
  },
  {
   "cell_type": "markdown",
   "metadata": {},
   "source": [
    "** Tasks: **",
    "\n",
    "* Convert to the correct time in the &quot;Europe / Prague&quot; time zone.",
    "* Merge files",
    "* How do average and maximum prices differ in calendar days? Is a day significantly cheaper?",
    "\n",
    "**EVERYTHING**"
   ]
  },
  {
   "cell_type": "code",
   "execution_count": null,
   "metadata": {},
   "outputs": [],
   "source": []
  }
 ],
 "metadata": {
  "kernelspec": {
   "display_name": "Python 3",
   "language": "python",
   "name": "python3"
  },
  "language_info": {
   "codemirror_mode": {
    "name": "ipython",
    "version": 3
   },
   "file_extension": ".py",
   "mimetype": "text/x-python",
   "name": "python",
   "nbconvert_exporter": "python",
   "pygments_lexer": "ipython3",
   "version": "3.7.6"
  }
 },
 "nbformat": 4,
 "nbformat_minor": 4
}