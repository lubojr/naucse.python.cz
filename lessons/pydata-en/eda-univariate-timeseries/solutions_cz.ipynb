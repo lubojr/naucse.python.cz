{
 "cells": [
  {
   "cell_type": "code",
   "execution_count": null,
   "metadata": {},
   "outputs": [],
   "source": [
    "%matplotlib inline"
   ]
  },
  {
   "cell_type": "code",
   "execution_count": null,
   "metadata": {},
   "outputs": [],
   "source": [
    "import pandas as pd\n",
    "import numpy as np"
   ]
  },
  {
   "cell_type": "code",
   "execution_count": null,
   "metadata": {},
   "outputs": [],
   "source": [
    "import seaborn as sns\n",
    "import matplotlib.pyplot as plt"
   ]
  },
  {
   "cell_type": "code",
   "execution_count": null,
   "metadata": {},
   "outputs": [],
   "source": [
    "def extract_and_clean_chmi_excel_sheet(excel_data, sheet_name):\n",
    "    \"\"\"Parse ČHMÚ historical meteo excel data\"\"\"\n",
    "    # načti list z excel souboru a převeď na tidy data formát\n",
    "    data_tidy = (\n",
    "        excel_data.parse(sheet_name, skiprows=3)\n",
    "        .melt(id_vars=[\"rok\", \"měsíc\"], var_name=\"den\", value_name=sheet_name)\n",
    "        .dropna()\n",
    "    )\n",
    "    # vytvoř časovou řadu datumů\n",
    "    datum = pd.to_datetime(\n",
    "        data_tidy[[\"rok\", \"měsíc\", \"den\"]].rename(\n",
    "            columns={\"rok\": \"year\", \"měsíc\": \"month\", \"den\": \"day\"}\n",
    "        )\n",
    "    )\n",
    "    # přidej sloupec datum jako index a odstraň den, měsíc, rok a vrať setříděný výsledek\n",
    "    return (\n",
    "        data_tidy.assign(datum=datum)\n",
    "        .set_index(\"datum\")\n",
    "        .drop(columns=[\"rok\", \"měsíc\", \"den\"])\n",
    "        .sort_index()\n",
    "    )"
   ]
  },
  {
   "cell_type": "code",
   "execution_count": null,
   "metadata": {},
   "outputs": [],
   "source": [
    "# otevři Excel soubor\n",
    "excel_data_ruzyne = pd.ExcelFile(\"P1PRUZ01.xls\")\n",
    "# načti všechny listy kromě prvního\n",
    "extracted_sheets = (\n",
    "    extract_and_clean_chmi_excel_sheet(excel_data_ruzyne, sheet_name)\n",
    "    for sheet_name in excel_data_ruzyne.sheet_names[1:]\n",
    ")\n",
    "# spoj všechny listy do jednoho DataFrame\n",
    "ruzyne_tidy = pd.concat(extracted_sheets, axis=1)"
   ]
  },
  {
   "cell_type": "code",
   "execution_count": null,
   "metadata": {},
   "outputs": [],
   "source": [
    "leg_length = pd.DataFrame({\"left\": [81, 81.4], \"right\": [78.2, 78]})\n",
    "leg_length"
   ]
  },
  {
   "cell_type": "markdown",
   "metadata": {},
   "source": [
    "**Úkol:** Má `leg_length` podobu tidy data? Pokud ne, dokážeš tato data uspořádat správně?"
   ]
  },
  {
   "cell_type": "code",
   "execution_count": null,
   "metadata": {},
   "outputs": [],
   "source": [
    "leg_length.melt(value_name=\"leg length\", var_name=\"leg side\")"
   ]
  },
  {
   "cell_type": "markdown",
   "metadata": {},
   "source": [
    "**Úkol:** `to_datetime` dokáže pracovat i s řetězci, což se často hodí. Převeďte `ladies_times` na vohodný typ pro časové údaje, přiřaďte naši časovou zónu a poté pomocí `tz_convert` převeďte na UTC. Možná budete muset pandám vysvětlit, že v Česku jsou v datumech nejdříve dny, na rozdíl třeba od Ameriky. Naštěstí na to stačí jeden jednoduchý argument pro `to_datetime`."
   ]
  },
  {
   "cell_type": "code",
   "execution_count": null,
   "metadata": {},
   "outputs": [],
   "source": [
    "ladies_times = [\"23. 1. 2020 18:00\", \"30. 1. 2020 18:00\", \"6. 2. 2020 18:00\"]"
   ]
  },
  {
   "cell_type": "code",
   "execution_count": null,
   "metadata": {},
   "outputs": [],
   "source": [
    "pd.to_datetime(ladies_times, dayfirst=True).tz_localize(\"Europe/Prague\").tz_convert(\"UTC\")"
   ]
  },
  {
   "cell_type": "markdown",
   "metadata": {},
   "source": [
    "**Úkol:** Zařaďte `dropna` do sestrojení datumů tak, abychom nemuseli použít `errors=\"coerce\"` pro `to_datetime`."
   ]
  },
  {
   "cell_type": "code",
   "execution_count": null,
   "metadata": {},
   "outputs": [],
   "source": [
    "# řešení\n",
    "pd.to_datetime(\n",
    "    teplota_prumerna_tidy.dropna()[[\"rok\", \"měsíc\", \"den\"]].rename(\n",
    "        columns={\"rok\": \"year\", \"měsíc\": \"month\", \"den\": \"day\"}\n",
    "    ),\n",
    ")"
   ]
  },
  {
   "cell_type": "markdown",
   "metadata": {},
   "source": [
    "**Úkol**: Vytvořte `teplota_prumerna_tidy_clean_indexed` se sloupcem `datum` jako indexem a bez sloupců `rok`, `měsíc` a `den`. Můžete použít metodu `drop`."
   ]
  },
  {
   "cell_type": "code",
   "execution_count": null,
   "metadata": {},
   "outputs": [],
   "source": [
    "# řešení\n",
    "teplota_prumerna_tidy_clean_indexed = teplota_prumerna_tidy.set_index(\"datum\").drop(\n",
    "    columns=[\"rok\", \"měsíc\", \"den\"]\n",
    ")"
   ]
  },
  {
   "cell_type": "markdown",
   "metadata": {},
   "source": [
    "**Úkol:** Jaká byla průměrná teplota první (a jedinou) neděli v roce 2010, která byla zároveň začátkem měsíce? Pokud máte řešení a čas, zkuste vymyslet aternativní způsob(y). "
   ]
  },
  {
   "cell_type": "code",
   "execution_count": null,
   "metadata": {},
   "outputs": [],
   "source": [
    "# řešení 1\n",
    "ruzyne_tidy.loc[\n",
    "    ruzyne_tidy.index.is_month_start\n",
    "    & (ruzyne_tidy.index.weekday == 6)\n",
    "    & (ruzyne_tidy.index.year == 2010),\n",
    "    \"teplota průměrná\",\n",
    "]"
   ]
  },
  {
   "cell_type": "markdown",
   "metadata": {},
   "source": [
    "**Cvičení**: Doplňte vytvoření pomocných sloupců (jistě uhádnete jakého pandas-typu bude :) `season` a `significant_precipitation`. První definuje roční období (jen jednoduše podle kalendářních měsíců), drůhá označuje dny kdy byly srážky vyšší než v **90 %** všech dní v našich datech (můžete zkusit i jiný limit).\n",
    "\n",
    "1. Porovnejte numericky základní statistiky celého data setu a podmnožiny, kdy výrazně pršelo nebo sněžilo? Zvyšují v průměru srážky teplotu?\n",
    "2. Použijte `sns.catplot` pro vizuální srovnící distribučních funkcí pro jednotlivá roční období a dny s málo / hodně srážkami."
   ]
  },
  {
   "cell_type": "code",
   "execution_count": null,
   "metadata": {},
   "outputs": [],
   "source": [
    "season = ruzyne_tidy.index.month.map({\n",
    "    1: \"zima\",\n",
    "    2: \"zima\",\n",
    "    3: \"jaro\",\n",
    "    4: \"jaro\",\n",
    "    5: \"jaro\",\n",
    "    6: \"léto\",\n",
    "    7: \"léto\",\n",
    "    8: \"léto\",\n",
    "    9: \"podzim\",\n",
    "    10: \"podzim\",\n",
    "    11: \"podzim\",\n",
    "    12: \"zima\",\n",
    "})\n",
    "\n",
    "significant_precipitation = ruzyne_tidy[\"úhrn srážek\"] > ruzyne_tidy[\"úhrn srážek\"].quantile(0.9)"
   ]
  },
  {
   "cell_type": "code",
   "execution_count": null,
   "metadata": {},
   "outputs": [],
   "source": [
    "(ruzyne_tidy.loc[significant_precipitation]\n",
    " .describe()\n",
    ") - \\\n",
    "ruzyne_tidy.describe()"
   ]
  },
  {
   "cell_type": "code",
   "execution_count": null,
   "metadata": {},
   "outputs": [],
   "source": [
    "(ruzyne_tidy.loc[significant_precipitation]\n",
    " .agg([\"mean\", \"max\", \"min\", \"std\"])\n",
    ") - \\\n",
    "ruzyne_tidy.agg([\"mean\", \"max\", \"min\", \"std\"])"
   ]
  },
  {
   "cell_type": "code",
   "execution_count": null,
   "metadata": {},
   "outputs": [],
   "source": [
    "sns.catplot(\n",
    "    data=ruzyne_tidy.assign(\n",
    "        significant_precipitation=significant_precipitation, \n",
    "        season=season,\n",
    "    ),\n",
    "    kind=\"box\",\n",
    "    aspect=2,\n",
    "    hue=\"significant_precipitation\",\n",
    "    y=\"teplota průměrná\",\n",
    "    x=\"season\",\n",
    ");"
   ]
  },
  {
   "cell_type": "markdown",
   "metadata": {},
   "source": [
    "**Úkol:** Navrhněte vhodnou agregaci pro maximální teplotu (ne průměr) a vykreslete."
   ]
  },
  {
   "cell_type": "code",
   "execution_count": null,
   "metadata": {},
   "outputs": [],
   "source": [
    "# řešení\n",
    "ruzyne_yearly[\"teplota maximální\"].max().plot();"
   ]
  },
  {
   "cell_type": "markdown",
   "metadata": {},
   "source": [
    "**Úkol:** Převzorkujte údaje za rok 2018 po měsících. Jaký měsíc měl nejvíc srážek, tj. za jaký byl součet sloupce \"úhrn srážek\" nejvyšší?"
   ]
  },
  {
   "cell_type": "code",
   "execution_count": null,
   "metadata": {},
   "outputs": [],
   "source": [
    "# řešení\n",
    "ruzyne_tidy.loc[ruzyne_tidy.index.year == 2018, \"úhrn srážek\"].resample(\n",
    "    \"1M\"\n",
    ").sum().sort_values(ascending=False).index[0].month"
   ]
  },
  {
   "cell_type": "markdown",
   "metadata": {},
   "source": [
    "## TODO - skladiště nápadů"
   ]
  },
  {
   "cell_type": "markdown",
   "metadata": {},
   "source": [
    "* Rozdělení na horké / studené dny -> cut?\n",
    "* Jak vypadá rozdělovací funkce pro dny kdy pršelo? Jaká je střední hodnota, medián, Q1, Q3 a směrodatná odchylka.\n",
    "* Kolik dní za sebou nejdéle pršelo?\n",
    "\n",
    "...\n"
   ]
  },
  {
   "cell_type": "markdown",
   "metadata": {},
   "source": [
    "**Úkol (damácí?):** Načtěte data ... *TODO připravit soubor schibami* ..., kde jsou chybějící data označena jako `#CHYBA MĚŘENÍ`. Odstraňte pouze řádky, kde je špatné datum. Pomocí `fillna` pak nahraďte chybějící měření poslední předchozí hodnotou."
   ]
  },
  {
   "cell_type": "code",
   "execution_count": null,
   "metadata": {},
   "outputs": [],
   "source": []
  },
  {
   "cell_type": "markdown",
   "metadata": {},
   "source": [
    "# **TODO** Domácí úkoly\n",
    "\n",
    "* Ověřit pranostiky: Medardova kápě, ledoví muži, vyberte si pár vlastních, např. z https://www.meteocentrum.cz/zajimavosti/pranostiky/.\n",
    "* Kolik dní v kuse nejdéle pršelo / sněžilo? 1) V Ruzyni, 2) ve všech meteostanicích? Kolik naopak nepršelo? A kdy to bylo?"
   ]
  },
  {
   "cell_type": "markdown",
   "metadata": {},
   "source": [
    "## Možná data"
   ]
  },
  {
   "cell_type": "markdown",
   "metadata": {},
   "source": [
    "### Výroba elektřiny"
   ]
  },
  {
   "cell_type": "code",
   "execution_count": null,
   "metadata": {},
   "outputs": [],
   "source": [
    "GENERATION_FILENAME = \"generation_2010.csv.gz\"\n",
    "GENERATION_URL = f\"https://data4pydata.s3-eu-west-1.amazonaws.com/pyladies/{GENERATION_FILENAME}\""
   ]
  },
  {
   "cell_type": "code",
   "execution_count": null,
   "metadata": {},
   "outputs": [],
   "source": [
    "save_file_from_url(GENERATION_URL, GENERATION_FILENAME)"
   ]
  },
  {
   "cell_type": "code",
   "execution_count": null,
   "metadata": {},
   "outputs": [],
   "source": [
    "generation_2010 = pd.read_csv(\"generation_2010.csv.gz\")"
   ]
  },
  {
   "cell_type": "code",
   "execution_count": null,
   "metadata": {},
   "outputs": [],
   "source": [
    "generation_2010.sample(10)"
   ]
  },
  {
   "cell_type": "markdown",
   "metadata": {},
   "source": [
    "### Ceny elektřiny"
   ]
  },
  {
   "cell_type": "code",
   "execution_count": null,
   "metadata": {},
   "outputs": [],
   "source": [
    "import zipfile"
   ]
  },
  {
   "cell_type": "code",
   "execution_count": null,
   "metadata": {},
   "outputs": [],
   "source": [
    "def get_ote(year: int) -> pd.DataFrame:\n",
    "    filename = f\"Rocni_zprava_o_trhu_{year}_V2.zip\"\n",
    "    url = f\"https://data4pydata.s3-eu-west-1.amazonaws.com/pyladies/{filename}\"\n",
    "    save_file_from_url(url, filename)\n",
    "    with zipfile.ZipFile(filename) as archive:\n",
    "        with archive.open(archive.namelist()[0]) as xls_file:\n",
    "            ote_data = pd.read_excel(\n",
    "                xls_file, sheet_name=\"DT ČR\", usecols=\"A:K\", header=5\n",
    "            )\n",
    "\n",
    "    return ote_data"
   ]
  },
  {
   "cell_type": "code",
   "execution_count": null,
   "metadata": {},
   "outputs": [],
   "source": [
    "ote_2018 = get_ote(2010)"
   ]
  },
  {
   "cell_type": "code",
   "execution_count": null,
   "metadata": {},
   "outputs": [],
   "source": [
    "ote_2018.sample(10)"
   ]
  },
  {
   "cell_type": "markdown",
   "metadata": {},
   "source": [
    "**Úlohy:**\n",
    "\n",
    "* Převeďte na správný čas v časové zóně \"Europe/Prague\".\n",
    "* Spojit soubory\n",
    "* Jak se liší průměrné a maximální ceny v kalendářních dnech? Je nějaký den výrazně levnější?\n",
    "\n",
    "**TODO**"
   ]
  },
  {
   "cell_type": "code",
   "execution_count": null,
   "metadata": {},
   "outputs": [],
   "source": []
  }
 ],
 "metadata": {
  "kernelspec": {
   "display_name": "Python 3",
   "language": "python",
   "name": "python3"
  },
  "language_info": {
   "codemirror_mode": {
    "name": "ipython",
    "version": 3
   },
   "file_extension": ".py",
   "mimetype": "text/x-python",
   "name": "python",
   "nbconvert_exporter": "python",
   "pygments_lexer": "ipython3",
   "version": "3.7.6"
  }
 },
 "nbformat": 4,
 "nbformat_minor": 4
}
