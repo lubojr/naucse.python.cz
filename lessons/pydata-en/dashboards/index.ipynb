{
 "cells": [
  {
   "cell_type": "markdown",
   "metadata": {},
   "source": [
    "*Na naucse.python.cz bohužel nefunguje zobrazování interaktivních plotly grafů. Pro zobrazení včetně grafů můžeš použít nbviewer: https://nbviewer.jupyter.org/github/coobas/pydataladies-dashboard/blob/main/notebooks/dashboardy-1.ipynb nebo si notebook pustit lokálně. Všechny soubory pohromadě najdeš v repozitáři https://github.com/coobas/pydataladies-dashboard.*\n",
    "\n",
    "\n",
    "# Interaktivní vizualizace a aplikace\n",
    "\n",
    "Při práci s daty je mnoho příležitostí, kdy se hodí interaktivita. Při vizualici se hodí zvětšování / změnšování měřítka, výběr podoblasti, ukázání vykreslených hodnot apod. Nebo při datové anlýze obecně se může hodit interaktivně v notebooku měnit nějaký parametr (třeba hyperparametr pro strojové učení). Anebo chceme dát výsledky naší skvělé analýzy k dispozici \"netechnickým\" kolegům nebo kamarádům, kteří (zatím) nedokáží Jupyter notebook spustit.\n",
    "\n",
    "Tady si ukážeme, jak si s takovými úkoly poradit pomocí dvou nástrojů: [plotly](https://plotly.com/python/), resp. především [plotly express](https://plotly.com/python/plotly-express/), a [streamlit](https://www.streamlit.io/).\n",
    "\n",
    "Existují i další nástroje, které poskytují podobné možnosti. Podrobný přehled najdete na https://pyviz.org/tools.html.  Na interaktivní vizualizace jsou to především [holoviews](http://github.com/pyviz/holoviews) nebo [altair](http://github.com/altair-viz/altair). Na \"dashboarding\" pak [dash](http://github.com/plotly/dash), [panel](https://panel.holoviz.org/), [voila](http://github.com/QuantStack/voila) nebo [justpy](https://justpy.io).\n",
    "\n",
    "Každý z těchto nástrojů má, jako obvykle, své výhody a nevýhody. Nejrozšířenějším nástrojem je [Dash](http://github.com/plotly/dash) ze stejné dílny jako plotly, který poskytuje i enterprise řešení pro provoz aplikací. Dash je určitě dobrou volbou, jak se můžete dozvědět i na [přednášce z pražského PyData Meetupu](https://www.youtube.com/watch?v=dewrzMPPLDU). Panel (a také Voila) se od Dash liší tím, že je lze použít i v Jupyter notebooku a pak notebook použít přímo jako aplikaci. Největší přednost `voila` je jednoduchý způsob, jak udělat dashboard přímo z notebooku: viz [dokumentace](https://voila.readthedocs.io/en/stable/using.html).\n",
    "\n",
    "Dvě největší výhody Streamlitu jsou rychlost (jednoduchost) vývoje aplikace a atraktivní výchozí vzhled.\n",
    "\n",
    "Pár článků či přednášek, které se tématu týkají:\n",
    "* [Going beyond Jupyter notebooks](https://www.intelligencerefinery.io/post/making-python-apps/)\n",
    "* [How to Build a Reporting Dashboard using Dash and Plotly](https://towardsdatascience.com/how-to-build-a-complex-reporting-dashboard-using-dash-and-plotl-4f4257c18a7f)\n",
    "* [Turn any Notebook into a Deployable Dashboard | SciPy 2019 | James Bednar](https://www.youtube.com/watch?v=L91rd1D6XTA)\n"
   ]
  },
  {
   "cell_type": "markdown",
   "metadata": {},
   "source": [
    "## Pro a proti\n",
    "\n",
    "Je potřeba ale říct, že všechny zmíněné přístupy mají své výrazné nevýhody a limity a nehodí se pro velké a složité aplikace. Možnosti interakcí v aplikaci jsou omezené a také mohou být pomalé. Robustní škálování pro mnoho uživatelů (velký provoz) je obecně složitější. Kdy tedy především použít, co si tady ukážeme?\n",
    "* Na malou aplikaci pro omezený počet uživatelů (dashboard pro kolegy).\n",
    "* Na rychlý vývoj prototypu.\n",
    "\n",
    "A co když chceme budovat velkou (webovou) aplikaci?\n",
    "* Zadáme vývojářskému týmu, aby v moderních JavaScript nástrojích typu React nebo Vue.js pro nás vytvořil krásný a rychlý \"front-end\", zatímco my vytvoříme v Pythonu \"back-end\", který s front-endem bude komunikovat např. pomocí JSON API. To uvidíme i v naší lekci o API.\n",
    "* Když takový tým nemáme, naučíme se programovat v JavaScriptu ... Ne, raději v TypeScriptu ...\n",
    "* ... raději najmeme ten vývojářský tým :-)\n"
   ]
  },
  {
   "cell_type": "markdown",
   "metadata": {},
   "source": [
    "## Instalace a import grafických knihoven\n",
    "\n",
    "Pokud nemáte nainstalovanou knihovnu plotly, odkomentujte a spusťte příslušné řádky."
   ]
  },
  {
   "cell_type": "code",
   "execution_count": null,
   "metadata": {},
   "outputs": [],
   "source": [
    "# instalace plotly\n",
    "# %pip install plotly"
   ]
  },
  {
   "cell_type": "markdown",
   "metadata": {},
   "source": [
    "Pro plotly express se vžila zkratka `px`, kterou použijeme i my. "
   ]
  },
  {
   "cell_type": "code",
   "execution_count": null,
   "metadata": {},
   "outputs": [],
   "source": [
    "import plotly.express as px"
   ]
  },
  {
   "cell_type": "markdown",
   "metadata": {},
   "source": [
    "## Interaktivní vizualizace dat\n",
    "\n",
    "Pojďme si zkusit trochu více prohlédnout data, se kterými jsme pracovali v předchozích lekcích na strojové učení."
   ]
  },
  {
   "cell_type": "markdown",
   "metadata": {},
   "source": [
    "### Rybí míry\n",
    "\n",
    "Začněme rozměry ryb, na kterých jsme ukazovali regresi a klasifikaci. Určitě stojí za to si data nejprve trochu prohlédnout. (Jen si asi nenakreslíme přímo vzhled ryb, na to nám data nestačí :)"
   ]
  },
  {
   "cell_type": "code",
   "execution_count": null,
   "metadata": {},
   "outputs": [],
   "source": [
    "import pandas as pd"
   ]
  },
  {
   "cell_type": "code",
   "execution_count": null,
   "metadata": {},
   "outputs": [],
   "source": [
    "fish_data = pd.read_csv(\"fish_data.csv\", index_col=0)"
   ]
  },
  {
   "cell_type": "markdown",
   "metadata": {},
   "source": [
    "A místo klasického zobrazování čísel si zkusíme rovnou data vykreslit do grafu. Víme (tušíme), že v datech je spousta sloupců. Můžeme si je nechat vykreslit všechny pomocí `scatter_matrix`."
   ]
  },
  {
   "cell_type": "code",
   "execution_count": null,
   "metadata": {},
   "outputs": [],
   "source": [
    "px.scatter_matrix(fish_data)"
   ]
  },
  {
   "cell_type": "markdown",
   "metadata": {},
   "source": [
    "To vůbec není špatné na prvotní orientaci. Už teď je vidět, že tam máme kategorickou proměnnou Species, nějaké spojité proměnné s rozměry a nepodstatné ID. Vidíme také, že některé proměnné spolu hodně korelují. \n",
    "\n",
    "Už teď bychom mohli využít interaktivních prvků: zkuste si najet kurzorem na body v grafu nebo použít nástroje na změnu měřítka nebo výběr dat, které se zobrazí v pravém horním rohu. Ještě lepší bude ale trochu graf zlepšit: Zahodit ID a druhy si označit barvou."
   ]
  },
  {
   "cell_type": "code",
   "execution_count": null,
   "metadata": {},
   "outputs": [],
   "source": [
    "px.scatter_matrix(\n",
    "    fish_data,\n",
    "    dimensions=[\"Weight\", \"Length1\", \"Length2\", \"Length3\", \"Height\", \"Width\"],\n",
    "    color=\"Species\",\n",
    "    opacity=1,\n",
    "    hover_data=[\"Species\"],\n",
    ")"
   ]
  },
  {
   "cell_type": "markdown",
   "metadata": {},
   "source": [
    "Tady nám kromě barevnosti přibyla vpravo legenda. A dokonce legenda interaktivní! Jednoduchým kliknutím můžeme schovat / zobrazit jednotlivé kategorie, dvouklikem můžeme zobrazit jen jednu kategorii. Zkuste si to! Užitečné může být i vybírání dat - Box Select nebo Lasso Select. "
   ]
  },
  {
   "cell_type": "markdown",
   "metadata": {},
   "source": [
    "**Úkol:** Použijte pro barvu sloupec Weight, symboly udělejte částečně průhledné pomocí argumentu `opacity` (rozsah 0 - 1) a v legendě, zobrazované, když se najede kurzorem na určitý bod, nechť se zobrzují všechny sloupce (pomůže argument `hover_data`)."
   ]
  },
  {
   "cell_type": "markdown",
   "metadata": {},
   "source": [
    "Když se pak chceme třeba podívat na statistické vlastnosti jedné konkrétní proměnné (sloupce), můžeme použít některou z funkcí na zobrazení rozdělovací funkce, resp. některých jejích vlastností (momentů).\n",
    "\n",
    "Začít můžeme poměrně častým box plotem. Bonus plotly je hlavně v interaktivním zobrazení číselných hodnot: mediánu a kvantilů, a také identifikaci (pravděpodobně) odlehlých hodnot."
   ]
  },
  {
   "cell_type": "code",
   "execution_count": null,
   "metadata": {},
   "outputs": [],
   "source": [
    "px.box(fish_data, x=\"Species\", color=\"Species\", y=\"Height\", points=\"all\", notched=False)"
   ]
  },
  {
   "cell_type": "code",
   "execution_count": null,
   "metadata": {},
   "outputs": [],
   "source": [
    "px.histogram(fish_data, color=\"Species\", x=\"Height\", opacity=0.5)"
   ]
  },
  {
   "cell_type": "markdown",
   "metadata": {},
   "source": [
    "Pro zobrazení vztahu dvou proměnných může být ještě užitečné podívat se na hustotu bodů v ploše pomocí kontur. U tohoto grafu můžeme po stranách zobrazit i tzv. marginální rozdělení: nejpravděpodobnější rozdělení jedné proměnné v závislosti na druhé."
   ]
  },
  {
   "cell_type": "code",
   "execution_count": null,
   "metadata": {},
   "outputs": [],
   "source": [
    "px.density_contour(\n",
    "    fish_data,\n",
    "    color=\"Species\",\n",
    "    x=\"Height\",\n",
    "    y=\"Length3\",\n",
    "    marginal_x=\"histogram\",\n",
    "    marginal_y=\"box\",\n",
    ")"
   ]
  },
  {
   "cell_type": "markdown",
   "metadata": {},
   "source": [
    "**Úkol:** Zkuste si zobrazit v grafech jiné veličiny (jiné sloupce) než jen Height a Width. Zkuste změnit typ marginálních grafů."
   ]
  },
  {
   "cell_type": "markdown",
   "metadata": {},
   "source": [
    "## Co s tím dál?"
   ]
  },
  {
   "cell_type": "markdown",
   "metadata": {},
   "source": [
    "### Report pro šéfa a šéfovou\n",
    "\n",
    "Máme i kolegy, kteří (ještě) nepoužívají Python a přesto by ocenili, kdyby mohli místo statického reportu dostat report s takto krásnými a interaktivními vizualizacemi. Pro tento účel se hodí export notebooku do html pomocí `nbconvert`.\n",
    "\n",
    "V příkazovém řádku spustíme `nbconvert` pomocí příkazu `jupyter nbconvert`. Pro export do html pak přidáme `--to html`, nesmíme zapomenout zadat který notebook (tj. soubor) chceme vlastně konvertovat."
   ]
  },
  {
   "cell_type": "code",
   "execution_count": null,
   "metadata": {},
   "outputs": [],
   "source": [
    "# Odkomentováním se spustí příkaz v příkazové řádce (díky vykřičníku)\n",
    "# Možná se seoubor u tebe jmenuje jinak než dashboardy-1, v takovém použij aktuální jméno souboru\n",
    "# !jupyter nbconvert dashboardy-1.ipynb --to html"
   ]
  },
  {
   "cell_type": "markdown",
   "metadata": {},
   "source": [
    "Můžeme také exportovat jen výstupy a \"utajit\" zdrojový kód pomocí `--no-input`:"
   ]
  },
  {
   "cell_type": "code",
   "execution_count": null,
   "metadata": {},
   "outputs": [],
   "source": [
    "# !jupyter nbconvert dashboardy-1.ipynb --to html --no-input"
   ]
  },
  {
   "cell_type": "markdown",
   "metadata": {},
   "source": [
    "### Analýza nových dat\n",
    "\n",
    "Všem se naše vizualizace líbily, a jelikož je potřeba analyzovat další data, dostali jsme to za úkol my. Tentokrát se nejedná o ryby, ale o tučňáky."
   ]
  },
  {
   "cell_type": "markdown",
   "metadata": {},
   "source": [
    "**Úkol:** Vyber si z grafů ten, který se ti nejvíc líbí, a místo rybích dat použij tučňáky."
   ]
  },
  {
   "cell_type": "code",
   "execution_count": null,
   "metadata": {},
   "outputs": [],
   "source": [
    "penguins = pd.read_csv(\"penguins_size_nona.csv\")"
   ]
  },
  {
   "cell_type": "markdown",
   "metadata": {},
   "source": [
    "## Vytváříme aplikaci\n",
    "\n",
    "Z naší práce v notebooku vykrystalizoval velice častý vzor: Podobné vizualizace a analýzy, v nichž se mění data a několik klíčových parametrů. Příležitost vytvořit aplikaci, která toto umožní nám a okruhu poučených uživatelů."
   ]
  },
  {
   "cell_type": "markdown",
   "metadata": {},
   "source": [
    "Pojďme si nadefinovat naší jednoduchou aplikaci:\n",
    "1. Načíst data z csv souboru.\n",
    "2. Vykreslit scatter matrix, kde budu moct zvolit dimenze, sloupec pro barvu a průhlednost.\n",
    "3. Pro vybraný sloupec zobrazit distribuci vybraného sloupce pomocí histogramu, box plotu nebo violin plotu."
   ]
  },
  {
   "cell_type": "markdown",
   "metadata": {},
   "source": [
    "### Příprava v notebooku\n",
    "\n",
    "Pojďme to nejprve načrtnout tady v notebooku. Jako první si připravíme uživatelské vstupy."
   ]
  },
  {
   "cell_type": "code",
   "execution_count": null,
   "metadata": {},
   "outputs": [],
   "source": [
    "# vstup 1: výběr datové sady\n",
    "data_file_path = \"penguins_size_nona.csv\"\n",
    "# vstup 2: výběr parametrů scatter matrix\n",
    "dimensions = ['culmen_length_mm', 'culmen_depth_mm', 'flipper_length_mm', 'body_mass_g']\n",
    "color = \"sex\"\n",
    "opacity = 0.5\n",
    "# výběr sloupce pro zobrazení rozdělení dat\n",
    "interesting_column = \"body_mass_g\"\n",
    "# výběr funkce pro zobrazení rozdělovací funkce\n",
    "dist_plot = px.violin"
   ]
  },
  {
   "cell_type": "markdown",
   "metadata": {},
   "source": [
    "A tohle už je pak naše aplikace: Použili jsme stejné funkce a parametry jako na začátku práce s plotly, jen jsme je parametrizovali pomocí vstupů z předchozího bloku."
   ]
  },
  {
   "cell_type": "code",
   "execution_count": null,
   "metadata": {},
   "outputs": [],
   "source": [
    "# načtení dat\n",
    "data = pd.read_csv(data_file_path)"
   ]
  },
  {
   "cell_type": "code",
   "execution_count": null,
   "metadata": {},
   "outputs": [],
   "source": [
    "# scatter matric plat\n",
    "px.scatter_matrix(data, dimensions=dimensions, color=color, opacity=opacity)"
   ]
  },
  {
   "cell_type": "code",
   "execution_count": null,
   "metadata": {},
   "outputs": [],
   "source": [
    "# zobrazení rozdělovací funkce\n",
    "dist_plot(data, x=interesting_column, color=color)"
   ]
  },
  {
   "cell_type": "markdown",
   "metadata": {},
   "source": [
    "A teď z toho pojďme udělat interaktivní webovou aplikaci! To nebudeme dělat přímo tady v notebooku, ale v \"obyčejném\" .py souboru s Python kódem.\n",
    "\n",
    "Aplikaci máme připravenou v souboru `app.py`, tady v notebooku si soubor můžeme prohlédnout:"
   ]
  },
  {
   "cell_type": "code",
   "execution_count": null,
   "metadata": {},
   "outputs": [],
   "source": [
    "%cat ../app.py"
   ]
  },
  {
   "cell_type": "markdown",
   "metadata": {},
   "source": [
    "Základem je, že uživatelské vstupy jsme předělali z podoby `proměnná = hodnota` do podoby `proměnná = st.vhodný_widget(...)`. Toto je způsob vytváření streamlit aplikace: \n",
    "* Aplikaci píšeme v podstatě jako lineární skript (zdrojový kód samozřejmě můžeme strukturovat do funkcí / modulů / tříd dle vlastního uvážení, streamlit ale bude aplikaci vždy spouštět krok po kroku jako ten skript).\n",
    "* Uživatelské vstupy načítáme z návratové hodnoty funkcí `st.nějaký_widget`, Streamlit se postará o to, aby widget správně fungoval a návratová hodnota byla vždy ta aktuální.\n",
    "* Prvky aplikace (výstupy) zobrazíme uživateli pomocí `st.write`."
   ]
  },
  {
   "cell_type": "markdown",
   "metadata": {},
   "source": [
    "*Widgets - pomocné \"věcičky\":* V uživatelských grafických rozhraních (GUI) se používají *widgety*: nástroje na vybrání možností, hodnoty proměnné, zadání textu nebo datumu apod.\n"
   ]
  },
  {
   "cell_type": "markdown",
   "metadata": {},
   "source": [
    "###  Spuštění\n",
    "\n",
    "Streamlit ještě nejspíš nemáš nainstalovaný. Instaluje se běžným způsobem přes pip:\n",
    "\n",
    "    pip install streamlit\n",
    "    \n",
    "případně pokud používáš conda\n",
    "\n",
    "    conda install -c conda-forge streamlit\n",
    "\n",
    "Na svém počítači si pak apikaci spustíš příkazem `streamlit run` s názvem souboru s aplikací. V našem případě tedy\n",
    "\n",
    "    streamlit run app.py\n",
    "    \n",
    "Pokud je vše v pořádku, zobrazí se něco takovéhoto:\n",
    "\n",
    "```\n",
    "  You can now view your Streamlit app in your browser.\n",
    "\n",
    "  Network URL: http://192.168.2.103:8800\n",
    "  External URL: http://85.207.123.46:8800\n",
    "```\n",
    "\n",
    "Dle instrukcí otevři odkaz (ten první) v prohlížeči. Je velká pravděpodobnout, že se objeví naše právě vytvořená aplikace na vizualizaci dat."
   ]
  },
  {
   "cell_type": "markdown",
   "metadata": {},
   "source": [
    "## Publikujeme na internet\n",
    "\n",
    "V principu bychom mohli spustit aplikaci u sebe na počítači tak, aby ji mohli používat i další uživatelé. Na vnitřní síti (domácí, pracovní) by to bylo snadné (i když na pracovní síti a pracovním počítači by tomu mohla bránit bezpečnostní nastavení), přístup z vnějšího internetu by už byl komplikovanější.\n",
    "\n",
    "Naštěstí nejsme v podobné situaci sami :) Takže existují více či méně složité a sofistikované způsoby, jak aplikaci spustit na nějakém serveru (v cloudu) a zpřístupnit z internetu. My si ukážeme, jak to funguje na [Heroku](https://heroku.com). Podobné služby nabízí třeba AWS (Elastic Beanstalk), Google App Engine nebo Dokku on Digital Ocean. Výhodou Heroku je jednoduchost a možnost bezplatných služeb, nevýhodou pak rychle rostoucí cena a omezené možnosti.\n",
    "\n",
    "Existuje také možnost publikovat aplikaci pomocí [Streamlit Sharing](https://blog.streamlit.io/introducing-streamlit-sharing/). Tato služba nabízí ještě jednodušší publikaci z veřejných GitHub repozitářů, nemá ale tolik možností jako např. Heroku.\n",
    "\n",
    "Budeme postupovat v podstatě podle průvodce [Getting started with Python](https://devcenter.heroku.com/articles/getting-started-with-python)."
   ]
  },
  {
   "cell_type": "markdown",
   "metadata": {},
   "source": [
    "### Registrace a klient Heroku\n",
    "\n",
    "Než začneme, je potřeba:\n",
    "1. Založit si bezplatný účet na https://signup.heroku.com/signup/dc.\n",
    "2. Nainstalovat Git:\n",
    "   * Windows: https://gitforwindows.org/\n",
    "   * Mac OS: https://sourceforge.net/projects/git-osx-installer/files/ (případně další možnosti popsané na https://www.atlassian.com/git/tutorials/install-git).\n",
    "   * Linux: Nejspíš tam už bude nebo určitě víš jak na to :)\n",
    "3. Alespoň základní konfigurace Gitu. V příkazovém řádku (*vyplňte své jméno a email*):\n",
    "```\n",
    "git config --global user.name \"Moje Jméno\"\n",
    "git config --global user.email \"muj@email.com\"\n",
    "```\n",
    "3. Nainstalovat si Heroku klienta:\n",
    "   * Postupujte podle https://devcenter.heroku.com/articles/heroku-cli\n",
    "   \n",
    "Instalaci ověříme v příkazové řádce pomocí:\n",
    "1. Git:\n",
    "```\n",
    "git config --list\n",
    "```\n",
    "Mělo by se objevit něco na způsob\n",
    "```\n",
    "user.name=Moje Jméno\n",
    "user.email=muj@email.com\n",
    "```\n",
    "\n",
    "2. Heroku:\n",
    "```\n",
    "heroku --version\n",
    "```\n",
    "Tady by mělo být výstupem zhruba\n",
    "```\n",
    "heroku/7.39.2 darwin-x64 node-v12.13.0\n",
    "```"
   ]
  },
  {
   "cell_type": "markdown",
   "metadata": {},
   "source": [
    "### Go-live\n",
    "\n",
    "Teď budeme chvilku pracovat v příkazové řádce. Nejprve je potřeba vytvořit novou složku pro publikovanou aplikaci a nakopírovat tam soubory `app.py`, `requirements.txt`, `runtime.txt` a `Procfile`. \n",
    "\n",
    "A teď už v příkazové řádce, kde aktuální složka musí být ta nově vytvořená, kam jsi zkopírovala soubory:\n",
    "\n",
    "1. Vytvoř Git repozitář:\n",
    "```\n",
    "git init\n",
    "```\n",
    "\n",
    "2. Heroku potřebuje soubor s názvem `Procfile`. Ten velice jednoduše říká, co že to vlastně chceme spustit. Bude tam příkaz `streamlit run` (tak jako jsme spouštěli aplikaci lokálně) s pár přepínači navíc. Pro  `Procfile` musí obsahovat tento řádek:\n",
    "```\n",
    "web: streamlit run --server.headless 1 -server.port $PORT app.py\n",
    "```\n",
    "\n",
    "3. Je určitě dobré specifikovat verzi Pythonu, jinak se použije výchozí (v době psaní je to 3.6). V souboru `runtime.txt` na to stačí řádka `python-3.8.10`.\n",
    "\n",
    "3. Dalším souborem, který potřebujeme, je `requirements.txt`. O tom jste už možná slyšeli(y) - obsahuje seznam Python balíčků, které potřebuje daný Python projekt. Heroku tento soubor použije, aby před spuštěním aplikace nainstaloval vše potřebné. Pro náš dashboard musí být v `requirements.txt` toto:\n",
    "```\n",
    "pandas==1.2.5\n",
    "streamlit==1.2.0\n",
    "plotly==4.14.3\n",
    "```\n",
    "\n",
    "4. Soubory už máme připravené, potřebujeme je teď přidat do Git repozitáře. Na to použij tyto dva příkazy:\n",
    "```\n",
    "git add app.py Procfile runtime.txt requirements.txt\n",
    "git commit -v -m \"první verze dashboardu\"\n",
    "```\n",
    "\n",
    "5. A teď už můžeme publikovat. Tedy nejdříve se přihlásit pomocí\n",
    "```\n",
    "heroku login\n",
    "```\n",
    "(Postupujte dle pokynů - otevře se přihlašovací stránka ve webovém prohlížeči, která vás vyzve k zadání přihlašovacích údajů.)\n",
    "\n",
    "6. Pak ještě vytvořit Heroku aplikaci pomocí \n",
    "```\n",
    "heroku create\n",
    "```\n",
    "\n",
    "7. A nakonec už opravdu vypustit aplikaci na internet pomocí\n",
    "```\n",
    "git push heroku main\n",
    "```\n",
    "\n"
   ]
  },
  {
   "cell_type": "markdown",
   "metadata": {},
   "source": [
    "Pokud vše půjde dobře, tento krok bude chvíli trvat. Postupně se bude vypisovat, co pro nás Heroku dělá:\n",
    "```\n",
    "Enumerating objects: 7, done.\n",
    "Counting objects: 100% (7/7), done.\n",
    "Delta compression using up to 4 threads\n",
    "Compressing objects: 100% (4/4), done.\n",
    "Writing objects: 100% (4/4), 940.72 KiB | 2.40 MiB/s, done.\n",
    "Total 4 (delta 2), reused 0 (delta 0)\n",
    "remote: Compressing source files... done.\n",
    "remote: Building source:\n",
    "remote:\n",
    "remote: -----> Python app detected\n",
    "remote: -----> Installing python-3.8.6\n",
    "remote: -----> Installing pip 20.1.1, setuptools 47.1.1 and wheel 0.34.2\n",
    "remote: -----> Installing SQLite3\n",
    "remote: -----> Installing requirements with pip\n",
    "remote:        Collecting pandas==1.1.4\n",
    "remote:          Downloading pandas-1.1.4-cp36-cp36m-manylinux1_x86_64.whl (9.5 MB)\n",
    "remote:        Collecting streamlit==0.71.0\n",
    "remote:          Downloading streamlit-0.71.0-py2.py3-none-any.whl (7.4 MB)\n",
    "remote:        Collecting plotly==4.13.0\n",
    "remote:          Downloading plotly-4.13.0-py2.py3-none-any.whl (13.1 MB)\n",
    "...\n",
    "```\n",
    "\n",
    "Nakonec by se mělo objevit něco jako\n",
    "```\n",
    "remote: -----> Launching...\n",
    "remote:        Released v6\n",
    "remote:        https://cryptic-ocean-20431.herokuapp.com/ deployed to Heroku\n",
    "remote:\n",
    "remote: Verifying deploy... done.\n",
    "To https://git.heroku.com/cryptic-ocean-20431.git\n",
    "```\n"
   ]
  },
  {
   "cell_type": "markdown",
   "metadata": {},
   "source": [
    "Důležitý je odkaz pod řádkem \"Released v6\". To je totiž adresa, na které je náš dashboard dostupný \"odkudkoli z internetu\". Buď si ji zkopírujte do prohlížeče nebo použijte příkaz `heroku open`."
   ]
  },
  {
   "cell_type": "markdown",
   "metadata": {},
   "source": [
    "**Úkol 1:** Pošli odkaz na tvou běžící aplikaci :)"
   ]
  },
  {
   "cell_type": "markdown",
   "metadata": {},
   "source": [
    "**Úkol 2:** Pomocí `st.title` přidej titulek (název) aplikace. Vyzkoušej u sebe lokálně, pak změnu commituj do gitu a aktualizuj aplikaci na Heroku (pomocí `git push heroku master`)."
   ]
  }
 ],
 "metadata": {
  "kernelspec": {
   "display_name": "Python 3",
   "language": "python",
   "name": "python3"
  },
  "language_info": {
   "codemirror_mode": {
    "name": "ipython",
    "version": 3
   },
   "file_extension": ".py",
   "mimetype": "text/x-python",
   "name": "python",
   "nbconvert_exporter": "python",
   "pygments_lexer": "ipython3",
   "version": "3.8.7"
  }
 },
 "nbformat": 4,
 "nbformat_minor": 4
}
