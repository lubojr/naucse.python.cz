{
 "cells": [
  {
   "cell_type": "markdown",
   "metadata": {},
   "source": [
    "# Pandas library and basic table data manipulation"
   ]
  },
  {
   "cell_type": "markdown",
   "metadata": {},
   "source": [
    "Before any more complex analysis, it is necessary to learn the basics of working with processed data. Data can be of various natures - one-dimensional, two-dimensional, structured, unstructured, visual, audio ... In the lessons of exploratory data analysis, we will work with data mostly ** tabular ** - such as those you certainly know from your favorite (or unpopular) tabular processor (&quot;spreadsheet&quot;). Usually every ** row ** of such a table corresponds to some thing, an example of something, or some observation. In the individual ** columns ** there are then individual properties or measured quantities characteristic for these things.",
    "\n",
    "In the Python world, the ** pandas ** library is most commonly used to process tabular data. It allows you to read data from many formats (including XLS (x) workbooks), edit them in various ways, calculate columns very efficiently, directly examine some statistical indicators and, last but not least, nicely visualize the results. This lesson will introduce you to the basic concepts used and teach you how to access individual columns, rows and cells.",
    "\n",
    "You can find more about the pandas library on its homepage: https://pandas.pydata.org/"
   ]
  },
  {
   "cell_type": "markdown",
   "metadata": {},
   "source": [
    "## Import the `pandas` library"
   ]
  },
  {
   "cell_type": "code",
   "execution_count": 1,
   "metadata": {
    "scrolled": true
   },
   "outputs": [],
   "source": [
    "import pandas as pd # We will access pandas using the alias pd"
   ]
  },
  {
   "cell_type": "markdown",
   "metadata": {},
   "source": [
    "\ud83d\udca1 Although this command imports the `pandas` module (or library), it will not be available under its usual name, but under the ** alias **` pd`. Conversely, the name `pandas` will no longer be defined. In normal programming, we try to avoid aliases because they reduce the readability of the code for other programmers. It&#39;s different with data analytics, because using one alias, which is also very common, saves us a lot of typing."
   ]
  },
  {
   "cell_type": "code",
   "execution_count": 2,
   "metadata": {},
   "outputs": [],
   "source": [
    "# pandas -&gt; Invoked by NameError"
   ]
  },
  {
   "cell_type": "markdown",
   "metadata": {},
   "source": [
    "## Load the data table"
   ]
  },
  {
   "cell_type": "markdown",
   "metadata": {},
   "source": [
    "We will jump straight into the pandas and show a typical example of data that we will process with this library.",
    "\n",
    "To read data, Pandas has a number of `read_ *` functions that allow it to handle many different formats. The CSV (&quot;comma-separated values&quot; - [wiki] format (https://en.wikipedia.org/wiki/CSV)) is relatively common, in which each record corresponds to one line, the individual properties of the record are then separated by commas (or another character).",
    "\n",
    "To work with this laptop, first download the data file from [this link] (static / pokemon.csv). Experimental data are generated from [Comprehensive Pokedex at Github] (https://github.com/veekun/pokedex)."
   ]
  },
  {
   "cell_type": "code",
   "execution_count": 3,
   "metadata": {},
   "outputs": [],
   "source": [
    "tabulka_pokemonu = pd.read_csv(\"static/pokemon.csv\")"
   ]
  },
  {
   "cell_type": "markdown",
   "metadata": {},
   "source": [
    "The data (whatever it is) is now read into memory, referenced by the `pokemon_table` variable. Let&#39;s see what is hidden in them."
   ]
  },
  {
   "cell_type": "code",
   "execution_count": 4,
   "metadata": {},
   "outputs": [
    {
     "data": {
      "text/html": [
       "<div>\n",
       "<style scoped>\n",
       "    .dataframe tbody tr th:only-of-type {\n",
       "        vertical-align: middle;\n",
       "    }\n",
       "\n",
       "    .dataframe tbody tr th {\n",
       "        vertical-align: top;\n",
       "    }\n",
       "\n",
       "    .dataframe thead th {\n",
       "        text-align: right;\n",
       "    }\n",
       "</style>\n",
       "<table border=\"1\" class=\"dataframe\">\n",
       "  <thead>\n",
       "    <tr style=\"text-align: right;\">\n",
       "      <th></th>\n",
       "      <th>id</th>\n",
       "      <th>name</th>\n",
       "      <th>height</th>\n",
       "      <th>weight</th>\n",
       "      <th>color</th>\n",
       "      <th>shape</th>\n",
       "      <th>is baby</th>\n",
       "      <th>type 1</th>\n",
       "      <th>type 2</th>\n",
       "      <th>hp</th>\n",
       "      <th>attack</th>\n",
       "      <th>defense</th>\n",
       "      <th>speed</th>\n",
       "    </tr>\n",
       "  </thead>\n",
       "  <tbody>\n",
       "    <tr>\n",
       "      <td>0</td>\n",
       "      <td>1</td>\n",
       "      <td>bulbasaur</td>\n",
       "      <td>0.7</td>\n",
       "      <td>6.9</td>\n",
       "      <td>green</td>\n",
       "      <td>quadruped</td>\n",
       "      <td>False</td>\n",
       "      <td>Grass</td>\n",
       "      <td>Poison</td>\n",
       "      <td>45</td>\n",
       "      <td>49</td>\n",
       "      <td>49</td>\n",
       "      <td>45</td>\n",
       "    </tr>\n",
       "    <tr>\n",
       "      <td>1</td>\n",
       "      <td>2</td>\n",
       "      <td>ivysaur</td>\n",
       "      <td>1.0</td>\n",
       "      <td>13.0</td>\n",
       "      <td>green</td>\n",
       "      <td>quadruped</td>\n",
       "      <td>False</td>\n",
       "      <td>Grass</td>\n",
       "      <td>Poison</td>\n",
       "      <td>60</td>\n",
       "      <td>62</td>\n",
       "      <td>63</td>\n",
       "      <td>60</td>\n",
       "    </tr>\n",
       "    <tr>\n",
       "      <td>2</td>\n",
       "      <td>3</td>\n",
       "      <td>venusaur</td>\n",
       "      <td>2.0</td>\n",
       "      <td>100.0</td>\n",
       "      <td>green</td>\n",
       "      <td>quadruped</td>\n",
       "      <td>False</td>\n",
       "      <td>Grass</td>\n",
       "      <td>Poison</td>\n",
       "      <td>80</td>\n",
       "      <td>82</td>\n",
       "      <td>83</td>\n",
       "      <td>80</td>\n",
       "    </tr>\n",
       "    <tr>\n",
       "      <td>3</td>\n",
       "      <td>4</td>\n",
       "      <td>charmander</td>\n",
       "      <td>0.6</td>\n",
       "      <td>8.5</td>\n",
       "      <td>red</td>\n",
       "      <td>upright</td>\n",
       "      <td>False</td>\n",
       "      <td>Fire</td>\n",
       "      <td>NaN</td>\n",
       "      <td>39</td>\n",
       "      <td>52</td>\n",
       "      <td>43</td>\n",
       "      <td>65</td>\n",
       "    </tr>\n",
       "    <tr>\n",
       "      <td>4</td>\n",
       "      <td>5</td>\n",
       "      <td>charmeleon</td>\n",
       "      <td>1.1</td>\n",
       "      <td>19.0</td>\n",
       "      <td>red</td>\n",
       "      <td>upright</td>\n",
       "      <td>False</td>\n",
       "      <td>Fire</td>\n",
       "      <td>NaN</td>\n",
       "      <td>58</td>\n",
       "      <td>64</td>\n",
       "      <td>58</td>\n",
       "      <td>80</td>\n",
       "    </tr>\n",
       "    <tr>\n",
       "      <td>...</td>\n",
       "      <td>...</td>\n",
       "      <td>...</td>\n",
       "      <td>...</td>\n",
       "      <td>...</td>\n",
       "      <td>...</td>\n",
       "      <td>...</td>\n",
       "      <td>...</td>\n",
       "      <td>...</td>\n",
       "      <td>...</td>\n",
       "      <td>...</td>\n",
       "      <td>...</td>\n",
       "      <td>...</td>\n",
       "      <td>...</td>\n",
       "    </tr>\n",
       "    <tr>\n",
       "      <td>802</td>\n",
       "      <td>803</td>\n",
       "      <td>poipole</td>\n",
       "      <td>0.6</td>\n",
       "      <td>1.8</td>\n",
       "      <td>purple</td>\n",
       "      <td>upright</td>\n",
       "      <td>False</td>\n",
       "      <td>Poison</td>\n",
       "      <td>NaN</td>\n",
       "      <td>67</td>\n",
       "      <td>73</td>\n",
       "      <td>67</td>\n",
       "      <td>73</td>\n",
       "    </tr>\n",
       "    <tr>\n",
       "      <td>803</td>\n",
       "      <td>804</td>\n",
       "      <td>naganadel</td>\n",
       "      <td>3.6</td>\n",
       "      <td>150.0</td>\n",
       "      <td>purple</td>\n",
       "      <td>wings</td>\n",
       "      <td>False</td>\n",
       "      <td>Poison</td>\n",
       "      <td>Dragon</td>\n",
       "      <td>73</td>\n",
       "      <td>73</td>\n",
       "      <td>73</td>\n",
       "      <td>121</td>\n",
       "    </tr>\n",
       "    <tr>\n",
       "      <td>804</td>\n",
       "      <td>805</td>\n",
       "      <td>stakataka</td>\n",
       "      <td>5.5</td>\n",
       "      <td>820.0</td>\n",
       "      <td>gray</td>\n",
       "      <td>quadruped</td>\n",
       "      <td>False</td>\n",
       "      <td>Rock</td>\n",
       "      <td>Steel</td>\n",
       "      <td>61</td>\n",
       "      <td>131</td>\n",
       "      <td>211</td>\n",
       "      <td>13</td>\n",
       "    </tr>\n",
       "    <tr>\n",
       "      <td>805</td>\n",
       "      <td>806</td>\n",
       "      <td>blacephalon</td>\n",
       "      <td>1.8</td>\n",
       "      <td>13.0</td>\n",
       "      <td>white</td>\n",
       "      <td>humanoid</td>\n",
       "      <td>False</td>\n",
       "      <td>Fire</td>\n",
       "      <td>Ghost</td>\n",
       "      <td>53</td>\n",
       "      <td>127</td>\n",
       "      <td>53</td>\n",
       "      <td>107</td>\n",
       "    </tr>\n",
       "    <tr>\n",
       "      <td>806</td>\n",
       "      <td>807</td>\n",
       "      <td>zeraora</td>\n",
       "      <td>1.5</td>\n",
       "      <td>44.5</td>\n",
       "      <td>yellow</td>\n",
       "      <td>humanoid</td>\n",
       "      <td>False</td>\n",
       "      <td>Electric</td>\n",
       "      <td>NaN</td>\n",
       "      <td>88</td>\n",
       "      <td>112</td>\n",
       "      <td>75</td>\n",
       "      <td>143</td>\n",
       "    </tr>\n",
       "  </tbody>\n",
       "</table>\n",
       "<p>807 rows \u00d7 13 columns</p>\n",
       "</div>"
      ],
      "text/plain": [
       "      id         name  height  weight   color      shape  is baby    type 1  \\\n",
       "0      1    bulbasaur     0.7     6.9   green  quadruped    False     Grass   \n",
       "1      2      ivysaur     1.0    13.0   green  quadruped    False     Grass   \n",
       "2      3     venusaur     2.0   100.0   green  quadruped    False     Grass   \n",
       "3      4   charmander     0.6     8.5     red    upright    False      Fire   \n",
       "4      5   charmeleon     1.1    19.0     red    upright    False      Fire   \n",
       "..   ...          ...     ...     ...     ...        ...      ...       ...   \n",
       "802  803      poipole     0.6     1.8  purple    upright    False    Poison   \n",
       "803  804    naganadel     3.6   150.0  purple      wings    False    Poison   \n",
       "804  805    stakataka     5.5   820.0    gray  quadruped    False      Rock   \n",
       "805  806  blacephalon     1.8    13.0   white   humanoid    False      Fire   \n",
       "806  807      zeraora     1.5    44.5  yellow   humanoid    False  Electric   \n",
       "\n",
       "     type 2  hp  attack  defense  speed  \n",
       "0    Poison  45      49       49     45  \n",
       "1    Poison  60      62       63     60  \n",
       "2    Poison  80      82       83     80  \n",
       "3       NaN  39      52       43     65  \n",
       "4       NaN  58      64       58     80  \n",
       "..      ...  ..     ...      ...    ...  \n",
       "802     NaN  67      73       67     73  \n",
       "803  Dragon  73      73       73    121  \n",
       "804   Steel  61     131      211     13  \n",
       "805   Ghost  53     127       53    107  \n",
       "806     NaN  88     112       75    143  \n",
       "\n",
       "[807 rows x 13 columns]"
      ]
     },
     "execution_count": 4,
     "metadata": {},
     "output_type": "execute_result"
    }
   ],
   "source": [
    "pokemon_table"
   ]
  },
  {
   "cell_type": "markdown",
   "metadata": {},
   "source": [
    "If everything worked as it should, you should have a relatively nicely formatted table in front of you. The basic display in the laptop will show you the first five and last five rows (who would risk thousands of rows flooding the browser window?) In the table, along with information about the total number of rows and columns. In this case, the table contains a total of 13 properties (named columns) for 807 different Pok\u00e9mon (numbered rows).",
    "\n",
    "\u26a0\ufe0f ** Warning: ** In this simple case, the table was loaded correctly on the first try, without any specific parameters, all columns seem to contain usable values. This is (especially in the CSV format) actually out of hell luck. There are usually problems with the input data - for example, they do not have described columns (or they have them described strangely), they use special record delimiters or decimal parts of numbers, many rows are missing values (or are misspelled), ... ** Data cleaning ** we will dedicate sometime next time.",
    "\n",
    "What exactly is the object stored in the `pokemon_table` variable? What is the class like?"
   ]
  },
  {
   "cell_type": "markdown",
   "metadata": {},
   "source": [
    "## Base classes in `pandas` - DataFrame, Series, Index"
   ]
  },
  {
   "cell_type": "code",
   "execution_count": 5,
   "metadata": {},
   "outputs": [
    {
     "data": {
      "text/plain": [
       "pandas.core.frame.DataFrame"
      ]
     },
     "execution_count": 5,
     "metadata": {},
     "output_type": "execute_result"
    }
   ],
   "source": [
    "type (table_poker)"
   ]
  },
  {
   "cell_type": "markdown",
   "metadata": {},
   "source": [
    "The answer is `DataFrame`. This term (also used in other popular statistical languages, such as [R] (https://www.r-project.org/)) is probably without the Czech equivalent, so we will continue to talk about tables or instances of the DataFrame class. Now let&#39;s try to dissect our first DataFrame.",
    "\n",
    "\u26a0\ufe0f ** Warning: ** You will soon notice that the `DataFrame` has very similar functions to a spreadsheet workbook, but you need to know where this parallel ends. Unlike Excel or LibreOffice Calcu workbooks, the DataFrame contains &quot;only&quot; dry data, does not store any formatting, and does not offer an &quot;editor.&quot; A nice visual representation is just a matter of interacting `pandas` with a Jupyter laptop, or you can write your own code for it."
   ]
  },
  {
   "cell_type": "code",
   "execution_count": 6,
   "metadata": {},
   "outputs": [
    {
     "data": {
      "text/plain": [
       "0      0.7\n",
       "1      1.0\n",
       "2      2.0\n",
       "3      0.6\n",
       "4      1.1\n",
       "      ... \n",
       "802    0.6\n",
       "803    3.6\n",
       "804    5.5\n",
       "805    1.8\n",
       "806    1.5\n",
       "Name: height, Length: 807, dtype: float64"
      ]
     },
     "execution_count": 6,
     "metadata": {},
     "output_type": "execute_result"
    }
   ],
   "source": [
    "heights = pokemon_table [&quot;height&quot;]",
    "heights"
   ]
  },
  {
   "cell_type": "markdown",
   "metadata": {},
   "source": [
    "\ud83d\udca1 The DataFrame behaves similarly to a dictionary (`dict`), among other things - when you put a key in square brackets, you get a column named this way. In fact, square brackets allow you to select from tables based on various other criteria, but we&#39;ll get to that.",
    "\n",
    "Our autopsy goes on to find out what the `height` variable is."
   ]
  },
  {
   "cell_type": "code",
   "execution_count": 7,
   "metadata": {},
   "outputs": [
    {
     "data": {
      "text/plain": [
       "pandas.core.series.Series"
      ]
     },
     "execution_count": 7,
     "metadata": {},
     "output_type": "execute_result"
    }
   ],
   "source": [
    "type (heights)"
   ]
  },
  {
   "cell_type": "markdown",
   "metadata": {},
   "source": [
    "### Series"
   ]
  },
  {
   "cell_type": "markdown",
   "metadata": {},
   "source": [
    "The columns are of the `Series` type, but we will not use this word either). This type looks like a list (`list`). We will check if it behaves this way:"
   ]
  },
  {
   "cell_type": "code",
   "execution_count": 8,
   "metadata": {},
   "outputs": [
    {
     "data": {
      "text/plain": [
       "0.7"
      ]
     },
     "execution_count": 8,
     "metadata": {},
     "output_type": "execute_result"
    }
   ],
   "source": [
    "height [0] # First height? \u2713"
   ]
  },
  {
   "cell_type": "code",
   "execution_count": 9,
   "metadata": {},
   "outputs": [
    {
     "data": {
      "text/plain": [
       "802    0.6\n",
       "803    3.6\n",
       "804    5.5\n",
       "805    1.8\n",
       "806    1.5\n",
       "Name: height, dtype: float64"
      ]
     },
     "execution_count": 9,
     "metadata": {},
     "output_type": "execute_result"
    }
   ],
   "source": [
    "heights [-5:] # Last five heights? \u2713"
   ]
  },
  {
   "cell_type": "markdown",
   "metadata": {},
   "source": [
    "** Task **: Try to apply some other list operations that you already know to `heights`. Sometimes it works, sometimes it doesn&#39;t."
   ]
  },
  {
   "cell_type": "markdown",
   "metadata": {},
   "source": [
    "There is also no problem between converting lists and `Series`. The easiest way you can create your own Series (remember that outside the table context) is to create an instance of this class with some list as an argument:"
   ]
  },
  {
   "cell_type": "code",
   "execution_count": 10,
   "metadata": {},
   "outputs": [
    {
     "data": {
      "text/plain": [
       "0    1\n",
       "1    2\n",
       "2    3\n",
       "dtype: int64"
      ]
     },
     "execution_count": 10,
     "metadata": {},
     "output_type": "execute_result"
    }
   ],
   "source": [
    "cisla = pd.Series ([1, 2, 3])",
    "numbers"
   ]
  },
  {
   "cell_type": "markdown",
   "metadata": {},
   "source": [
    "And vice versa:"
   ]
  },
  {
   "cell_type": "code",
   "execution_count": 11,
   "metadata": {},
   "outputs": [
    {
     "data": {
      "text/plain": [
       "[1, 2, 3]"
      ]
     },
     "execution_count": 11,
     "metadata": {},
     "output_type": "execute_result"
    }
   ],
   "source": [
    "cisla.tolist () # Variant 1 (preferred, faster)",
    "list (numbers) # Option 2"
   ]
  },
  {
   "cell_type": "markdown",
   "metadata": {},
   "source": [
    "So how does the `Series` differ from the list, and what is its advantage?",
    "\n",
    "In particular, each column has the following five basic properties:"
   ]
  },
  {
   "cell_type": "markdown",
   "metadata": {},
   "source": [
    "<img src=\"static/series.svg\" style=\"max-height: 20em;\">"
   ]
  },
  {
   "cell_type": "markdown",
   "metadata": {},
   "source": [
    "#### 1) values"
   ]
  },
  {
   "cell_type": "code",
   "execution_count": 12,
   "metadata": {},
   "outputs": [
    {
     "data": {
      "text/plain": [
       "array([0.7, 1. , 2. , 0.6, 1.1, 1.7, 0.5, 1. , 1.6, 0.3, 0.7, 1.1, 0.3,\n",
       "       0.6, 1. , 0.3, 1.1, 1.5, 0.3, 0.7, 0.3, 1.2, 2. , 3.5, 0.4, 0.8,\n",
       "       0.6, 1. , 0.4, 0.8, 1.3, 0.5, 0.9, 1.4, 0.6, 1.3, 0.6, 1.1, 0.5,\n",
       "       1. , 0.8, 1.6, 0.5, 0.8, 1.2, 0.3, 1. , 1. , 1.5, 0.2])"
      ]
     },
     "execution_count": 12,
     "metadata": {},
     "output_type": "execute_result"
    }
   ],
   "source": [
    "vysky [: 50] .values # For aesthetic reasons, we will shorten the column a bit"
   ]
  },
  {
   "cell_type": "code",
   "execution_count": 13,
   "metadata": {},
   "outputs": [
    {
     "data": {
      "text/plain": [
       "numpy.ndarray"
      ]
     },
     "execution_count": 13,
     "metadata": {},
     "output_type": "execute_result"
    }
   ],
   "source": [
    "type (vysky.values)"
   ]
  },
  {
   "cell_type": "markdown",
   "metadata": {},
   "source": [
    "\ud83d\udca1 The values in `Series` are stored in a special format based on the` ndarray` type from the `numpy` library. We will not pay attention to this, but especially in the case of numerical values it saves memory space and speeds up mathematical operations (for example, adding up all values in a Series is significantly faster than in a list)."
   ]
  },
  {
   "cell_type": "markdown",
   "metadata": {},
   "source": [
    "#### 2) type of values"
   ]
  },
  {
   "cell_type": "code",
   "execution_count": 14,
   "metadata": {},
   "outputs": [
    {
     "data": {
      "text/plain": [
       "dtype('float64')"
      ]
     },
     "execution_count": 14,
     "metadata": {},
     "output_type": "execute_result"
    }
   ],
   "source": [
    "vysky.dtype"
   ]
  },
  {
   "cell_type": "markdown",
   "metadata": {},
   "source": [
    "\ud83d\udca1 Unlike lists, all `Series` elements should be of the same type (if they are not, the next common supertype is selected). `pandas` has its own set of types, called ** dtypes **, which partially copies the default data types in Python, but (especially for numeric types) is closer to how the processor works with them. And don&#39;t look for heredity (good news?). We&#39;ll imagine the most common types next time - along with the operations that can be done with columns."
   ]
  },
  {
   "cell_type": "markdown",
   "metadata": {},
   "source": [
    "#### 3) index"
   ]
  },
  {
   "cell_type": "code",
   "execution_count": 15,
   "metadata": {},
   "outputs": [
    {
     "data": {
      "text/plain": [
       "RangeIndex(start=0, stop=807, step=1)"
      ]
     },
     "execution_count": 15,
     "metadata": {},
     "output_type": "execute_result"
    }
   ],
   "source": [
    "vysky.index"
   ]
  },
  {
   "cell_type": "markdown",
   "metadata": {},
   "source": [
    "\ud83d\udca1 You access the elements of the list in numerical order (0 - first element, 1 - second, ...), you select from the dictionary according to the key, pandas introduces a generalized ** index **, which can be numeric, string, but even built on date / time. See below for different indices."
   ]
  },
  {
   "cell_type": "markdown",
   "metadata": {},
   "source": [
    "#### 4) name"
   ]
  },
  {
   "cell_type": "code",
   "execution_count": 16,
   "metadata": {},
   "outputs": [
    {
     "data": {
      "text/plain": [
       "'height'"
      ]
     },
     "execution_count": 16,
     "metadata": {},
     "output_type": "execute_result"
    }
   ],
   "source": [
    "vysky.name"
   ]
  },
  {
   "cell_type": "markdown",
   "metadata": {},
   "source": [
    "\ud83d\udca1 `Series` may or may not have a name. Note that this is a value stored inside the object itself, it has nothing to do with the name of the variable in which you store it (but it will be used to access it for the column in the table)."
   ]
  },
  {
   "cell_type": "markdown",
   "metadata": {},
   "source": [
    "#### 5) size"
   ]
  },
  {
   "cell_type": "code",
   "execution_count": 17,
   "metadata": {},
   "outputs": [
    {
     "data": {
      "text/plain": [
       "807"
      ]
     },
     "execution_count": 17,
     "metadata": {},
     "output_type": "execute_result"
    }
   ],
   "source": [
    "vysky.size"
   ]
  },
  {
   "cell_type": "markdown",
   "metadata": {},
   "source": [
    "\ud83d\udca1 This property tells you how many elements there are in the `Series`. It is not magical, it behaves like `len` next to the list (and after all,` len` can also be used on `Series`). For completeness, we state that, unlike other properties, this one is read-only."
   ]
  },
  {
   "cell_type": "markdown",
   "metadata": {},
   "source": [
    "** Task: ** Find the values of the `.name`,` .index`, `.dtype`,` .values` and `size` attributes for the` number` object. Do you notice anything interesting? Alternatively, look at the same for some of the other columns in `table_pokemon`."
   ]
  },
  {
   "cell_type": "markdown",
   "metadata": {},
   "source": [
    "When creating `Series` objects, these attributes (except` size` and to a limited extent `dtype`) can be explicitly specified:"
   ]
  },
  {
   "cell_type": "code",
   "execution_count": 18,
   "metadata": {},
   "outputs": [
    {
     "data": {
      "text/plain": [
       "Karla      27.0\n",
       "Martina    65.0\n",
       "\u017dofie      14.0\n",
       "Name: V\u011bk, dtype: float64"
      ]
     },
     "execution_count": 18,
     "metadata": {},
     "output_type": "execute_result"
    }
   ],
   "source": [
    "vek = pd.Series(\n",
    "    [27, 65, 14],\n",
    "name = &quot;Age&quot;,",
    "index = [&quot;Karla&quot;, &quot;Martina&quot;, &quot;\u017dofie&quot;],",
    "    dtype=float,\n",
    ")\n",
    "century"
   ]
  },
  {
   "cell_type": "markdown",
   "metadata": {},
   "source": [
    "** Task: ** Create a Series object that will contain a list of colors, animals, numbers, or some other category of things you like."
   ]
  },
  {
   "cell_type": "markdown",
   "metadata": {},
   "source": [
    "## Index"
   ]
  },
  {
   "cell_type": "markdown",
   "metadata": {},
   "source": [
    "By default, columns and tables use an unnamed numeric index, which sorts the elements one after the other from zero upwards:"
   ]
  },
  {
   "cell_type": "code",
   "execution_count": 19,
   "metadata": {},
   "outputs": [
    {
     "data": {
      "text/plain": [
       "RangeIndex(start=0, stop=807, step=1)"
      ]
     },
     "execution_count": 19,
     "metadata": {},
     "output_type": "execute_result"
    }
   ],
   "source": [
    "vysky.index"
   ]
  },
  {
   "cell_type": "markdown",
   "metadata": {},
   "source": [
    "However, there are other types of indices (mostly enumerated):"
   ]
  },
  {
   "cell_type": "code",
   "execution_count": 20,
   "metadata": {},
   "outputs": [
    {
     "data": {
      "text/plain": [
       "Index(['Karla', 'Martina', '\u017dofie'], dtype='object')"
      ]
     },
     "execution_count": 20,
     "metadata": {},
     "output_type": "execute_result"
    }
   ],
   "source": [
    "vek.index"
   ]
  },
  {
   "cell_type": "code",
   "execution_count": 21,
   "metadata": {},
   "outputs": [
    {
     "data": {
      "text/plain": [
       "rok\n",
       "1918    Nez\u00e1vislost \u010ceskoslovenska\n",
       "1945     Konec druh\u00e9 sv\u011btov\u00e9 v\u00e1lky\n",
       "1989             Sametov\u00e1 revoluce\n",
       "dtype: object"
      ]
     },
     "execution_count": 21,
     "metadata": {},
     "output_type": "execute_result"
    }
   ],
   "source": [
    "events = pd.Series (",
    "[&quot;Independence of Czechoslovakia&quot;, &quot;End of World War II&quot;, &quot;Velvet Revolution&quot;],",
    "index = pd.Index ([1918, 1945, 1989], name = &quot;year&quot;) # Index can also have a name",
    ")\n",
    "events"
   ]
  },
  {
   "cell_type": "code",
   "execution_count": 22,
   "metadata": {},
   "outputs": [
    {
     "data": {
      "text/plain": [
       "Int64Index([1918, 1945, 1989], dtype='int64', name='rok')"
      ]
     },
     "execution_count": 22,
     "metadata": {},
     "output_type": "execute_result"
    }
   ],
   "source": [
    "events.index"
   ]
  },
  {
   "cell_type": "markdown",
   "metadata": {},
   "source": [
    "This index is numerical, but the values are not (or are, but should not be) compared and are &quot;leaky&quot;."
   ]
  },
  {
   "cell_type": "code",
   "execution_count": 23,
   "metadata": {},
   "outputs": [
    {
     "data": {
      "text/plain": [
       "DatetimeIndex(['1918-10-28', '1945-05-08', '1989-11-17'], dtype='datetime64[ns]', freq=None)"
      ]
     },
     "execution_count": 23,
     "metadata": {},
     "output_type": "execute_result"
    }
   ],
   "source": [
    "events_precise = pd.Series (",
    "[&quot;Independence of Czechoslovakia&quot;, &quot;End of World War II&quot;, &quot;Velvet Revolution&quot;],",
    "    index = pd.DatetimeIndex(['1918-10-28', '1945-05-08', '1989-11-17'])\n",
    ")\n",
    "events_pres.index"
   ]
  },
  {
   "cell_type": "markdown",
   "metadata": {},
   "source": [
    "The index values can then be used in square brackets to access `Series` elements, similar to a dictionary. But the possibilities are much wider, we will show them in a short time in the context of DataFrame."
   ]
  },
  {
   "cell_type": "code",
   "execution_count": 24,
   "metadata": {},
   "outputs": [
    {
     "data": {
      "text/plain": [
       "65.0"
      ]
     },
     "execution_count": 24,
     "metadata": {},
     "output_type": "execute_result"
    }
   ],
   "source": [
    "age [&quot;Martina&quot;]"
   ]
  },
  {
   "cell_type": "markdown",
   "metadata": {},
   "source": [
    "** Task: ** What index does the Pok\u00e9mon table have?"
   ]
  },
  {
   "cell_type": "markdown",
   "metadata": {},
   "source": [
    "## DataFrame"
   ]
  },
  {
   "cell_type": "markdown",
   "metadata": {},
   "source": [
    "<img src=\"static/df.svg\" style=\"max-height: 25em;\"/>"
   ]
  },
  {
   "cell_type": "markdown",
   "metadata": {},
   "source": [
    "Once we are familiar with the columns and indexes, we can return to the table, respectively. `DataFrame`.",
    "\n",
    "Just like the `Series` is a container of values associated with an index, the` DataFrame` is a two-dimensional container that, in addition to values (`.values`), contains two indexes - one for rows and one for columns:"
   ]
  },
  {
   "cell_type": "code",
   "execution_count": 25,
   "metadata": {},
   "outputs": [
    {
     "data": {
      "text/plain": [
       "Index(['id', 'name', 'height', 'weight', 'color', 'shape', 'is baby', 'type 1',\n",
       "       'type 2', 'hp', 'attack', 'defense', 'speed'],\n",
       "      dtype='object')"
      ]
     },
     "execution_count": 25,
     "metadata": {},
     "output_type": "execute_result"
    }
   ],
   "source": [
    "pokemon_column.columns # Column list"
   ]
  },
  {
   "cell_type": "code",
   "execution_count": 26,
   "metadata": {},
   "outputs": [
    {
     "data": {
      "text/plain": [
       "RangeIndex(start=0, stop=807, step=1)"
      ]
     },
     "execution_count": 26,
     "metadata": {},
     "output_type": "execute_result"
    }
   ],
   "source": [
    "pokemon_table.index #Index (list of rows)"
   ]
  },
  {
   "cell_type": "code",
   "execution_count": 27,
   "metadata": {},
   "outputs": [
    {
     "data": {
      "text/plain": [
       "array([[1, 'bulbasaur', 0.7, ..., 49, 49, 45],\n",
       "       [2, 'ivysaur', 1.0, ..., 62, 63, 60],\n",
       "       [3, 'venusaur', 2.0, ..., 82, 83, 80],\n",
       "       ...,\n",
       "       [805, 'stakataka', 5.5, ..., 131, 211, 13],\n",
       "       [806, 'blacephalon', 1.8, ..., 127, 53, 107],\n",
       "       [807, 'zeraora', 1.5, ..., 112, 75, 143]], dtype=object)"
      ]
     },
     "execution_count": 27,
     "metadata": {},
     "output_type": "execute_result"
    }
   ],
   "source": [
    "tabulka_pokemonu.values"
   ]
  },
  {
   "cell_type": "code",
   "execution_count": 28,
   "metadata": {},
   "outputs": [
    {
     "data": {
      "text/plain": [
       "(807, 13)"
      ]
     },
     "execution_count": 28,
     "metadata": {},
     "output_type": "execute_result"
    }
   ],
   "source": [
    "pokemon_sheet.shape # Size (number of rows x number of columns)"
   ]
  },
  {
   "cell_type": "markdown",
   "metadata": {},
   "source": [
    "There are several ways to construct a new table (in addition to retrieving data from an external file), the most common of which are probably from a list of dictionaries or a dictionary of lists. As with `Series`, some attributes can be supplied as additional arguments."
   ]
  },
  {
   "cell_type": "code",
   "execution_count": 29,
   "metadata": {},
   "outputs": [
    {
     "data": {
      "text/html": [
       "<div>\n",
       "<style scoped>\n",
       "    .dataframe tbody tr th:only-of-type {\n",
       "        vertical-align: middle;\n",
       "    }\n",
       "\n",
       "    .dataframe tbody tr th {\n",
       "        vertical-align: top;\n",
       "    }\n",
       "\n",
       "    .dataframe thead th {\n",
       "        text-align: right;\n",
       "    }\n",
       "</style>\n",
       "<table border=\"1\" class=\"dataframe\">\n",
       "  <thead>\n",
       "    <tr style=\"text-align: right;\">\n",
       "      <th></th>\n",
       "      <th>cislo</th>\n",
       "      <th>pismeno</th>\n",
       "    </tr>\n",
       "  </thead>\n",
       "  <tbody>\n",
       "    <tr>\n",
       "      <td>0</td>\n",
       "      <td>1</td>\n",
       "      <td>a</td>\n",
       "    </tr>\n",
       "    <tr>\n",
       "      <td>1</td>\n",
       "      <td>2</td>\n",
       "      <td>b</td>\n",
       "    </tr>\n",
       "    <tr>\n",
       "      <td>2</td>\n",
       "      <td>3</td>\n",
       "      <td>c</td>\n",
       "    </tr>\n",
       "  </tbody>\n",
       "</table>\n",
       "</div>"
      ],
      "text/plain": [
       "   cislo pismeno\n",
       "0      1       a\n",
       "1      2       b\n",
       "2      3       c"
      ]
     },
     "execution_count": 29,
     "metadata": {},
     "output_type": "execute_result"
    }
   ],
   "source": [
    "pd.DataFrame({\n",
    "&quot;number&quot;: [1, 2, 3],",
    "&quot;letter&quot;: [&quot;a&quot;, &quot;b&quot;, &quot;c&quot;]",
    "})"
   ]
  },
  {
   "cell_type": "code",
   "execution_count": 30,
   "metadata": {},
   "outputs": [
    {
     "data": {
      "text/html": [
       "<div>\n",
       "<style scoped>\n",
       "    .dataframe tbody tr th:only-of-type {\n",
       "        vertical-align: middle;\n",
       "    }\n",
       "\n",
       "    .dataframe tbody tr th {\n",
       "        vertical-align: top;\n",
       "    }\n",
       "\n",
       "    .dataframe thead th {\n",
       "        text-align: right;\n",
       "    }\n",
       "</style>\n",
       "<table border=\"1\" class=\"dataframe\">\n",
       "  <thead>\n",
       "    <tr style=\"text-align: right;\">\n",
       "      <th></th>\n",
       "      <th>jmeno</th>\n",
       "      <th>cena</th>\n",
       "    </tr>\n",
       "  </thead>\n",
       "  <tbody>\n",
       "    <tr>\n",
       "      <td>artikl1</td>\n",
       "      <td>m\u00e1slo</td>\n",
       "      <td>42.9</td>\n",
       "    </tr>\n",
       "    <tr>\n",
       "      <td>artikl2</td>\n",
       "      <td>s\u00fdr</td>\n",
       "      <td>31.9</td>\n",
       "    </tr>\n",
       "    <tr>\n",
       "      <td>artikl3</td>\n",
       "      <td>ke\u010dup</td>\n",
       "      <td>49.9</td>\n",
       "    </tr>\n",
       "  </tbody>\n",
       "</table>\n",
       "</div>"
      ],
      "text/plain": [
       "         jmeno  cena\n",
       "artikl1  m\u00e1slo  42.9\n",
       "artikl2    s\u00fdr  31.9\n",
       "artikl3  ke\u010dup  49.9"
      ]
     },
     "execution_count": 30,
     "metadata": {},
     "output_type": "execute_result"
    }
   ],
   "source": [
    "pd.DataFrame([\n",
    "{&quot;name&quot;: &quot;butter&quot;, &quot;price&quot;: 42.90},",
    "{&quot;name&quot;: &quot;cheese&quot;, &quot;price&quot;: 31.90},",
    "{&quot;name&quot;: &quot;ketchup&quot;, &quot;price&quot;: 49.90},",
    "    ],\n",
    "index = [&quot;article1&quot;, &quot;article2&quot;, &quot;article3&quot;]",
    ")"
   ]
  },
  {
   "cell_type": "markdown",
   "metadata": {},
   "source": [
    "** Task: ** Create a table (`DataFrame`) that will contain&quot; first name &quot;,&quot; last name &quot;and&quot; age &quot;columns for characters from one of your favorite novels or movies. You can, but you don&#39;t have to use an index on it."
   ]
  },
  {
   "cell_type": "markdown",
   "metadata": {},
   "source": [
    "## Indexing",
    "\n",
    "Rows, columns, numerical order, keys, ranges ... Pandas sometimes behave like lists, sometimes like dictionaries. So how do you get value from them? There is a lot to do, so accessing parts of the table is not enough with simple square brackets `[]`.",
    "\n",
    "For starters, let&#39;s adjust our Pok\u00e9mon table to have an interesting and easy-to-grasp index. We will use two methods of the `DataFrame` class (both return a new` DataFrame` instance, derived from the instance we are calling them to):",
    "\n",
    "* `set_index` returns a table in which one of the columns is used as an index",
    "\n",
    "* `sort_index` returns a table that contains the same index but sorted"
   ]
  },
  {
   "cell_type": "code",
   "execution_count": 31,
   "metadata": {},
   "outputs": [
    {
     "data": {
      "text/html": [
       "<div>\n",
       "<style scoped>\n",
       "    .dataframe tbody tr th:only-of-type {\n",
       "        vertical-align: middle;\n",
       "    }\n",
       "\n",
       "    .dataframe tbody tr th {\n",
       "        vertical-align: top;\n",
       "    }\n",
       "\n",
       "    .dataframe thead th {\n",
       "        text-align: right;\n",
       "    }\n",
       "</style>\n",
       "<table border=\"1\" class=\"dataframe\">\n",
       "  <thead>\n",
       "    <tr style=\"text-align: right;\">\n",
       "      <th></th>\n",
       "      <th>id</th>\n",
       "      <th>height</th>\n",
       "      <th>weight</th>\n",
       "      <th>color</th>\n",
       "      <th>shape</th>\n",
       "      <th>is baby</th>\n",
       "      <th>type 1</th>\n",
       "      <th>type 2</th>\n",
       "      <th>hp</th>\n",
       "      <th>attack</th>\n",
       "      <th>defense</th>\n",
       "      <th>speed</th>\n",
       "    </tr>\n",
       "    <tr>\n",
       "      <th>name</th>\n",
       "      <th></th>\n",
       "      <th></th>\n",
       "      <th></th>\n",
       "      <th></th>\n",
       "      <th></th>\n",
       "      <th></th>\n",
       "      <th></th>\n",
       "      <th></th>\n",
       "      <th></th>\n",
       "      <th></th>\n",
       "      <th></th>\n",
       "      <th></th>\n",
       "    </tr>\n",
       "  </thead>\n",
       "  <tbody>\n",
       "    <tr>\n",
       "      <td>abomasnow</td>\n",
       "      <td>460</td>\n",
       "      <td>2.2</td>\n",
       "      <td>135.5</td>\n",
       "      <td>white</td>\n",
       "      <td>upright</td>\n",
       "      <td>False</td>\n",
       "      <td>Grass</td>\n",
       "      <td>Ice</td>\n",
       "      <td>90</td>\n",
       "      <td>92</td>\n",
       "      <td>75</td>\n",
       "      <td>60</td>\n",
       "    </tr>\n",
       "    <tr>\n",
       "      <td>abra</td>\n",
       "      <td>63</td>\n",
       "      <td>0.9</td>\n",
       "      <td>19.5</td>\n",
       "      <td>brown</td>\n",
       "      <td>upright</td>\n",
       "      <td>False</td>\n",
       "      <td>Psychic</td>\n",
       "      <td>NaN</td>\n",
       "      <td>25</td>\n",
       "      <td>20</td>\n",
       "      <td>15</td>\n",
       "      <td>90</td>\n",
       "    </tr>\n",
       "    <tr>\n",
       "      <td>absol</td>\n",
       "      <td>359</td>\n",
       "      <td>1.2</td>\n",
       "      <td>47.0</td>\n",
       "      <td>white</td>\n",
       "      <td>quadruped</td>\n",
       "      <td>False</td>\n",
       "      <td>Dark</td>\n",
       "      <td>NaN</td>\n",
       "      <td>65</td>\n",
       "      <td>130</td>\n",
       "      <td>60</td>\n",
       "      <td>75</td>\n",
       "    </tr>\n",
       "    <tr>\n",
       "      <td>accelgor</td>\n",
       "      <td>617</td>\n",
       "      <td>0.8</td>\n",
       "      <td>25.3</td>\n",
       "      <td>red</td>\n",
       "      <td>arms</td>\n",
       "      <td>False</td>\n",
       "      <td>Bug</td>\n",
       "      <td>NaN</td>\n",
       "      <td>80</td>\n",
       "      <td>70</td>\n",
       "      <td>40</td>\n",
       "      <td>145</td>\n",
       "    </tr>\n",
       "    <tr>\n",
       "      <td>aegislash</td>\n",
       "      <td>681</td>\n",
       "      <td>1.7</td>\n",
       "      <td>53.0</td>\n",
       "      <td>brown</td>\n",
       "      <td>blob</td>\n",
       "      <td>False</td>\n",
       "      <td>Steel</td>\n",
       "      <td>Ghost</td>\n",
       "      <td>60</td>\n",
       "      <td>50</td>\n",
       "      <td>150</td>\n",
       "      <td>60</td>\n",
       "    </tr>\n",
       "    <tr>\n",
       "      <td>...</td>\n",
       "      <td>...</td>\n",
       "      <td>...</td>\n",
       "      <td>...</td>\n",
       "      <td>...</td>\n",
       "      <td>...</td>\n",
       "      <td>...</td>\n",
       "      <td>...</td>\n",
       "      <td>...</td>\n",
       "      <td>...</td>\n",
       "      <td>...</td>\n",
       "      <td>...</td>\n",
       "      <td>...</td>\n",
       "    </tr>\n",
       "    <tr>\n",
       "      <td>zoroark</td>\n",
       "      <td>571</td>\n",
       "      <td>1.6</td>\n",
       "      <td>81.1</td>\n",
       "      <td>gray</td>\n",
       "      <td>upright</td>\n",
       "      <td>False</td>\n",
       "      <td>Dark</td>\n",
       "      <td>NaN</td>\n",
       "      <td>60</td>\n",
       "      <td>105</td>\n",
       "      <td>60</td>\n",
       "      <td>105</td>\n",
       "    </tr>\n",
       "    <tr>\n",
       "      <td>zorua</td>\n",
       "      <td>570</td>\n",
       "      <td>0.7</td>\n",
       "      <td>12.5</td>\n",
       "      <td>gray</td>\n",
       "      <td>quadruped</td>\n",
       "      <td>False</td>\n",
       "      <td>Dark</td>\n",
       "      <td>NaN</td>\n",
       "      <td>40</td>\n",
       "      <td>65</td>\n",
       "      <td>40</td>\n",
       "      <td>65</td>\n",
       "    </tr>\n",
       "    <tr>\n",
       "      <td>zubat</td>\n",
       "      <td>41</td>\n",
       "      <td>0.8</td>\n",
       "      <td>7.5</td>\n",
       "      <td>purple</td>\n",
       "      <td>wings</td>\n",
       "      <td>False</td>\n",
       "      <td>Poison</td>\n",
       "      <td>Flying</td>\n",
       "      <td>40</td>\n",
       "      <td>45</td>\n",
       "      <td>35</td>\n",
       "      <td>55</td>\n",
       "    </tr>\n",
       "    <tr>\n",
       "      <td>zweilous</td>\n",
       "      <td>634</td>\n",
       "      <td>1.4</td>\n",
       "      <td>50.0</td>\n",
       "      <td>blue</td>\n",
       "      <td>quadruped</td>\n",
       "      <td>False</td>\n",
       "      <td>Dark</td>\n",
       "      <td>Dragon</td>\n",
       "      <td>72</td>\n",
       "      <td>85</td>\n",
       "      <td>70</td>\n",
       "      <td>58</td>\n",
       "    </tr>\n",
       "    <tr>\n",
       "      <td>zygarde</td>\n",
       "      <td>718</td>\n",
       "      <td>5.0</td>\n",
       "      <td>305.0</td>\n",
       "      <td>green</td>\n",
       "      <td>squiggle</td>\n",
       "      <td>False</td>\n",
       "      <td>Dragon</td>\n",
       "      <td>Ground</td>\n",
       "      <td>108</td>\n",
       "      <td>100</td>\n",
       "      <td>121</td>\n",
       "      <td>95</td>\n",
       "    </tr>\n",
       "  </tbody>\n",
       "</table>\n",
       "<p>807 rows \u00d7 12 columns</p>\n",
       "</div>"
      ],
      "text/plain": [
       "            id  height  weight   color      shape  is baby   type 1  type 2  \\\n",
       "name                                                                          \n",
       "abomasnow  460     2.2   135.5   white    upright    False    Grass     Ice   \n",
       "abra        63     0.9    19.5   brown    upright    False  Psychic     NaN   \n",
       "absol      359     1.2    47.0   white  quadruped    False     Dark     NaN   \n",
       "accelgor   617     0.8    25.3     red       arms    False      Bug     NaN   \n",
       "aegislash  681     1.7    53.0   brown       blob    False    Steel   Ghost   \n",
       "...        ...     ...     ...     ...        ...      ...      ...     ...   \n",
       "zoroark    571     1.6    81.1    gray    upright    False     Dark     NaN   \n",
       "zorua      570     0.7    12.5    gray  quadruped    False     Dark     NaN   \n",
       "zubat       41     0.8     7.5  purple      wings    False   Poison  Flying   \n",
       "zweilous   634     1.4    50.0    blue  quadruped    False     Dark  Dragon   \n",
       "zygarde    718     5.0   305.0   green   squiggle    False   Dragon  Ground   \n",
       "\n",
       "            hp  attack  defense  speed  \n",
       "name                                    \n",
       "abomasnow   90      92       75     60  \n",
       "abra        25      20       15     90  \n",
       "absol       65     130       60     75  \n",
       "accelgor    80      70       40    145  \n",
       "aegislash   60      50      150     60  \n",
       "...        ...     ...      ...    ...  \n",
       "zoroark     60     105       60    105  \n",
       "zorua       40      65       40     65  \n",
       "zubat       40      45       35     55  \n",
       "zweilous    72      85       70     58  \n",
       "zygarde    108     100      121     95  \n",
       "\n",
       "[807 rows x 12 columns]"
      ]
     },
     "execution_count": 31,
     "metadata": {},
     "output_type": "execute_result"
    }
   ],
   "source": [
    "pokemoni = tabulka_pokemonu.set_index(\"name\").sort_index()\n",
    "pokemoni"
   ]
  },
  {
   "cell_type": "code",
   "execution_count": 32,
   "metadata": {},
   "outputs": [
    {
     "data": {
      "text/plain": [
       "Index(['abomasnow', 'abra', 'absol', 'accelgor', 'aegislash', 'aerodactyl',\n",
       "       'aggron', 'aipom', 'alakazam', 'alomomola',\n",
       "       ...\n",
       "       'zapdos', 'zebstrika', 'zekrom', 'zeraora', 'zigzagoon', 'zoroark',\n",
       "       'zorua', 'zubat', 'zweilous', 'zygarde'],\n",
       "      dtype='object', name='name', length=807)"
      ]
     },
     "execution_count": 32,
     "metadata": {},
     "output_type": "execute_result"
    }
   ],
   "source": [
    "pokemoni.index"
   ]
  },
  {
   "cell_type": "markdown",
   "metadata": {},
   "source": [
    "### `[]`\n",
    "\n",
    "Let&#39;s start with square brackets:",
    "\n",
    "* For `Series`, it returns the value to which the corresponding key belongs in the index (we showed this above).",
    "* For `DataFrame` returns a column with the appropriate name"
   ]
  },
  {
   "cell_type": "code",
   "execution_count": 33,
   "metadata": {},
   "outputs": [
    {
     "data": {
      "text/plain": [
       "name\n",
       "abomasnow    2.2\n",
       "abra         0.9\n",
       "absol        1.2\n",
       "accelgor     0.8\n",
       "aegislash    1.7\n",
       "            ... \n",
       "zoroark      1.6\n",
       "zorua        0.7\n",
       "zubat        0.8\n",
       "zweilous     1.4\n",
       "zygarde      5.0\n",
       "Name: height, Length: 807, dtype: float64"
      ]
     },
     "execution_count": 33,
     "metadata": {},
     "output_type": "execute_result"
    }
   ],
   "source": [
    "pokemoni[\"height\"]"
   ]
  },
  {
   "cell_type": "markdown",
   "metadata": {},
   "source": [
    "If you put several values in the list in parentheses next to `DataFrame`, you will get more columns (and therefore` DataFrame`!):"
   ]
  },
  {
   "cell_type": "code",
   "execution_count": 34,
   "metadata": {},
   "outputs": [
    {
     "data": {
      "text/html": [
       "<div>\n",
       "<style scoped>\n",
       "    .dataframe tbody tr th:only-of-type {\n",
       "        vertical-align: middle;\n",
       "    }\n",
       "\n",
       "    .dataframe tbody tr th {\n",
       "        vertical-align: top;\n",
       "    }\n",
       "\n",
       "    .dataframe thead th {\n",
       "        text-align: right;\n",
       "    }\n",
       "</style>\n",
       "<table border=\"1\" class=\"dataframe\">\n",
       "  <thead>\n",
       "    <tr style=\"text-align: right;\">\n",
       "      <th></th>\n",
       "      <th>height</th>\n",
       "      <th>weight</th>\n",
       "    </tr>\n",
       "    <tr>\n",
       "      <th>name</th>\n",
       "      <th></th>\n",
       "      <th></th>\n",
       "    </tr>\n",
       "  </thead>\n",
       "  <tbody>\n",
       "    <tr>\n",
       "      <td>abomasnow</td>\n",
       "      <td>2.2</td>\n",
       "      <td>135.5</td>\n",
       "    </tr>\n",
       "    <tr>\n",
       "      <td>abra</td>\n",
       "      <td>0.9</td>\n",
       "      <td>19.5</td>\n",
       "    </tr>\n",
       "    <tr>\n",
       "      <td>absol</td>\n",
       "      <td>1.2</td>\n",
       "      <td>47.0</td>\n",
       "    </tr>\n",
       "    <tr>\n",
       "      <td>accelgor</td>\n",
       "      <td>0.8</td>\n",
       "      <td>25.3</td>\n",
       "    </tr>\n",
       "    <tr>\n",
       "      <td>aegislash</td>\n",
       "      <td>1.7</td>\n",
       "      <td>53.0</td>\n",
       "    </tr>\n",
       "    <tr>\n",
       "      <td>...</td>\n",
       "      <td>...</td>\n",
       "      <td>...</td>\n",
       "    </tr>\n",
       "    <tr>\n",
       "      <td>zoroark</td>\n",
       "      <td>1.6</td>\n",
       "      <td>81.1</td>\n",
       "    </tr>\n",
       "    <tr>\n",
       "      <td>zorua</td>\n",
       "      <td>0.7</td>\n",
       "      <td>12.5</td>\n",
       "    </tr>\n",
       "    <tr>\n",
       "      <td>zubat</td>\n",
       "      <td>0.8</td>\n",
       "      <td>7.5</td>\n",
       "    </tr>\n",
       "    <tr>\n",
       "      <td>zweilous</td>\n",
       "      <td>1.4</td>\n",
       "      <td>50.0</td>\n",
       "    </tr>\n",
       "    <tr>\n",
       "      <td>zygarde</td>\n",
       "      <td>5.0</td>\n",
       "      <td>305.0</td>\n",
       "    </tr>\n",
       "  </tbody>\n",
       "</table>\n",
       "<p>807 rows \u00d7 2 columns</p>\n",
       "</div>"
      ],
      "text/plain": [
       "           height  weight\n",
       "name                     \n",
       "abomasnow     2.2   135.5\n",
       "abra          0.9    19.5\n",
       "absol         1.2    47.0\n",
       "accelgor      0.8    25.3\n",
       "aegislash     1.7    53.0\n",
       "...           ...     ...\n",
       "zoroark       1.6    81.1\n",
       "zorua         0.7    12.5\n",
       "zubat         0.8     7.5\n",
       "zweilous      1.4    50.0\n",
       "zygarde       5.0   305.0\n",
       "\n",
       "[807 rows x 2 columns]"
      ]
     },
     "execution_count": 34,
     "metadata": {},
     "output_type": "execute_result"
    }
   ],
   "source": [
    "pokemoni[[\"height\", \"weight\"]]"
   ]
  },
  {
   "cell_type": "markdown",
   "metadata": {},
   "source": [
    "** Task: ** What happens when you do the same with the `Series`?"
   ]
  },
  {
   "cell_type": "markdown",
   "metadata": {},
   "source": [
    "** Task: ** Which of the last 5 pokemons (in alphabetical order) is the fastest?"
   ]
  },
  {
   "cell_type": "markdown",
   "metadata": {},
   "source": [
    "### `.loc []`",
    "\n",
    "When we want to get a row, we use the `loc` attribute, the so-called indexer. Be careful, this is not a method and square brackets are not used, but square ones. (There are reasons for this - this is the only way we can elegantly use abbreviated colon notation for ranges)."
   ]
  },
  {
   "cell_type": "code",
   "execution_count": 35,
   "metadata": {},
   "outputs": [
    {
     "data": {
      "text/plain": [
       "id              63\n",
       "height         0.9\n",
       "weight        19.5\n",
       "color        brown\n",
       "shape      upright\n",
       "is baby      False\n",
       "type 1     Psychic\n",
       "type 2         NaN\n",
       "hp              25\n",
       "attack          20\n",
       "defense         15\n",
       "speed           90\n",
       "Name: abra, dtype: object"
      ]
     },
     "execution_count": 35,
     "metadata": {},
     "output_type": "execute_result"
    }
   ],
   "source": [
    "pokemoni.loc [&quot;open&quot;]"
   ]
  },
  {
   "cell_type": "markdown",
   "metadata": {},
   "source": [
    "We were interested in the row with the index &quot;abra&quot; and we got the expected result - `Series`, where each value is indexed by the name of the column.",
    "\n",
    "However, the situation becomes interesting when we start using ranges in the index (remember that dictionaries can&#39;t do that):"
   ]
  },
  {
   "cell_type": "code",
   "execution_count": 36,
   "metadata": {},
   "outputs": [
    {
     "data": {
      "text/html": [
       "<div>\n",
       "<style scoped>\n",
       "    .dataframe tbody tr th:only-of-type {\n",
       "        vertical-align: middle;\n",
       "    }\n",
       "\n",
       "    .dataframe tbody tr th {\n",
       "        vertical-align: top;\n",
       "    }\n",
       "\n",
       "    .dataframe thead th {\n",
       "        text-align: right;\n",
       "    }\n",
       "</style>\n",
       "<table border=\"1\" class=\"dataframe\">\n",
       "  <thead>\n",
       "    <tr style=\"text-align: right;\">\n",
       "      <th></th>\n",
       "      <th>id</th>\n",
       "      <th>height</th>\n",
       "      <th>weight</th>\n",
       "      <th>color</th>\n",
       "      <th>shape</th>\n",
       "      <th>is baby</th>\n",
       "      <th>type 1</th>\n",
       "      <th>type 2</th>\n",
       "      <th>hp</th>\n",
       "      <th>attack</th>\n",
       "      <th>defense</th>\n",
       "      <th>speed</th>\n",
       "    </tr>\n",
       "    <tr>\n",
       "      <th>name</th>\n",
       "      <th></th>\n",
       "      <th></th>\n",
       "      <th></th>\n",
       "      <th></th>\n",
       "      <th></th>\n",
       "      <th></th>\n",
       "      <th></th>\n",
       "      <th></th>\n",
       "      <th></th>\n",
       "      <th></th>\n",
       "      <th></th>\n",
       "      <th></th>\n",
       "    </tr>\n",
       "  </thead>\n",
       "  <tbody>\n",
       "    <tr>\n",
       "      <td>zangoose</td>\n",
       "      <td>335</td>\n",
       "      <td>1.3</td>\n",
       "      <td>40.3</td>\n",
       "      <td>white</td>\n",
       "      <td>upright</td>\n",
       "      <td>False</td>\n",
       "      <td>Normal</td>\n",
       "      <td>NaN</td>\n",
       "      <td>73</td>\n",
       "      <td>115</td>\n",
       "      <td>60</td>\n",
       "      <td>90</td>\n",
       "    </tr>\n",
       "    <tr>\n",
       "      <td>zapdos</td>\n",
       "      <td>145</td>\n",
       "      <td>1.6</td>\n",
       "      <td>52.6</td>\n",
       "      <td>yellow</td>\n",
       "      <td>wings</td>\n",
       "      <td>False</td>\n",
       "      <td>Electric</td>\n",
       "      <td>Flying</td>\n",
       "      <td>90</td>\n",
       "      <td>90</td>\n",
       "      <td>85</td>\n",
       "      <td>100</td>\n",
       "    </tr>\n",
       "    <tr>\n",
       "      <td>zebstrika</td>\n",
       "      <td>523</td>\n",
       "      <td>1.6</td>\n",
       "      <td>79.5</td>\n",
       "      <td>black</td>\n",
       "      <td>quadruped</td>\n",
       "      <td>False</td>\n",
       "      <td>Electric</td>\n",
       "      <td>NaN</td>\n",
       "      <td>75</td>\n",
       "      <td>100</td>\n",
       "      <td>63</td>\n",
       "      <td>116</td>\n",
       "    </tr>\n",
       "    <tr>\n",
       "      <td>zekrom</td>\n",
       "      <td>644</td>\n",
       "      <td>2.9</td>\n",
       "      <td>345.0</td>\n",
       "      <td>black</td>\n",
       "      <td>upright</td>\n",
       "      <td>False</td>\n",
       "      <td>Dragon</td>\n",
       "      <td>Electric</td>\n",
       "      <td>100</td>\n",
       "      <td>150</td>\n",
       "      <td>120</td>\n",
       "      <td>90</td>\n",
       "    </tr>\n",
       "    <tr>\n",
       "      <td>zeraora</td>\n",
       "      <td>807</td>\n",
       "      <td>1.5</td>\n",
       "      <td>44.5</td>\n",
       "      <td>yellow</td>\n",
       "      <td>humanoid</td>\n",
       "      <td>False</td>\n",
       "      <td>Electric</td>\n",
       "      <td>NaN</td>\n",
       "      <td>88</td>\n",
       "      <td>112</td>\n",
       "      <td>75</td>\n",
       "      <td>143</td>\n",
       "    </tr>\n",
       "    <tr>\n",
       "      <td>zigzagoon</td>\n",
       "      <td>263</td>\n",
       "      <td>0.4</td>\n",
       "      <td>17.5</td>\n",
       "      <td>brown</td>\n",
       "      <td>quadruped</td>\n",
       "      <td>False</td>\n",
       "      <td>Normal</td>\n",
       "      <td>NaN</td>\n",
       "      <td>38</td>\n",
       "      <td>30</td>\n",
       "      <td>41</td>\n",
       "      <td>60</td>\n",
       "    </tr>\n",
       "    <tr>\n",
       "      <td>zoroark</td>\n",
       "      <td>571</td>\n",
       "      <td>1.6</td>\n",
       "      <td>81.1</td>\n",
       "      <td>gray</td>\n",
       "      <td>upright</td>\n",
       "      <td>False</td>\n",
       "      <td>Dark</td>\n",
       "      <td>NaN</td>\n",
       "      <td>60</td>\n",
       "      <td>105</td>\n",
       "      <td>60</td>\n",
       "      <td>105</td>\n",
       "    </tr>\n",
       "    <tr>\n",
       "      <td>zorua</td>\n",
       "      <td>570</td>\n",
       "      <td>0.7</td>\n",
       "      <td>12.5</td>\n",
       "      <td>gray</td>\n",
       "      <td>quadruped</td>\n",
       "      <td>False</td>\n",
       "      <td>Dark</td>\n",
       "      <td>NaN</td>\n",
       "      <td>40</td>\n",
       "      <td>65</td>\n",
       "      <td>40</td>\n",
       "      <td>65</td>\n",
       "    </tr>\n",
       "    <tr>\n",
       "      <td>zubat</td>\n",
       "      <td>41</td>\n",
       "      <td>0.8</td>\n",
       "      <td>7.5</td>\n",
       "      <td>purple</td>\n",
       "      <td>wings</td>\n",
       "      <td>False</td>\n",
       "      <td>Poison</td>\n",
       "      <td>Flying</td>\n",
       "      <td>40</td>\n",
       "      <td>45</td>\n",
       "      <td>35</td>\n",
       "      <td>55</td>\n",
       "    </tr>\n",
       "    <tr>\n",
       "      <td>zweilous</td>\n",
       "      <td>634</td>\n",
       "      <td>1.4</td>\n",
       "      <td>50.0</td>\n",
       "      <td>blue</td>\n",
       "      <td>quadruped</td>\n",
       "      <td>False</td>\n",
       "      <td>Dark</td>\n",
       "      <td>Dragon</td>\n",
       "      <td>72</td>\n",
       "      <td>85</td>\n",
       "      <td>70</td>\n",
       "      <td>58</td>\n",
       "    </tr>\n",
       "    <tr>\n",
       "      <td>zygarde</td>\n",
       "      <td>718</td>\n",
       "      <td>5.0</td>\n",
       "      <td>305.0</td>\n",
       "      <td>green</td>\n",
       "      <td>squiggle</td>\n",
       "      <td>False</td>\n",
       "      <td>Dragon</td>\n",
       "      <td>Ground</td>\n",
       "      <td>108</td>\n",
       "      <td>100</td>\n",
       "      <td>121</td>\n",
       "      <td>95</td>\n",
       "    </tr>\n",
       "  </tbody>\n",
       "</table>\n",
       "</div>"
      ],
      "text/plain": [
       "            id  height  weight   color      shape  is baby    type 1  \\\n",
       "name                                                                   \n",
       "zangoose   335     1.3    40.3   white    upright    False    Normal   \n",
       "zapdos     145     1.6    52.6  yellow      wings    False  Electric   \n",
       "zebstrika  523     1.6    79.5   black  quadruped    False  Electric   \n",
       "zekrom     644     2.9   345.0   black    upright    False    Dragon   \n",
       "zeraora    807     1.5    44.5  yellow   humanoid    False  Electric   \n",
       "zigzagoon  263     0.4    17.5   brown  quadruped    False    Normal   \n",
       "zoroark    571     1.6    81.1    gray    upright    False      Dark   \n",
       "zorua      570     0.7    12.5    gray  quadruped    False      Dark   \n",
       "zubat       41     0.8     7.5  purple      wings    False    Poison   \n",
       "zweilous   634     1.4    50.0    blue  quadruped    False      Dark   \n",
       "zygarde    718     5.0   305.0   green   squiggle    False    Dragon   \n",
       "\n",
       "             type 2   hp  attack  defense  speed  \n",
       "name                                              \n",
       "zangoose        NaN   73     115       60     90  \n",
       "zapdos       Flying   90      90       85    100  \n",
       "zebstrika       NaN   75     100       63    116  \n",
       "zekrom     Electric  100     150      120     90  \n",
       "zeraora         NaN   88     112       75    143  \n",
       "zigzagoon       NaN   38      30       41     60  \n",
       "zoroark         NaN   60     105       60    105  \n",
       "zorua           NaN   40      65       40     65  \n",
       "zubat        Flying   40      45       35     55  \n",
       "zweilous     Dragon   72      85       70     58  \n",
       "zygarde      Ground  108     100      121     95  "
      ]
     },
     "execution_count": 36,
     "metadata": {},
     "output_type": "execute_result"
    }
   ],
   "source": [
    "pokemoni.loc [&quot;z&quot;:]"
   ]
  },
  {
   "cell_type": "markdown",
   "metadata": {},
   "source": [
    "Pandas intelligently understood that we wanted all the keys to some extent, even without them being present in the index.",
    "\n",
    "\u26a0\ufe0f However, this can only be done with a sorted index. If the index is not sorted, the range of existing keys is selected in order, including both extremes, as follows:"
   ]
  },
  {
   "cell_type": "code",
   "execution_count": 37,
   "metadata": {},
   "outputs": [
    {
     "data": {
      "text/html": [
       "<div>\n",
       "<style scoped>\n",
       "    .dataframe tbody tr th:only-of-type {\n",
       "        vertical-align: middle;\n",
       "    }\n",
       "\n",
       "    .dataframe tbody tr th {\n",
       "        vertical-align: top;\n",
       "    }\n",
       "\n",
       "    .dataframe thead th {\n",
       "        text-align: right;\n",
       "    }\n",
       "</style>\n",
       "<table border=\"1\" class=\"dataframe\">\n",
       "  <thead>\n",
       "    <tr style=\"text-align: right;\">\n",
       "      <th></th>\n",
       "      <th>id</th>\n",
       "      <th>height</th>\n",
       "      <th>weight</th>\n",
       "      <th>color</th>\n",
       "      <th>shape</th>\n",
       "      <th>is baby</th>\n",
       "      <th>type 1</th>\n",
       "      <th>type 2</th>\n",
       "      <th>hp</th>\n",
       "      <th>attack</th>\n",
       "      <th>defense</th>\n",
       "      <th>speed</th>\n",
       "    </tr>\n",
       "    <tr>\n",
       "      <th>name</th>\n",
       "      <th></th>\n",
       "      <th></th>\n",
       "      <th></th>\n",
       "      <th></th>\n",
       "      <th></th>\n",
       "      <th></th>\n",
       "      <th></th>\n",
       "      <th></th>\n",
       "      <th></th>\n",
       "      <th></th>\n",
       "      <th></th>\n",
       "      <th></th>\n",
       "    </tr>\n",
       "  </thead>\n",
       "  <tbody>\n",
       "    <tr>\n",
       "      <td>zangoose</td>\n",
       "      <td>335</td>\n",
       "      <td>1.3</td>\n",
       "      <td>40.3</td>\n",
       "      <td>white</td>\n",
       "      <td>upright</td>\n",
       "      <td>False</td>\n",
       "      <td>Normal</td>\n",
       "      <td>NaN</td>\n",
       "      <td>73</td>\n",
       "      <td>115</td>\n",
       "      <td>60</td>\n",
       "      <td>90</td>\n",
       "    </tr>\n",
       "    <tr>\n",
       "      <td>zapdos</td>\n",
       "      <td>145</td>\n",
       "      <td>1.6</td>\n",
       "      <td>52.6</td>\n",
       "      <td>yellow</td>\n",
       "      <td>wings</td>\n",
       "      <td>False</td>\n",
       "      <td>Electric</td>\n",
       "      <td>Flying</td>\n",
       "      <td>90</td>\n",
       "      <td>90</td>\n",
       "      <td>85</td>\n",
       "      <td>100</td>\n",
       "    </tr>\n",
       "    <tr>\n",
       "      <td>zebstrika</td>\n",
       "      <td>523</td>\n",
       "      <td>1.6</td>\n",
       "      <td>79.5</td>\n",
       "      <td>black</td>\n",
       "      <td>quadruped</td>\n",
       "      <td>False</td>\n",
       "      <td>Electric</td>\n",
       "      <td>NaN</td>\n",
       "      <td>75</td>\n",
       "      <td>100</td>\n",
       "      <td>63</td>\n",
       "      <td>116</td>\n",
       "    </tr>\n",
       "    <tr>\n",
       "      <td>zekrom</td>\n",
       "      <td>644</td>\n",
       "      <td>2.9</td>\n",
       "      <td>345.0</td>\n",
       "      <td>black</td>\n",
       "      <td>upright</td>\n",
       "      <td>False</td>\n",
       "      <td>Dragon</td>\n",
       "      <td>Electric</td>\n",
       "      <td>100</td>\n",
       "      <td>150</td>\n",
       "      <td>120</td>\n",
       "      <td>90</td>\n",
       "    </tr>\n",
       "    <tr>\n",
       "      <td>zeraora</td>\n",
       "      <td>807</td>\n",
       "      <td>1.5</td>\n",
       "      <td>44.5</td>\n",
       "      <td>yellow</td>\n",
       "      <td>humanoid</td>\n",
       "      <td>False</td>\n",
       "      <td>Electric</td>\n",
       "      <td>NaN</td>\n",
       "      <td>88</td>\n",
       "      <td>112</td>\n",
       "      <td>75</td>\n",
       "      <td>143</td>\n",
       "    </tr>\n",
       "    <tr>\n",
       "      <td>zigzagoon</td>\n",
       "      <td>263</td>\n",
       "      <td>0.4</td>\n",
       "      <td>17.5</td>\n",
       "      <td>brown</td>\n",
       "      <td>quadruped</td>\n",
       "      <td>False</td>\n",
       "      <td>Normal</td>\n",
       "      <td>NaN</td>\n",
       "      <td>38</td>\n",
       "      <td>30</td>\n",
       "      <td>41</td>\n",
       "      <td>60</td>\n",
       "    </tr>\n",
       "    <tr>\n",
       "      <td>zoroark</td>\n",
       "      <td>571</td>\n",
       "      <td>1.6</td>\n",
       "      <td>81.1</td>\n",
       "      <td>gray</td>\n",
       "      <td>upright</td>\n",
       "      <td>False</td>\n",
       "      <td>Dark</td>\n",
       "      <td>NaN</td>\n",
       "      <td>60</td>\n",
       "      <td>105</td>\n",
       "      <td>60</td>\n",
       "      <td>105</td>\n",
       "    </tr>\n",
       "    <tr>\n",
       "      <td>zorua</td>\n",
       "      <td>570</td>\n",
       "      <td>0.7</td>\n",
       "      <td>12.5</td>\n",
       "      <td>gray</td>\n",
       "      <td>quadruped</td>\n",
       "      <td>False</td>\n",
       "      <td>Dark</td>\n",
       "      <td>NaN</td>\n",
       "      <td>40</td>\n",
       "      <td>65</td>\n",
       "      <td>40</td>\n",
       "      <td>65</td>\n",
       "    </tr>\n",
       "    <tr>\n",
       "      <td>zubat</td>\n",
       "      <td>41</td>\n",
       "      <td>0.8</td>\n",
       "      <td>7.5</td>\n",
       "      <td>purple</td>\n",
       "      <td>wings</td>\n",
       "      <td>False</td>\n",
       "      <td>Poison</td>\n",
       "      <td>Flying</td>\n",
       "      <td>40</td>\n",
       "      <td>45</td>\n",
       "      <td>35</td>\n",
       "      <td>55</td>\n",
       "    </tr>\n",
       "    <tr>\n",
       "      <td>zweilous</td>\n",
       "      <td>634</td>\n",
       "      <td>1.4</td>\n",
       "      <td>50.0</td>\n",
       "      <td>blue</td>\n",
       "      <td>quadruped</td>\n",
       "      <td>False</td>\n",
       "      <td>Dark</td>\n",
       "      <td>Dragon</td>\n",
       "      <td>72</td>\n",
       "      <td>85</td>\n",
       "      <td>70</td>\n",
       "      <td>58</td>\n",
       "    </tr>\n",
       "    <tr>\n",
       "      <td>zygarde</td>\n",
       "      <td>718</td>\n",
       "      <td>5.0</td>\n",
       "      <td>305.0</td>\n",
       "      <td>green</td>\n",
       "      <td>squiggle</td>\n",
       "      <td>False</td>\n",
       "      <td>Dragon</td>\n",
       "      <td>Ground</td>\n",
       "      <td>108</td>\n",
       "      <td>100</td>\n",
       "      <td>121</td>\n",
       "      <td>95</td>\n",
       "    </tr>\n",
       "  </tbody>\n",
       "</table>\n",
       "</div>"
      ],
      "text/plain": [
       "            id  height  weight   color      shape  is baby    type 1  \\\n",
       "name                                                                   \n",
       "zangoose   335     1.3    40.3   white    upright    False    Normal   \n",
       "zapdos     145     1.6    52.6  yellow      wings    False  Electric   \n",
       "zebstrika  523     1.6    79.5   black  quadruped    False  Electric   \n",
       "zekrom     644     2.9   345.0   black    upright    False    Dragon   \n",
       "zeraora    807     1.5    44.5  yellow   humanoid    False  Electric   \n",
       "zigzagoon  263     0.4    17.5   brown  quadruped    False    Normal   \n",
       "zoroark    571     1.6    81.1    gray    upright    False      Dark   \n",
       "zorua      570     0.7    12.5    gray  quadruped    False      Dark   \n",
       "zubat       41     0.8     7.5  purple      wings    False    Poison   \n",
       "zweilous   634     1.4    50.0    blue  quadruped    False      Dark   \n",
       "zygarde    718     5.0   305.0   green   squiggle    False    Dragon   \n",
       "\n",
       "             type 2   hp  attack  defense  speed  \n",
       "name                                              \n",
       "zangoose        NaN   73     115       60     90  \n",
       "zapdos       Flying   90      90       85    100  \n",
       "zebstrika       NaN   75     100       63    116  \n",
       "zekrom     Electric  100     150      120     90  \n",
       "zeraora         NaN   88     112       75    143  \n",
       "zigzagoon       NaN   38      30       41     60  \n",
       "zoroark         NaN   60     105       60    105  \n",
       "zorua           NaN   40      65       40     65  \n",
       "zubat        Flying   40      45       35     55  \n",
       "zweilous     Dragon   72      85       70     58  \n",
       "zygarde      Ground  108     100      121     95  "
      ]
     },
     "execution_count": 37,
     "metadata": {},
     "output_type": "execute_result"
    }
   ],
   "source": [
    "pokemoni.loc [&quot;zangoose&quot;: &quot;zygarde&quot;]"
   ]
  },
  {
   "cell_type": "markdown",
   "metadata": {},
   "source": [
    "If you want to get to a specific value, you use two keys in square brackets in the order * row *, * column *."
   ]
  },
  {
   "cell_type": "code",
   "execution_count": 38,
   "metadata": {},
   "outputs": [
    {
     "data": {
      "text/plain": [
       "'gray'"
      ]
     },
     "execution_count": 38,
     "metadata": {},
     "output_type": "execute_result"
    }
   ],
   "source": [
    "pokemoni.loc [&quot;floor&quot;, &quot;color&quot;]"
   ]
  },
  {
   "cell_type": "markdown",
   "metadata": {},
   "source": [
    "But pay attention to the number of parentheses. If a list of keys appears in parentheses, all matching rows or values are selected in that dimension:"
   ]
  },
  {
   "cell_type": "code",
   "execution_count": 39,
   "metadata": {
    "scrolled": true
   },
   "outputs": [
    {
     "data": {
      "text/html": [
       "<div>\n",
       "<style scoped>\n",
       "    .dataframe tbody tr th:only-of-type {\n",
       "        vertical-align: middle;\n",
       "    }\n",
       "\n",
       "    .dataframe tbody tr th {\n",
       "        vertical-align: top;\n",
       "    }\n",
       "\n",
       "    .dataframe thead th {\n",
       "        text-align: right;\n",
       "    }\n",
       "</style>\n",
       "<table border=\"1\" class=\"dataframe\">\n",
       "  <thead>\n",
       "    <tr style=\"text-align: right;\">\n",
       "      <th></th>\n",
       "      <th>id</th>\n",
       "      <th>height</th>\n",
       "      <th>weight</th>\n",
       "      <th>color</th>\n",
       "      <th>shape</th>\n",
       "      <th>is baby</th>\n",
       "      <th>type 1</th>\n",
       "      <th>type 2</th>\n",
       "      <th>hp</th>\n",
       "      <th>attack</th>\n",
       "      <th>defense</th>\n",
       "      <th>speed</th>\n",
       "    </tr>\n",
       "    <tr>\n",
       "      <th>name</th>\n",
       "      <th></th>\n",
       "      <th></th>\n",
       "      <th></th>\n",
       "      <th></th>\n",
       "      <th></th>\n",
       "      <th></th>\n",
       "      <th></th>\n",
       "      <th></th>\n",
       "      <th></th>\n",
       "      <th></th>\n",
       "      <th></th>\n",
       "      <th></th>\n",
       "    </tr>\n",
       "  </thead>\n",
       "  <tbody>\n",
       "    <tr>\n",
       "      <td>zorua</td>\n",
       "      <td>570</td>\n",
       "      <td>0.7</td>\n",
       "      <td>12.5</td>\n",
       "      <td>gray</td>\n",
       "      <td>quadruped</td>\n",
       "      <td>False</td>\n",
       "      <td>Dark</td>\n",
       "      <td>NaN</td>\n",
       "      <td>40</td>\n",
       "      <td>65</td>\n",
       "      <td>40</td>\n",
       "      <td>65</td>\n",
       "    </tr>\n",
       "    <tr>\n",
       "      <td>zubat</td>\n",
       "      <td>41</td>\n",
       "      <td>0.8</td>\n",
       "      <td>7.5</td>\n",
       "      <td>purple</td>\n",
       "      <td>wings</td>\n",
       "      <td>False</td>\n",
       "      <td>Poison</td>\n",
       "      <td>Flying</td>\n",
       "      <td>40</td>\n",
       "      <td>45</td>\n",
       "      <td>35</td>\n",
       "      <td>55</td>\n",
       "    </tr>\n",
       "  </tbody>\n",
       "</table>\n",
       "</div>"
      ],
      "text/plain": [
       "        id  height  weight   color      shape  is baby  type 1  type 2  hp  \\\n",
       "name                                                                         \n",
       "zorua  570     0.7    12.5    gray  quadruped    False    Dark     NaN  40   \n",
       "zubat   41     0.8     7.5  purple      wings    False  Poison  Flying  40   \n",
       "\n",
       "       attack  defense  speed  \n",
       "name                           \n",
       "zorua      65       40     65  \n",
       "zubat      45       35     55  "
      ]
     },
     "execution_count": 39,
     "metadata": {},
     "output_type": "execute_result"
    }
   ],
   "source": [
    "pokemoni.loc [[&quot;floor&quot;, &quot;bridge&quot;]]"
   ]
  },
  {
   "cell_type": "markdown",
   "metadata": {},
   "source": [
    "Of course, approaches can (or not, of course?) Be combined, so you can select ranges and lists in rows and columns independently:"
   ]
  },
  {
   "cell_type": "code",
   "execution_count": 40,
   "metadata": {},
   "outputs": [
    {
     "data": {
      "text/html": [
       "<div>\n",
       "<style scoped>\n",
       "    .dataframe tbody tr th:only-of-type {\n",
       "        vertical-align: middle;\n",
       "    }\n",
       "\n",
       "    .dataframe tbody tr th {\n",
       "        vertical-align: top;\n",
       "    }\n",
       "\n",
       "    .dataframe thead th {\n",
       "        text-align: right;\n",
       "    }\n",
       "</style>\n",
       "<table border=\"1\" class=\"dataframe\">\n",
       "  <thead>\n",
       "    <tr style=\"text-align: right;\">\n",
       "      <th></th>\n",
       "      <th>color</th>\n",
       "      <th>attack</th>\n",
       "    </tr>\n",
       "    <tr>\n",
       "      <th>name</th>\n",
       "      <th></th>\n",
       "      <th></th>\n",
       "    </tr>\n",
       "  </thead>\n",
       "  <tbody>\n",
       "    <tr>\n",
       "      <td>jangmo-o</td>\n",
       "      <td>gray</td>\n",
       "      <td>55</td>\n",
       "    </tr>\n",
       "    <tr>\n",
       "      <td>jellicent</td>\n",
       "      <td>white</td>\n",
       "      <td>60</td>\n",
       "    </tr>\n",
       "    <tr>\n",
       "      <td>jigglypuff</td>\n",
       "      <td>pink</td>\n",
       "      <td>45</td>\n",
       "    </tr>\n",
       "    <tr>\n",
       "      <td>jirachi</td>\n",
       "      <td>yellow</td>\n",
       "      <td>100</td>\n",
       "    </tr>\n",
       "    <tr>\n",
       "      <td>jolteon</td>\n",
       "      <td>yellow</td>\n",
       "      <td>65</td>\n",
       "    </tr>\n",
       "    <tr>\n",
       "      <td>joltik</td>\n",
       "      <td>yellow</td>\n",
       "      <td>47</td>\n",
       "    </tr>\n",
       "    <tr>\n",
       "      <td>jumpluff</td>\n",
       "      <td>blue</td>\n",
       "      <td>55</td>\n",
       "    </tr>\n",
       "    <tr>\n",
       "      <td>jynx</td>\n",
       "      <td>red</td>\n",
       "      <td>50</td>\n",
       "    </tr>\n",
       "  </tbody>\n",
       "</table>\n",
       "</div>"
      ],
      "text/plain": [
       "             color  attack\n",
       "name                      \n",
       "jangmo-o      gray      55\n",
       "jellicent    white      60\n",
       "jigglypuff    pink      45\n",
       "jirachi     yellow     100\n",
       "jolteon     yellow      65\n",
       "joltik      yellow      47\n",
       "jumpluff      blue      55\n",
       "jynx           red      50"
      ]
     },
     "execution_count": 40,
     "metadata": {},
     "output_type": "execute_result"
    }
   ],
   "source": [
    "pokemoni.loc[\"j\":\"k\", [\"color\", \"attack\"]]"
   ]
  },
  {
   "cell_type": "markdown",
   "metadata": {},
   "source": [
    "** Task: ** What color are (all) Pok\u00e9mon whose name starts with &quot;z&quot;?"
   ]
  },
  {
   "cell_type": "markdown",
   "metadata": {},
   "source": [
    "** Task: ** How many pokemons exist with a name between the letters &quot;d&quot; and &quot;f&quot;?"
   ]
  },
  {
   "cell_type": "markdown",
   "metadata": {},
   "source": [
    "** Task: ** From the list of all pokemons, you select 5 with a name you like (avoid the first and last five). What type are they? Which is the highest and which is the most difficult?"
   ]
  },
  {
   "cell_type": "markdown",
   "metadata": {},
   "source": [
    "### `.iloc []`",
    "\n",
    "If we want to forget for a moment what index is used for a table or column, we can access the elements directly through their order (row or column numbers). This is basically intuitive and corresponds to the indexing you are used to working with lists."
   ]
  },
  {
   "cell_type": "code",
   "execution_count": 41,
   "metadata": {},
   "outputs": [
    {
     "data": {
      "text/plain": [
       "id                15\n",
       "height             1\n",
       "weight          29.5\n",
       "color         yellow\n",
       "shape      bug-wings\n",
       "is baby        False\n",
       "type 1           Bug\n",
       "type 2        Poison\n",
       "hp                65\n",
       "attack            90\n",
       "defense           40\n",
       "speed             75\n",
       "Name: beedrill, dtype: object"
      ]
     },
     "execution_count": 41,
     "metadata": {},
     "output_type": "execute_result"
    }
   ],
   "source": [
    "pokemoni.iloc [44]"
   ]
  },
  {
   "cell_type": "code",
   "execution_count": 42,
   "metadata": {},
   "outputs": [
    {
     "data": {
      "text/html": [
       "<div>\n",
       "<style scoped>\n",
       "    .dataframe tbody tr th:only-of-type {\n",
       "        vertical-align: middle;\n",
       "    }\n",
       "\n",
       "    .dataframe tbody tr th {\n",
       "        vertical-align: top;\n",
       "    }\n",
       "\n",
       "    .dataframe thead th {\n",
       "        text-align: right;\n",
       "    }\n",
       "</style>\n",
       "<table border=\"1\" class=\"dataframe\">\n",
       "  <thead>\n",
       "    <tr style=\"text-align: right;\">\n",
       "      <th></th>\n",
       "      <th>id</th>\n",
       "      <th>height</th>\n",
       "      <th>weight</th>\n",
       "      <th>color</th>\n",
       "      <th>shape</th>\n",
       "      <th>is baby</th>\n",
       "      <th>type 1</th>\n",
       "      <th>type 2</th>\n",
       "      <th>hp</th>\n",
       "      <th>attack</th>\n",
       "      <th>defense</th>\n",
       "      <th>speed</th>\n",
       "    </tr>\n",
       "    <tr>\n",
       "      <th>name</th>\n",
       "      <th></th>\n",
       "      <th></th>\n",
       "      <th></th>\n",
       "      <th></th>\n",
       "      <th></th>\n",
       "      <th></th>\n",
       "      <th></th>\n",
       "      <th></th>\n",
       "      <th></th>\n",
       "      <th></th>\n",
       "      <th></th>\n",
       "      <th></th>\n",
       "    </tr>\n",
       "  </thead>\n",
       "  <tbody>\n",
       "    <tr>\n",
       "      <td>zapdos</td>\n",
       "      <td>145</td>\n",
       "      <td>1.6</td>\n",
       "      <td>52.6</td>\n",
       "      <td>yellow</td>\n",
       "      <td>wings</td>\n",
       "      <td>False</td>\n",
       "      <td>Electric</td>\n",
       "      <td>Flying</td>\n",
       "      <td>90</td>\n",
       "      <td>90</td>\n",
       "      <td>85</td>\n",
       "      <td>100</td>\n",
       "    </tr>\n",
       "    <tr>\n",
       "      <td>zebstrika</td>\n",
       "      <td>523</td>\n",
       "      <td>1.6</td>\n",
       "      <td>79.5</td>\n",
       "      <td>black</td>\n",
       "      <td>quadruped</td>\n",
       "      <td>False</td>\n",
       "      <td>Electric</td>\n",
       "      <td>NaN</td>\n",
       "      <td>75</td>\n",
       "      <td>100</td>\n",
       "      <td>63</td>\n",
       "      <td>116</td>\n",
       "    </tr>\n",
       "    <tr>\n",
       "      <td>zekrom</td>\n",
       "      <td>644</td>\n",
       "      <td>2.9</td>\n",
       "      <td>345.0</td>\n",
       "      <td>black</td>\n",
       "      <td>upright</td>\n",
       "      <td>False</td>\n",
       "      <td>Dragon</td>\n",
       "      <td>Electric</td>\n",
       "      <td>100</td>\n",
       "      <td>150</td>\n",
       "      <td>120</td>\n",
       "      <td>90</td>\n",
       "    </tr>\n",
       "    <tr>\n",
       "      <td>zeraora</td>\n",
       "      <td>807</td>\n",
       "      <td>1.5</td>\n",
       "      <td>44.5</td>\n",
       "      <td>yellow</td>\n",
       "      <td>humanoid</td>\n",
       "      <td>False</td>\n",
       "      <td>Electric</td>\n",
       "      <td>NaN</td>\n",
       "      <td>88</td>\n",
       "      <td>112</td>\n",
       "      <td>75</td>\n",
       "      <td>143</td>\n",
       "    </tr>\n",
       "    <tr>\n",
       "      <td>zigzagoon</td>\n",
       "      <td>263</td>\n",
       "      <td>0.4</td>\n",
       "      <td>17.5</td>\n",
       "      <td>brown</td>\n",
       "      <td>quadruped</td>\n",
       "      <td>False</td>\n",
       "      <td>Normal</td>\n",
       "      <td>NaN</td>\n",
       "      <td>38</td>\n",
       "      <td>30</td>\n",
       "      <td>41</td>\n",
       "      <td>60</td>\n",
       "    </tr>\n",
       "    <tr>\n",
       "      <td>zoroark</td>\n",
       "      <td>571</td>\n",
       "      <td>1.6</td>\n",
       "      <td>81.1</td>\n",
       "      <td>gray</td>\n",
       "      <td>upright</td>\n",
       "      <td>False</td>\n",
       "      <td>Dark</td>\n",
       "      <td>NaN</td>\n",
       "      <td>60</td>\n",
       "      <td>105</td>\n",
       "      <td>60</td>\n",
       "      <td>105</td>\n",
       "    </tr>\n",
       "    <tr>\n",
       "      <td>zorua</td>\n",
       "      <td>570</td>\n",
       "      <td>0.7</td>\n",
       "      <td>12.5</td>\n",
       "      <td>gray</td>\n",
       "      <td>quadruped</td>\n",
       "      <td>False</td>\n",
       "      <td>Dark</td>\n",
       "      <td>NaN</td>\n",
       "      <td>40</td>\n",
       "      <td>65</td>\n",
       "      <td>40</td>\n",
       "      <td>65</td>\n",
       "    </tr>\n",
       "    <tr>\n",
       "      <td>zubat</td>\n",
       "      <td>41</td>\n",
       "      <td>0.8</td>\n",
       "      <td>7.5</td>\n",
       "      <td>purple</td>\n",
       "      <td>wings</td>\n",
       "      <td>False</td>\n",
       "      <td>Poison</td>\n",
       "      <td>Flying</td>\n",
       "      <td>40</td>\n",
       "      <td>45</td>\n",
       "      <td>35</td>\n",
       "      <td>55</td>\n",
       "    </tr>\n",
       "    <tr>\n",
       "      <td>zweilous</td>\n",
       "      <td>634</td>\n",
       "      <td>1.4</td>\n",
       "      <td>50.0</td>\n",
       "      <td>blue</td>\n",
       "      <td>quadruped</td>\n",
       "      <td>False</td>\n",
       "      <td>Dark</td>\n",
       "      <td>Dragon</td>\n",
       "      <td>72</td>\n",
       "      <td>85</td>\n",
       "      <td>70</td>\n",
       "      <td>58</td>\n",
       "    </tr>\n",
       "    <tr>\n",
       "      <td>zygarde</td>\n",
       "      <td>718</td>\n",
       "      <td>5.0</td>\n",
       "      <td>305.0</td>\n",
       "      <td>green</td>\n",
       "      <td>squiggle</td>\n",
       "      <td>False</td>\n",
       "      <td>Dragon</td>\n",
       "      <td>Ground</td>\n",
       "      <td>108</td>\n",
       "      <td>100</td>\n",
       "      <td>121</td>\n",
       "      <td>95</td>\n",
       "    </tr>\n",
       "  </tbody>\n",
       "</table>\n",
       "</div>"
      ],
      "text/plain": [
       "            id  height  weight   color      shape  is baby    type 1  \\\n",
       "name                                                                   \n",
       "zapdos     145     1.6    52.6  yellow      wings    False  Electric   \n",
       "zebstrika  523     1.6    79.5   black  quadruped    False  Electric   \n",
       "zekrom     644     2.9   345.0   black    upright    False    Dragon   \n",
       "zeraora    807     1.5    44.5  yellow   humanoid    False  Electric   \n",
       "zigzagoon  263     0.4    17.5   brown  quadruped    False    Normal   \n",
       "zoroark    571     1.6    81.1    gray    upright    False      Dark   \n",
       "zorua      570     0.7    12.5    gray  quadruped    False      Dark   \n",
       "zubat       41     0.8     7.5  purple      wings    False    Poison   \n",
       "zweilous   634     1.4    50.0    blue  quadruped    False      Dark   \n",
       "zygarde    718     5.0   305.0   green   squiggle    False    Dragon   \n",
       "\n",
       "             type 2   hp  attack  defense  speed  \n",
       "name                                              \n",
       "zapdos       Flying   90      90       85    100  \n",
       "zebstrika       NaN   75     100       63    116  \n",
       "zekrom     Electric  100     150      120     90  \n",
       "zeraora         NaN   88     112       75    143  \n",
       "zigzagoon       NaN   38      30       41     60  \n",
       "zoroark         NaN   60     105       60    105  \n",
       "zorua           NaN   40      65       40     65  \n",
       "zubat        Flying   40      45       35     55  \n",
       "zweilous     Dragon   72      85       70     58  \n",
       "zygarde      Ground  108     100      121     95  "
      ]
     },
     "execution_count": 42,
     "metadata": {},
     "output_type": "execute_result"
    }
   ],
   "source": [
    "pokemoni.iloc [-10:]"
   ]
  },
  {
   "cell_type": "markdown",
   "metadata": {},
   "source": [
    "Here, too, it is possible to combine. So when someone asks you for a value that is &quot;bottom left&quot;, you can try:"
   ]
  },
  {
   "cell_type": "code",
   "execution_count": 43,
   "metadata": {},
   "outputs": [
    {
     "data": {
      "text/plain": [
       "718"
      ]
     },
     "execution_count": 43,
     "metadata": {},
     "output_type": "execute_result"
    }
   ],
   "source": [
    "pokemoni.iloc [-1.0]"
   ]
  },
  {
   "cell_type": "markdown",
   "metadata": {},
   "source": [
    "Finally, just for completeness, let&#39;s imagine three convenient functions that select the first, last or random rows from the table (all three have an optional parameter specifying the number of rows required):"
   ]
  },
  {
   "cell_type": "code",
   "execution_count": 44,
   "metadata": {},
   "outputs": [
    {
     "data": {
      "text/html": [
       "<div>\n",
       "<style scoped>\n",
       "    .dataframe tbody tr th:only-of-type {\n",
       "        vertical-align: middle;\n",
       "    }\n",
       "\n",
       "    .dataframe tbody tr th {\n",
       "        vertical-align: top;\n",
       "    }\n",
       "\n",
       "    .dataframe thead th {\n",
       "        text-align: right;\n",
       "    }\n",
       "</style>\n",
       "<table border=\"1\" class=\"dataframe\">\n",
       "  <thead>\n",
       "    <tr style=\"text-align: right;\">\n",
       "      <th></th>\n",
       "      <th>id</th>\n",
       "      <th>height</th>\n",
       "      <th>weight</th>\n",
       "      <th>color</th>\n",
       "      <th>shape</th>\n",
       "      <th>is baby</th>\n",
       "      <th>type 1</th>\n",
       "      <th>type 2</th>\n",
       "      <th>hp</th>\n",
       "      <th>attack</th>\n",
       "      <th>defense</th>\n",
       "      <th>speed</th>\n",
       "    </tr>\n",
       "    <tr>\n",
       "      <th>name</th>\n",
       "      <th></th>\n",
       "      <th></th>\n",
       "      <th></th>\n",
       "      <th></th>\n",
       "      <th></th>\n",
       "      <th></th>\n",
       "      <th></th>\n",
       "      <th></th>\n",
       "      <th></th>\n",
       "      <th></th>\n",
       "      <th></th>\n",
       "      <th></th>\n",
       "    </tr>\n",
       "  </thead>\n",
       "  <tbody>\n",
       "    <tr>\n",
       "      <td>abomasnow</td>\n",
       "      <td>460</td>\n",
       "      <td>2.2</td>\n",
       "      <td>135.5</td>\n",
       "      <td>white</td>\n",
       "      <td>upright</td>\n",
       "      <td>False</td>\n",
       "      <td>Grass</td>\n",
       "      <td>Ice</td>\n",
       "      <td>90</td>\n",
       "      <td>92</td>\n",
       "      <td>75</td>\n",
       "      <td>60</td>\n",
       "    </tr>\n",
       "    <tr>\n",
       "      <td>abra</td>\n",
       "      <td>63</td>\n",
       "      <td>0.9</td>\n",
       "      <td>19.5</td>\n",
       "      <td>brown</td>\n",
       "      <td>upright</td>\n",
       "      <td>False</td>\n",
       "      <td>Psychic</td>\n",
       "      <td>NaN</td>\n",
       "      <td>25</td>\n",
       "      <td>20</td>\n",
       "      <td>15</td>\n",
       "      <td>90</td>\n",
       "    </tr>\n",
       "    <tr>\n",
       "      <td>absol</td>\n",
       "      <td>359</td>\n",
       "      <td>1.2</td>\n",
       "      <td>47.0</td>\n",
       "      <td>white</td>\n",
       "      <td>quadruped</td>\n",
       "      <td>False</td>\n",
       "      <td>Dark</td>\n",
       "      <td>NaN</td>\n",
       "      <td>65</td>\n",
       "      <td>130</td>\n",
       "      <td>60</td>\n",
       "      <td>75</td>\n",
       "    </tr>\n",
       "    <tr>\n",
       "      <td>accelgor</td>\n",
       "      <td>617</td>\n",
       "      <td>0.8</td>\n",
       "      <td>25.3</td>\n",
       "      <td>red</td>\n",
       "      <td>arms</td>\n",
       "      <td>False</td>\n",
       "      <td>Bug</td>\n",
       "      <td>NaN</td>\n",
       "      <td>80</td>\n",
       "      <td>70</td>\n",
       "      <td>40</td>\n",
       "      <td>145</td>\n",
       "    </tr>\n",
       "    <tr>\n",
       "      <td>aegislash</td>\n",
       "      <td>681</td>\n",
       "      <td>1.7</td>\n",
       "      <td>53.0</td>\n",
       "      <td>brown</td>\n",
       "      <td>blob</td>\n",
       "      <td>False</td>\n",
       "      <td>Steel</td>\n",
       "      <td>Ghost</td>\n",
       "      <td>60</td>\n",
       "      <td>50</td>\n",
       "      <td>150</td>\n",
       "      <td>60</td>\n",
       "    </tr>\n",
       "  </tbody>\n",
       "</table>\n",
       "</div>"
      ],
      "text/plain": [
       "            id  height  weight  color      shape  is baby   type 1 type 2  hp  \\\n",
       "name                                                                            \n",
       "abomasnow  460     2.2   135.5  white    upright    False    Grass    Ice  90   \n",
       "abra        63     0.9    19.5  brown    upright    False  Psychic    NaN  25   \n",
       "absol      359     1.2    47.0  white  quadruped    False     Dark    NaN  65   \n",
       "accelgor   617     0.8    25.3    red       arms    False      Bug    NaN  80   \n",
       "aegislash  681     1.7    53.0  brown       blob    False    Steel  Ghost  60   \n",
       "\n",
       "           attack  defense  speed  \n",
       "name                               \n",
       "abomasnow      92       75     60  \n",
       "abra           20       15     90  \n",
       "absol         130       60     75  \n",
       "accelgor       70       40    145  \n",
       "aegislash      50      150     60  "
      ]
     },
     "execution_count": 44,
     "metadata": {},
     "output_type": "execute_result"
    }
   ],
   "source": [
    "pokemoni.head () # The first few lines"
   ]
  },
  {
   "cell_type": "code",
   "execution_count": 45,
   "metadata": {},
   "outputs": [
    {
     "data": {
      "text/html": [
       "<div>\n",
       "<style scoped>\n",
       "    .dataframe tbody tr th:only-of-type {\n",
       "        vertical-align: middle;\n",
       "    }\n",
       "\n",
       "    .dataframe tbody tr th {\n",
       "        vertical-align: top;\n",
       "    }\n",
       "\n",
       "    .dataframe thead th {\n",
       "        text-align: right;\n",
       "    }\n",
       "</style>\n",
       "<table border=\"1\" class=\"dataframe\">\n",
       "  <thead>\n",
       "    <tr style=\"text-align: right;\">\n",
       "      <th></th>\n",
       "      <th>id</th>\n",
       "      <th>height</th>\n",
       "      <th>weight</th>\n",
       "      <th>color</th>\n",
       "      <th>shape</th>\n",
       "      <th>is baby</th>\n",
       "      <th>type 1</th>\n",
       "      <th>type 2</th>\n",
       "      <th>hp</th>\n",
       "      <th>attack</th>\n",
       "      <th>defense</th>\n",
       "      <th>speed</th>\n",
       "    </tr>\n",
       "    <tr>\n",
       "      <th>name</th>\n",
       "      <th></th>\n",
       "      <th></th>\n",
       "      <th></th>\n",
       "      <th></th>\n",
       "      <th></th>\n",
       "      <th></th>\n",
       "      <th></th>\n",
       "      <th></th>\n",
       "      <th></th>\n",
       "      <th></th>\n",
       "      <th></th>\n",
       "      <th></th>\n",
       "    </tr>\n",
       "  </thead>\n",
       "  <tbody>\n",
       "    <tr>\n",
       "      <td>zoroark</td>\n",
       "      <td>571</td>\n",
       "      <td>1.6</td>\n",
       "      <td>81.1</td>\n",
       "      <td>gray</td>\n",
       "      <td>upright</td>\n",
       "      <td>False</td>\n",
       "      <td>Dark</td>\n",
       "      <td>NaN</td>\n",
       "      <td>60</td>\n",
       "      <td>105</td>\n",
       "      <td>60</td>\n",
       "      <td>105</td>\n",
       "    </tr>\n",
       "    <tr>\n",
       "      <td>zorua</td>\n",
       "      <td>570</td>\n",
       "      <td>0.7</td>\n",
       "      <td>12.5</td>\n",
       "      <td>gray</td>\n",
       "      <td>quadruped</td>\n",
       "      <td>False</td>\n",
       "      <td>Dark</td>\n",
       "      <td>NaN</td>\n",
       "      <td>40</td>\n",
       "      <td>65</td>\n",
       "      <td>40</td>\n",
       "      <td>65</td>\n",
       "    </tr>\n",
       "    <tr>\n",
       "      <td>zubat</td>\n",
       "      <td>41</td>\n",
       "      <td>0.8</td>\n",
       "      <td>7.5</td>\n",
       "      <td>purple</td>\n",
       "      <td>wings</td>\n",
       "      <td>False</td>\n",
       "      <td>Poison</td>\n",
       "      <td>Flying</td>\n",
       "      <td>40</td>\n",
       "      <td>45</td>\n",
       "      <td>35</td>\n",
       "      <td>55</td>\n",
       "    </tr>\n",
       "    <tr>\n",
       "      <td>zweilous</td>\n",
       "      <td>634</td>\n",
       "      <td>1.4</td>\n",
       "      <td>50.0</td>\n",
       "      <td>blue</td>\n",
       "      <td>quadruped</td>\n",
       "      <td>False</td>\n",
       "      <td>Dark</td>\n",
       "      <td>Dragon</td>\n",
       "      <td>72</td>\n",
       "      <td>85</td>\n",
       "      <td>70</td>\n",
       "      <td>58</td>\n",
       "    </tr>\n",
       "    <tr>\n",
       "      <td>zygarde</td>\n",
       "      <td>718</td>\n",
       "      <td>5.0</td>\n",
       "      <td>305.0</td>\n",
       "      <td>green</td>\n",
       "      <td>squiggle</td>\n",
       "      <td>False</td>\n",
       "      <td>Dragon</td>\n",
       "      <td>Ground</td>\n",
       "      <td>108</td>\n",
       "      <td>100</td>\n",
       "      <td>121</td>\n",
       "      <td>95</td>\n",
       "    </tr>\n",
       "  </tbody>\n",
       "</table>\n",
       "</div>"
      ],
      "text/plain": [
       "           id  height  weight   color      shape  is baby  type 1  type 2  \\\n",
       "name                                                                        \n",
       "zoroark   571     1.6    81.1    gray    upright    False    Dark     NaN   \n",
       "zorua     570     0.7    12.5    gray  quadruped    False    Dark     NaN   \n",
       "zubat      41     0.8     7.5  purple      wings    False  Poison  Flying   \n",
       "zweilous  634     1.4    50.0    blue  quadruped    False    Dark  Dragon   \n",
       "zygarde   718     5.0   305.0   green   squiggle    False  Dragon  Ground   \n",
       "\n",
       "           hp  attack  defense  speed  \n",
       "name                                   \n",
       "zoroark    60     105       60    105  \n",
       "zorua      40      65       40     65  \n",
       "zubat      40      45       35     55  \n",
       "zweilous   72      85       70     58  \n",
       "zygarde   108     100      121     95  "
      ]
     },
     "execution_count": 45,
     "metadata": {},
     "output_type": "execute_result"
    }
   ],
   "source": [
    "pokemoni.tail () # Last few lines"
   ]
  },
  {
   "cell_type": "markdown",
   "metadata": {},
   "source": [
    "** Task: ** Can you write an equivalent of the `.tail ()` function using indexing?"
   ]
  },
  {
   "cell_type": "code",
   "execution_count": 46,
   "metadata": {},
   "outputs": [
    {
     "data": {
      "text/html": [
       "<div>\n",
       "<style scoped>\n",
       "    .dataframe tbody tr th:only-of-type {\n",
       "        vertical-align: middle;\n",
       "    }\n",
       "\n",
       "    .dataframe tbody tr th {\n",
       "        vertical-align: top;\n",
       "    }\n",
       "\n",
       "    .dataframe thead th {\n",
       "        text-align: right;\n",
       "    }\n",
       "</style>\n",
       "<table border=\"1\" class=\"dataframe\">\n",
       "  <thead>\n",
       "    <tr style=\"text-align: right;\">\n",
       "      <th></th>\n",
       "      <th>id</th>\n",
       "      <th>height</th>\n",
       "      <th>weight</th>\n",
       "      <th>color</th>\n",
       "      <th>shape</th>\n",
       "      <th>is baby</th>\n",
       "      <th>type 1</th>\n",
       "      <th>type 2</th>\n",
       "      <th>hp</th>\n",
       "      <th>attack</th>\n",
       "      <th>defense</th>\n",
       "      <th>speed</th>\n",
       "    </tr>\n",
       "    <tr>\n",
       "      <th>name</th>\n",
       "      <th></th>\n",
       "      <th></th>\n",
       "      <th></th>\n",
       "      <th></th>\n",
       "      <th></th>\n",
       "      <th></th>\n",
       "      <th></th>\n",
       "      <th></th>\n",
       "      <th></th>\n",
       "      <th></th>\n",
       "      <th></th>\n",
       "      <th></th>\n",
       "    </tr>\n",
       "  </thead>\n",
       "  <tbody>\n",
       "    <tr>\n",
       "      <td>totodile</td>\n",
       "      <td>158</td>\n",
       "      <td>0.6</td>\n",
       "      <td>9.5</td>\n",
       "      <td>blue</td>\n",
       "      <td>upright</td>\n",
       "      <td>False</td>\n",
       "      <td>Water</td>\n",
       "      <td>NaN</td>\n",
       "      <td>50</td>\n",
       "      <td>65</td>\n",
       "      <td>64</td>\n",
       "      <td>43</td>\n",
       "    </tr>\n",
       "  </tbody>\n",
       "</table>\n",
       "</div>"
      ],
      "text/plain": [
       "           id  height  weight color    shape  is baby type 1 type 2  hp  \\\n",
       "name                                                                      \n",
       "totodile  158     0.6     9.5  blue  upright    False  Water    NaN  50   \n",
       "\n",
       "          attack  defense  speed  \n",
       "name                              \n",
       "totodile      65       64     43  "
      ]
     },
     "execution_count": 46,
     "metadata": {},
     "output_type": "execute_result"
    }
   ],
   "source": [
    "pokemoni.sample () # Random line"
   ]
  },
  {
   "cell_type": "markdown",
   "metadata": {},
   "source": [
    "** Task (bonus): ** Can you write an equivalent to the `sample ()` function using indexing (and the `random` module)?"
   ]
  },
  {
   "cell_type": "markdown",
   "metadata": {},
   "source": [
    "## Summary",
    "\n",
    "In this lesson, we have shown three basic types of `pandas` library:",
    "    \n",
    "* `Series` as a one-dimensional object containing values of the same type",
    "* `DataFrame` as a two-dimensional table composed of several` Series`",
    "* `Index` as a generalized description of how to access` Series` or `DataFrame` elements",
    "\n",
    "In addition, we learned to select columns, rows, and individual values from tables.",
    "\n",
    "In the next lesson we will show what data types (more precisely `dtypes`) can be used in` pandas`, we will start counting and imitating the functions of spreadsheets."
   ]
  },
  {
   "cell_type": "markdown",
   "metadata": {},
   "source": [
    "## Exercises",
    "The local zoo is considering investing in a new pavilion dedicated to Pokemona. But the zoo&#39;s director, Mr. Felix, is not sure if this investment would pay off and what it would all mean for the zoo. Someone advised him to invite you to help (we are not to blame, we swear - note the authors of the course). The director has compiled a list of questions he would like to know the answer to.",
    "0. (reload data from `pokemon.csv` file)",
    "1. For how many new animals would the zoo need food? The director would like one male and one female of each species (name).",
    "2. The marketing department is going to create new leaflets about Pokemons for zoo visitors. All Pokemons would need information about their height, weight, length, color and type. Is all the information available?",
    "3. The zoo considers it ideal for Pokemon to be delivered gradually, in groups of eight, as listed in the `pokemon.csv` table. Which Pokemon would be in the first, second, and last group?",
    "4. The operation of the zoo also drew attention to the special conditions necessary for the 3 highest Pokemons. In the table `pokemon.csv` they are in positions 207, 320 and 796, but no one remembers which Pokemons it was. What are their names?",
    "5. The director loves Onix. He would like to build a special prospect for him for the Stone Pokemons at speeds above 50. Would Onix like it there?",
    "6. The Director would also like to create a section for all Pokemons starting with &quot;i&quot;. But dark Pokemon cannot be with normal, fiery with water or grassy, and electric with psychic. Will it be possible to create this section? (tip: to display all Pokemons on &quot;i&quot; you will need to have the index sorted alphabetically)"
   ]
  }
 ],
 "metadata": {
  "kernel_info": {
   "name": "python3"
  },
  "kernelspec": {
   "display_name": "Python 3",
   "language": "python",
   "name": "python3"
  },
  "language_info": {
   "codemirror_mode": {
    "name": "ipython",
    "version": 3
   },
   "file_extension": ".py",
   "mimetype": "text/x-python",
   "name": "python",
   "nbconvert_exporter": "python",
   "pygments_lexer": "ipython3",
   "version": "3.7.3"
  },
  "nteract": {
   "version": "0.15.0"
  }
 },
 "nbformat": 4,
 "nbformat_minor": 4
}