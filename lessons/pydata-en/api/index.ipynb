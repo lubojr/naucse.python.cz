{
 "cells": [
  {
   "cell_type": "markdown",
   "metadata": {},
   "source": [
    "# What is an API?"
   ]
  },
  {
   "cell_type": "markdown",
   "metadata": {},
   "source": [
    "## Client and server"
   ]
  },
  {
   "cell_type": "markdown",
   "metadata": {},
   "source": [
    "An API (Application Programming Interface) is an agreement between two parties about how they will talk to each other. These parties are called client and server.\n",
    "\n",
    "**Server** is a side that has interesting information or something interesting and allows others on the Internet to take advantage of it. A server is a program that runs indefinitely on a computer and is ready to respond to requests from everyone else on the Internet.\n",
    "\n",
    "**Client** is a program that sends requests to a server and tries to put together something useful in response. The client is therefore a mobile application with clouds and sunshine icons or our web browser, in which we can open an exchange rate list. But it is also a robot that retrieves information about goods in e-shops on behalf of a price comparison aggegator website.\n",
    "\n",
    "_We will not focus on the server side in these materials._"
   ]
  },
  {
   "cell_type": "markdown",
   "metadata": {},
   "source": [
    "# Basic concepts"
   ]
  },
  {
   "cell_type": "markdown",
   "metadata": {},
   "source": [
    "Before we start creating a client, let&#39;s go through some basic concepts around API."
   ]
  },
  {
   "cell_type": "markdown",
   "metadata": {},
   "source": [
    "## Protocol"
   ]
  },
  {
   "cell_type": "markdown",
   "metadata": {},
   "source": [
    "The whole communication between the client and the server takes place via a so-called protocol. This is nothing but a contracted way of what someone will send to whom and what structure it will have. There are a lot of protocols in the computer world, but we will only be interested in HTTP, because it is used by web APIs and the web itself. It&#39;s no coincidence that the website address in the browser usually starts with http: // (or https: //)."
   ]
  },
  {
   "cell_type": "markdown",
   "metadata": {},
   "source": [
    "### HTTP"
   ]
  },
  {
   "cell_type": "markdown",
   "metadata": {},
   "source": [
    "Communication between the client and the server takes the form of an HTTP request, which the client sends to the server, and an HTTP response, which the server sends back. Each of these reports has its own essentials."
   ]
  },
  {
   "cell_type": "markdown",
   "metadata": {},
   "source": [
    "### request"
   ]
  },
  {
   "cell_type": "markdown",
   "metadata": {},
   "source": [
    "+ ** method ** (HTTP method): For example, the GET method has the property that it only reads and we cannot change anything with it via the API - it is so-called secure. In addition to the GET method, there are POST (create), PUT (update) and DELETE (delete) methods that we do not need, because we will only obtain data from the API.",
    "+ ** address with parameters ** (URL with query parameters): At the end of the usual URL address a question mark and followed by parameters. If there are more parameters, they are separated by the &amp; character. The address itself most often determines what data it will be (in our example it is movies) and URL parameters allow you to filter on the server side and get only the data that really interests us (in our case, dramas in the length of 150 minutes)",
    "        http://api.example.com/movies/\n",
    "        http://api.example.com/movies?genre=drama&duration=150 \n",
    "+ ** headers **: Headers are actually just other parameters. The difference is that we do not send them as part of the address and, unlike URL parameters, they are subject to some standardization and conventions.",
    "+ ** body ** (points): The body of the message is the box that we send with the request and in which we can put what we want. So preferably something that the API on the other hand will understand. The body may be empty. In the body we can send plain text, data in some format, but also an image. In order for the API, on the other hand, to know what is in the box and how to unpack it, it is usually necessary to send a Content-Type header with the body.",
    "\n",
    "We need to read from the documentation of the specific API how to compose the request correctly."
   ]
  },
  {
   "cell_type": "markdown",
   "metadata": {},
   "source": [
    "### Response"
   ]
  },
  {
   "cell_type": "markdown",
   "metadata": {},
   "source": [
    "+ ** status code **: The numeric code by which the API indicates how the request was processed. According to the first digit of the code, the codes are divided into different categories:",
    "1xx - informative response (request was accepted, but its processing continues)",
    "2xx - the request was received and processed correctly",
    "3xx - redirect, the client needs to send another request elsewhere to get responses",
    "4xx - error on the client side (we composed the wrong question)",
    "5xx - server side error (API failed to respond)",
    "+ ** headers **: Response information such as processing date, response format ...",
    "+ ** body ** (points): The body of the answer - what we are most interested in the most"
   ]
  },
  {
   "cell_type": "markdown",
   "metadata": {},
   "source": [
    "### Formats"
   ]
  },
  {
   "cell_type": "markdown",
   "metadata": {},
   "source": [
    "The body can be in any format. It can be text, HTML, an image, a PDF file, or anything else.",
    "The Content-Type header value is given different names: content type, media type, MIME type.",
    "Most often it consists only of the type and subtype, which is separated by a slash. Some examples:",
    "+ text / plain - plain text",
    "+ text/html - HTML\n",
    "+ text/csv - CSV\n",
    "+ image / gif - GIF image",
    "+ image / jpeg - JPEG image",
    "+ image / png - PNG image",
    "+ application/json - JSON\n",
    "+ application / xml or text / xml - XML"
   ]
  },
  {
   "cell_type": "markdown",
   "metadata": {},
   "source": [
    "### JSON format"
   ]
  },
  {
   "cell_type": "markdown",
   "metadata": {},
   "source": [
    "JSON was founded around the year 2000 and soon became a shorter replacement for XML, especially on the web and in web APIs. Today, it is ** probably the most popular format for general structured data ever **. Its author is Douglas Crockford, one of the people involved in the development of the JavaScript language."
   ]
  },
  {
   "cell_type": "markdown",
   "metadata": {},
   "source": [
    "Its popularity probably stems from its simplicity. After all, this jupyter laptop is saved in JSON format. Its full specification is described using several diagrams on the [json.org] page (https://www.json.org/json-cz.html)."
   ]
  },
  {
   "cell_type": "markdown",
   "metadata": {},
   "source": [
    "#### JSON is a data format NOT a data type!"
   ]
  },
  {
   "cell_type": "markdown",
   "metadata": {},
   "source": [
    "The input is any data structure:",
    "+ number",
    "+ string",
    "+ truth value",
    "+ no",
    "+ object",
    "+ None\n",
    "\n",
    "The output is always a string"
   ]
  },
  {
   "cell_type": "markdown",
   "metadata": {},
   "source": [
    "![title](static/null.jpg)"
   ]
  },
  {
   "cell_type": "markdown",
   "metadata": {},
   "source": [
    "Python (and many others) have support for working with JSON in a basic installation (built-in).",
    "\n",
    "In the case of Python, JSON can be confused with a dictionary. However, be aware that JSON is text that can be stored in a file or sent over HTTP, but cannot be used directly in programming. We must always first process it into dictionaries and lists."
   ]
  },
  {
   "cell_type": "code",
   "execution_count": 1,
   "metadata": {},
   "outputs": [],
   "source": [
    "import json"
   ]
  },
  {
   "cell_type": "markdown",
   "metadata": {},
   "source": [
    "In the following JSON, under the &quot;people&quot; key, there is a list of dictionaries with another structure:"
   ]
  },
  {
   "cell_type": "code",
   "execution_count": 2,
   "metadata": {},
   "outputs": [],
   "source": [
    "people_info = '''\n",
    "{\n",
    "    \"people\": [\n",
    "        {\n",
    "            \"name\": \"John Smith\",\n",
    "            \"phone\": \"555-246-999\",\n",
    "            \"email\": [\"johns@gmail.com\", \"jsmith@gmail.com\"],\n",
    "            \"is_employee\": false\n",
    "        },\n",
    "        {\n",
    "            \"name\": \"Jane Doe\",\n",
    "            \"phone\": \"665-296-659\",\n",
    "            \"email\": [\"janed@gmail.com\", \"djane@gmail.com\"],\n",
    "            \"is_employee\": null\n",
    "        }\n",
    "    ]\n",
    "}\n",
    "'''"
   ]
  },
  {
   "cell_type": "markdown",
   "metadata": {},
   "source": [
    "json.loads converts a string to an object"
   ]
  },
  {
   "cell_type": "code",
   "execution_count": 3,
   "metadata": {},
   "outputs": [],
   "source": [
    "data = json.loads(people_info)"
   ]
  },
  {
   "cell_type": "code",
   "execution_count": 4,
   "metadata": {},
   "outputs": [
    {
     "data": {
      "text/plain": [
       "{'people': [{'name': 'John Smith',\n",
       "   'phone': '555-246-999',\n",
       "   'email': ['johns@gmail.com', 'jsmith@gmail.com'],\n",
       "   'is_employee': False},\n",
       "  {'name': 'Jane Doe',\n",
       "   'phone': '665-296-659',\n",
       "   'email': ['janed@gmail.com', 'djane@gmail.com'],\n",
       "   'is_employee': None}]}"
      ]
     },
     "execution_count": 4,
     "metadata": {},
     "output_type": "execute_result"
    }
   ],
   "source": [
    "data"
   ]
  },
  {
   "cell_type": "code",
   "execution_count": 5,
   "metadata": {},
   "outputs": [
    {
     "data": {
      "text/plain": [
       "dict"
      ]
     },
     "execution_count": 5,
     "metadata": {},
     "output_type": "execute_result"
    }
   ],
   "source": [
    "type(data)"
   ]
  },
  {
   "cell_type": "code",
   "execution_count": 6,
   "metadata": {},
   "outputs": [
    {
     "data": {
      "text/plain": [
       "list"
      ]
     },
     "execution_count": 6,
     "metadata": {},
     "output_type": "execute_result"
    }
   ],
   "source": [
    "type(data['people'])"
   ]
  },
  {
   "cell_type": "code",
   "execution_count": 7,
   "metadata": {},
   "outputs": [
    {
     "data": {
      "text/plain": [
       "dict"
      ]
     },
     "execution_count": 7,
     "metadata": {},
     "output_type": "execute_result"
    }
   ],
   "source": [
    "type(data['people'][0])"
   ]
  },
  {
   "cell_type": "code",
   "execution_count": 8,
   "metadata": {},
   "outputs": [
    {
     "data": {
      "text/plain": [
       "[{'name': 'John Smith',\n",
       "  'phone': '555-246-999',\n",
       "  'email': ['johns@gmail.com', 'jsmith@gmail.com'],\n",
       "  'is_employee': False},\n",
       " {'name': 'Jane Doe',\n",
       "  'phone': '665-296-659',\n",
       "  'email': ['janed@gmail.com', 'djane@gmail.com'],\n",
       "  'is_employee': None}]"
      ]
     },
     "execution_count": 8,
     "metadata": {},
     "output_type": "execute_result"
    }
   ],
   "source": [
    "data['people']"
   ]
  },
  {
   "cell_type": "code",
   "execution_count": 9,
   "metadata": {},
   "outputs": [
    {
     "data": {
      "text/plain": [
       "{'name': 'John Smith',\n",
       " 'phone': '555-246-999',\n",
       " 'email': ['johns@gmail.com', 'jsmith@gmail.com'],\n",
       " 'is_employee': False}"
      ]
     },
     "execution_count": 9,
     "metadata": {},
     "output_type": "execute_result"
    }
   ],
   "source": [
    "data['people'][0]"
   ]
  },
  {
   "cell_type": "code",
   "execution_count": 10,
   "metadata": {},
   "outputs": [
    {
     "data": {
      "text/plain": [
       "'John Smith'"
      ]
     },
     "execution_count": 10,
     "metadata": {},
     "output_type": "execute_result"
    }
   ],
   "source": [
    "data['people'][0]['name']"
   ]
  },
  {
   "cell_type": "markdown",
   "metadata": {},
   "source": [
    "#### Task",
    "Download json from http://pyvec.org/cs/api.json and write a code that lists the names of the board members of the Czech python organization.",
    "\n",
    "* Tip: json can also be downloaded directly from the laptop using the `requests` library. *"
   ]
  },
  {
   "cell_type": "code",
   "execution_count": null,
   "metadata": {},
   "outputs": [],
   "source": [
    "%pip install requests"
   ]
  },
  {
   "cell_type": "code",
   "execution_count": 11,
   "metadata": {},
   "outputs": [],
   "source": [
    "import requests"
   ]
  },
  {
   "cell_type": "code",
   "execution_count": null,
   "metadata": {},
   "outputs": [],
   "source": [
    "response = requests.get('http://pyvec.org/cs/api.json')\n",
    "data = json.loads(response.text)\n",
    "data"
   ]
  },
  {
   "cell_type": "markdown",
   "metadata": {},
   "source": [
    "# Working with API clients"
   ]
  },
  {
   "cell_type": "markdown",
   "metadata": {},
   "source": [
    "## General client"
   ]
  },
  {
   "cell_type": "markdown",
   "metadata": {},
   "source": [
    "A mobile weather application is a client that someone has created for one specific task and can only work with one specific API. Such a client is useful if we just want to know what the weather is like, but less so if we want to try working with multiple APIs at the same time. Therefore, there are municipal clients."
   ]
  },
  {
   "cell_type": "markdown",
   "metadata": {},
   "source": [
    "### Browser as a general client"
   ]
  },
  {
   "cell_type": "markdown",
   "metadata": {},
   "source": [
    "If we only want to read from the API and the API does not require any login, we can try it in the browser as if it were a website. If we visit the [exchange rate list] on the CNB website (https://www.cnb.cz/cs/financni-trhy/devizovy-trh/kurzy-devizoveho-trhu/kurzy-devizoveho-trhu/) and click on [Text format] (https://www.cnb.cz/en/financni-trhy/devizovy-trh/kurzy-devizoveho-trhu/kurzy-devizoveho-trhu/denni_kurz.txt?date=19.02.2020), we will see the answer from API server"
   ]
  },
  {
   "cell_type": "markdown",
   "metadata": {},
   "source": [
    "https://www.cnb.cz/cs/financni_trhy/devizovy_trh/kurzy_devizoveho_trhu/denni_kurz.txt"
   ]
  },
  {
   "cell_type": "markdown",
   "metadata": {},
   "source": [
    "### Generic client on the command line: curl"
   ]
  },
  {
   "cell_type": "markdown",
   "metadata": {},
   "source": [
    "If we need to log in to the API or try to do more complex things with it than just reading, the browser will not be enough for us.",
    "\n",
    "Therefore, it is good to learn to use the curl program. It runs on the command line and is a Swiss Army knife for anyone moving around web APIs."
   ]
  },
  {
   "cell_type": "markdown",
   "metadata": {},
   "source": [
    "#### Examples with curl"
   ]
  },
  {
   "cell_type": "markdown",
   "metadata": {},
   "source": [
    "![title](static/curl.jpg)"
   ]
  },
  {
   "cell_type": "markdown",
   "metadata": {},
   "source": [
    "When we enter and run the command, we tell the curl program to send a request to the specified address and list what the CNB will send back."
   ]
  },
  {
   "cell_type": "markdown",
   "metadata": {},
   "source": [
    "![title](static/curl-return.jpg)"
   ]
  },
  {
   "cell_type": "markdown",
   "metadata": {},
   "source": [
    "## Own client"
   ]
  },
  {
   "cell_type": "markdown",
   "metadata": {},
   "source": [
    "The general client must be controlled by a person (manual setting of parameters, regular start-up based on conditions or time, etc.). This is exactly what we need when we want to try some APIs, but the whole point of the API is for programs to be able to use them automatically.",
    "If we want to program the client for a specific task, we can use either the built-in or the installed library in most languages. In the case of Python, we will use the Requests library."
   ]
  },
  {
   "cell_type": "markdown",
   "metadata": {},
   "source": [
    "Each decent API has documentation that describes the entire operation of the API. Thus, all possible urls (endpoints), methods, parameters, formats, error codes, etc. The documentation can take the form of a website such as [Prague data] (https://golemioapi.docs.apiary.io/) or data from [British police] (https://data.police.uk/docs/), which we will use shortly.",
    "A very commonly used way to describe APIs is also [OpenAPI] (https://www.openapis.org/) (formerly Swagger). The API is described using this standard in a text format, which can then be visualized as an example of this fictional [Pet Store] (https://petstore.swagger.io/). Such a standardized description is also machine-processable."
   ]
  },
  {
   "cell_type": "markdown",
   "metadata": {},
   "source": [
    "## Golemio - Prague public data"
   ]
  },
  {
   "cell_type": "markdown",
   "metadata": {},
   "source": [
    "Golemio is a Prague data platform. The documentation can be found at https://golemioapi.docs.apiary.io/# We will use data on the passage of cyclists through measuring devices.",
    "Their location and current number of passes can be seen on the interactive map https://unicam.camea.cz/Discoverer/BikeCounter/map."
   ]
  },
  {
   "cell_type": "code",
   "execution_count": null,
   "metadata": {},
   "outputs": [],
   "source": [
    "%pip install requests"
   ]
  },
  {
   "cell_type": "code",
   "execution_count": 13,
   "metadata": {},
   "outputs": [],
   "source": [
    "from datetime import datetime, timedelta",
    "import json\n",
    "import requests"
   ]
  },
  {
   "cell_type": "markdown",
   "metadata": {},
   "source": [
    "In each query, we must authorize using the API key.",
    "We will obtain it after free registration at https://api.golemio.cz/api-keys/auth/sign-up.",
    "\n",
    "For example, the key is used to limit the number of queries. You can currently send 10,000 queries in 10 seconds.",
    "\n",
    "The API key is inserted in the query header named `x-access-token`. So let&#39;s prepare a header. It will be used for all API queries",
    "\n",
    "* Source: https://golemioapi.docs.apiary.io/#introduction/general-info/usage*"
   ]
  },
  {
   "cell_type": "code",
   "execution_count": 14,
   "metadata": {},
   "outputs": [],
   "source": [
    "GOLEMIO_API_KEY = &#39;enter your key here&#39;",
    "headers = {\n",
    "  'Content-Type': 'application/json; charset=utf-8',\n",
    "&#39;x-access-token&#39;: GOLEMIO_API_KEY,",
    "}"
   ]
  },
  {
   "cell_type": "markdown",
   "metadata": {},
   "source": [
    "Endpoint documentation on cyclist passes is here",
    "https://golemioapi.docs.apiary.io/#reference/traffic/bicyclecounters/get-all-bicyclecounters.\n",
    "\n",
    "In addition to data specification, the API can also be tested directly on the web. Just copy the API key."
   ]
  },
  {
   "cell_type": "code",
   "execution_count": 16,
   "metadata": {},
   "outputs": [
    {
     "data": {
      "text/plain": [
       "<Response [200]>"
      ]
     },
     "execution_count": 16,
     "metadata": {},
     "output_type": "execute_result"
    }
   ],
   "source": [
    "response = requests.get('https://api.golemio.cz/v2/bicyclecounters/', headers=headers)\n",
    "response"
   ]
  },
  {
   "cell_type": "code",
   "execution_count": 17,
   "metadata": {},
   "outputs": [],
   "source": [
    "response.raise_for_status()"
   ]
  },
  {
   "cell_type": "code",
   "execution_count": 18,
   "metadata": {},
   "outputs": [
    {
     "data": {
      "text/plain": [
       "requests.models.Response"
      ]
     },
     "execution_count": 18,
     "metadata": {},
     "output_type": "execute_result"
    }
   ],
   "source": [
    "type(response)"
   ]
  },
  {
   "cell_type": "code",
   "execution_count": null,
   "metadata": {},
   "outputs": [],
   "source": [
    "dir (response)"
   ]
  },
  {
   "cell_type": "code",
   "execution_count": null,
   "metadata": {},
   "outputs": [],
   "source": [
    "response.text"
   ]
  },
  {
   "cell_type": "code",
   "execution_count": null,
   "metadata": {},
   "outputs": [],
   "source": [
    "response.json()"
   ]
  },
  {
   "cell_type": "code",
   "execution_count": null,
   "metadata": {},
   "outputs": [],
   "source": [
    "response.status_code"
   ]
  },
  {
   "cell_type": "code",
   "execution_count": null,
   "metadata": {},
   "outputs": [],
   "source": [
    "data_json = json.loads(response.content)\n",
    "data_json"
   ]
  },
  {
   "cell_type": "markdown",
   "metadata": {},
   "source": [
    "Or more simply directly using the prepared `json` method."
   ]
  },
  {
   "cell_type": "code",
   "execution_count": null,
   "metadata": {},
   "outputs": [],
   "source": [
    "data_json = response.json()\n",
    "data_json"
   ]
  },
  {
   "cell_type": "code",
   "execution_count": 22,
   "metadata": {},
   "outputs": [
    {
     "data": {
      "text/plain": [
       "list"
      ]
     },
     "execution_count": 22,
     "metadata": {},
     "output_type": "execute_result"
    }
   ],
   "source": [
    "type(data_json['features'])"
   ]
  },
  {
   "cell_type": "code",
   "execution_count": 23,
   "metadata": {},
   "outputs": [
    {
     "data": {
      "text/plain": [
       "{'geometry': {'coordinates': [14.3986383, 50.0718897], 'type': 'Point'},\n",
       " 'properties': {'directions': [{'id': 'camea-BC_AL-PL',\n",
       "    'name': 'Plze\u0148sk\u00e1 (z centra)'},\n",
       "   {'id': 'camea-BC_AL-ST', 'name': '\u0160tef\u00e1nikova (centrum)'}],\n",
       "  'id': 'camea-BC_AL-STPL',\n",
       "  'name': 'And\u011bl (Plze\u0148sk\u00e1)',\n",
       "  'route': 'A14',\n",
       "  'updated_at': '2021-06-09T19:00:00.569Z'},\n",
       " 'type': 'Feature'}"
      ]
     },
     "execution_count": 23,
     "metadata": {},
     "output_type": "execute_result"
    }
   ],
   "source": [
    "data_json['features'][0]"
   ]
  },
  {
   "cell_type": "code",
   "execution_count": 24,
   "metadata": {},
   "outputs": [
    {
     "name": "stdout",
     "output_type": "stream",
     "text": [
      "camea-BC_AL-STPL\n",
      "And\u011bl (Plze\u0148sk\u00e1)\n",
      "camea-BC_AL-PL\n",
      "camea-BC_AL-ST\n"
     ]
    }
   ],
   "source": [
    "print(data_json['features'][0]['properties']['id'])\n",
    "print(data_json['features'][0]['properties']['name'])\n",
    "print(data_json['features'][0]['properties']['directions'][0]['id'])\n",
    "print(data_json['features'][0]['properties']['directions'][1]['id'])"
   ]
  },
  {
   "cell_type": "code",
   "execution_count": null,
   "metadata": {},
   "outputs": [],
   "source": [
    "def get_bicycle_counters() -> dict:\n",
    "    \"\"\" Return all bicycle counters \"\"\"\n",
    "    response = requests.get('https://api.golemio.cz/v2/bicyclecounters/', headers=headers)\n",
    "    \n",
    "    # this raises exception if response status code is error (starts with 4 or 5)\n",
    "    response.raise_for_status()\n",
    "    \n",
    "    counters = {}\n",
    "    for counter in response.json()['features']:\n",
    "        counter_id = counter['properties']['id']\n",
    "        counter_name = counter['properties']['name']\n",
    "        direction_ids = [direction['id'] for direction in counter['properties']['directions'] if direction['id']]\n",
    "        \n",
    "        # skip empty counters\n",
    "        if len(direction_ids) == 0:\n",
    "            continue\n",
    "        \n",
    "        counters[counter_id] = {\n",
    "            'name': counter_name,\n",
    "            'direction_ids': direction_ids,\n",
    "        }\n",
    "    \n",
    "    return counters\n",
    "\n",
    "bicycle_counters = get_bicycle_counters()\n",
    "bicycle_counters    "
   ]
  },
  {
   "cell_type": "code",
   "execution_count": 26,
   "metadata": {},
   "outputs": [
    {
     "data": {
      "text/plain": [
       "[{'id': 'ecoCounter-103047647',\n",
       "  'value': 333809,\n",
       "  'value_pedestrians': None,\n",
       "  'locations_id': 'ecoCounter-100047647',\n",
       "  'measurement_count': '47490',\n",
       "  'measured_from': '1970-01-01T00:00:00.000Z',\n",
       "  'measured_to': '2021-06-09T19:03:31.613Z'}]"
      ]
     },
     "execution_count": 26,
     "metadata": {},
     "output_type": "execute_result"
    }
   ],
   "source": [
    "response = requests.get('https://api.golemio.cz/v2/bicyclecounters/detections?id=ecoCounter-103047647&aggregate=true', headers=headers)\n",
    "response.json()"
   ]
  },
  {
   "cell_type": "code",
   "execution_count": 29,
   "metadata": {},
   "outputs": [
    {
     "data": {
      "text/plain": [
       "97"
      ]
     },
     "execution_count": 29,
     "metadata": {},
     "output_type": "execute_result"
    }
   ],
   "source": [
    "def get_bike_count(counter_direction_id: str, time_from: datetime, duration: timedelta = None) -> int:\n",
    "    \"\"\" Return number of bike detections of counter in one direction in specific time frame \"\"\"\n",
    "    if duration is None:\n",
    "duration = timedelta (days = 1)",
    "        \n",
    "    params = {\n",
    "        'id': counter_direction_id,\n",
    "        'from': time_from.isoformat(),\n",
    "        'to': (time_from + duration).isoformat(),\n",
    "        'aggregate': 'true',\n",
    "    }\n",
    "    \n",
    "    response = requests.get('https://api.golemio.cz/v2/bicyclecounters/detections', params=params, headers=headers)\n",
    "    response.raise_for_status()\n",
    "    \n",
    "    # no measurments\n",
    "    if len(response.json()) == 0:\n",
    "        return 0\n",
    "    \n",
    "    return response.json()[0]['value']\n",
    "\n",
    "\n",
    "# example usage\n",
    "get_bike_count('camea-BC_AL-ST', datetime(2020, 12, 1), timedelta(days=1))"
   ]
  },
  {
   "cell_type": "code",
   "execution_count": 31,
   "metadata": {},
   "outputs": [
    {
     "data": {
      "text/plain": [
       "{'camea-BC_VK-KO': 67, 'camea-BC_VK-MO': 50}"
      ]
     },
     "execution_count": 31,
     "metadata": {},
     "output_type": "execute_result"
    }
   ],
   "source": [
    "def get_all_directions_counts(station_id: str, *args, counters: dict=None, **kwargs) -> tuple:\n",
    "    \"\"\" Return number of bike detections in all directions in a dict (direction_id: count).\n",
    "        Parameters are similar to get_bike_count function (see the usage on last line).\n",
    "    \"\"\"\n",
    "    if counters is None:\n",
    "        counters = get_bicycle_counters()\n",
    "    \n",
    "    counts = {}\n",
    "    for direction_id in counters[station_id]['direction_ids']:\n",
    "        counts[direction_id] = get_bike_count(direction_id, *args, **kwargs)\n",
    "        \n",
    "        \n",
    "    return counts\n",
    "\n",
    "get_all_directions_counts('camea-BC_VK-MOKO', datetime(2021, 6, 2, 11), timedelta(hours=1))"
   ]
  },
  {
   "cell_type": "markdown",
   "metadata": {},
   "source": [
    "### Tasks",
    "\n",
    "* How many cyclists rode yesterday in the time 6.00 - 11.00 in Mod\u0159any?",
    "* Which place was the busiest yesterday? And which of the others?",
    "\n",
    "* Other tasks are unresolved. You can try them after an hour. Downloading data can take a long time. *",
    "* How was driving in 2020 compared to the previous year?",
    "* Where is the biggest difference between one way and the other? (perhaps in the last month)",
    "* Does higher temperature mean more cyclists? Temperature detection https://golemioapi.docs.apiary.io/#reference/traffic/bicyclecounters/get-bicyclecounters-temperatures",
    "* try to visualize",
    "* how big the correlation is"
   ]
  },
  {
   "cell_type": "code",
   "execution_count": 33,
   "metadata": {},
   "outputs": [
    {
     "name": "stdout",
     "output_type": "stream",
     "text": [
      "camea-BC_VK-MOKO camea-BC_VK-KO 687\n",
      "camea-BC_VK-MOKO camea-BC_VK-MO 367\n"
     ]
    }
   ],
   "source": [
    "# Solution of the number of cyclists in Mod\u0159any in individual directions",
    "\n",
    "for id, counter in get_bicycle_counters().items():\n",
    "    if counter['name'] != 'Mod\u0159any':\n",
    "        continue\n",
    "    \n",
    "    for direction_id in counter['direction_ids']:\n",
    "        count = get_bike_count(direction_id, datetime(2021, 6, 2, 11), timedelta(hours=5))\n",
    "        print(id, direction_id, count)\n",
    "    "
   ]
  },
  {
   "cell_type": "code",
   "execution_count": null,
   "metadata": {},
   "outputs": [],
   "source": [
    "# Get the number of cyclists for all stations on a given day",
    "# download takes a while, interim results are listed",
    "\n",
    "day_counts = []\n",
    "for station_id in bicycle_counters:\n",
    "    print(station_id, end='')\n",
    "    counts = get_all_directions_counts(\n",
    "        station_id, datetime(2021, 6, 1), duration=timedelta(days=1), counters=bicycle_counters\n",
    "    )\n",
    "    \n",
    "    print(station_id, bicycle_counters[station_id]['name'], counts, sum(counts.values()))\n",
    "\n",
    "    day_counts.append((station_id, bicycle_counters[station_id]['name'], sum(counts.values())))\n",
    "    \n",
    "day_counts"
   ]
  },
  {
   "cell_type": "code",
   "execution_count": 36,
   "metadata": {},
   "outputs": [
    {
     "data": {
      "text/plain": [
       "[('camea-BC_PT-ZOVO', 'Povltavsk\u00e1', 3357),\n",
       " ('camea-BC_PN-VYBR2', 'Podolsk\u00e9 n\u00e1b\u0159e\u017e\u00ed - vozovka', 3331)]"
      ]
     },
     "execution_count": 36,
     "metadata": {},
     "output_type": "execute_result"
    }
   ],
   "source": [
    "# the first two most frequented places - solutions in python",
    "sorted_counts = sorted(\n",
    "day_counts, # we want to sort this list",
    "key = lambda row: row [2], # use the third item from the tuple to sort",
    "reverse = True # from highest (default is from lowest)",
    ")             \n",
    "\n",
    "sorted_counts [: 2] # first two records"
   ]
  },
  {
   "cell_type": "code",
   "execution_count": 37,
   "metadata": {},
   "outputs": [],
   "source": [
    "import pandas as pd"
   ]
  },
  {
   "cell_type": "code",
   "execution_count": 38,
   "metadata": {},
   "outputs": [
    {
     "data": {
      "text/html": [
       "<div>\n",
       "<style scoped>\n",
       "    .dataframe tbody tr th:only-of-type {\n",
       "        vertical-align: middle;\n",
       "    }\n",
       "\n",
       "    .dataframe tbody tr th {\n",
       "        vertical-align: top;\n",
       "    }\n",
       "\n",
       "    .dataframe thead th {\n",
       "        text-align: right;\n",
       "    }\n",
       "</style>\n",
       "<table border=\"1\" class=\"dataframe\">\n",
       "  <thead>\n",
       "    <tr style=\"text-align: right;\">\n",
       "      <th></th>\n",
       "      <th>name</th>\n",
       "      <th>day_count</th>\n",
       "    </tr>\n",
       "    <tr>\n",
       "      <th>station_id</th>\n",
       "      <th></th>\n",
       "      <th></th>\n",
       "    </tr>\n",
       "  </thead>\n",
       "  <tbody>\n",
       "    <tr>\n",
       "      <th>camea-BC_PT-ZOVO</th>\n",
       "      <td>Povltavsk\u00e1</td>\n",
       "      <td>3357</td>\n",
       "    </tr>\n",
       "    <tr>\n",
       "      <th>camea-BC_PN-VYBR2</th>\n",
       "      <td>Podolsk\u00e9 n\u00e1b\u0159e\u017e\u00ed - vozovka</td>\n",
       "      <td>3331</td>\n",
       "    </tr>\n",
       "  </tbody>\n",
       "</table>\n",
       "</div>"
      ],
      "text/plain": [
       "                                         name  day_count\n",
       "station_id                                              \n",
       "camea-BC_PT-ZOVO                   Povltavsk\u00e1       3357\n",
       "camea-BC_PN-VYBR2  Podolsk\u00e9 n\u00e1b\u0159e\u017e\u00ed - vozovka       3331"
      ]
     },
     "execution_count": 38,
     "metadata": {},
     "output_type": "execute_result"
    }
   ],
   "source": [
    "# The first two busiest places - the solution in Pandas",
    "day_counts_df = pd.DataFrame(day_counts, columns=['station_id', 'name', 'day_count'])\n",
    "day_counts_df = day_counts_df.set_index('station_id')\n",
    "day_counts_df.sort_values('day_count', ascending=False)[:2]"
   ]
  },
  {
   "cell_type": "markdown",
   "metadata": {},
   "source": [
    "## Crime in the UK",
    "\n",
    "* Example of another public API *",
    "\n",
    "We will try API queries with crime data in the UK, which are available on a monthly basis by approximate location (see https://data.police.uk/docs/method/stops-at-location/)"
   ]
  },
  {
   "cell_type": "code",
   "execution_count": 39,
   "metadata": {},
   "outputs": [],
   "source": [
    "api_url = &quot;https://data.police.uk/api/stops-street&quot;"
   ]
  },
  {
   "cell_type": "markdown",
   "metadata": {},
   "source": [
    "Setting API call parameters according to documentation https://data.police.uk/docs/method/stops-at-location/",
    "I chose the infamous Hackney district in London as my location :)"
   ]
  },
  {
   "cell_type": "code",
   "execution_count": 40,
   "metadata": {},
   "outputs": [],
   "source": [
    "params = {\n",
    "&quot;years&quot;: &quot;51.5487158&quot;,",
    "&quot;lng&quot;: &quot;-0.0613842&quot;,",
    "    \"date\" : \"2018-06\"\n",
    "}"
   ]
  },
  {
   "cell_type": "markdown",
   "metadata": {},
   "source": [
    "Use the `get` function to send a request for an API URL. The URL with the parameters looks like this: https://data.police.uk/api/stops-street?lat=51.5487158&amp;lng=-0.0613842&amp;date=2018-06 and it is possible to try it in a browser.",
    "\n",
    "In the response variable we have a stored object that contains the response from the API."
   ]
  },
  {
   "cell_type": "code",
   "execution_count": 41,
   "metadata": {},
   "outputs": [],
   "source": [
    "response = requests.get(api_url, params=params)"
   ]
  },
  {
   "cell_type": "markdown",
   "metadata": {},
   "source": [
    "If the status code is other than 200 (success), the script throws an error and an error status code"
   ]
  },
  {
   "cell_type": "code",
   "execution_count": 42,
   "metadata": {},
   "outputs": [
    {
     "name": "stdout",
     "output_type": "stream",
     "text": [
      "First 100 characters of data are\n",
      "[{\"age_range\":\"18-24\",\"outcome\":\"Community resolution\",\"involved_person\":true,\"self_defined_ethnicit\n"
     ]
    }
   ],
   "source": [
    "if response.status_code != 200:\n",
    "    print('Failed to get data:', response.status_code)\n",
    "else:\n",
    "    print('First 100 characters of data are')\n",
    "    print(response.text[:100])"
   ]
  },
  {
   "cell_type": "markdown",
   "metadata": {},
   "source": [
    "Header with additional information about the answer"
   ]
  },
  {
   "cell_type": "code",
   "execution_count": 43,
   "metadata": {},
   "outputs": [
    {
     "data": {
      "text/plain": [
       "{'Date': 'Wed, 09 Jun 2021 19:22:00 GMT', 'Content-Type': 'application/json', 'Content-Length': '5687', 'Connection': 'keep-alive', 'Vary': 'Accept-Encoding', 'Access-Control-Allow-Origin': '*', 'Content-Encoding': 'gzip', 'Strict-Transport-Security': 'max-age=31536000;', 'X-XSS-Protection': '1; mode=block', 'X-Content-Type-Options': 'nosniff', 'X-Frame-Options': 'DENY', 'Content-Security-Policy': \"default-src 'self' 'unsafe-inline' ; script-src 'self' data: www.google-analytics.com ajax.googleapis.com 'unsafe-inline';\", 'Referer-Policy': 'strict-origin-when-cross-origin'}"
      ]
     },
     "execution_count": 43,
     "metadata": {},
     "output_type": "execute_result"
    }
   ],
   "source": [
    "response.headers"
   ]
  },
  {
   "cell_type": "code",
   "execution_count": 44,
   "metadata": {},
   "outputs": [
    {
     "data": {
      "text/plain": [
       "'application/json'"
      ]
     },
     "execution_count": 44,
     "metadata": {},
     "output_type": "execute_result"
    }
   ],
   "source": [
    "response.headers['content-type']"
   ]
  },
  {
   "cell_type": "markdown",
   "metadata": {},
   "source": [
    "The content of the answer is a byte string"
   ]
  },
  {
   "cell_type": "code",
   "execution_count": 45,
   "metadata": {},
   "outputs": [
    {
     "data": {
      "text/plain": [
       "b'[{\"age_range\":\"18-24\",\"outcome\":\"Community resolution\",\"involved_person\":true,\"self_defined_ethnicity\":\"Black\\\\/African\\\\/Caribbean\\\\/Black British - Any other Black\\\\/African\\\\/Caribbean background\",\"gend'"
      ]
     },
     "execution_count": 45,
     "metadata": {},
     "output_type": "execute_result"
    }
   ],
   "source": [
    "response.content[:200]"
   ]
  },
  {
   "cell_type": "markdown",
   "metadata": {},
   "source": [
    "It looks like a list or dictionary, but doesn&#39;t behave like this:"
   ]
  },
  {
   "cell_type": "code",
   "execution_count": 46,
   "metadata": {
    "tags": [
     "raises-exception"
    ]
   },
   "outputs": [
    {
     "ename": "TypeError",
     "evalue": "'Response' object is not subscriptable",
     "output_type": "error",
     "traceback": [
      "\u001b[0;31m---------------------------------------------------------------------------\u001b[0m",
      "\u001b[0;31mTypeError\u001b[0m                                 Traceback (most recent call last)",
      "\u001b[0;32m<ipython-input-46-ec7ac01c28cf>\u001b[0m in \u001b[0;36m<module>\u001b[0;34m\u001b[0m\n\u001b[0;32m----> 1\u001b[0;31m \u001b[0mresponse\u001b[0m\u001b[0;34m[\u001b[0m\u001b[0;36m0\u001b[0m\u001b[0;34m]\u001b[0m\u001b[0;34m[\u001b[0m\u001b[0;34m\"age_range\"\u001b[0m\u001b[0;34m]\u001b[0m\u001b[0;34m\u001b[0m\u001b[0;34m\u001b[0m\u001b[0m\n\u001b[0m",
      "\u001b[0;31mTypeError\u001b[0m: 'Response' object is not subscriptable"
     ]
    }
   ],
   "source": [
    "response[0][\"age_range\"]"
   ]
  },
  {
   "cell_type": "markdown",
   "metadata": {},
   "source": [
    "We will convert the byte string using the .json () method from the requests library"
   ]
  },
  {
   "cell_type": "code",
   "execution_count": 47,
   "metadata": {},
   "outputs": [],
   "source": [
    "data = response.json()"
   ]
  },
  {
   "cell_type": "markdown",
   "metadata": {},
   "source": [
    "We will verify the data type"
   ]
  },
  {
   "cell_type": "code",
   "execution_count": 48,
   "metadata": {},
   "outputs": [
    {
     "data": {
      "text/plain": [
       "list"
      ]
     },
     "execution_count": 48,
     "metadata": {},
     "output_type": "execute_result"
    }
   ],
   "source": [
    "type(data)"
   ]
  },
  {
   "cell_type": "markdown",
   "metadata": {},
   "source": [
    "Now we can access the &quot;data&quot; as a classic list (list)"
   ]
  },
  {
   "cell_type": "code",
   "execution_count": 49,
   "metadata": {},
   "outputs": [
    {
     "data": {
      "text/plain": [
       "'18-24'"
      ]
     },
     "execution_count": 49,
     "metadata": {},
     "output_type": "execute_result"
    }
   ],
   "source": [
    "data[0][\"age_range\"]"
   ]
  },
  {
   "cell_type": "markdown",
   "metadata": {},
   "source": [
    "Converts a list (sheet) to a string with parameters to display the structure in a readable form"
   ]
  },
  {
   "cell_type": "code",
   "execution_count": 50,
   "metadata": {},
   "outputs": [],
   "source": [
    "datas = json.dumps(data, sort_keys=True, indent=4)"
   ]
  },
  {
   "cell_type": "code",
   "execution_count": 51,
   "metadata": {
    "scrolled": true
   },
   "outputs": [
    {
     "name": "stdout",
     "output_type": "stream",
     "text": [
      "[\n",
      "    {\n",
      "        \"age_range\": \"18-24\",\n",
      "        \"datetime\": \"2018-06-01T09:45:00+00:00\",\n",
      "        \"gender\": \"Male\",\n",
      "        \"involved_person\": true,\n",
      "        \"legislation\": \"Misuse of Drugs Act 1971 (section 23)\",\n",
      "        \"location\": {\n",
      "            \"latitude\": \"51.551330\",\n",
      "            \"longitude\": \"-0.068037\",\n",
      "            \"street\": {\n",
      "                \"id\": 968551,\n",
      "                \"name\": \"On or near Downs Park Road\"\n",
      "            }\n",
      "        },\n",
      "        \"object_of_search\": \"Controlled drugs\",\n",
      "        \"officer_defined_ethnicity\": \"Black\",\n",
      "        \"operation\": false,\n",
      "        \"operation_name\": null,\n",
      "        \"outcome\": \"Community resolution\",\n",
      "        \"outcome_linked_to_object_of_search\": null,\n",
      "        \"outcome_object\": {\n",
      "            \"id\": \"bu-community-resolution\",\n",
      "            \"name\": \"Community resolution\"\n",
      "        },\n",
      "        \"removal_of_more_than_outer_clothing\": null,\n",
      "        \"self_defined_ethnicity\": \"Black/African/Caribbean/Black British - Any other Black/African/Caribbean background\",\n",
      "        \"type\": \"Person search\"\n",
      "    },\n",
      "    {\n",
      "        \"age_range\": \"18-24\",\n",
      "        \"datetime\": \"2018-06-02T02:37:00+00:00\",\n",
      "        \"gender\": \"Male\",\n",
      "        \"involved_person\": true,\n",
      "        \"legislation\": \"Misuse of Drugs Act 1971 (section 23)\",\n",
      "        \"location\": {\n",
      "            \"latitude\": \"51.549626\",\n",
      "            \"longitude\": \"-0.054738\",\n",
      "            \"street\": {\n",
      "                \"id\": 968830,\n",
      "                \"name\": \"On or near Dalston Lane\"\n",
      "            }\n",
      "        },\n",
      "        \"object_of_search\": \"Controlled drugs\",\n",
      "        \"officer_defined_ethnicity\": \"Black\",\n",
      "        \"operation\": false,\n",
      "        \"operat\n"
     ]
    }
   ],
   "source": [
    "print(dates[:1600])"
   ]
  },
  {
   "cell_type": "markdown",
   "metadata": {},
   "source": [
    "The cycle by which we approach the age range of people lustrated by the police"
   ]
  },
  {
   "cell_type": "code",
   "execution_count": 52,
   "metadata": {},
   "outputs": [],
   "source": [
    "age_range = [i[\"age_range\"] for i in data]"
   ]
  },
  {
   "cell_type": "code",
   "execution_count": 53,
   "metadata": {},
   "outputs": [
    {
     "name": "stdout",
     "output_type": "stream",
     "text": [
      "['18-24', '18-24', 'over 34', '18-24', '10-17', '10-17', 'over 34', '25-34', 'over 34', '25-34', None, '25-34', '18-24', '10-17', None, '18-24', None, '18-24', '10-17', 'over 34', '18-24', '18-24', '18-24', '18-24', '18-24', '18-24', '18-24', '18-24', '18-24', '25-34', '18-24', '18-24', '18-24', 'over 34', '10-17', '10-17', '25-34', '18-24', '18-24', '25-34', '25-34', '25-34', 'over 34', 'over 34', '18-24', '18-24', '18-24', '18-24', '18-24', '25-34', '25-34', 'over 34', '25-34', 'over 34', '18-24', '25-34', '25-34', 'over 34', '18-24', None, '18-24', '18-24', None, '18-24', '18-24', '25-34', '10-17', '25-34', '18-24', '25-34', '18-24', None, '18-24', '25-34', '25-34', '25-34', '18-24', '25-34', '25-34', '18-24', '18-24', '10-17', 'over 34', 'over 34', '18-24', '18-24', '25-34', '10-17', '18-24', 'over 34', '10-17', '25-34', 'over 34', '18-24', '25-34', 'over 34', '25-34', '18-24', '18-24', '18-24', '18-24', '10-17', '10-17', '18-24', '25-34', '18-24', '25-34', '18-24', '18-24', '10-17', '25-34', '18-24', 'over 34', '10-17', '18-24', 'over 34', '18-24', '10-17', '10-17', 'over 34', '25-34', '10-17', '10-17', '25-34', '10-17', '10-17', '10-17', '10-17', '18-24', '10-17', '10-17', None, 'over 34', '10-17', '10-17', '25-34', '10-17', '18-24', '10-17', None, '10-17', '10-17', '25-34', '18-24', '18-24', '25-34', '10-17', '10-17', '25-34', '10-17', None, '25-34', '25-34', '18-24', '10-17', '25-34', '18-24', '10-17', '10-17', '25-34', None, '18-24', '25-34', '25-34', '10-17', '10-17', '18-24', 'over 34', '18-24', '18-24', '10-17', '10-17', '25-34', 'over 34', 'over 34', '18-24', '18-24', '25-34', '10-17']\n"
     ]
    }
   ],
   "source": [
    "print(age_range)"
   ]
  },
  {
   "cell_type": "markdown",
   "metadata": {},
   "source": [
    "The cycle by which we access the street id where the suspect&#39;s lustration took place"
   ]
  },
  {
   "cell_type": "code",
   "execution_count": 54,
   "metadata": {},
   "outputs": [],
   "source": [
    "street_id = [i[\"location\"][\"street\"][\"id\"] for i in data]"
   ]
  },
  {
   "cell_type": "code",
   "execution_count": 55,
   "metadata": {},
   "outputs": [
    {
     "name": "stdout",
     "output_type": "stream",
     "text": [
      "[968551, 968830, 968830, 968740, 964026, 964026, 968844, 968662, 968662, 968662, 971832, 971832, 968828, 968828, 968805, 968828, 968805, 968805, 968805, 968584, 964086, 968632, 968632, 964132, 968632, 968632, 968584, 968584, 968872, 971832, 968717, 968866, 971656, 964226, 968662, 968662, 968703, 968668, 968668, 968703, 964013, 968505, 968830, 968500, 968662, 968830, 968830, 968662, 968662, 968705, 964150, 968663, 968663, 968830, 968467, 968662, 968663, 968830, 964370, 964370, 968500, 964287, 964329, 971656, 971656, 968830, 968829, 968830, 968829, 968608, 968703, 968703, 968469, 968662, 968754, 968662, 968872, 968748, 968872, 968691, 968641, 968641, 964023, 964322, 968872, 968872, 968872, 968662, 964219, 964092, 964219, 968854, 968662, 968662, 968662, 968786, 968584, 968662, 964266, 964316, 964266, 968637, 968637, 968804, 968804, 968804, 971758, 968804, 968662, 964297, 968830, 968770, 968500, 968662, 968804, 968500, 964324, 964266, 964225, 968816, 968500, 964266, 968641, 968575, 968828, 968828, 968828, 968489, 968815, 968564, 964266, 968871, 968687, 964091, 968815, 971713, 971801, 968662, 964208, 968614, 968802, 968839, 964085, 968630, 968642, 964098, 964312, 964312, 968872, 964248, 971656, 968872, 968872, 968804, 968647, 968884, 968844, 968872, 968763, 968830, 968804, 968854, 968609, 968662, 968830, 968489, 968603, 971832, 968641, 968830, 968647, 968489, 968496, 968606, 968626, 968606, 968369, 968660, 968815]\n"
     ]
    }
   ],
   "source": [
    "print(street_id)"
   ]
  },
  {
   "cell_type": "code",
   "execution_count": 56,
   "metadata": {},
   "outputs": [],
   "source": [
    "import pandas as pd"
   ]
  },
  {
   "cell_type": "markdown",
   "metadata": {},
   "source": [
    "We combine the lists into a dataframe"
   ]
  },
  {
   "cell_type": "code",
   "execution_count": 57,
   "metadata": {},
   "outputs": [],
   "source": [
    "df_from_lists = pd.DataFrame(list(zip(age_range, street_id)), \n",
    "                columns = ['age_range', 'street_id'])"
   ]
  },
  {
   "cell_type": "code",
   "execution_count": 58,
   "metadata": {},
   "outputs": [
    {
     "data": {
      "text/html": [
       "<div>\n",
       "<style scoped>\n",
       "    .dataframe tbody tr th:only-of-type {\n",
       "        vertical-align: middle;\n",
       "    }\n",
       "\n",
       "    .dataframe tbody tr th {\n",
       "        vertical-align: top;\n",
       "    }\n",
       "\n",
       "    .dataframe thead th {\n",
       "        text-align: right;\n",
       "    }\n",
       "</style>\n",
       "<table border=\"1\" class=\"dataframe\">\n",
       "  <thead>\n",
       "    <tr style=\"text-align: right;\">\n",
       "      <th></th>\n",
       "      <th>age_range</th>\n",
       "      <th>street_id</th>\n",
       "    </tr>\n",
       "  </thead>\n",
       "  <tbody>\n",
       "    <tr>\n",
       "      <th>0</th>\n",
       "      <td>18-24</td>\n",
       "      <td>968551</td>\n",
       "    </tr>\n",
       "    <tr>\n",
       "      <th>1</th>\n",
       "      <td>18-24</td>\n",
       "      <td>968830</td>\n",
       "    </tr>\n",
       "    <tr>\n",
       "      <th>2</th>\n",
       "      <td>over 34</td>\n",
       "      <td>968830</td>\n",
       "    </tr>\n",
       "    <tr>\n",
       "      <th>3</th>\n",
       "      <td>18-24</td>\n",
       "      <td>968740</td>\n",
       "    </tr>\n",
       "    <tr>\n",
       "      <th>4</th>\n",
       "      <td>10-17</td>\n",
       "      <td>964026</td>\n",
       "    </tr>\n",
       "  </tbody>\n",
       "</table>\n",
       "</div>"
      ],
      "text/plain": [
       "  age_range  street_id\n",
       "0     18-24     968551\n",
       "1     18-24     968830\n",
       "2   over 34     968830\n",
       "3     18-24     968740\n",
       "4     10-17     964026"
      ]
     },
     "execution_count": 58,
     "metadata": {},
     "output_type": "execute_result"
    }
   ],
   "source": [
    "df_from_lists.head()"
   ]
  },
  {
   "cell_type": "markdown",
   "metadata": {},
   "source": [
    "What age group did the police most often lustrate?"
   ]
  },
  {
   "cell_type": "code",
   "execution_count": null,
   "metadata": {},
   "outputs": [],
   "source": []
  },
  {
   "cell_type": "code",
   "execution_count": 59,
   "metadata": {
    "scrolled": true
   },
   "outputs": [
    {
     "ename": "ModuleNotFoundError",
     "evalue": "No module named 'matplotlib'",
     "output_type": "error",
     "traceback": [
      "\u001b[0;31m---------------------------------------------------------------------------\u001b[0m",
      "\u001b[0;31mModuleNotFoundError\u001b[0m                       Traceback (most recent call last)",
      "\u001b[0;32m<ipython-input-59-9e3324102725>\u001b[0m in \u001b[0;36m<module>\u001b[0;34m\u001b[0m\n\u001b[0;32m----> 1\u001b[0;31m \u001b[0mget_ipython\u001b[0m\u001b[0;34m(\u001b[0m\u001b[0;34m)\u001b[0m\u001b[0;34m.\u001b[0m\u001b[0mrun_line_magic\u001b[0m\u001b[0;34m(\u001b[0m\u001b[0;34m'matplotlib'\u001b[0m\u001b[0;34m,\u001b[0m \u001b[0;34m'inline'\u001b[0m\u001b[0;34m)\u001b[0m\u001b[0;34m\u001b[0m\u001b[0;34m\u001b[0m\u001b[0m\n\u001b[0m",
      "\u001b[0;32m~/Dokumenty/pydata/venv/lib/python3.7/site-packages/IPython/core/interactiveshell.py\u001b[0m in \u001b[0;36mrun_line_magic\u001b[0;34m(self, magic_name, line, _stack_depth)\u001b[0m\n\u001b[1;32m   2346\u001b[0m                 \u001b[0mkwargs\u001b[0m\u001b[0;34m[\u001b[0m\u001b[0;34m'local_ns'\u001b[0m\u001b[0;34m]\u001b[0m \u001b[0;34m=\u001b[0m \u001b[0mself\u001b[0m\u001b[0;34m.\u001b[0m\u001b[0mget_local_scope\u001b[0m\u001b[0;34m(\u001b[0m\u001b[0mstack_depth\u001b[0m\u001b[0;34m)\u001b[0m\u001b[0;34m\u001b[0m\u001b[0;34m\u001b[0m\u001b[0m\n\u001b[1;32m   2347\u001b[0m             \u001b[0;32mwith\u001b[0m \u001b[0mself\u001b[0m\u001b[0;34m.\u001b[0m\u001b[0mbuiltin_trap\u001b[0m\u001b[0;34m:\u001b[0m\u001b[0;34m\u001b[0m\u001b[0;34m\u001b[0m\u001b[0m\n\u001b[0;32m-> 2348\u001b[0;31m                 \u001b[0mresult\u001b[0m \u001b[0;34m=\u001b[0m \u001b[0mfn\u001b[0m\u001b[0;34m(\u001b[0m\u001b[0;34m*\u001b[0m\u001b[0margs\u001b[0m\u001b[0;34m,\u001b[0m \u001b[0;34m**\u001b[0m\u001b[0mkwargs\u001b[0m\u001b[0;34m)\u001b[0m\u001b[0;34m\u001b[0m\u001b[0;34m\u001b[0m\u001b[0m\n\u001b[0m\u001b[1;32m   2349\u001b[0m             \u001b[0;32mreturn\u001b[0m \u001b[0mresult\u001b[0m\u001b[0;34m\u001b[0m\u001b[0;34m\u001b[0m\u001b[0m\n\u001b[1;32m   2350\u001b[0m \u001b[0;34m\u001b[0m\u001b[0m\n",
      "\u001b[0;32m~/Dokumenty/pydata/venv/lib/python3.7/site-packages/decorator.py\u001b[0m in \u001b[0;36mfun\u001b[0;34m(*args, **kw)\u001b[0m\n\u001b[1;32m    230\u001b[0m             \u001b[0;32mif\u001b[0m \u001b[0;32mnot\u001b[0m \u001b[0mkwsyntax\u001b[0m\u001b[0;34m:\u001b[0m\u001b[0;34m\u001b[0m\u001b[0;34m\u001b[0m\u001b[0m\n\u001b[1;32m    231\u001b[0m                 \u001b[0margs\u001b[0m\u001b[0;34m,\u001b[0m \u001b[0mkw\u001b[0m \u001b[0;34m=\u001b[0m \u001b[0mfix\u001b[0m\u001b[0;34m(\u001b[0m\u001b[0margs\u001b[0m\u001b[0;34m,\u001b[0m \u001b[0mkw\u001b[0m\u001b[0;34m,\u001b[0m \u001b[0msig\u001b[0m\u001b[0;34m)\u001b[0m\u001b[0;34m\u001b[0m\u001b[0;34m\u001b[0m\u001b[0m\n\u001b[0;32m--> 232\u001b[0;31m             \u001b[0;32mreturn\u001b[0m \u001b[0mcaller\u001b[0m\u001b[0;34m(\u001b[0m\u001b[0mfunc\u001b[0m\u001b[0;34m,\u001b[0m \u001b[0;34m*\u001b[0m\u001b[0;34m(\u001b[0m\u001b[0mextras\u001b[0m \u001b[0;34m+\u001b[0m \u001b[0margs\u001b[0m\u001b[0;34m)\u001b[0m\u001b[0;34m,\u001b[0m \u001b[0;34m**\u001b[0m\u001b[0mkw\u001b[0m\u001b[0;34m)\u001b[0m\u001b[0;34m\u001b[0m\u001b[0;34m\u001b[0m\u001b[0m\n\u001b[0m\u001b[1;32m    233\u001b[0m     \u001b[0mfun\u001b[0m\u001b[0;34m.\u001b[0m\u001b[0m__name__\u001b[0m \u001b[0;34m=\u001b[0m \u001b[0mfunc\u001b[0m\u001b[0;34m.\u001b[0m\u001b[0m__name__\u001b[0m\u001b[0;34m\u001b[0m\u001b[0;34m\u001b[0m\u001b[0m\n\u001b[1;32m    234\u001b[0m     \u001b[0mfun\u001b[0m\u001b[0;34m.\u001b[0m\u001b[0m__doc__\u001b[0m \u001b[0;34m=\u001b[0m \u001b[0mfunc\u001b[0m\u001b[0;34m.\u001b[0m\u001b[0m__doc__\u001b[0m\u001b[0;34m\u001b[0m\u001b[0;34m\u001b[0m\u001b[0m\n",
      "\u001b[0;32m~/Dokumenty/pydata/venv/lib/python3.7/site-packages/IPython/core/magic.py\u001b[0m in \u001b[0;36m<lambda>\u001b[0;34m(f, *a, **k)\u001b[0m\n\u001b[1;32m    185\u001b[0m     \u001b[0;31m# but it's overkill for just that one bit of state.\u001b[0m\u001b[0;34m\u001b[0m\u001b[0;34m\u001b[0m\u001b[0;34m\u001b[0m\u001b[0m\n\u001b[1;32m    186\u001b[0m     \u001b[0;32mdef\u001b[0m \u001b[0mmagic_deco\u001b[0m\u001b[0;34m(\u001b[0m\u001b[0marg\u001b[0m\u001b[0;34m)\u001b[0m\u001b[0;34m:\u001b[0m\u001b[0;34m\u001b[0m\u001b[0;34m\u001b[0m\u001b[0m\n\u001b[0;32m--> 187\u001b[0;31m         \u001b[0mcall\u001b[0m \u001b[0;34m=\u001b[0m \u001b[0;32mlambda\u001b[0m \u001b[0mf\u001b[0m\u001b[0;34m,\u001b[0m \u001b[0;34m*\u001b[0m\u001b[0ma\u001b[0m\u001b[0;34m,\u001b[0m \u001b[0;34m**\u001b[0m\u001b[0mk\u001b[0m\u001b[0;34m:\u001b[0m \u001b[0mf\u001b[0m\u001b[0;34m(\u001b[0m\u001b[0;34m*\u001b[0m\u001b[0ma\u001b[0m\u001b[0;34m,\u001b[0m \u001b[0;34m**\u001b[0m\u001b[0mk\u001b[0m\u001b[0;34m)\u001b[0m\u001b[0;34m\u001b[0m\u001b[0;34m\u001b[0m\u001b[0m\n\u001b[0m\u001b[1;32m    188\u001b[0m \u001b[0;34m\u001b[0m\u001b[0m\n\u001b[1;32m    189\u001b[0m         \u001b[0;32mif\u001b[0m \u001b[0mcallable\u001b[0m\u001b[0;34m(\u001b[0m\u001b[0marg\u001b[0m\u001b[0;34m)\u001b[0m\u001b[0;34m:\u001b[0m\u001b[0;34m\u001b[0m\u001b[0;34m\u001b[0m\u001b[0m\n",
      "\u001b[0;32m~/Dokumenty/pydata/venv/lib/python3.7/site-packages/IPython/core/magics/pylab.py\u001b[0m in \u001b[0;36mmatplotlib\u001b[0;34m(self, line)\u001b[0m\n\u001b[1;32m     97\u001b[0m             \u001b[0mprint\u001b[0m\u001b[0;34m(\u001b[0m\u001b[0;34m\"Available matplotlib backends: %s\"\u001b[0m \u001b[0;34m%\u001b[0m \u001b[0mbackends_list\u001b[0m\u001b[0;34m)\u001b[0m\u001b[0;34m\u001b[0m\u001b[0;34m\u001b[0m\u001b[0m\n\u001b[1;32m     98\u001b[0m         \u001b[0;32melse\u001b[0m\u001b[0;34m:\u001b[0m\u001b[0;34m\u001b[0m\u001b[0;34m\u001b[0m\u001b[0m\n\u001b[0;32m---> 99\u001b[0;31m             \u001b[0mgui\u001b[0m\u001b[0;34m,\u001b[0m \u001b[0mbackend\u001b[0m \u001b[0;34m=\u001b[0m \u001b[0mself\u001b[0m\u001b[0;34m.\u001b[0m\u001b[0mshell\u001b[0m\u001b[0;34m.\u001b[0m\u001b[0menable_matplotlib\u001b[0m\u001b[0;34m(\u001b[0m\u001b[0margs\u001b[0m\u001b[0;34m.\u001b[0m\u001b[0mgui\u001b[0m\u001b[0;34m.\u001b[0m\u001b[0mlower\u001b[0m\u001b[0;34m(\u001b[0m\u001b[0;34m)\u001b[0m \u001b[0;32mif\u001b[0m \u001b[0misinstance\u001b[0m\u001b[0;34m(\u001b[0m\u001b[0margs\u001b[0m\u001b[0;34m.\u001b[0m\u001b[0mgui\u001b[0m\u001b[0;34m,\u001b[0m \u001b[0mstr\u001b[0m\u001b[0;34m)\u001b[0m \u001b[0;32melse\u001b[0m \u001b[0margs\u001b[0m\u001b[0;34m.\u001b[0m\u001b[0mgui\u001b[0m\u001b[0;34m)\u001b[0m\u001b[0;34m\u001b[0m\u001b[0;34m\u001b[0m\u001b[0m\n\u001b[0m\u001b[1;32m    100\u001b[0m             \u001b[0mself\u001b[0m\u001b[0;34m.\u001b[0m\u001b[0m_show_matplotlib_backend\u001b[0m\u001b[0;34m(\u001b[0m\u001b[0margs\u001b[0m\u001b[0;34m.\u001b[0m\u001b[0mgui\u001b[0m\u001b[0;34m,\u001b[0m \u001b[0mbackend\u001b[0m\u001b[0;34m)\u001b[0m\u001b[0;34m\u001b[0m\u001b[0;34m\u001b[0m\u001b[0m\n\u001b[1;32m    101\u001b[0m \u001b[0;34m\u001b[0m\u001b[0m\n",
      "\u001b[0;32m~/Dokumenty/pydata/venv/lib/python3.7/site-packages/ipykernel/zmqshell.py\u001b[0m in \u001b[0;36menable_matplotlib\u001b[0;34m(self, gui)\u001b[0m\n\u001b[1;32m    599\u001b[0m \u001b[0;34m\u001b[0m\u001b[0m\n\u001b[1;32m    600\u001b[0m     \u001b[0;32mdef\u001b[0m \u001b[0menable_matplotlib\u001b[0m\u001b[0;34m(\u001b[0m\u001b[0mself\u001b[0m\u001b[0;34m,\u001b[0m \u001b[0mgui\u001b[0m\u001b[0;34m=\u001b[0m\u001b[0;32mNone\u001b[0m\u001b[0;34m)\u001b[0m\u001b[0;34m:\u001b[0m\u001b[0;34m\u001b[0m\u001b[0;34m\u001b[0m\u001b[0m\n\u001b[0;32m--> 601\u001b[0;31m         \u001b[0mgui\u001b[0m\u001b[0;34m,\u001b[0m \u001b[0mbackend\u001b[0m \u001b[0;34m=\u001b[0m \u001b[0msuper\u001b[0m\u001b[0;34m(\u001b[0m\u001b[0mZMQInteractiveShell\u001b[0m\u001b[0;34m,\u001b[0m \u001b[0mself\u001b[0m\u001b[0;34m)\u001b[0m\u001b[0;34m.\u001b[0m\u001b[0menable_matplotlib\u001b[0m\u001b[0;34m(\u001b[0m\u001b[0mgui\u001b[0m\u001b[0;34m)\u001b[0m\u001b[0;34m\u001b[0m\u001b[0;34m\u001b[0m\u001b[0m\n\u001b[0m\u001b[1;32m    602\u001b[0m \u001b[0;34m\u001b[0m\u001b[0m\n\u001b[1;32m    603\u001b[0m         \u001b[0;32mtry\u001b[0m\u001b[0;34m:\u001b[0m\u001b[0;34m\u001b[0m\u001b[0;34m\u001b[0m\u001b[0m\n",
      "\u001b[0;32m~/Dokumenty/pydata/venv/lib/python3.7/site-packages/IPython/core/interactiveshell.py\u001b[0m in \u001b[0;36menable_matplotlib\u001b[0;34m(self, gui)\u001b[0m\n\u001b[1;32m   3515\u001b[0m         \"\"\"\n\u001b[1;32m   3516\u001b[0m         \u001b[0;32mfrom\u001b[0m \u001b[0mIPython\u001b[0m\u001b[0;34m.\u001b[0m\u001b[0mcore\u001b[0m \u001b[0;32mimport\u001b[0m \u001b[0mpylabtools\u001b[0m \u001b[0;32mas\u001b[0m \u001b[0mpt\u001b[0m\u001b[0;34m\u001b[0m\u001b[0;34m\u001b[0m\u001b[0m\n\u001b[0;32m-> 3517\u001b[0;31m         \u001b[0;32mfrom\u001b[0m \u001b[0mmatplotlib_inline\u001b[0m\u001b[0;34m.\u001b[0m\u001b[0mbackend_inline\u001b[0m \u001b[0;32mimport\u001b[0m \u001b[0mconfigure_inline_support\u001b[0m\u001b[0;34m\u001b[0m\u001b[0;34m\u001b[0m\u001b[0m\n\u001b[0m\u001b[1;32m   3518\u001b[0m         \u001b[0mgui\u001b[0m\u001b[0;34m,\u001b[0m \u001b[0mbackend\u001b[0m \u001b[0;34m=\u001b[0m \u001b[0mpt\u001b[0m\u001b[0;34m.\u001b[0m\u001b[0mfind_gui_and_backend\u001b[0m\u001b[0;34m(\u001b[0m\u001b[0mgui\u001b[0m\u001b[0;34m,\u001b[0m \u001b[0mself\u001b[0m\u001b[0;34m.\u001b[0m\u001b[0mpylab_gui_select\u001b[0m\u001b[0;34m)\u001b[0m\u001b[0;34m\u001b[0m\u001b[0;34m\u001b[0m\u001b[0m\n\u001b[1;32m   3519\u001b[0m \u001b[0;34m\u001b[0m\u001b[0m\n",
      "\u001b[0;32m~/Dokumenty/pydata/venv/lib/python3.7/site-packages/matplotlib_inline/backend_inline.py\u001b[0m in \u001b[0;36m<module>\u001b[0;34m\u001b[0m\n\u001b[1;32m      4\u001b[0m \u001b[0;31m# Distributed under the terms of the BSD 3-Clause License.\u001b[0m\u001b[0;34m\u001b[0m\u001b[0;34m\u001b[0m\u001b[0;34m\u001b[0m\u001b[0m\n\u001b[1;32m      5\u001b[0m \u001b[0;34m\u001b[0m\u001b[0m\n\u001b[0;32m----> 6\u001b[0;31m \u001b[0;32mimport\u001b[0m \u001b[0mmatplotlib\u001b[0m\u001b[0;34m\u001b[0m\u001b[0;34m\u001b[0m\u001b[0m\n\u001b[0m\u001b[1;32m      7\u001b[0m from matplotlib.backends.backend_agg import (  # noqa\n\u001b[1;32m      8\u001b[0m     \u001b[0mnew_figure_manager\u001b[0m\u001b[0;34m,\u001b[0m\u001b[0;34m\u001b[0m\u001b[0;34m\u001b[0m\u001b[0m\n",
      "\u001b[0;31mModuleNotFoundError\u001b[0m: No module named 'matplotlib'"
     ]
    }
   ],
   "source": [
    "%matplotlib inline"
   ]
  },
  {
   "cell_type": "code",
   "execution_count": null,
   "metadata": {},
   "outputs": [],
   "source": [
    "df_from_lists[\"age_range\"].value_counts().plot.bar();"
   ]
  },
  {
   "cell_type": "markdown",
   "metadata": {},
   "source": [
    "### Json_normalize\n",
    "or how to easily convert JSON to DataFrame"
   ]
  },
  {
   "cell_type": "code",
   "execution_count": null,
   "metadata": {
    "scrolled": true
   },
   "outputs": [],
   "source": [
    "data"
   ]
  },
  {
   "cell_type": "code",
   "execution_count": null,
   "metadata": {},
   "outputs": [],
   "source": [
    "from pandas import json_normalize"
   ]
  },
  {
   "cell_type": "code",
   "execution_count": null,
   "metadata": {
    "scrolled": false
   },
   "outputs": [],
   "source": [
    "norm_data = json_normalize(data)"
   ]
  },
  {
   "cell_type": "code",
   "execution_count": null,
   "metadata": {},
   "outputs": [],
   "source": [
    "norm_data.head()"
   ]
  },
  {
   "cell_type": "code",
   "execution_count": null,
   "metadata": {},
   "outputs": [],
   "source": [
    "norm_data[\"gender\"].value_counts()"
   ]
  },
  {
   "cell_type": "code",
   "execution_count": null,
   "metadata": {},
   "outputs": [],
   "source": [
    "norm_data[\"gender\"].value_counts().plot.bar();"
   ]
  },
  {
   "cell_type": "code",
   "execution_count": null,
   "metadata": {
    "scrolled": true
   },
   "outputs": [],
   "source": [
    "norm_data[\"age_range\"].value_counts().plot.bar();"
   ]
  },
  {
   "cell_type": "markdown",
   "metadata": {},
   "source": [
    "### We create our own client"
   ]
  },
  {
   "cell_type": "markdown",
   "metadata": {},
   "source": [
    "In the next block, we will create a client that downloads the data for two months (instead of one) and stores it in a list of lists. We will handle possible API connection errors with exceptions - for more see [documentation requests] (https://requests.readthedocs.io/en/master/_modules/requests/exceptions/)"
   ]
  },
  {
   "cell_type": "code",
   "execution_count": null,
   "metadata": {},
   "outputs": [],
   "source": [
    "def get_uk_crime_data(latitude, longitude, dates_list):\n",
    "    \"\"\"\n",
    "    Function loops through a list of dates \n",
    "    \n",
    "    Three arguments latitude, longitude and a list of dates\n",
    "    \n",
    "    Returns a dataframe with crime data for each day\n",
    "    \"\"\"\n",
    "    appended_data = []\n",
    "    \n",
    "    for i in dates_list:\n",
    "api_url = &quot;https://data.police.uk/api/stops-street&quot;",
    "        params = {\n",
    "&quot;lat&quot;: latitude,",
    "&quot;lng&quot;: longitude,",
    "            \"date\" : i\n",
    "        }\n",
    "        response = requests.get(api_url, params=params)\n",
    "        data_foo = response.json()\n",
    "            \n",
    "        data = pd.json_normalize(data_foo)\n",
    "        # store DataFrame in list\n",
    "        appended_data.append(data)\n",
    "       \n",
    "    return pd.concat(appended_data)"
   ]
  },
  {
   "cell_type": "markdown",
   "metadata": {},
   "source": [
    "Calling the get_uk_crime_data function with the latitude and longitude parameters assigned to the df_uk_crime_data variable"
   ]
  },
  {
   "cell_type": "code",
   "execution_count": null,
   "metadata": {},
   "outputs": [],
   "source": [
    "dates_list = [\"2018-06\",\"2018-07\"]\n",
    "years = &quot;51.5487158&quot;",
    "lng = &quot;-0.0613842&quot;",
    "\n",
    "df_uk_crime_data = get_uk_crime_data(lat, lng, dates_list)"
   ]
  },
  {
   "cell_type": "code",
   "execution_count": null,
   "metadata": {},
   "outputs": [],
   "source": [
    "df_uk_crime_data.head()"
   ]
  },
  {
   "cell_type": "markdown",
   "metadata": {},
   "source": [
    "## Accessing Tweets via the Twitter API using the Tweepy library"
   ]
  },
  {
   "cell_type": "markdown",
   "metadata": {},
   "source": [
    "Command to install the tweepy library inside the laptop. Just uncomment and run."
   ]
  },
  {
   "cell_type": "code",
   "execution_count": null,
   "metadata": {},
   "outputs": [],
   "source": [
    "%pip install tweepy"
   ]
  },
  {
   "cell_type": "code",
   "execution_count": null,
   "metadata": {},
   "outputs": [],
   "source": [
    "import tweepy"
   ]
  },
  {
   "cell_type": "markdown",
   "metadata": {},
   "source": [
    "To obtain data from Twitter, our client must pass OAuth authorization.",
    "\n",
    "** How does OAuth authorization work on Twitter? **",
    "\n",
    "The 1st application developer registers with the API provider",
    "2. registers the application, obtains consumer_key, consumer_secret, access_token and access_secret at https://developer.twitter.com/en/apps",
    "The 3rd application calls the API and proves consumer_key, consumer_secret, access_token and access_secret"
   ]
  },
  {
   "cell_type": "code",
   "execution_count": null,
   "metadata": {},
   "outputs": [],
   "source": [
    "consumer_key = \"\"\n",
    "consumer_secret = \"\"\n",
    "access_token = \"\"\n",
    "access_secret = \"\""
   ]
  },
  {
   "cell_type": "markdown",
   "metadata": {},
   "source": [
    "The next step is to create an instance of OAuthHandler, in which we insert our consumer token and consumer secret"
   ]
  },
  {
   "cell_type": "code",
   "execution_count": null,
   "metadata": {},
   "outputs": [],
   "source": [
    "auth = tweepy.OAuthHandler(consumer_key, consumer_secret)\n",
    "auth.set_access_token(access_token, access_secret)"
   ]
  },
  {
   "cell_type": "markdown",
   "metadata": {},
   "source": [
    "Verification of authentication functionality"
   ]
  },
  {
   "cell_type": "code",
   "execution_count": null,
   "metadata": {},
   "outputs": [],
   "source": [
    "api = tweepy.API(auth)\n",
    "\n",
    "try:\n",
    "    api.verify_credentials()\n",
    "    print(\"Authentication OK\")\n",
    "except Exception:\n",
    "    print(\"Error during authentication\")"
   ]
  },
  {
   "cell_type": "markdown",
   "metadata": {},
   "source": [
    "In the API documentation for Tweepy http://docs.tweepy.org/en/v3.5.0/api.html we find a method which, for example, lists the IDs of friends, resp. tracking account"
   ]
  },
  {
   "cell_type": "code",
   "execution_count": null,
   "metadata": {},
   "outputs": [],
   "source": [
    "api.friends_ids('@kdnuggets')"
   ]
  },
  {
   "cell_type": "markdown",
   "metadata": {},
   "source": [
    "Or it lists the ID that the account is tracking"
   ]
  },
  {
   "cell_type": "code",
   "execution_count": null,
   "metadata": {},
   "outputs": [],
   "source": [
    "api.followers_ids('@kdnuggets')"
   ]
  },
  {
   "cell_type": "markdown",
   "metadata": {},
   "source": [
    "A method that returns the last 20 tweets by user ID"
   ]
  },
  {
   "cell_type": "code",
   "execution_count": null,
   "metadata": {},
   "outputs": [],
   "source": [
    "twitter_user = api.user_timeline('@kdnuggets')"
   ]
  },
  {
   "cell_type": "code",
   "execution_count": null,
   "metadata": {
    "scrolled": true
   },
   "outputs": [],
   "source": [
    "twitter_user"
   ]
  },
  {
   "cell_type": "code",
   "execution_count": null,
   "metadata": {},
   "outputs": [],
   "source": [
    "kdnuggets_tweets = [i.text for i in twitter_user]\n",
    "kdnuggets_tweets"
   ]
  },
  {
   "cell_type": "code",
   "execution_count": null,
   "metadata": {},
   "outputs": [],
   "source": [
    "dir(twitter_user[0])"
   ]
  },
  {
   "cell_type": "code",
   "execution_count": null,
   "metadata": {},
   "outputs": [],
   "source": [
    "twitter_user[0].retweet_count"
   ]
  },
  {
   "cell_type": "code",
   "execution_count": null,
   "metadata": {},
   "outputs": [],
   "source": [
    "def get_tweets(consumer_key, consumer_secret, access_token, access_secret, twitter_account):\n",
    "    \"\"\"\n",
    "    Function gets the last 20 tweets and adds those not in the list\n",
    "    \n",
    "    Five arguments consumer_key, consumer_secret, access_token, access_secret, and twitter_account name\n",
    "    \n",
    "    Returns a dataframe with tweets for given account\n",
    "    \"\"\"\n",
    "    \n",
    "    auth = tweepy.OAuthHandler(consumer_key, consumer_secret)\n",
    "    auth.set_access_token(access_token, access_secret)\n",
    "    api = tweepy.API(auth)\n",
    "\n",
    "    try:\n",
    "        api.verify_credentials()\n",
    "        print(\"Authentication OK\")\n",
    "        twitter_user = api.user_timeline(twitter_account)\n",
    "        \n",
    "        tweets_list = [i.text for i in twitter_user]\n",
    "                      \n",
    "    except Exception:\n",
    "        print(\"Error dubing authentication\")\n",
    "    \n",
    "    return pd.DataFrame(tweets_list, columns = [twitter_account])"
   ]
  },
  {
   "cell_type": "code",
   "execution_count": null,
   "metadata": {},
   "outputs": [],
   "source": [
    "%pip install pandas"
   ]
  },
  {
   "cell_type": "code",
   "execution_count": null,
   "metadata": {},
   "outputs": [],
   "source": [
    "import pandas as pd"
   ]
  },
  {
   "cell_type": "code",
   "execution_count": null,
   "metadata": {
    "scrolled": true
   },
   "outputs": [],
   "source": [
    "get_tweets(consumer_key, consumer_secret, access_token, access_secret, '@honzajavorek')"
   ]
  },
  {
   "cell_type": "markdown",
   "metadata": {},
   "source": [
    "We can also search for tweets by hashtag!"
   ]
  },
  {
   "cell_type": "code",
   "execution_count": null,
   "metadata": {},
   "outputs": [],
   "source": [
    "for tweet in api.search('#masks4all'):\n",
    "    print(tweet.user.screen_name, tweet.text)\n",
    "    print('---')"
   ]
  },
  {
   "cell_type": "markdown",
   "metadata": {},
   "source": [
    "But this way we only get the last 20 tweets. If this is not enough for us, then according to the documentation for the [search] method (https://docs.tweepy.org/en/v3.5.0/api.html#API.search) we can set the return per page `rpp = 30`, however, this can be set to a maximum of 100. If we want more, we need to browse the results page by page. So set the parameter `page = 2` and go through the cycle step by step. Pages are numbered from one."
   ]
  }
 ],
 "metadata": {
  "kernelspec": {
   "display_name": "Python 3",
   "language": "python",
   "name": "python3"
  },
  "language_info": {
   "codemirror_mode": {
    "name": "ipython",
    "version": 3
   },
   "file_extension": ".py",
   "mimetype": "text/x-python",
   "name": "python",
   "nbconvert_exporter": "python",
   "pygments_lexer": "ipython3",
   "version": "3.7.4"
  }
 },
 "nbformat": 4,
 "nbformat_minor": 2
}