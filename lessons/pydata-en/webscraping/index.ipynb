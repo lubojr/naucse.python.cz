{
 "cells": [
  {
   "cell_type": "markdown",
   "metadata": {},
   "source": [
    "# Web scraping"
   ]
  },
  {
   "cell_type": "markdown",
   "metadata": {},
   "source": [
    "## Co je web scraping?\n",
    "- Strojové čtení nestrukturovaných dat z webových stránek"
   ]
  },
  {
   "cell_type": "markdown",
   "metadata": {},
   "source": [
    "## Co není web scraping?\n",
    "- Stahování dat přes API\n",
    "- Stahování strukturovaných dat (JSON, CSV,...)\n",
    "- Crawling - procházení a indexování celé webové stránky pomocí jejích vnitřních hypertextových odkazů\n"
   ]
  },
  {
   "cell_type": "markdown",
   "metadata": {},
   "source": [
    "## Příklady web scrapingu"
   ]
  },
  {
   "cell_type": "markdown",
   "metadata": {},
   "source": [
    "### Jak hodnotila filmy Mirka Spáčilová\n",
    "\n",
    "> Když umíráš a proběhne ti celý život před očima, \n",
    "> přijde Mirka Spáčilová a dá tomu 60 %\n",
    "\n",
    "Opravdu hodnotí Mirka Spáčilová všechny filmy 60 %? Jde to nějak ověřit?\n",
    "\n",
    "Michal Bláha stáhnul z iDnes celkem 1333 článků Mirky Spáčilové s hodnocením filmů a vytvořil tabulku filmů a jejich hodnocení. Šedesát procent dostal každý třetí film :-)\n",
    "\n",
    "<div>\n",
    "<img src=\"static/spacilova.png\"/>\n",
    "</div>\n",
    "\n",
    "https://www.michalblaha.cz/2017/10/filmova-kriticka-mirka-spacilova-v-cislech/"
   ]
  },
  {
   "cell_type": "markdown",
   "metadata": {
    "heading_collapsed": true
   },
   "source": [
    "### Analýza cen na českých e-shopech\n",
    "\n",
    "Co myslíte, můžeme věřit 80% slevám, které většina českých e-shopů nabízí během akcí typu Black Friday? \n",
    "\n",
    "V roce 2017 začali v Apify měsíc před Black Friday denně monitorovat ceny všech produktů v největších českých e-shopech. Během Black Friday navíc 4x denně monitorovali ceny produktů v kategorii Black Friday.\n",
    "\n",
    "Co zjistili? Průměrná uváděná sleva byla kolem 30 %, reálná kolem 20. \n",
    "Stačí zvýšit „původní cenu“ před slevou. Našly se i případy, kdy jste si mohli koupit zboží sice dráž, ale zato s větší slevou.\n",
    "\n",
    "Projekt se v dalších letech rozrostl, takže dnes si můžeme stáhnout rozšíření do prohlížeče a přesvědčit se sami.\n",
    "\n",
    "\n",
    "<div>\n",
    "    <img src=\"static/hlidacshopu.png\"/>\n",
    "</div>\n",
    "<br />\n",
    "https://blog.apify.com/black-friday-po-%C4%8Desku-kouzla-se-slevami-c7c0d2e7eeaa\n",
    "\n",
    "https://medium.com/@jakubbalada/black-friday-2019-s-hl%C3%ADda%C4%8Dem-shop%C5%AF-9a3ddd352a8c"
   ]
  },
  {
   "cell_type": "markdown",
   "metadata": {},
   "source": [
    "## Etika web scrapingu\n",
    "\n",
    "- Než začneš s web scrapingem, podívej se, jestli stránka nenabízí strukturovaná data ke stažení nebo neposkytuje API.\n",
    "    - **Příklady:** \n",
    "    - https://data.gov.cz/datov%C3%A9-sady?poskytovatel=%C4%8Cesk%C3%BD%20statistick%C3%BD%20%C3%BA%C5%99ad\n",
    "    - https://www.ncdc.noaa.gov/data-access\n",
    "    - https://www.mapakriminality.cz/data/\n",
    "    - http://opendata.praha.eu/dataset/meteostanice-chmi-api\n",
    "- Zjisti si, jaká máš práva k datům, nepublikuj získaná data nelegálně\n",
    "- Přistupuj ke stránce k rozumné míře, nesnažíš se stránku shodit, ale získat data :-) "
   ]
  },
  {
   "cell_type": "markdown",
   "metadata": {},
   "source": [
    "## Z čeho se skládá webová stránka\n",
    "- **HTML** (HyperText Markup Language): strukturovaný obsah stránky (text a obrázky)\n",
    "- **CSS** (Cascading Style Sheets): úprava vzhledu stránky\n",
    "- **JavaScript**: interaktivita obsahu a vzhledu stránky"
   ]
  },
  {
   "cell_type": "markdown",
   "metadata": {},
   "source": [
    "### HTML \n",
    "<div>\n",
    "    <img src=\"static/html.png\"/>\n",
    "</div>"
   ]
  },
  {
   "cell_type": "markdown",
   "metadata": {},
   "source": [
    "- Je tvořen HTML značkami / tagy, např.  ``<img>``\n",
    "- Většina HTML tagů je párová, např. ``<h2>`` a ``</h2>``\n",
    "- Tagy mohou mít atributy, které dále specifikují, co a jak bude tag zobrazovat\n",
    "- Atribut class se obvykle používá k stylování stránky a často podle něj můžeme při webscrapingu odlišit různé části stránky"
   ]
  },
  {
   "cell_type": "markdown",
   "metadata": {},
   "source": [
    "### CSS\n",
    "\n",
    "- Popisuje způsob zobrazení html elementů\n",
    "- Obsahuje 2 části: selektor elementu a blok deklarace:\n",
    "\n",
    "```\n",
    "p.error {\n",
    "  color: red;\n",
    "}\n",
    "```\n"
   ]
  },
  {
   "cell_type": "markdown",
   "metadata": {},
   "source": [
    "## Instalace"
   ]
  },
  {
   "cell_type": "code",
   "execution_count": null,
   "metadata": {},
   "outputs": [],
   "source": [
    "#%pip install lxml beautifulsoup4 selenium"
   ]
  },
  {
   "cell_type": "markdown",
   "metadata": {},
   "source": [
    "## Pandas: read_html()"
   ]
  },
  {
   "cell_type": "markdown",
   "metadata": {},
   "source": [
    "Pokud nám stačí stáhnout tabulky z webu, můžeme použít knihovnu [Pandas](https://pandas.pydata.org/pandas-docs/version/0.25/reference/api/pandas.read_html.html):"
   ]
  },
  {
   "cell_type": "code",
   "execution_count": 1,
   "metadata": {},
   "outputs": [],
   "source": [
    "import pandas as pd"
   ]
  },
  {
   "cell_type": "markdown",
   "metadata": {},
   "source": [
    "Převedeme tabulky ze stránky Wikipedie [Seznam států světa podle spotřeby alkoholu](https://cs.wikipedia.org/wiki/Seznam_st%C3%A1t%C5%AF_sv%C4%9Bta_podle_spot%C5%99eby_alkoholu) do dataframů pomocí funce `read_html()`:"
   ]
  },
  {
   "cell_type": "code",
   "execution_count": 2,
   "metadata": {},
   "outputs": [],
   "source": [
    "tables = pd.read_html('https://cs.wikipedia.org/wiki/Seznam_st%C3%A1t%C5%AF_sv%C4%9Bta_podle_spot%C5%99eby_alkoholu')"
   ]
  },
  {
   "cell_type": "markdown",
   "metadata": {},
   "source": [
    "Výsledkem je seznam dataframů:"
   ]
  },
  {
   "cell_type": "code",
   "execution_count": 3,
   "metadata": {},
   "outputs": [
    {
     "data": {
      "text/plain": [
       "list"
      ]
     },
     "execution_count": 3,
     "metadata": {},
     "output_type": "execute_result"
    }
   ],
   "source": [
    "type(tables)"
   ]
  },
  {
   "cell_type": "code",
   "execution_count": 4,
   "metadata": {},
   "outputs": [
    {
     "data": {
      "text/plain": [
       "2"
      ]
     },
     "execution_count": 4,
     "metadata": {},
     "output_type": "execute_result"
    }
   ],
   "source": [
    "len(tables)"
   ]
  },
  {
   "cell_type": "code",
   "execution_count": 5,
   "metadata": {},
   "outputs": [
    {
     "data": {
      "text/html": [
       "<div>\n",
       "<style>\n",
       "    .dataframe tbody tr th:only-of-type {\n",
       "        vertical-align: middle;\n",
       "    }\n",
       "\n",
       "    .dataframe tbody tr th {\n",
       "        vertical-align: top;\n",
       "    }\n",
       "\n",
       "    .dataframe thead th {\n",
       "        text-align: right;\n",
       "    }\n",
       "</style>\n",
       "<table border=\"1\" class=\"dataframe\">\n",
       "  <thead>\n",
       "    <tr style=\"text-align: right;\">\n",
       "      <th></th>\n",
       "      <th>stát</th>\n",
       "      <th>evidováno</th>\n",
       "      <th>neevidováno</th>\n",
       "      <th>celkem</th>\n",
       "      <th>pivo</th>\n",
       "      <th>víno</th>\n",
       "      <th>destiláty</th>\n",
       "      <th>ostatní</th>\n",
       "    </tr>\n",
       "  </thead>\n",
       "  <tbody>\n",
       "    <tr>\n",
       "      <th>0</th>\n",
       "      <td>Česko</td>\n",
       "      <td>14.97</td>\n",
       "      <td>1.48</td>\n",
       "      <td>16.45</td>\n",
       "      <td>8.51</td>\n",
       "      <td>2.33</td>\n",
       "      <td>3.59</td>\n",
       "      <td>0.39</td>\n",
       "    </tr>\n",
       "    <tr>\n",
       "      <th>1</th>\n",
       "      <td>Maďarsko</td>\n",
       "      <td>12.27</td>\n",
       "      <td>4.00</td>\n",
       "      <td>16.27</td>\n",
       "      <td>4.42</td>\n",
       "      <td>4.94</td>\n",
       "      <td>3.02</td>\n",
       "      <td>0.14</td>\n",
       "    </tr>\n",
       "    <tr>\n",
       "      <th>2</th>\n",
       "      <td>Rusko</td>\n",
       "      <td>11.03</td>\n",
       "      <td>4.73</td>\n",
       "      <td>15.76</td>\n",
       "      <td>3.65</td>\n",
       "      <td>0.10</td>\n",
       "      <td>6.88</td>\n",
       "      <td>0.34</td>\n",
       "    </tr>\n",
       "    <tr>\n",
       "      <th>3</th>\n",
       "      <td>Ukrajina</td>\n",
       "      <td>8.10</td>\n",
       "      <td>7.50</td>\n",
       "      <td>15.60</td>\n",
       "      <td>2.69</td>\n",
       "      <td>0.58</td>\n",
       "      <td>5.21</td>\n",
       "      <td>0.02</td>\n",
       "    </tr>\n",
       "    <tr>\n",
       "      <th>4</th>\n",
       "      <td>Estonsko</td>\n",
       "      <td>13.77</td>\n",
       "      <td>1.80</td>\n",
       "      <td>15.57</td>\n",
       "      <td>5.53</td>\n",
       "      <td>1.09</td>\n",
       "      <td>9.19</td>\n",
       "      <td>0.43</td>\n",
       "    </tr>\n",
       "  </tbody>\n",
       "</table>\n",
       "</div>"
      ],
      "text/plain": [
       "       stát  evidováno  neevidováno  celkem  pivo  víno  destiláty  ostatní\n",
       "0     Česko      14.97         1.48   16.45  8.51  2.33       3.59     0.39\n",
       "1  Maďarsko      12.27         4.00   16.27  4.42  4.94       3.02     0.14\n",
       "2     Rusko      11.03         4.73   15.76  3.65  0.10       6.88     0.34\n",
       "3  Ukrajina       8.10         7.50   15.60  2.69  0.58       5.21     0.02\n",
       "4  Estonsko      13.77         1.80   15.57  5.53  1.09       9.19     0.43"
      ]
     },
     "execution_count": 5,
     "metadata": {},
     "output_type": "execute_result"
    }
   ],
   "source": [
    "tables[0].head()"
   ]
  },
  {
   "cell_type": "markdown",
   "metadata": {},
   "source": [
    "Podle WHO je Česko první! Aspoň v průměrné spotřebě alkoholu v letech 2003-2005."
   ]
  },
  {
   "cell_type": "code",
   "execution_count": 6,
   "metadata": {},
   "outputs": [
    {
     "data": {
      "text/html": [
       "<div>\n",
       "<style>\n",
       "    .dataframe tbody tr th:only-of-type {\n",
       "        vertical-align: middle;\n",
       "    }\n",
       "\n",
       "    .dataframe tbody tr th {\n",
       "        vertical-align: top;\n",
       "    }\n",
       "\n",
       "    .dataframe thead th {\n",
       "        text-align: right;\n",
       "    }\n",
       "</style>\n",
       "<table border=\"1\" class=\"dataframe\">\n",
       "  <thead>\n",
       "    <tr style=\"text-align: right;\">\n",
       "      <th></th>\n",
       "      <th>Pořadí</th>\n",
       "      <th>Stát</th>\n",
       "      <th>Spotřeba v litrech</th>\n",
       "      <th>Rok</th>\n",
       "    </tr>\n",
       "  </thead>\n",
       "  <tbody>\n",
       "    <tr>\n",
       "      <th>0</th>\n",
       "      <td>1</td>\n",
       "      <td>Francie</td>\n",
       "      <td>12.6</td>\n",
       "      <td>2011</td>\n",
       "    </tr>\n",
       "    <tr>\n",
       "      <th>1</th>\n",
       "      <td>2</td>\n",
       "      <td>Rakousko</td>\n",
       "      <td>12.2</td>\n",
       "      <td>2009</td>\n",
       "    </tr>\n",
       "    <tr>\n",
       "      <th>2</th>\n",
       "      <td>3</td>\n",
       "      <td>Estonsko</td>\n",
       "      <td>12.0</td>\n",
       "      <td>2011</td>\n",
       "    </tr>\n",
       "    <tr>\n",
       "      <th>3</th>\n",
       "      <td>4</td>\n",
       "      <td>Německo</td>\n",
       "      <td>11.7</td>\n",
       "      <td>2009</td>\n",
       "    </tr>\n",
       "    <tr>\n",
       "      <th>4</th>\n",
       "      <td>5</td>\n",
       "      <td>Irsko</td>\n",
       "      <td>11.6</td>\n",
       "      <td>2011</td>\n",
       "    </tr>\n",
       "  </tbody>\n",
       "</table>\n",
       "</div>"
      ],
      "text/plain": [
       "   Pořadí      Stát  Spotřeba v litrech   Rok\n",
       "0       1   Francie                12.6  2011\n",
       "1       2  Rakousko                12.2  2009\n",
       "2       3  Estonsko                12.0  2011\n",
       "3       4   Německo                11.7  2009\n",
       "4       5     Irsko                11.6  2011"
      ]
     },
     "execution_count": 6,
     "metadata": {},
     "output_type": "execute_result"
    }
   ],
   "source": [
    "tables[1].head()"
   ]
  },
  {
   "cell_type": "markdown",
   "metadata": {},
   "source": [
    "Podle OECD to vypadá trochu jinak 🧐"
   ]
  },
  {
   "cell_type": "markdown",
   "metadata": {},
   "source": [
    "**Varování:** Svět není ideální (proto se v něm taky tolik pije) a ne vždy se podaří tabulky pomocí `read_html()` získat. Příkaz nemusí tabulku vůbec „vidět“, nebo si nedokáže poradit s její strukturou."
   ]
  },
  {
   "cell_type": "markdown",
   "metadata": {},
   "source": [
    "### Cvičení"
   ]
  },
  {
   "cell_type": "markdown",
   "metadata": {},
   "source": [
    "Získejte tabulku aktuálních ekonomických údajů ze stránek [Českého statistického úřadu](https://www.czso.cz/csu/czso/aktualniinformace), `https://www.czso.cz/csu/czso/aktualniinformace`.\n",
    "\n",
    "**Nápověda**: Pokud uvidíš v dataframu ošklivé znaky, zkus specifikovat `encoding='utf-8'`"
   ]
  },
  {
   "cell_type": "code",
   "execution_count": null,
   "metadata": {},
   "outputs": [],
   "source": []
  },
  {
   "cell_type": "markdown",
   "metadata": {},
   "source": [
    "Pokud data, která hledáme, nejsou na webu ve formě tabulky, musíme přikročit k „drastičtějším“ nástrojům :-)"
   ]
  },
  {
   "cell_type": "markdown",
   "metadata": {},
   "source": [
    "## BeautifulSoup"
   ]
  },
  {
   "cell_type": "markdown",
   "metadata": {},
   "source": [
    "Knihovna [BeautifulSoup](https://www.crummy.com/software/BeautifulSoup/) se používá k získávání dat z HTML a XML souborů. Pracuje s různými parsery, které analyzují HTML soubory, a umožnuje vybrat požadované HTML elementy a pracovat s nimi. \n",
    "\n",
    "Pod čarou: Kdybys měl/a větší projekt a potřeboval/a projít třeba několik desítek e-shopů, podívej se na knihovnu [Scrapy](http://docs.scrapy.org/en/latest/intro/overview.html), která je pro podobné úkoly vhodnější.\n"
   ]
  },
  {
   "cell_type": "code",
   "execution_count": 7,
   "metadata": {},
   "outputs": [],
   "source": [
    "from bs4 import BeautifulSoup"
   ]
  },
  {
   "cell_type": "markdown",
   "metadata": {},
   "source": [
    "Nejprve si načteme vzorový html dokument ze souboru:"
   ]
  },
  {
   "cell_type": "code",
   "execution_count": 8,
   "metadata": {},
   "outputs": [],
   "source": [
    "with open(\"static/html_doc.html\", \"r\") as f:\n",
    "    html_doc = f.read()"
   ]
  },
  {
   "cell_type": "markdown",
   "metadata": {},
   "source": [
    "Vytvoříme objekt typu `BeautifulSoup`. První argument jsou HTML data, druhý slouží k specifikaci parseru."
   ]
  },
  {
   "cell_type": "code",
   "execution_count": 9,
   "metadata": {},
   "outputs": [],
   "source": [
    "soup = BeautifulSoup(html_doc, 'html.parser')"
   ]
  },
  {
   "cell_type": "markdown",
   "metadata": {},
   "source": [
    "Pomocí metody `prettify()` můžeme vytisknout hezky zformátované html:"
   ]
  },
  {
   "cell_type": "code",
   "execution_count": 10,
   "metadata": {},
   "outputs": [],
   "source": [
    "#print(soup.prettify())"
   ]
  },
  {
   "cell_type": "markdown",
   "metadata": {},
   "source": [
    "Po objektu typu `BeautifulSoup` se můžeme pohybovat pomocí tagů.  \n",
    "První element typu title:"
   ]
  },
  {
   "cell_type": "code",
   "execution_count": 11,
   "metadata": {},
   "outputs": [
    {
     "data": {
      "text/plain": [
       "<title>PyData Prague | pydata.cz</title>"
      ]
     },
     "execution_count": 11,
     "metadata": {},
     "output_type": "execute_result"
    }
   ],
   "source": [
    "soup.title"
   ]
  },
  {
   "cell_type": "markdown",
   "metadata": {},
   "source": [
    "První element typu `h1`:"
   ]
  },
  {
   "cell_type": "code",
   "execution_count": 12,
   "metadata": {},
   "outputs": [
    {
     "data": {
      "text/plain": [
       "<h1><a href=\"https://pydata.cz/\">pydata.cz</a></h1>"
      ]
     },
     "execution_count": 12,
     "metadata": {},
     "output_type": "execute_result"
    }
   ],
   "source": [
    "soup.h1"
   ]
  },
  {
   "cell_type": "markdown",
   "metadata": {},
   "source": [
    "Jméno elementu typu `h1`:"
   ]
  },
  {
   "cell_type": "code",
   "execution_count": 13,
   "metadata": {},
   "outputs": [
    {
     "data": {
      "text/plain": [
       "'h1'"
      ]
     },
     "execution_count": 13,
     "metadata": {},
     "output_type": "execute_result"
    }
   ],
   "source": [
    "soup.h1.name"
   ]
  },
  {
   "cell_type": "markdown",
   "metadata": {},
   "source": [
    "Jméno nadřazeného elementu (atributy `parent` a `name`): "
   ]
  },
  {
   "cell_type": "code",
   "execution_count": 14,
   "metadata": {},
   "outputs": [
    {
     "data": {
      "text/plain": [
       "'div'"
      ]
     },
     "execution_count": 14,
     "metadata": {},
     "output_type": "execute_result"
    }
   ],
   "source": [
    "soup.h1.parent.name"
   ]
  },
  {
   "cell_type": "markdown",
   "metadata": {},
   "source": [
    "Data uvnitř elementu `h1` (atribut [`string`](https://www.crummy.com/software/BeautifulSoup/bs4/doc/#string))"
   ]
  },
  {
   "cell_type": "code",
   "execution_count": 15,
   "metadata": {},
   "outputs": [
    {
     "data": {
      "text/plain": [
       "'pydata.cz'"
      ]
     },
     "execution_count": 15,
     "metadata": {},
     "output_type": "execute_result"
    }
   ],
   "source": [
    "soup.h1.string"
   ]
  },
  {
   "cell_type": "markdown",
   "metadata": {},
   "source": [
    "První element typu `h2`:"
   ]
  },
  {
   "cell_type": "code",
   "execution_count": 16,
   "metadata": {},
   "outputs": [
    {
     "data": {
      "text/plain": [
       "<h2 id=\"code-of-conduct\">Code of Conduct</h2>"
      ]
     },
     "execution_count": 16,
     "metadata": {},
     "output_type": "execute_result"
    }
   ],
   "source": [
    "soup.h2"
   ]
  },
  {
   "cell_type": "markdown",
   "metadata": {},
   "source": [
    "Id elementu `h2`:"
   ]
  },
  {
   "cell_type": "code",
   "execution_count": 17,
   "metadata": {},
   "outputs": [
    {
     "data": {
      "text/plain": [
       "'code-of-conduct'"
      ]
     },
     "execution_count": 17,
     "metadata": {},
     "output_type": "execute_result"
    }
   ],
   "source": [
    "soup.h2['id']"
   ]
  },
  {
   "cell_type": "markdown",
   "metadata": {},
   "source": [
    "Můžeme najít i všechny tagy daného typu, např `find_all('a')` najde všechny odkazy:"
   ]
  },
  {
   "cell_type": "code",
   "execution_count": 18,
   "metadata": {},
   "outputs": [
    {
     "data": {
      "text/plain": [
       "[<a href=\"https://pydata.cz/\">pydata.cz</a>,\n",
       " <a class=\"pydata\" href=\"https://pydata.org/\">PyData</a>,\n",
       " <a href=\"https://numfocus.org/\">NumFOCUS</a>,\n",
       " <a class=\"pydata\" href=\"https://pydata.org/code-of-conduct/\">pydata.org/code-of-conduct/</a>]"
      ]
     },
     "execution_count": 18,
     "metadata": {},
     "output_type": "execute_result"
    }
   ],
   "source": [
    "links = soup.find_all('a')\n",
    "links"
   ]
  },
  {
   "cell_type": "markdown",
   "metadata": {},
   "source": [
    "Výsledky hledání můžeme procházet:"
   ]
  },
  {
   "cell_type": "code",
   "execution_count": 19,
   "metadata": {},
   "outputs": [
    {
     "data": {
      "text/plain": [
       "'https://pydata.cz/'"
      ]
     },
     "execution_count": 19,
     "metadata": {},
     "output_type": "execute_result"
    }
   ],
   "source": [
    "links[0]['href']"
   ]
  },
  {
   "cell_type": "code",
   "execution_count": 20,
   "metadata": {},
   "outputs": [
    {
     "data": {
      "text/plain": [
       "'pydata.cz'"
      ]
     },
     "execution_count": 20,
     "metadata": {},
     "output_type": "execute_result"
    }
   ],
   "source": [
    "links[0].text"
   ]
  },
  {
   "cell_type": "markdown",
   "metadata": {},
   "source": [
    "Nemusíme hledat jen podle jména tagu, ale i podle jejich atributů:"
   ]
  },
  {
   "cell_type": "code",
   "execution_count": 21,
   "metadata": {},
   "outputs": [
    {
     "data": {
      "text/plain": [
       "<h1 id=\"pydata-prague\">PyData Prague</h1>"
      ]
     },
     "execution_count": 21,
     "metadata": {},
     "output_type": "execute_result"
    }
   ],
   "source": [
    "soup.find(id=\"pydata-prague\")"
   ]
  },
  {
   "cell_type": "markdown",
   "metadata": {},
   "source": [
    "Pokud hledáme podle třídy, memůžeme použít ``soup.find(class=\"pydata\")``, protože ``class`` je v Pythonu klíčové slovo. Musíme použít ``class_``"
   ]
  },
  {
   "cell_type": "code",
   "execution_count": 22,
   "metadata": {},
   "outputs": [
    {
     "data": {
      "text/plain": [
       "<a class=\"pydata\" href=\"https://pydata.org/\">PyData</a>"
      ]
     },
     "execution_count": 22,
     "metadata": {},
     "output_type": "execute_result"
    }
   ],
   "source": [
    "soup.find(class_=\"pydata\")"
   ]
  },
  {
   "cell_type": "markdown",
   "metadata": {},
   "source": [
    "``class`` můžeme taky napsat jako klíč v parametru ``attrs``:"
   ]
  },
  {
   "cell_type": "code",
   "execution_count": 23,
   "metadata": {},
   "outputs": [
    {
     "data": {
      "text/plain": [
       "<a class=\"pydata\" href=\"https://pydata.org/\">PyData</a>"
      ]
     },
     "execution_count": 23,
     "metadata": {},
     "output_type": "execute_result"
    }
   ],
   "source": [
    "soup.find(attrs={'class':'pydata'})"
   ]
  },
  {
   "cell_type": "markdown",
   "metadata": {},
   "source": [
    "### Cvičení\n"
   ]
  },
  {
   "cell_type": "markdown",
   "metadata": {},
   "source": [
    "Vyberte odstavec s id ``description``."
   ]
  },
  {
   "cell_type": "code",
   "execution_count": null,
   "metadata": {},
   "outputs": [],
   "source": []
  },
  {
   "cell_type": "markdown",
   "metadata": {},
   "source": [
    "Vyberte všechny odkazy s třídou ``pydata``"
   ]
  },
  {
   "cell_type": "code",
   "execution_count": null,
   "metadata": {},
   "outputs": [],
   "source": []
  },
  {
   "cell_type": "markdown",
   "metadata": {},
   "source": [
    "## Requests\n",
    "\n",
    "Knihovna [requests](https://requests.readthedocs.io/en/master/) je určená pro HTTP dotazy. V našem případě ji budeme používat pro získání textu webové stránky. \n",
    "\n",
    "HTTP požadavky lze vytvářet i pomocí standardní knihovny Pythonu, ale `requests` mají mnohem lidštější rozhraní."
   ]
  },
  {
   "cell_type": "code",
   "execution_count": 24,
   "metadata": {},
   "outputs": [],
   "source": [
    "import requests"
   ]
  },
  {
   "cell_type": "code",
   "execution_count": 25,
   "metadata": {},
   "outputs": [],
   "source": [
    "r = requests.get('https://pydata.cz/')"
   ]
  },
  {
   "cell_type": "markdown",
   "metadata": {},
   "source": [
    "Můžeme zkontrolovat návratový stav:"
   ]
  },
  {
   "cell_type": "code",
   "execution_count": 26,
   "metadata": {},
   "outputs": [
    {
     "data": {
      "text/plain": [
       "200"
      ]
     },
     "execution_count": 26,
     "metadata": {},
     "output_type": "execute_result"
    }
   ],
   "source": [
    "r.status_code"
   ]
  },
  {
   "cell_type": "markdown",
   "metadata": {},
   "source": [
    "[Stavové kódy](https://cs.wikipedia.org/wiki/Stavov%C3%A9_k%C3%B3dy_HTTP) se dělí do 5 skupin:\n",
    "- 1xx – informační odpověď\n",
    "- 2xx – úspěch\n",
    "- 3xx – přesměrování\n",
    "- 4xx – chyba klienta\n",
    "- 5xx – chyba serveru"
   ]
  },
  {
   "cell_type": "markdown",
   "metadata": {},
   "source": [
    "Metoda text ukáže zdrojový kód stránky:"
   ]
  },
  {
   "cell_type": "code",
   "execution_count": 27,
   "metadata": {},
   "outputs": [],
   "source": [
    "#print(r.text)"
   ]
  },
  {
   "cell_type": "markdown",
   "metadata": {},
   "source": [
    "## BeautifulSoup podruhé: CSS selektory\n",
    "\n",
    "S knihovnou BeautifulSoup můžeme [vyhledávat CSS selektory](https://www.crummy.com/software/BeautifulSoup/bs4/doc/#css-selectors) pomocí funkcí `select` (ukáže všechny prvky) a `select_one` (najde první prvek)."
   ]
  },
  {
   "cell_type": "markdown",
   "metadata": {},
   "source": [
    "Otevřeme si html dokument s programem kin. Je stažený z https://dokina.tiscali.cz/program-kin, ale protože by se mohlo stát, že dnes na programu nic není, použijeme radši staženou verzi. Pokud na stránkách něco je, můžeš samozřejmě použít `requests`."
   ]
  },
  {
   "cell_type": "code",
   "execution_count": 28,
   "metadata": {},
   "outputs": [],
   "source": [
    "with open(\"static/kina.html\", \"r\") as f:\n",
    "    html_doc = f.read()\n",
    "soup = BeautifulSoup(html_doc)"
   ]
  },
  {
   "cell_type": "markdown",
   "metadata": {},
   "source": [
    "Zkusíme najít všechny tagu s třídou `title` a několik z nich si vypíšeme:  \n",
    "(Kvůli přehlednosti nevypisujeme úplně všechny)"
   ]
  },
  {
   "cell_type": "code",
   "execution_count": 29,
   "metadata": {},
   "outputs": [
    {
     "data": {
      "text/plain": [
       "[<h4 class=\"title mb-0\">3Bobule</h4>,\n",
       " <h4 class=\"title mb-0\">Tiché místo: Část II</h4>,\n",
       " <h4 class=\"title mb-0\">V síti</h4>,\n",
       " <h4 class=\"title mb-0\">Princezna zakletá v čase</h4>,\n",
       " <h4 class=\"title mb-0\">Bloodshot</h4>,\n",
       " <h3 class=\"title mb-0\">\n",
       " <a data-ga-action=\"cinema-detail\" data-ga-category=\"program-kin\" href=\"https://dokina.tiscali.cz/evropsky-dum-7435\" title=\"Profil kina\">Evropský dům</a>\n",
       " <a class=\"favourite-toggler\" data-ga-action=\"toggle-favorite-cinema\" data-ga-category=\"program-kin\" data-id=\"7435\" href=\"https://dokina.tiscali.cz/program-kin?movie_id=&amp;place_id=&amp;cinema_type=&amp;town_id=&amp;start=25-03-2020#\" title=\"Přidat do oblíbených\"></a>\n",
       " </h3>]"
      ]
     },
     "execution_count": 29,
     "metadata": {},
     "output_type": "execute_result"
    }
   ],
   "source": [
    "titles = soup.select('.title') \n",
    "titles[:6]"
   ]
  },
  {
   "cell_type": "markdown",
   "metadata": {},
   "source": [
    "Najdeme všechny tagy typu  `<h3 class=\"title mb-0\">` a podíváme se na první z nich:"
   ]
  },
  {
   "cell_type": "code",
   "execution_count": 30,
   "metadata": {},
   "outputs": [
    {
     "data": {
      "text/plain": [
       "<h3 class=\"title mb-0\">\n",
       "<a data-ga-action=\"cinema-detail\" data-ga-category=\"program-kin\" href=\"https://dokina.tiscali.cz/evropsky-dum-7435\" title=\"Profil kina\">Evropský dům</a>\n",
       "<a class=\"favourite-toggler\" data-ga-action=\"toggle-favorite-cinema\" data-ga-category=\"program-kin\" data-id=\"7435\" href=\"https://dokina.tiscali.cz/program-kin?movie_id=&amp;place_id=&amp;cinema_type=&amp;town_id=&amp;start=25-03-2020#\" title=\"Přidat do oblíbených\"></a>\n",
       "</h3>"
      ]
     },
     "execution_count": 30,
     "metadata": {},
     "output_type": "execute_result"
    }
   ],
   "source": [
    "mb0_titles = soup.select('h3.title.mb-0')\n",
    "mb0_titles[0]"
   ]
  },
  {
   "cell_type": "markdown",
   "metadata": {},
   "source": [
    "Najdeme všechny tagy s třídou `title` uvnitř tagů s třídou `movie-item`"
   ]
  },
  {
   "cell_type": "code",
   "execution_count": 31,
   "metadata": {},
   "outputs": [
    {
     "data": {
      "text/plain": [
       "[<h4 class=\"title mb-0\">3Bobule</h4>,\n",
       " <h4 class=\"title mb-0\">Tiché místo: Část II</h4>,\n",
       " <h4 class=\"title mb-0\">V síti</h4>,\n",
       " <h4 class=\"title mb-0\">Princezna zakletá v čase</h4>,\n",
       " <h4 class=\"title mb-0\">Bloodshot</h4>,\n",
       " <h4 class=\"title mb-0\">A dýchejte klidně</h4>,\n",
       " <h4 class=\"title mb-0\">Sviňa</h4>,\n",
       " <h4 class=\"title mb-0\">Králíček Jojo</h4>,\n",
       " <h4 class=\"title mb-0\">La belle saison</h4>,\n",
       " <h4 class=\"title mb-0\">Výjimeční</h4>,\n",
       " <h4 class=\"title mb-0\">La Llorona</h4>,\n",
       " <h4 class=\"title mb-0\">Morgiana</h4>,\n",
       " <h4 class=\"title mb-0\">Noční ostraha</h4>,\n",
       " <h4 class=\"title mb-0\">Vita and Virginia</h4>,\n",
       " <h4 class=\"title mb-0\">Volej mámu</h4>,\n",
       " <h4 class=\"title mb-0\">Čas beznaděje</h4>,\n",
       " <h4 class=\"title mb-0\">Šarlatán</h4>,\n",
       " <h4 class=\"title mb-0\">Žaluji!</h4>]"
      ]
     },
     "execution_count": 31,
     "metadata": {},
     "output_type": "execute_result"
    }
   ],
   "source": [
    "soup.select('.movie-item .title ') "
   ]
  },
  {
   "cell_type": "markdown",
   "metadata": {},
   "source": [
    "## Nástroje v prohlížeči \n",
    "\n",
    "Než začneme procházet stránku pomocí Pythonu, je dobré podívat se na její strukturu přímo v prohlížeči."
   ]
  },
  {
   "cell_type": "markdown",
   "metadata": {},
   "source": [
    "### Zdrojový kód stránky\n",
    "\n",
    "<br />\n",
    "\n",
    "<div>\n",
    "<img src=\"static/FF_pagesource.png\" />\n",
    "<img src=\"static/chrome_pagesource.png\" /> \n",
    "</div>"
   ]
  },
  {
   "cell_type": "markdown",
   "metadata": {},
   "source": [
    "### Prozkoumat prvek / Inspect\n",
    "\n",
    "<br />\n",
    "\n",
    "<div>\n",
    "<img src=\"static/FF_inspect.png\" />\n",
    "<br />\n",
    "<img src=\"static/Inspect.png\" /> \n",
    "</div>\n",
    "<br />\n",
    "<strong>Pozor:</strong> Zrojový kód vybraného prvku nemusí odpovídat kódu, který stáhneš pomocí Pythonu. Během zobrazení v prohlížeči mohl být změněn JavaScriptem.\n"
   ]
  },
  {
   "cell_type": "markdown",
   "metadata": {},
   "source": [
    "### Nástroje pro vývojáře\n",
    "\n",
    "<br />\n",
    "\n",
    "<div>\n",
    "<img src=\"static/FF_dev.png\" />\n",
    "<br />\n",
    "<img src=\"static/chrome_dev.png\" /> \n",
    "</div>\n"
   ]
  },
  {
   "cell_type": "markdown",
   "metadata": {},
   "source": [
    "**Poznámka:** Pokud v záložce Network nic nevidíš, zkus obnovit stránku."
   ]
  },
  {
   "cell_type": "markdown",
   "metadata": {},
   "source": [
    "## Příklad z (ne)života"
   ]
  },
  {
   "cell_type": "markdown",
   "metadata": {},
   "source": [
    "**Extrakce dat o 20 nejlepších filmech podle ČSFD**\n",
    "\n",
    "Chceme vytvořit tabulku s následujícími sloupci:\n",
    "\n",
    "- Název filmu\n",
    "- Průměrné hodnocení\n",
    "- Země původu\n",
    "- Rok uvedení\n",
    "- Délka filmu\n",
    "- Režisér"
   ]
  },
  {
   "cell_type": "markdown",
   "metadata": {},
   "source": [
    "*Na scraping není univerzální návod. Obvykle metodou pokus-omyl zkoušíme, co bude fungovat. Pak přijde aktualizace stránek a můžeme začít znovu...*"
   ]
  },
  {
   "cell_type": "code",
   "execution_count": 32,
   "metadata": {},
   "outputs": [],
   "source": [
    "url = 'https://www.csfd.cz/zebricky/nejlepsi-filmy/'\n",
    "# stránka odmítá GET requesty bez identifikace User-Agenta:\n",
    "headers = {'User-Agent': 'Mozilla/5.0 (X11; Linux x86_64) AppleWebKit/537.36 (KHTML, like Gecko) Chrome/79.0.3945.117 Safari/537.36'}\n",
    "r = requests.get(url, headers=headers)\n",
    "soup = BeautifulSoup(r.text, 'html.parser')"
   ]
  },
  {
   "cell_type": "markdown",
   "metadata": {},
   "source": [
    "### Úkol:\n",
    "Podívej se do zdrojového kódu stránky. Jaké prvky budeme na stránce hledat? A kde najdeme informace o režisérovi?"
   ]
  },
  {
   "cell_type": "markdown",
   "metadata": {},
   "source": [
    "Podíváme se, jak vypadají prvky třídy `film`:"
   ]
  },
  {
   "cell_type": "code",
   "execution_count": 33,
   "metadata": {},
   "outputs": [
    {
     "data": {
      "text/plain": [
       "<td class=\"film\" id=\"chart-2294\"><a href=\"/film/2294-vykoupeni-z-veznice-shawshank/\">Vykoupení z věznice Shawshank</a> <span class=\"film-year\" dir=\"ltr\">(1994)</span></td>"
      ]
     },
     "execution_count": 33,
     "metadata": {},
     "output_type": "execute_result"
    }
   ],
   "source": [
    "soup.select('.film')[0]"
   ]
  },
  {
   "cell_type": "markdown",
   "metadata": {},
   "source": [
    "Abychom získali další informace o filmech, musíme se dostat na stránku filmu. K tomu budeme potřebovat odkazy:"
   ]
  },
  {
   "cell_type": "code",
   "execution_count": 34,
   "metadata": {},
   "outputs": [
    {
     "data": {
      "text/plain": [
       "<a href=\"/film/2294-vykoupeni-z-veznice-shawshank/\">Vykoupení z věznice Shawshank</a>"
      ]
     },
     "execution_count": 34,
     "metadata": {},
     "output_type": "execute_result"
    }
   ],
   "source": [
    "film_odkazy = soup.select('.film a')\n",
    "film_odkazy[0]"
   ]
  },
  {
   "cell_type": "code",
   "execution_count": 35,
   "metadata": {},
   "outputs": [
    {
     "data": {
      "text/plain": [
       "'https://www.csfd.cz/film/2294-vykoupeni-z-veznice-shawshank/'"
      ]
     },
     "execution_count": 35,
     "metadata": {},
     "output_type": "execute_result"
    }
   ],
   "source": [
    "odkazy = ['https://www.csfd.cz' + film['href'] for film in film_odkazy]\n",
    "odkazy[0]"
   ]
  },
  {
   "cell_type": "markdown",
   "metadata": {},
   "source": [
    "Rovnou si uložíme i názvy filmů:"
   ]
  },
  {
   "cell_type": "code",
   "execution_count": 36,
   "metadata": {},
   "outputs": [
    {
     "data": {
      "text/plain": [
       "'Vykoupení z věznice Shawshank'"
      ]
     },
     "execution_count": 36,
     "metadata": {},
     "output_type": "execute_result"
    }
   ],
   "source": [
    "nazvy = [film.text for film in film_odkazy]\n",
    "nazvy[0]"
   ]
  },
  {
   "cell_type": "markdown",
   "metadata": {},
   "source": [
    "Průměrné hodnocení najdeme v prvcích s třídou `average`:"
   ]
  },
  {
   "cell_type": "code",
   "execution_count": 37,
   "metadata": {},
   "outputs": [
    {
     "data": {
      "text/plain": [
       "<td class=\"average\">95,3%</td>"
      ]
     },
     "execution_count": 37,
     "metadata": {},
     "output_type": "execute_result"
    }
   ],
   "source": [
    "soup.select('.average')[0]"
   ]
  },
  {
   "cell_type": "code",
   "execution_count": 38,
   "metadata": {},
   "outputs": [
    {
     "data": {
      "text/plain": [
       "'95,3%'"
      ]
     },
     "execution_count": 38,
     "metadata": {},
     "output_type": "execute_result"
    }
   ],
   "source": [
    "hodnoceni = [aver.text for aver in soup.select('.average')]\n",
    "hodnoceni[0]"
   ]
  },
  {
   "cell_type": "markdown",
   "metadata": {},
   "source": [
    "### Informace o jednotlivých filmech\n",
    "\n",
    "Nejdřív si zkusíme najít informace o prvním filmu:"
   ]
  },
  {
   "cell_type": "code",
   "execution_count": 39,
   "metadata": {},
   "outputs": [],
   "source": [
    "r = requests.get(odkazy[0], headers=headers)\n",
    "film_soup = BeautifulSoup(r.text, 'html.parser')"
   ]
  },
  {
   "cell_type": "code",
   "execution_count": 40,
   "metadata": {},
   "outputs": [
    {
     "data": {
      "text/plain": [
       "'USA, 1994, 142 min'"
      ]
     },
     "execution_count": 40,
     "metadata": {},
     "output_type": "execute_result"
    }
   ],
   "source": [
    "film_soup.select_one('.origin').text"
   ]
  },
  {
   "cell_type": "code",
   "execution_count": 41,
   "metadata": {},
   "outputs": [
    {
     "data": {
      "text/plain": [
       "<span data-truncate=\"60\" itemprop=\"director\">\n",
       "<a href=\"/tvurce/2869-frank-darabont/\">Frank Darabont</a>\n",
       "</span>"
      ]
     },
     "execution_count": 41,
     "metadata": {},
     "output_type": "execute_result"
    }
   ],
   "source": [
    "film_soup.find('span', {'itemprop': 'director'}) "
   ]
  },
  {
   "cell_type": "code",
   "execution_count": 42,
   "metadata": {},
   "outputs": [
    {
     "data": {
      "text/plain": [
       "'Frank Darabont'"
      ]
     },
     "execution_count": 42,
     "metadata": {},
     "output_type": "execute_result"
    }
   ],
   "source": [
    "film_soup.find('span', {'itemprop': 'director'}).a.text"
   ]
  },
  {
   "cell_type": "markdown",
   "metadata": {},
   "source": [
    "Hurá! Funguje to. Můžeme to udělat se všemi filmy."
   ]
  },
  {
   "cell_type": "code",
   "execution_count": 43,
   "metadata": {},
   "outputs": [],
   "source": [
    "from time import sleep\n",
    "import re "
   ]
  },
  {
   "cell_type": "markdown",
   "metadata": {},
   "source": [
    "Poznámka pod čarou: `re` je modul standardní knihovny pro práci s řetězci pomocí regulárních výrazů. V následujícím kódu ji použijeme pro rozdělení řetězce podle dvou různých znaků.\n",
    "\n",
    "Potřebujeme vyřešit případy typu  `166 min (Director's cut: 175 min, Alternativní: 152 min)`, proto dělíme text podle znaků \",\" a \"(\""
   ]
  },
  {
   "cell_type": "code",
   "execution_count": 44,
   "metadata": {},
   "outputs": [],
   "source": [
    "zeme = []\n",
    "roky = []\n",
    "delky = []\n",
    "reziseri = []\n",
    "for odkaz in odkazy:\n",
    "    r = requests.get(odkaz, headers=headers)\n",
    "    film_soup = BeautifulSoup(r.text, 'html.parser')\n",
    "    txt = film_soup.select_one('.origin').text\n",
    "    puvod, rok, cas, *zbytek = re.split(',|\\(', txt) \n",
    "    reziser = film_soup.find('span', {'itemprop': 'director'}).a.text\n",
    "    zeme.append(puvod)\n",
    "    roky.append(rok)\n",
    "    delky.append(cas)\n",
    "    reziseri.append(reziser)\n",
    "    sleep(1) # chováme se lidsky :-)\n",
    "    "
   ]
  },
  {
   "cell_type": "code",
   "execution_count": 45,
   "metadata": {},
   "outputs": [
    {
     "data": {
      "text/html": [
       "<div>\n",
       "<style>\n",
       "    .dataframe tbody tr th:only-of-type {\n",
       "        vertical-align: middle;\n",
       "    }\n",
       "\n",
       "    .dataframe tbody tr th {\n",
       "        vertical-align: top;\n",
       "    }\n",
       "\n",
       "    .dataframe thead th {\n",
       "        text-align: right;\n",
       "    }\n",
       "</style>\n",
       "<table border=\"1\" class=\"dataframe\">\n",
       "  <thead>\n",
       "    <tr style=\"text-align: right;\">\n",
       "      <th></th>\n",
       "      <th>Název</th>\n",
       "      <th>Původ</th>\n",
       "      <th>Rok</th>\n",
       "      <th>Režie</th>\n",
       "      <th>Délka</th>\n",
       "      <th>ČSFD</th>\n",
       "    </tr>\n",
       "  </thead>\n",
       "  <tbody>\n",
       "    <tr>\n",
       "      <th>0</th>\n",
       "      <td>Vykoupení z věznice Shawshank</td>\n",
       "      <td>USA</td>\n",
       "      <td>1994</td>\n",
       "      <td>Frank Darabont</td>\n",
       "      <td>142 min</td>\n",
       "      <td>95,3%</td>\n",
       "    </tr>\n",
       "    <tr>\n",
       "      <th>1</th>\n",
       "      <td>Forrest Gump</td>\n",
       "      <td>USA</td>\n",
       "      <td>1994</td>\n",
       "      <td>Robert Zemeckis</td>\n",
       "      <td>142 min</td>\n",
       "      <td>94,5%</td>\n",
       "    </tr>\n",
       "    <tr>\n",
       "      <th>2</th>\n",
       "      <td>Zelená míle</td>\n",
       "      <td>USA</td>\n",
       "      <td>1999</td>\n",
       "      <td>Frank Darabont</td>\n",
       "      <td>188 min</td>\n",
       "      <td>92,8%</td>\n",
       "    </tr>\n",
       "    <tr>\n",
       "      <th>3</th>\n",
       "      <td>Přelet nad kukaččím hnízdem</td>\n",
       "      <td>USA</td>\n",
       "      <td>1975</td>\n",
       "      <td>Miloš Forman</td>\n",
       "      <td>133 min</td>\n",
       "      <td>92,5%</td>\n",
       "    </tr>\n",
       "    <tr>\n",
       "      <th>4</th>\n",
       "      <td>Sedm</td>\n",
       "      <td>USA</td>\n",
       "      <td>1995</td>\n",
       "      <td>David Fincher</td>\n",
       "      <td>127 min</td>\n",
       "      <td>92,4%</td>\n",
       "    </tr>\n",
       "  </tbody>\n",
       "</table>\n",
       "</div>"
      ],
      "text/plain": [
       "                           Název Původ    Rok            Režie     Délka  \\\n",
       "0  Vykoupení z věznice Shawshank   USA   1994   Frank Darabont   142 min   \n",
       "1                   Forrest Gump   USA   1994  Robert Zemeckis   142 min   \n",
       "2                    Zelená míle   USA   1999   Frank Darabont   188 min   \n",
       "3    Přelet nad kukaččím hnízdem   USA   1975     Miloš Forman   133 min   \n",
       "4                           Sedm   USA   1995    David Fincher   127 min   \n",
       "\n",
       "    ČSFD  \n",
       "0  95,3%  \n",
       "1  94,5%  \n",
       "2  92,8%  \n",
       "3  92,5%  \n",
       "4  92,4%  "
      ]
     },
     "execution_count": 45,
     "metadata": {},
     "output_type": "execute_result"
    }
   ],
   "source": [
    "filmy_df = pd.DataFrame(zip(nazvy, zeme, roky, reziseri, delky, hodnoceni), \n",
    "                        columns=['Název', \n",
    "                                 'Původ', \n",
    "                                 'Rok', \n",
    "                                 'Režie', \n",
    "                                 'Délka', \n",
    "                                 'ČSFD'])\n",
    "filmy_df.head()"
   ]
  },
  {
   "cell_type": "markdown",
   "metadata": {},
   "source": [
    "## Jak na JavaScript"
   ]
  },
  {
   "cell_type": "markdown",
   "metadata": {},
   "source": [
    "Pokud webová stránka používá JavaScript k generování obsahu, máme dvě možnosti:\n",
    "\n",
    "1. Pochopit, co JavaScript dělá, a zařídit se podle toho\n",
    "2. Chovat se jako browser"
   ]
  },
  {
   "cell_type": "markdown",
   "metadata": {},
   "source": [
    "### Příklad\n",
    "Výsledky závodu Big's Backyard Ultra, [`https://my.raceresult.com/139372/#0_2C3B48`](https://my.raceresult.com/139372/#0_2C3B48)\n"
   ]
  },
  {
   "cell_type": "markdown",
   "metadata": {},
   "source": [
    "<div>\n",
    "  <img src=\"static/bigdog.png\" >\n",
    "</div>"
   ]
  },
  {
   "cell_type": "code",
   "execution_count": 46,
   "metadata": {},
   "outputs": [],
   "source": [
    "r = requests.get('https://my.raceresult.com/139372/#0_2C3B48')"
   ]
  },
  {
   "cell_type": "markdown",
   "metadata": {},
   "source": [
    "Zkusíme najít v textu stránky slovo Gavin."
   ]
  },
  {
   "cell_type": "code",
   "execution_count": 47,
   "metadata": {},
   "outputs": [
    {
     "data": {
      "text/plain": [
       "-1"
      ]
     },
     "execution_count": 47,
     "metadata": {},
     "output_type": "execute_result"
    }
   ],
   "source": [
    "r.text.find(\"Gavin\")"
   ]
  },
  {
   "cell_type": "markdown",
   "metadata": {},
   "source": [
    "Nic. Kde se stala chyba? Vytiskneme si zdrojový kód stránky... a tabulka nikde!"
   ]
  },
  {
   "cell_type": "code",
   "execution_count": 48,
   "metadata": {},
   "outputs": [],
   "source": [
    "#print(r.text)"
   ]
  },
  {
   "cell_type": "markdown",
   "metadata": {},
   "source": [
    "### Možnost 1: Developer tools - Network"
   ]
  },
  {
   "cell_type": "markdown",
   "metadata": {},
   "source": [
    "Pokud nám jde o data jen z jedné webové stránky, můžeme pomocí nástrojů pro vývojáře zjistit, co javascript na stránce dělá. Zajímá nás, kde bere stránka data.\n",
    "\n",
    "Otevřeme si nástroje pro vývojáře a rozklikneme záložku Network. Pokud na ní nic není, stránku refreshujeme. Typicky nás zajímají dotazy typu `XMLHttpRequest` (XHR), které stránce umožňují získávat data z nějaké URL."
   ]
  },
  {
   "cell_type": "markdown",
   "metadata": {},
   "source": [
    "<div>\n",
    "  <img src=\"static/bigdog2.png\">\n",
    "<br />\n",
    "</div>"
   ]
  },
  {
   "cell_type": "markdown",
   "metadata": {},
   "source": [
    "V našem případě vidíme dva dotazy typu XHR, podíváme se na ně blíž, abychom zjistili, který z nich obsahuje hledaná data. Zkopírujeme si adresu odkazu."
   ]
  },
  {
   "cell_type": "markdown",
   "metadata": {},
   "source": [
    "<div>\n",
    "  <img src=\"static/bigdog4.png\">\n",
    "<br />\n",
    "</div>"
   ]
  },
  {
   "cell_type": "markdown",
   "metadata": {},
   "source": [
    "<div>\n",
    "  <img src=\"static/bigdog5.png\">\n",
    "<br />\n",
    "</div>"
   ]
  },
  {
   "cell_type": "code",
   "execution_count": 49,
   "metadata": {},
   "outputs": [],
   "source": [
    "r = requests.get('https://my2.raceresult.com/RRPublish/data/list.php?eventid=139372&key=3a52cf488ad3dfe5c994f6b203e7c2e8&listname=Result+Lists%7CLap+Details&page=results&contest=0&r=all&l=0')"
   ]
  },
  {
   "cell_type": "code",
   "execution_count": 50,
   "metadata": {},
   "outputs": [],
   "source": [
    "#r.text"
   ]
  },
  {
   "cell_type": "code",
   "execution_count": 51,
   "metadata": {},
   "outputs": [],
   "source": [
    "#r.json()['data']"
   ]
  },
  {
   "cell_type": "code",
   "execution_count": 52,
   "metadata": {},
   "outputs": [
    {
     "data": {
      "text/plain": [
       "[['1', '1', '7:35:18', '55:19', '04:40'],\n",
       " ['1', '2', '8:35:23', '55:24', '04:35'],\n",
       " ['1', '3', '9:34:25', '54:26', '05:33'],\n",
       " ['1', '4', '10:35:09', '55:10', '04:49'],\n",
       " ['1', '5', '11:33:55', '53:56', '06:03'],\n",
       " ['1', '6', '12:34:23', '54:24', '05:35'],\n",
       " ['1', '7', '13:33:35', '53:36', '06:23'],\n",
       " ['1', '8', '14:33:57', '53:58', '06:01'],\n",
       " ['1', '9', '15:34:07', '54:08', '05:51'],\n",
       " ['1', '10', '16:34:39', '54:40', '05:19'],\n",
       " ['1', '11', '17:35:17', '55:18', '04:41'],\n",
       " ['1', '12', '18:34:22', '54:23', '05:36'],\n",
       " ['1', '13', '19:25:29', '45:30', '14:29'],\n",
       " ['1', '14', '20:28:55', '48:56', '11:03'],\n",
       " ['1', '15', '21:30:22', '50:23', '09:36'],\n",
       " ['1', '16', '22:27:05', '47:06', '12:53'],\n",
       " ['1', '17', '23:28:05', '48:06', '11:53'],\n",
       " ['1', '18', '24:28:35', '48:36', '11:23'],\n",
       " ['1', '19', '25:27:17', '47:18', '12:41'],\n",
       " ['1', '20', '26:28:12', '48:13', '11:46'],\n",
       " ['1', '21', '27:28:15', '48:16', '11:43'],\n",
       " ['1', '22', '28:26:35', '46:36', '13:23'],\n",
       " ['1', '23', '29:26:29', '46:30', '13:29'],\n",
       " ['1', '24', '30:27:35', '47:36', '12:23'],\n",
       " ['1', '25', '31:34:26', '54:27', '05:32'],\n",
       " ['1', '26', '32:32:42', '52:43', '07:16'],\n",
       " ['1', '27', '33:32:27', '52:28', '07:31'],\n",
       " ['1', '28', '34:34:26', '54:27', '05:32'],\n",
       " ['1', '29', '35:33:34', '53:35', '06:24'],\n",
       " ['1', '30', '36:33:37', '53:38', '06:21'],\n",
       " ['1', '31', '37:33:08', '53:09', '06:50'],\n",
       " ['1', '32', '38:34:02', '54:03', '05:56'],\n",
       " ['1', '33', '39:33:41', '53:42', '06:17'],\n",
       " ['1', '34', '40:33:59', '54:00', '05:59'],\n",
       " ['1', '35', '41:33:41', '53:42', '06:17'],\n",
       " ['1', '36', '42:36:38', '56:39', '03:20'],\n",
       " ['1', '37', '43:34:18', '54:19', '05:40'],\n",
       " ['1', '38', '44:33:52', '53:53', '06:06'],\n",
       " ['1', '39', '45:30:33', '50:34', '09:25'],\n",
       " ['1', '40', '46:31:21', '51:22', '08:37']]"
      ]
     },
     "execution_count": 52,
     "metadata": {},
     "output_type": "execute_result"
    }
   ],
   "source": [
    "r.json()['data']['#1_1///Gavin Woody///40Laps']"
   ]
  },
  {
   "cell_type": "markdown",
   "metadata": {},
   "source": [
    "### Možnost 2: Headless browsers"
   ]
  },
  {
   "cell_type": "markdown",
   "metadata": {},
   "source": [
    "**Selenium** je knihovna určená na automatizaci testování webových aplikací. Umožňuje spustit a ovládat prohlížeč, takže s ní můžete dělat prakticky všechno, co obvykle děláte na webu. Třeba automaticky vyplňovat formuláře nebo stahovat data."
   ]
  },
  {
   "cell_type": "code",
   "execution_count": 53,
   "metadata": {},
   "outputs": [],
   "source": [
    "from selenium import webdriver\n",
    "from selenium.webdriver.firefox.options import Options  \n",
    "#from selenium.webdriver.chrome.options import Options  \n",
    "from selenium.webdriver.common.by import By\n",
    "from selenium.webdriver.support.ui import WebDriverWait\n",
    "from selenium.webdriver.support import expected_conditions as EC\n",
    "from selenium.common.exceptions import TimeoutException"
   ]
  },
  {
   "cell_type": "code",
   "execution_count": 54,
   "metadata": {},
   "outputs": [],
   "source": [
    "options = Options() \n",
    "options.headless = True"
   ]
  },
  {
   "cell_type": "markdown",
   "metadata": {},
   "source": [
    "Nemáš-li chromedriver nebo geckodriver (pro Firefox), stáhneš je tady:\n",
    "- [https://sites.google.com/a/chromium.org/chromedriver/home](https://sites.google.com/a/chromium.org/chromedriver/home)\n",
    "- [https://github.com/mozilla/geckodriver/releases](https://github.com/mozilla/geckodriver/releases)"
   ]
  },
  {
   "cell_type": "code",
   "execution_count": 55,
   "metadata": {},
   "outputs": [],
   "source": [
    "driver = webdriver.Firefox(options=options)\n",
    "#driver = webdriver.Chrome(options=options)\n",
    "driver.get('https://my3.raceresult.com/139372/#0_2C3B48')"
   ]
  },
  {
   "cell_type": "markdown",
   "metadata": {},
   "source": [
    "<div>\n",
    "  <img src=\"static/bigdog3.png\">\n",
    "<br />\n",
    "</div>"
   ]
  },
  {
   "cell_type": "markdown",
   "metadata": {},
   "source": [
    "Stáhneme tabulku s třídou `MainTable`:"
   ]
  },
  {
   "cell_type": "code",
   "execution_count": 56,
   "metadata": {},
   "outputs": [],
   "source": [
    "try: # čekáme 5 s, jestli se tabulka natáhne \n",
    "    table = WebDriverWait(driver, 5).until(EC.presence_of_element_located((By.CLASS_NAME, 'MainTable'))) \n",
    "except TimeoutException: \n",
    "    print(\"Time out!\")"
   ]
  },
  {
   "cell_type": "code",
   "execution_count": 57,
   "metadata": {},
   "outputs": [
    {
     "data": {
      "text/plain": [
       "<selenium.webdriver.firefox.webelement.FirefoxWebElement (session=\"a900b51a-9168-024d-ae19-5291d48f166d\", element=\"8744ffeb-6ae3-0b43-983b-24ebdf28152c\")>"
      ]
     },
     "execution_count": 57,
     "metadata": {},
     "output_type": "execute_result"
    }
   ],
   "source": [
    "table"
   ]
  },
  {
   "cell_type": "code",
   "execution_count": 58,
   "metadata": {},
   "outputs": [],
   "source": [
    "txt = table.text"
   ]
  },
  {
   "cell_type": "code",
   "execution_count": 59,
   "metadata": {},
   "outputs": [
    {
     "name": "stdout",
     "output_type": "stream",
     "text": [
      "  #\n",
      "Measurement\n",
      "Lap Split\n",
      "Rest Time\n",
      "  1\n",
      "Gavin Woody\n",
      "40Laps\n",
      "1 7:35:18 55:19 04:40  \n",
      "2 8:35:23 55:24 04:35  \n",
      "3 9:34:25 54:26 05:33  \n",
      "4 10:35:09 55:10 04:49  \n",
      "5 11:33:55 53:56 06:03  \n",
      "6 12:34:23 54:24 05:35  \n",
      "7 13:33:35 53:36 06:23  \n",
      "8 14:33:57 53:58 06:01  \n",
      "9 15:34:07 54:08 05:51  \n",
      "10 16:34:39 54:40 05:19  \n",
      "11 17:35:17 55:18 04:41  \n",
      "12 18:34:22 54:23 05:36  \n",
      "13 19:25:29 45:30 14:29  \n",
      "14 20:28:55 48:56 11:03  \n",
      "15 21:30:22 50:23 09:36  \n",
      "16 22:27:05 47:06 12:53  \n",
      "17 23:28:05 48:06 11:53  \n",
      "18 24:28:35 48:36 11:23  \n",
      "19 25:27:17 47:18 12:41  \n",
      "20 26:28:12 48:13 11:46  \n",
      "21 27:28:15 48:16 11:43  \n",
      "22 28:26:35 46:36 13:23  \n",
      "23 29:26:29 46:30 13:29  \n",
      "24 30:27:35 47:36 12:23  \n",
      "25 31:34:26 54:27 05:32  \n",
      "26 32:32:42 52:43 07:16  \n",
      "27 33:32:27 52:28 07:31  \n",
      "28 34:34:26 54:27 05:32  \n",
      "29 35:33:34 53:35 06:24  \n",
      "30 36:33:37 53:38 06:21  \n",
      "31 37:33:08 53:09 06:50  \n",
      "32 38:34:02 54:03 05:56  \n",
      "33 39:33:41 53:42 06:17  \n",
      "34 40:33:59 54:00 05:59  \n",
      "35 41:33:41 53:42 06:17  \n",
      "36 42:36:38 56:39 03:20  \n",
      "37 43:34:18 54:19\n"
     ]
    }
   ],
   "source": [
    "print(txt[:1000])"
   ]
  },
  {
   "cell_type": "code",
   "execution_count": 60,
   "metadata": {},
   "outputs": [],
   "source": [
    "driver.close()\n",
    "driver.quit()\n"
   ]
  },
  {
   "cell_type": "markdown",
   "metadata": {
    "hidden": true
   },
   "source": [
    "## Závěrem\n",
    "\n",
    "Naučili jsme se jak získat data i bez API nebo CSV soubourů. Nesmíme u toho ale zapomínat na dodržování zákonů a etiky. Webscraping zkoušej vždy až jako poslední možnost, stačí sebemenší změna na stránce a tvůj postup přestane fungovat."
   ]
  }
 ],
 "metadata": {
  "kernelspec": {
   "display_name": "Python 3",
   "language": "python",
   "name": "python3"
  },
  "language_info": {
   "codemirror_mode": {
    "name": "ipython",
    "version": 3
   },
   "file_extension": ".py",
   "mimetype": "text/x-python",
   "name": "python",
   "nbconvert_exporter": "python",
   "pygments_lexer": "ipython3",
   "version": "3.7.4"
  }
 },
 "nbformat": 4,
 "nbformat_minor": 2
}
