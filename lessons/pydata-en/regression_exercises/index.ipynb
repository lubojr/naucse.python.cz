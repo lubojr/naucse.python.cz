{
 "cells": [
  {
   "cell_type": "markdown",
   "metadata": {},
   "source": [
    "# Examples for reflection",
    "\n",
    "The following examples are not for programming. We are just talking about how you would help the situation",
    "machine learning.",
    "\n",
    "The ball is on your side. Don&#39;t be afraid to suggest anything that feels good to you, the coaches will guide you."
   ]
  },
  {
   "cell_type": "markdown",
   "metadata": {},
   "source": [
    "1. **Diabetes**. \n",
    "Take a look at the following data preview and suggest how you would predict disease progression in a new patient.",
    "\n",
    "- You can convert the task to a landscape task. What will be the coordinates and what will be the height of the landscape?",
    "- How will you measure the success of the prediction?",
    "- How do you assess whether you managed to handle the task sufficiently?",
    "- How to ensure that the inputs and outputs of the model are real numbers?",
    " \n",
    " ![dataset_preview](static/diabetes.png)\n",
    " \n",
    "<hr>\n",
    "\n",
    "2. ** Population **. Download the laptop [excercise.ipynb] (static / excercise.ipynb) and the data file [population.csv] (static / population.csv) (save in the same directory).",
    "It elaborates the task of predicting the population dependent",
    "on the size of the area / city. Learned model (* box *) but number",
    "population often underestimates.",
    "View the solution on your laptop and try to figure out",
    "what&#39;s wrong with him.",
    " \n",
    "<hr>\n",
    "\n",
    "3. ** Baseline **. In the previous task, we used the average as a * baseline * solution. Can you think of another simple way to estimate population size?",
    " \n",
    "<hr>\n",
    "\n",
    "4. ** Time series **. We have the following weather data available:",
    " ![dataset_preview](static/data_ruzyne.png)\n",
    "What would you do if you wanted to predict the average temperature?",
    " \n",
    "<hr>\n",
    "\n",
    "5. ** Age **. We have a new boss. As part of streamlining employee records, it wants to create a model that will return age for the value of a birth number. What will be the input and output, how will we proceed?",
    " \n",
    "<hr>\n",
    "\n",
    "6. ** PyLadies ** You have statistics on PyLadies participants. The number of completed tasks, the number of absences, whether PyLady has already worked with data before the course. What do you need to be able to use this information to be able to predict the probability that a participant will find a job as a data analyst after a course?",
    " \n",
    "<hr>\n",
    "\n",
    "7. ** Categorical variables **",
    "We would like to predict the amount of salary based on the data in the table. How do we deal with categorical variables - `rank`,` discipline`?",
    "\n",
    " ![dataset_preview](static/salaries.png)\n",
    "\n",
    "<hr>\n",
    "\n",
    "8. ** Personnel ** You have received a pile of candidates&#39; CVs. You would like to create a model that suggests a suitable salary based on your CV data."
   ]
  }
 ],
 "metadata": {
  "kernelspec": {
   "display_name": "Python 3",
   "language": "python",
   "name": "python3"
  },
  "language_info": {
   "codemirror_mode": {
    "name": "ipython",
    "version": 3
   },
   "file_extension": ".py",
   "mimetype": "text/x-python",
   "name": "python",
   "nbconvert_exporter": "python",
   "pygments_lexer": "ipython3",
   "version": "3.6.8"
  }
 },
 "nbformat": 4,
 "nbformat_minor": 2
}