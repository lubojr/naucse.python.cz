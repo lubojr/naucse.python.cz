{
 "cells": [
  {
   "cell_type": "markdown",
   "metadata": {},
   "source": [
    "# Příklady pro zamyšlení\n",
    "\n",
    "Následující příklady nejsou na programování. Pouze si popovídáme o tom, jak byste danou situaci pomocí\n",
    "strojového učení řešili. \n",
    "\n",
    "Míč je na tvojí straně. Neboj se navrhnout cokoli, co ti bude připadat dobré, koučové tě případně usměrní. \n"
   ]
  },
  {
   "cell_type": "markdown",
   "metadata": {},
   "source": [
    "1. **Diabetes**. \n",
    "Prohlédni si následující náhled dat a navrhni, jak bys predikovala progresi nemoci u nového pacienta.\n",
    "\n",
    " - Můžeš si úlohu převést na úlohu s krajinou. Co budou souřadnice a co bude výška krajiny?\n",
    " - Jak budeš měřit úspěšnost predikce?\n",
    " - Jak posoudíš, zda se ti úlohu podařilo dostatečně zvládnout?\n",
    " - Jak zajistit, aby vstupy a výstupy modelu byly reálná čísla? \n",
    " \n",
    " ![dataset_preview](static/diabetes.png)\n",
    " \n",
    "<hr>\n",
    "\n",
    "2. **Populace**. Stáhni si notebook [excercise.ipynb](static/excercise.ipynb) a datový soubor [population.csv](static/population.csv) (ulož do stejného adresáře).\n",
    " Je v něm vypracovaná úloha predikce počtu obyvatel v závislosti \n",
    " na velikosti oblasti/města. Naučený model (*krabička*) ale počet\n",
    " obyvatel často podhodnocuje.\n",
    " Prohlédni si řešení v notebooku a zkus přijít na to,\n",
    "   co je v na něm špatně. \n",
    " \n",
    "<hr>\n",
    "\n",
    "3. **Baseline**. V předchozím úkolu jsme použili jako *baseline* řešení průměr. Napadá tě jiná jednoduchá cesta, jak velikost populace odhadovat?\n",
    " \n",
    "<hr>\n",
    "\n",
    "4. **Časová řada**. Máme k dispozici následující data o počasí:\n",
    " ![dataset_preview](static/data_ruzyne.png)\n",
    "Jak bys postupovala, pokud bys chtěla predikovat průměrnou teplotu?\n",
    " \n",
    "<hr>\n",
    "\n",
    "5. **Věk**. Máme nového šéfa. V rámci zefektivnění evidence zaměstnanců chce vytvořit model, který bude pro hodnotu rodného čísla vracet věk. Co bude vstupem a výstupem, jak budeme postupovat?\n",
    " \n",
    "<hr>\n",
    "\n",
    "6. **PyLadies** Máš k dispozici statistiku účastnic PyLadies. Počet splněných úkolů, počty absencí, zda PyLady už pracovala před kurzem s daty. Co potřebuješ k tomu, abys na základě těchto informací byla schopná predikovat pravděpodobnost, že daná účastnice najde po kurzu práci jako datová analytička?\n",
    " \n",
    "<hr>\n",
    "\n",
    "7. **Kategorické proměnné** \n",
    "Chtěli bychom na základě údajů v tabulce predikovat výši platu. Jak si poradíme s kategorickými proměnnými - `rank`, `discipline`?\n",
    "\n",
    " ![dataset_preview](static/salaries.png)\n",
    "\n",
    "<hr>\n",
    "\n",
    "8. **Personalista** Dostali jste hromadu CV uchazečů. Chtěli byste vytvořit model, který na základě údajů ze životopisu navrhne vhodný plat."
   ]
  }
 ],
 "metadata": {
  "kernelspec": {
   "display_name": "Python 3",
   "language": "python",
   "name": "python3"
  },
  "language_info": {
   "codemirror_mode": {
    "name": "ipython",
    "version": 3
   },
   "file_extension": ".py",
   "mimetype": "text/x-python",
   "name": "python",
   "nbconvert_exporter": "python",
   "pygments_lexer": "ipython3",
   "version": "3.6.8"
  }
 },
 "nbformat": 4,
 "nbformat_minor": 2
}
